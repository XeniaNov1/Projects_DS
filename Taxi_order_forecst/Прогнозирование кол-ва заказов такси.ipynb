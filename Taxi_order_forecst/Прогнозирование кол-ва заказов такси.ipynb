{
 "cells": [
  {
   "cell_type": "markdown",
   "metadata": {
    "toc": true
   },
   "source": [
    "<h1>Содержание<span class=\"tocSkip\"></span></h1>\n",
    "</font></a></span></li></ul></li><li><span><a href=\"#Подготовка\" data-toc-modified-id=\"Подготовка-1\"><span class=\"toc-item-num\">1&nbsp;&nbsp;</span>Подготовка</a></span></li><li><span><a href=\"#Анализ\" data-toc-modified-id=\"Анализ-2\"><span class=\"toc-item-num\">2&nbsp;&nbsp;</span>Анализ</a></span></li><li><span><a href=\"#Обучение\" data-toc-modified-id=\"Обучение-3\"><span class=\"toc-item-num\">3&nbsp;&nbsp;</span>Обучение</a></span></li><li><span><a href=\"#Тестирование\" data-toc-modified-id=\"Тестирование-4\"><span class=\"toc-item-num\">4&nbsp;&nbsp;</span>Тестирование</a></span></li></ul></div>"
   ]
  },
  {
   "cell_type": "markdown",
   "metadata": {},
   "source": [
    "#  Прогнозирование заказов такси"
   ]
  },
  {
   "cell_type": "markdown",
   "metadata": {},
   "source": [
    "## Подготовка"
   ]
  },
  {
   "cell_type": "code",
   "execution_count": 62,
   "metadata": {},
   "outputs": [],
   "source": [
    "import pandas as pd\n",
    "import os\n",
    "import matplotlib.pyplot as plt \n",
    "import numpy as np\n",
    "from tqdm import tqdm\n",
    "\n",
    "from sklearn.linear_model import LinearRegression\n",
    "from sklearn.tree import DecisionTreeRegressor\n",
    "from sklearn.ensemble import RandomForestRegressor\n",
    "from sklearn.dummy import DummyRegressor\n",
    "\n",
    "from sklearn.model_selection import train_test_split\n",
    "from sklearn.model_selection import GridSearchCV\n",
    "from sklearn.model_selection import TimeSeriesSplit\n",
    "\n",
    "from sklearn.metrics import mean_squared_error\n",
    "from sklearn.metrics import make_scorer\n",
    "\n",
    "from statsmodels.tsa.seasonal import seasonal_decompose"
   ]
  },
  {
   "cell_type": "code",
   "execution_count": 48,
   "metadata": {},
   "outputs": [],
   "source": [
    "path1 = '/datasets/taxi.csv'\n",
    "\n",
    "path2 = 'taxi.csv'\n",
    "\n",
    "if os.path.exists(path1):\n",
    "    taxi_data = pd.read_csv(path1)\n",
    "\n",
    "elif os.path.exists(path2):\n",
    "    taxi_data = pd.read_csv(path2)\n",
    "\n",
    "else:\n",
    "    print('Something is wrong')"
   ]
  },
  {
   "cell_type": "code",
   "execution_count": 49,
   "metadata": {},
   "outputs": [
    {
     "name": "stdout",
     "output_type": "stream",
     "text": [
      "              datetime  num_orders\n",
      "0  2018-03-01 00:00:00           9\n",
      "1  2018-03-01 00:10:00          14\n",
      "2  2018-03-01 00:20:00          28\n",
      "3  2018-03-01 00:30:00          20\n",
      "4  2018-03-01 00:40:00          32\n",
      "5  2018-03-01 00:50:00          21\n",
      "6  2018-03-01 01:00:00           7\n",
      "7  2018-03-01 01:10:00           5\n",
      "8  2018-03-01 01:20:00          17\n",
      "9  2018-03-01 01:30:00          12\n",
      "<class 'pandas.core.frame.DataFrame'>\n",
      "RangeIndex: 26496 entries, 0 to 26495\n",
      "Data columns (total 2 columns):\n",
      " #   Column      Non-Null Count  Dtype \n",
      "---  ------      --------------  ----- \n",
      " 0   datetime    26496 non-null  object\n",
      " 1   num_orders  26496 non-null  int64 \n",
      "dtypes: int64(1), object(1)\n",
      "memory usage: 414.1+ KB\n",
      "None\n",
      "         num_orders\n",
      "count  26496.000000\n",
      "mean      14.070463\n",
      "std        9.211330\n",
      "min        0.000000\n",
      "25%        8.000000\n",
      "50%       13.000000\n",
      "75%       19.000000\n",
      "max      119.000000\n"
     ]
    }
   ],
   "source": [
    "print(taxi_data.head(10))\n",
    "print(taxi_data.info())\n",
    "print(taxi_data.describe())"
   ]
  },
  {
   "cell_type": "markdown",
   "metadata": {},
   "source": [
    "**Общий взгляд на данные**:\n",
    "- пропусков нет\n",
    "- данные в столбце выглядят адекватными\n",
    "- не соответствующий тип данных в 1 столбце "
   ]
  },
  {
   "cell_type": "markdown",
   "metadata": {},
   "source": [
    "**Предобработка данных**"
   ]
  },
  {
   "cell_type": "code",
   "execution_count": 50,
   "metadata": {},
   "outputs": [
    {
     "name": "stdout",
     "output_type": "stream",
     "text": [
      "<class 'pandas.core.frame.DataFrame'>\n",
      "RangeIndex: 26496 entries, 0 to 26495\n",
      "Data columns (total 2 columns):\n",
      " #   Column      Non-Null Count  Dtype         \n",
      "---  ------      --------------  -----         \n",
      " 0   datetime    26496 non-null  datetime64[ns]\n",
      " 1   num_orders  26496 non-null  int64         \n",
      "dtypes: datetime64[ns](1), int64(1)\n",
      "memory usage: 414.1 KB\n",
      "None\n"
     ]
    }
   ],
   "source": [
    "#изменим тип данных первой колонки\n",
    "taxi_data['datetime'] = pd.to_datetime(taxi_data['datetime'])\n",
    "print(taxi_data.info())"
   ]
  },
  {
   "cell_type": "code",
   "execution_count": 51,
   "metadata": {},
   "outputs": [
    {
     "name": "stdout",
     "output_type": "stream",
     "text": [
      "<class 'pandas.core.frame.DataFrame'>\n",
      "DatetimeIndex: 26496 entries, 2018-03-01 00:00:00 to 2018-08-31 23:50:00\n",
      "Data columns (total 1 columns):\n",
      " #   Column      Non-Null Count  Dtype\n",
      "---  ------      --------------  -----\n",
      " 0   num_orders  26496 non-null  int64\n",
      "dtypes: int64(1)\n",
      "memory usage: 414.0 KB\n",
      "None\n"
     ]
    }
   ],
   "source": [
    "#установим первую колонку таблицы как индекс и отсортируем по индексу\n",
    "taxi_data = taxi_data.set_index('datetime',inplace=False)\n",
    "print(taxi_data.info())"
   ]
  },
  {
   "cell_type": "code",
   "execution_count": 52,
   "metadata": {},
   "outputs": [
    {
     "name": "stdout",
     "output_type": "stream",
     "text": [
      "True\n",
      "<class 'pandas.core.frame.DataFrame'>\n",
      "DatetimeIndex: 26496 entries, 2018-03-01 00:00:00 to 2018-08-31 23:50:00\n",
      "Data columns (total 1 columns):\n",
      " #   Column      Non-Null Count  Dtype\n",
      "---  ------      --------------  -----\n",
      " 0   num_orders  26496 non-null  int64\n",
      "dtypes: int64(1)\n",
      "memory usage: 414.0 KB\n",
      "None\n"
     ]
    }
   ],
   "source": [
    "#отсортируем индекс и проверим, в хронологическом ли порядке расположены даты и время\n",
    "taxi_data = taxi_data.sort_index(axis=0) \n",
    "print(taxi_data.index.is_monotonic)\n",
    "print(taxi_data.info())"
   ]
  },
  {
   "cell_type": "markdown",
   "metadata": {},
   "source": [
    "Ресеплируем данные по одному часу"
   ]
  },
  {
   "cell_type": "code",
   "execution_count": 53,
   "metadata": {},
   "outputs": [],
   "source": [
    "taxi = taxi_data.resample('1H').sum()"
   ]
  },
  {
   "cell_type": "markdown",
   "metadata": {},
   "source": [
    "Удалим пустые значения, которые образовались из-за ресемплирования"
   ]
  },
  {
   "cell_type": "code",
   "execution_count": 54,
   "metadata": {},
   "outputs": [
    {
     "name": "stdout",
     "output_type": "stream",
     "text": [
      "<class 'pandas.core.frame.DataFrame'>\n",
      "DatetimeIndex: 4416 entries, 2018-03-01 00:00:00 to 2018-08-31 23:00:00\n",
      "Freq: H\n",
      "Data columns (total 1 columns):\n",
      " #   Column      Non-Null Count  Dtype\n",
      "---  ------      --------------  -----\n",
      " 0   num_orders  4416 non-null   int64\n",
      "dtypes: int64(1)\n",
      "memory usage: 69.0 KB\n",
      "None\n"
     ]
    }
   ],
   "source": [
    "taxi = taxi.dropna()\n",
    "print(taxi.info())"
   ]
  },
  {
   "cell_type": "markdown",
   "metadata": {},
   "source": [
    "## Анализ"
   ]
  },
  {
   "cell_type": "markdown",
   "metadata": {},
   "source": [
    "Рассмотрим график получившейся таблицы"
   ]
  },
  {
   "cell_type": "code",
   "execution_count": 55,
   "metadata": {},
   "outputs": [
    {
     "data": {
      "text/plain": [
       "<AxesSubplot:xlabel='datetime'>"
      ]
     },
     "execution_count": 55,
     "metadata": {},
     "output_type": "execute_result"
    },
    {
     "data": {
      "image/png": "[encoded data removed]",
      "text/plain": [
       "<Figure size 432x288 with 1 Axes>"
      ]
     },
     "metadata": {
      "needs_background": "light"
     },
     "output_type": "display_data"
    }
   ],
   "source": [
    "taxi.plot()"
   ]
  },
  {
   "cell_type": "markdown",
   "metadata": {},
   "source": [
    "Добавим скользящее среднее, чтобы сгладить данные"
   ]
  },
  {
   "cell_type": "code",
   "execution_count": 56,
   "metadata": {},
   "outputs": [
    {
     "name": "stdout",
     "output_type": "stream",
     "text": [
      "AxesSubplot(0.125,0.125;0.775x0.755)\n"
     ]
    },
    {
     "data": {
      "image/png": "[encoded data removed]",
      "text/plain": [
       "<Figure size 432x288 with 1 Axes>"
      ]
     },
     "metadata": {
      "needs_background": "light"
     },
     "output_type": "display_data"
    }
   ],
   "source": [
    "print(taxi.rolling(15).sum().plot())"
   ]
  },
  {
   "cell_type": "markdown",
   "metadata": {},
   "source": [
    "Пока трудно говорить о какой-то закономерности, пока на графике видно только, что число заказов растет"
   ]
  },
  {
   "cell_type": "markdown",
   "metadata": {},
   "source": [
    "Рассмотрим тренд и сезонность"
   ]
  },
  {
   "cell_type": "code",
   "execution_count": 57,
   "metadata": {},
   "outputs": [
    {
     "data": {
      "image/png": "[encoded data removed]",
      "text/plain": [
       "<Figure size 936x576 with 3 Axes>"
      ]
     },
     "metadata": {
      "needs_background": "light"
     },
     "output_type": "display_data"
    }
   ],
   "source": [
    "taxi = taxi.dropna()\n",
    "decomposed = seasonal_decompose(taxi)\n",
    "\n",
    "plt.figure(figsize=(6, 8))\n",
    "\n",
    "plt.subplot(311)\n",
    "decomposed.trend.plot(ax=plt.gca())\n",
    "plt.title('Trend')\n",
    "\n",
    "plt.subplot(312)\n",
    "decomposed.seasonal.plot(ax=plt.gca(),figsize=(13, 8)) \n",
    "plt.title('Seasonality')\n",
    "\n",
    "plt.subplot(313)\n",
    "decomposed.resid.plot(ax=plt.gca()) \n",
    "plt.title('Residuals')\n",
    "plt.tight_layout()"
   ]
  },
  {
   "cell_type": "markdown",
   "metadata": {},
   "source": [
    "Не первом графике виден тренд к росту заказов такси в час, по сезонности трудно что-то сказать из-за высокой плотности графика. С ростом количества заказов остатков становится все больше по количеству и диапазону. "
   ]
  },
  {
   "cell_type": "markdown",
   "metadata": {},
   "source": [
    "## Обучение"
   ]
  },
  {
   "cell_type": "markdown",
   "metadata": {},
   "source": [
    "Напишем функцию для выделения признаков"
   ]
  },
  {
   "cell_type": "code",
   "execution_count": 58,
   "metadata": {},
   "outputs": [],
   "source": [
    "def make_features(data, max_lag, rolling_mean_size):\n",
    "    #df= data.copy()\n",
    "    data['month'] = data.index.month\n",
    "    data['day'] = data.index.day\n",
    "    data['dayofweek'] = data.index.dayofweek\n",
    "    data['hour'] = data.index.hour\n",
    "    \n",
    "    for lag in range(1, max_lag + 1):\n",
    "        data['lag_{}'.format(lag)] = round(data['num_orders'].shift(lag),2)\n",
    "\n",
    "    data['rolling_mean'] = data['num_orders'].shift().rolling(rolling_mean_size).sum()\n",
    "    \n",
    "    #return df"
   ]
  },
  {
   "cell_type": "markdown",
   "metadata": {},
   "source": [
    "Выделим выборки для обучения и теста."
   ]
  },
  {
   "cell_type": "code",
   "execution_count": 59,
   "metadata": {},
   "outputs": [],
   "source": [
    "df = make_features(taxi, 5, 2)\n",
    "\n",
    "train, test = train_test_split(taxi, shuffle=False, test_size=0.1, random_state = 0)\n",
    "train, valid = train_test_split(train, shuffle=False, test_size=0.1,random_state = 0)\n",
    "train = train.dropna()\n",
    "\n",
    "target_train = train.iloc[:,-1:]\n",
    "target_valid = valid.iloc[:,-1:]\n",
    "target_test = test.iloc[:,-1:]\n",
    "\n",
    "train = train.iloc[:,:-1]\n",
    "valid = valid.iloc[:,:-1]\n",
    "test = test.iloc[:,:-1]\n"
   ]
  },
  {
   "cell_type": "code",
   "execution_count": 60,
   "metadata": {},
   "outputs": [
    {
     "name": "stdout",
     "output_type": "stream",
     "text": [
      "                     num_orders  month  day  dayofweek  hour  lag_1  lag_2  \\\n",
      "datetime                                                                     \n",
      "2018-03-01 05:00:00           6      3    1          3     5   43.0   66.0   \n",
      "2018-03-01 06:00:00          12      3    1          3     6    6.0   43.0   \n",
      "2018-03-01 07:00:00          15      3    1          3     7   12.0    6.0   \n",
      "2018-03-01 08:00:00          34      3    1          3     8   15.0   12.0   \n",
      "2018-03-01 09:00:00          69      3    1          3     9   34.0   15.0   \n",
      "\n",
      "                     lag_3  lag_4  lag_5  \n",
      "datetime                                  \n",
      "2018-03-01 05:00:00   71.0   85.0  124.0  \n",
      "2018-03-01 06:00:00   66.0   71.0   85.0  \n",
      "2018-03-01 07:00:00   43.0   66.0   71.0  \n",
      "2018-03-01 08:00:00    6.0   43.0   66.0  \n",
      "2018-03-01 09:00:00   12.0    6.0   43.0  \n"
     ]
    }
   ],
   "source": [
    "print(train.head())"
   ]
  },
  {
   "cell_type": "markdown",
   "metadata": {},
   "source": [
    "**Линейная регрессия**"
   ]
  },
  {
   "cell_type": "code",
   "execution_count": 61,
   "metadata": {},
   "outputs": [
    {
     "name": "stdout",
     "output_type": "stream",
     "text": [
      "RMSE валидационной выборки: 7.580749551434334e-14\n"
     ]
    }
   ],
   "source": [
    "model_1 = LinearRegression().fit(train,target_train)\n",
    "\n",
    "pred_1 = model_1.predict(valid) \n",
    "score_1 = mean_squared_error(target_valid,pred_1,squared=False)\n",
    "\n",
    "print(\"RMSE валидационной выборки:\",score_1)"
   ]
  },
  {
   "cell_type": "markdown",
   "metadata": {},
   "source": [
    "**Дерево решений**"
   ]
  },
  {
   "cell_type": "code",
   "execution_count": 64,
   "metadata": {},
   "outputs": [],
   "source": [
    "#param_grid\n",
    "params_for_tree = {'max_depth': np.arange(1,10)}\n",
    "\n",
    "#модель дерева решений\n",
    "model_2 = GridSearchCV(DecisionTreeRegressor(random_state = 0),param_grid = params_for_tree, scoring = make_scorer(mean_squared_error, greater_is_better=False), cv=TimeSeriesSplit())"
   ]
  },
  {
   "cell_type": "code",
   "execution_count": 65,
   "metadata": {},
   "outputs": [
    {
     "name": "stderr",
     "output_type": "stream",
     "text": [
      "100%|██████████| 10/10 [00:04<00:00,  2.31it/s]"
     ]
    },
    {
     "name": "stdout",
     "output_type": "stream",
     "text": [
      "Оценка RMSE: 22.65431321088154\n"
     ]
    },
    {
     "name": "stderr",
     "output_type": "stream",
     "text": [
      "\n"
     ]
    }
   ],
   "source": [
    "for i in tqdm(range(10)):\n",
    "    model_2.fit(train,target_train)\n",
    "    pred_2 = model_2.predict(valid)\n",
    "    score_2 = mean_squared_error(target_valid, pred_2,squared=False)\n",
    "print('Оценка RMSE:', score_2)"
   ]
  },
  {
   "cell_type": "markdown",
   "metadata": {},
   "source": [
    "**Случайный лес**"
   ]
  },
  {
   "cell_type": "code",
   "execution_count": 67,
   "metadata": {},
   "outputs": [
    {
     "name": "stderr",
     "output_type": "stream",
     "text": [
      "100%|██████████| 10/10 [00:00<00:00, 19143.33it/s]\n"
     ]
    }
   ],
   "source": [
    "#param_grid\n",
    "params_for_forest = [{'max_depth': np.arange(1,7)}, {'n_estimators': np.arange(10,51,10)}]\n",
    "\n",
    "#модель случайного леса\n",
    "for i in tqdm(range(10)):\n",
    "    model_3 = GridSearchCV(RandomForestRegressor(random_state = 0),param_grid = params_for_forest, scoring = make_scorer(mean_squared_error, greater_is_better=False), cv=TimeSeriesSplit())"
   ]
  },
  {
   "cell_type": "code",
   "execution_count": 68,
   "metadata": {},
   "outputs": [],
   "source": [
    "#train_for = np.ravel(train,'K')\n",
    "tg_for = np.ravel(target_train)"
   ]
  },
  {
   "cell_type": "code",
   "execution_count": 69,
   "metadata": {},
   "outputs": [
    {
     "name": "stderr",
     "output_type": "stream",
     "text": [
      "100%|██████████| 10/10 [02:09<00:00, 12.93s/it]\n"
     ]
    }
   ],
   "source": [
    "for i in tqdm(range(10)):\n",
    "    model_3.fit(train,tg_for)"
   ]
  },
  {
   "cell_type": "code",
   "execution_count": 70,
   "metadata": {},
   "outputs": [
    {
     "name": "stderr",
     "output_type": "stream",
     "text": [
      "100%|██████████| 10/10 [00:00<00:00, 100.33it/s]"
     ]
    },
    {
     "name": "stdout",
     "output_type": "stream",
     "text": [
      "Оценка RMSE: 22.826870549759494\n"
     ]
    },
    {
     "name": "stderr",
     "output_type": "stream",
     "text": [
      "\n"
     ]
    }
   ],
   "source": [
    "for i in tqdm(range(10)):\n",
    "    pred_3 = model_3.predict(valid)\n",
    "    score_3 = mean_squared_error(target_valid, pred_3,squared=False)\n",
    "\n",
    "print('Оценка RMSE:', score_3)"
   ]
  },
  {
   "cell_type": "markdown",
   "metadata": {},
   "source": [
    "## Тестирование"
   ]
  },
  {
   "cell_type": "markdown",
   "metadata": {},
   "source": [
    "Соберем результаты в таблицу"
   ]
  },
  {
   "cell_type": "code",
   "execution_count": 71,
   "metadata": {},
   "outputs": [
    {
     "data": {
      "text/html": [
       "<div>\n",
       "<style scoped>\n",
       "    .dataframe tbody tr th:only-of-type {\n",
       "        vertical-align: middle;\n",
       "    }\n",
       "\n",
       "    .dataframe tbody tr th {\n",
       "        vertical-align: top;\n",
       "    }\n",
       "\n",
       "    .dataframe thead th {\n",
       "        text-align: right;\n",
       "    }\n",
       "</style>\n",
       "<table border=\"1\" class=\"dataframe\">\n",
       "  <thead>\n",
       "    <tr style=\"text-align: right;\">\n",
       "      <th></th>\n",
       "      <th>Модель</th>\n",
       "      <th>RMSE</th>\n",
       "    </tr>\n",
       "  </thead>\n",
       "  <tbody>\n",
       "    <tr>\n",
       "      <th>0</th>\n",
       "      <td>Линейная регрессия</td>\n",
       "      <td>7.580750e-14</td>\n",
       "    </tr>\n",
       "    <tr>\n",
       "      <th>1</th>\n",
       "      <td>Дерево решений</td>\n",
       "      <td>2.265431e+01</td>\n",
       "    </tr>\n",
       "    <tr>\n",
       "      <th>2</th>\n",
       "      <td>Случайный лес</td>\n",
       "      <td>2.282687e+01</td>\n",
       "    </tr>\n",
       "  </tbody>\n",
       "</table>\n",
       "</div>"
      ],
      "text/plain": [
       "               Модель          RMSE\n",
       "0  Линейная регрессия  7.580750e-14\n",
       "1      Дерево решений  2.265431e+01\n",
       "2       Случайный лес  2.282687e+01"
      ]
     },
     "metadata": {},
     "output_type": "display_data"
    }
   ],
   "source": [
    "results = pd.DataFrame([['Линейная регрессия',score_1],\n",
    "                       ['Дерево решений', score_2],\n",
    "                       ['Случайный лес',score_3]],\n",
    "columns = ['Модель', 'RMSE'])\n",
    "display(results)"
   ]
  },
  {
   "cell_type": "markdown",
   "metadata": {},
   "source": [
    "Наилучший результат у модели случайного леса. Протестируем наилучшую модель на тестовой выборке."
   ]
  },
  {
   "cell_type": "code",
   "execution_count": 72,
   "metadata": {},
   "outputs": [
    {
     "name": "stdout",
     "output_type": "stream",
     "text": [
      "Оценка RMSE: 39.62732104054826\n"
     ]
    }
   ],
   "source": [
    "pred_test= model_3.predict(test)\n",
    "test_score = mean_squared_error(target_test, pred_test,squared=False)\n",
    "\n",
    "print('Оценка RMSE:', test_score)"
   ]
  },
  {
   "cell_type": "code",
   "execution_count": 87,
   "metadata": {},
   "outputs": [
    {
     "data": {
      "text/plain": [
       "<AxesSubplot:xlabel='datetime'>"
      ]
     },
     "execution_count": 87,
     "metadata": {},
     "output_type": "execute_result"
    },
    {
     "data": {
      "image/png": "[encoded data removed]",
      "text/plain": [
       "<Figure size 432x288 with 1 Axes>"
      ]
     },
     "metadata": {
      "needs_background": "light"
     },
     "output_type": "display_data"
    }
   ],
   "source": [
    "taxi['num_orders'].plot()"
   ]
  },
  {
   "cell_type": "code",
   "execution_count": 85,
   "metadata": {},
   "outputs": [
    {
     "data": {
      "image/png": "[encoded data removed]",
      "text/plain": [
       "<Figure size 432x288 with 1 Axes>"
      ]
     },
     "metadata": {
      "needs_background": "light"
     },
     "output_type": "display_data"
    }
   ],
   "source": [
    "plt.plot(pred_test)\n",
    "plt.show()"
   ]
  },
  {
   "cell_type": "markdown",
   "metadata": {},
   "source": [
    "Тестирование на модели случайного леса показало приемлемый результат RMSE."
   ]
  },
  {
   "cell_type": "markdown",
   "metadata": {},
   "source": [
    "**Вывод**\n",
    "\n",
    "Мы загрузили данные по дате и количеству заказов такси. Рассмотрели графики и выявили тендецию и сезонность данных.\n",
    "Далее мы написали функцию, где выделили обучающие признаки и построили три модели. Наилучший результат RMSE показала модель случайного леса. Тестирование на отдельной выборке дало приемлемый для заказчика результат метрики."
   ]
  }
 ],
 "metadata": {
  "ExecuteTimeLog": [
   {
    "duration": 1729,
    "start_time": "2022-09-15T09:08:25.565Z"
   },
   {
    "duration": 117,
    "start_time": "2022-09-15T09:08:27.297Z"
   },
   {
    "duration": 25,
    "start_time": "2022-09-15T09:08:27.417Z"
   },
   {
    "duration": 15,
    "start_time": "2022-09-15T09:08:27.445Z"
   },
   {
    "duration": 9,
    "start_time": "2022-09-15T09:08:27.462Z"
   },
   {
    "duration": 9,
    "start_time": "2022-09-15T09:08:27.473Z"
   },
   {
    "duration": 19,
    "start_time": "2022-09-15T09:08:27.483Z"
   },
   {
    "duration": 13,
    "start_time": "2022-09-15T09:08:27.503Z"
   },
   {
    "duration": 240,
    "start_time": "2022-09-15T09:08:27.518Z"
   },
   {
    "duration": 214,
    "start_time": "2022-09-15T09:08:27.760Z"
   },
   {
    "duration": 781,
    "start_time": "2022-09-15T09:08:28.014Z"
   },
   {
    "duration": 3,
    "start_time": "2022-09-15T09:08:30.407Z"
   },
   {
    "duration": 4,
    "start_time": "2022-09-15T09:10:11.300Z"
   },
   {
    "duration": 54,
    "start_time": "2022-09-16T07:04:54.253Z"
   },
   {
    "duration": 1831,
    "start_time": "2022-09-16T07:05:01.155Z"
   },
   {
    "duration": 118,
    "start_time": "2022-09-16T07:05:02.988Z"
   },
   {
    "duration": 27,
    "start_time": "2022-09-16T07:05:03.108Z"
   },
   {
    "duration": 18,
    "start_time": "2022-09-16T07:05:03.138Z"
   },
   {
    "duration": 18,
    "start_time": "2022-09-16T07:05:03.158Z"
   },
   {
    "duration": 12,
    "start_time": "2022-09-16T07:05:03.178Z"
   },
   {
    "duration": 28,
    "start_time": "2022-09-16T07:05:03.192Z"
   },
   {
    "duration": 16,
    "start_time": "2022-09-16T07:05:03.222Z"
   },
   {
    "duration": 262,
    "start_time": "2022-09-16T07:05:03.240Z"
   },
   {
    "duration": 242,
    "start_time": "2022-09-16T07:05:03.505Z"
   },
   {
    "duration": 856,
    "start_time": "2022-09-16T07:05:03.749Z"
   },
   {
    "duration": 4,
    "start_time": "2022-09-16T07:05:04.607Z"
   },
   {
    "duration": 93,
    "start_time": "2022-09-16T07:05:04.612Z"
   },
   {
    "duration": 0,
    "start_time": "2022-09-16T07:05:04.707Z"
   },
   {
    "duration": 0,
    "start_time": "2022-09-16T07:05:04.721Z"
   },
   {
    "duration": 0,
    "start_time": "2022-09-16T07:05:04.722Z"
   },
   {
    "duration": 0,
    "start_time": "2022-09-16T07:05:04.723Z"
   },
   {
    "duration": 8,
    "start_time": "2022-09-16T07:05:05.485Z"
   },
   {
    "duration": 9,
    "start_time": "2022-09-16T07:05:05.673Z"
   },
   {
    "duration": 14,
    "start_time": "2022-09-16T07:05:05.856Z"
   },
   {
    "duration": 12,
    "start_time": "2022-09-16T07:05:06.043Z"
   },
   {
    "duration": 4,
    "start_time": "2022-09-16T07:05:17.113Z"
   },
   {
    "duration": 43,
    "start_time": "2022-09-16T07:05:18.158Z"
   },
   {
    "duration": 19,
    "start_time": "2022-09-16T07:05:18.771Z"
   },
   {
    "duration": 19,
    "start_time": "2022-09-16T07:05:20.101Z"
   },
   {
    "duration": 11,
    "start_time": "2022-09-16T07:05:20.550Z"
   },
   {
    "duration": 11,
    "start_time": "2022-09-16T07:05:21.005Z"
   },
   {
    "duration": 8,
    "start_time": "2022-09-16T07:05:21.813Z"
   },
   {
    "duration": 13,
    "start_time": "2022-09-16T07:05:22.298Z"
   },
   {
    "duration": 249,
    "start_time": "2022-09-16T07:05:23.572Z"
   },
   {
    "duration": 222,
    "start_time": "2022-09-16T07:05:24.486Z"
   },
   {
    "duration": 808,
    "start_time": "2022-09-16T07:05:25.532Z"
   },
   {
    "duration": 4,
    "start_time": "2022-09-16T07:05:28.793Z"
   },
   {
    "duration": 16,
    "start_time": "2022-09-16T07:05:30.191Z"
   },
   {
    "duration": 5,
    "start_time": "2022-09-16T07:07:57.585Z"
   },
   {
    "duration": 15,
    "start_time": "2022-09-16T07:07:59.646Z"
   },
   {
    "duration": 4,
    "start_time": "2022-09-16T07:08:46.296Z"
   },
   {
    "duration": 18,
    "start_time": "2022-09-16T07:08:47.898Z"
   },
   {
    "duration": 4,
    "start_time": "2022-09-16T07:09:05.504Z"
   },
   {
    "duration": 21,
    "start_time": "2022-09-16T07:09:06.367Z"
   },
   {
    "duration": 4,
    "start_time": "2022-09-16T07:09:21.334Z"
   },
   {
    "duration": 167,
    "start_time": "2022-09-16T07:09:24.173Z"
   },
   {
    "duration": 3,
    "start_time": "2022-09-16T07:09:24.677Z"
   },
   {
    "duration": 116,
    "start_time": "2022-09-16T07:09:24.883Z"
   },
   {
    "duration": 18,
    "start_time": "2022-09-16T07:09:36.903Z"
   },
   {
    "duration": 4,
    "start_time": "2022-09-16T07:09:56.094Z"
   },
   {
    "duration": 19,
    "start_time": "2022-09-16T07:09:56.875Z"
   },
   {
    "duration": 5,
    "start_time": "2022-09-16T07:09:58.104Z"
   },
   {
    "duration": 24,
    "start_time": "2022-09-16T07:10:32.058Z"
   },
   {
    "duration": 4,
    "start_time": "2022-09-16T07:10:36.194Z"
   },
   {
    "duration": 15,
    "start_time": "2022-09-16T07:10:36.936Z"
   },
   {
    "duration": 4,
    "start_time": "2022-09-16T07:11:16.431Z"
   },
   {
    "duration": 17,
    "start_time": "2022-09-16T07:11:17.837Z"
   },
   {
    "duration": 4,
    "start_time": "2022-09-16T07:11:34.397Z"
   },
   {
    "duration": 51,
    "start_time": "2022-09-16T07:11:34.945Z"
   },
   {
    "duration": 21,
    "start_time": "2022-09-16T07:11:35.219Z"
   },
   {
    "duration": 17,
    "start_time": "2022-09-16T07:11:36.339Z"
   },
   {
    "duration": 11,
    "start_time": "2022-09-16T07:11:36.371Z"
   },
   {
    "duration": 10,
    "start_time": "2022-09-16T07:11:36.405Z"
   },
   {
    "duration": 9,
    "start_time": "2022-09-16T07:11:36.470Z"
   },
   {
    "duration": 13,
    "start_time": "2022-09-16T07:11:36.542Z"
   },
   {
    "duration": 224,
    "start_time": "2022-09-16T07:11:37.499Z"
   },
   {
    "duration": 224,
    "start_time": "2022-09-16T07:11:38.413Z"
   },
   {
    "duration": 717,
    "start_time": "2022-09-16T07:11:39.201Z"
   },
   {
    "duration": 4,
    "start_time": "2022-09-16T07:11:40.892Z"
   },
   {
    "duration": 24,
    "start_time": "2022-09-16T07:11:42.045Z"
   },
   {
    "duration": 20,
    "start_time": "2022-09-16T07:12:08.952Z"
   },
   {
    "duration": 4,
    "start_time": "2022-09-16T07:12:11.897Z"
   },
   {
    "duration": 16,
    "start_time": "2022-09-16T07:12:12.579Z"
   },
   {
    "duration": 15,
    "start_time": "2022-09-16T07:12:34.254Z"
   },
   {
    "duration": 4,
    "start_time": "2022-09-16T07:13:12.321Z"
   },
   {
    "duration": 41,
    "start_time": "2022-09-16T07:13:12.855Z"
   },
   {
    "duration": 20,
    "start_time": "2022-09-16T07:13:12.898Z"
   },
   {
    "duration": 17,
    "start_time": "2022-09-16T07:13:12.992Z"
   },
   {
    "duration": 12,
    "start_time": "2022-09-16T07:13:13.029Z"
   },
   {
    "duration": 11,
    "start_time": "2022-09-16T07:13:13.060Z"
   },
   {
    "duration": 7,
    "start_time": "2022-09-16T07:13:13.130Z"
   },
   {
    "duration": 17,
    "start_time": "2022-09-16T07:13:13.205Z"
   },
   {
    "duration": 221,
    "start_time": "2022-09-16T07:13:13.931Z"
   },
   {
    "duration": 309,
    "start_time": "2022-09-16T07:13:14.791Z"
   },
   {
    "duration": 728,
    "start_time": "2022-09-16T07:13:15.853Z"
   },
   {
    "duration": 4,
    "start_time": "2022-09-16T07:13:18.462Z"
   },
   {
    "duration": 24,
    "start_time": "2022-09-16T07:13:19.600Z"
   },
   {
    "duration": 4,
    "start_time": "2022-09-16T07:13:33.430Z"
   },
   {
    "duration": 43,
    "start_time": "2022-09-16T07:13:33.981Z"
   },
   {
    "duration": 20,
    "start_time": "2022-09-16T07:13:34.026Z"
   },
   {
    "duration": 17,
    "start_time": "2022-09-16T07:13:34.111Z"
   },
   {
    "duration": 11,
    "start_time": "2022-09-16T07:13:34.146Z"
   },
   {
    "duration": 11,
    "start_time": "2022-09-16T07:13:34.181Z"
   },
   {
    "duration": 8,
    "start_time": "2022-09-16T07:13:34.248Z"
   },
   {
    "duration": 11,
    "start_time": "2022-09-16T07:13:34.318Z"
   },
   {
    "duration": 216,
    "start_time": "2022-09-16T07:13:34.451Z"
   },
   {
    "duration": 225,
    "start_time": "2022-09-16T07:13:34.669Z"
   },
   {
    "duration": 781,
    "start_time": "2022-09-16T07:13:35.366Z"
   },
   {
    "duration": 4,
    "start_time": "2022-09-16T07:13:36.587Z"
   },
   {
    "duration": 20,
    "start_time": "2022-09-16T07:13:37.775Z"
   },
   {
    "duration": 9,
    "start_time": "2022-09-16T07:13:59.548Z"
   },
   {
    "duration": 14,
    "start_time": "2022-09-16T07:14:00.677Z"
   },
   {
    "duration": 3,
    "start_time": "2022-09-16T07:14:02.333Z"
   },
   {
    "duration": 6565,
    "start_time": "2022-09-16T07:14:02.911Z"
   },
   {
    "duration": 7,
    "start_time": "2022-09-16T07:14:09.478Z"
   },
   {
    "duration": 16,
    "start_time": "2022-09-16T07:14:09.486Z"
   },
   {
    "duration": 127716,
    "start_time": "2022-09-16T07:14:09.504Z"
   },
   {
    "duration": 130,
    "start_time": "2022-09-16T07:16:17.223Z"
   },
   {
    "duration": 10,
    "start_time": "2022-09-16T07:16:17.355Z"
   },
   {
    "duration": 20,
    "start_time": "2022-09-16T07:16:17.367Z"
   },
   {
    "duration": 15,
    "start_time": "2022-09-16T07:17:37.665Z"
   },
   {
    "duration": 9,
    "start_time": "2022-09-16T07:17:38.065Z"
   },
   {
    "duration": 13,
    "start_time": "2022-09-16T07:17:38.772Z"
   },
   {
    "duration": 3,
    "start_time": "2022-09-16T07:17:40.684Z"
   },
   {
    "duration": 6658,
    "start_time": "2022-09-16T07:17:40.903Z"
   },
   {
    "duration": 9,
    "start_time": "2022-09-16T07:17:47.564Z"
   },
   {
    "duration": 4,
    "start_time": "2022-09-16T07:17:47.575Z"
   },
   {
    "duration": 23276,
    "start_time": "2022-09-16T07:17:47.581Z"
   },
   {
    "duration": 0,
    "start_time": "2022-09-16T07:18:10.858Z"
   },
   {
    "duration": 0,
    "start_time": "2022-09-16T07:18:10.860Z"
   },
   {
    "duration": 0,
    "start_time": "2022-09-16T07:18:10.861Z"
   },
   {
    "duration": 0,
    "start_time": "2022-09-16T07:18:10.863Z"
   },
   {
    "duration": 0,
    "start_time": "2022-09-16T07:18:10.864Z"
   },
   {
    "duration": 0,
    "start_time": "2022-09-16T07:18:10.865Z"
   },
   {
    "duration": 14,
    "start_time": "2022-09-16T07:18:12.626Z"
   },
   {
    "duration": 10,
    "start_time": "2022-09-16T07:18:12.955Z"
   },
   {
    "duration": 15,
    "start_time": "2022-09-16T07:18:13.504Z"
   },
   {
    "duration": 16,
    "start_time": "2022-09-16T07:18:19.224Z"
   },
   {
    "duration": 13,
    "start_time": "2022-09-16T07:18:19.576Z"
   },
   {
    "duration": 13,
    "start_time": "2022-09-16T07:18:20.405Z"
   },
   {
    "duration": 20,
    "start_time": "2022-09-16T07:18:25.385Z"
   },
   {
    "duration": 12,
    "start_time": "2022-09-16T07:18:25.693Z"
   },
   {
    "duration": 17,
    "start_time": "2022-09-16T07:18:26.303Z"
   },
   {
    "duration": 4,
    "start_time": "2022-09-16T07:19:04.993Z"
   },
   {
    "duration": 7343,
    "start_time": "2022-09-16T07:19:05.201Z"
   },
   {
    "duration": 16,
    "start_time": "2022-09-16T07:19:16.628Z"
   },
   {
    "duration": 8,
    "start_time": "2022-09-16T07:19:17.067Z"
   },
   {
    "duration": 18,
    "start_time": "2022-09-16T07:19:18.985Z"
   },
   {
    "duration": 15,
    "start_time": "2022-09-16T07:19:27.396Z"
   },
   {
    "duration": 8,
    "start_time": "2022-09-16T07:19:27.775Z"
   },
   {
    "duration": 15,
    "start_time": "2022-09-16T07:19:28.997Z"
   },
   {
    "duration": 3,
    "start_time": "2022-09-16T07:19:30.009Z"
   },
   {
    "duration": 6826,
    "start_time": "2022-09-16T07:19:30.174Z"
   },
   {
    "duration": 16,
    "start_time": "2022-09-16T07:19:44.366Z"
   },
   {
    "duration": 8,
    "start_time": "2022-09-16T07:19:44.794Z"
   },
   {
    "duration": 18,
    "start_time": "2022-09-16T07:19:45.495Z"
   },
   {
    "duration": 5,
    "start_time": "2022-09-16T07:19:46.438Z"
   },
   {
    "duration": 7348,
    "start_time": "2022-09-16T07:19:46.633Z"
   },
   {
    "duration": 28,
    "start_time": "2022-09-16T07:20:25.457Z"
   },
   {
    "duration": 19,
    "start_time": "2022-09-16T07:20:32.461Z"
   },
   {
    "duration": 11,
    "start_time": "2022-09-16T07:20:33.042Z"
   },
   {
    "duration": 15,
    "start_time": "2022-09-16T07:20:33.776Z"
   },
   {
    "duration": 19,
    "start_time": "2022-09-16T07:20:37.573Z"
   },
   {
    "duration": 10,
    "start_time": "2022-09-16T07:20:37.897Z"
   },
   {
    "duration": 15,
    "start_time": "2022-09-16T07:20:38.454Z"
   },
   {
    "duration": 15,
    "start_time": "2022-09-16T07:20:43.679Z"
   },
   {
    "duration": 9,
    "start_time": "2022-09-16T07:20:43.998Z"
   },
   {
    "duration": 13,
    "start_time": "2022-09-16T07:20:44.568Z"
   },
   {
    "duration": 4,
    "start_time": "2022-09-16T07:20:46.188Z"
   },
   {
    "duration": 7018,
    "start_time": "2022-09-16T07:20:46.837Z"
   },
   {
    "duration": 20,
    "start_time": "2022-09-16T07:20:58.706Z"
   },
   {
    "duration": 10,
    "start_time": "2022-09-16T07:20:59.092Z"
   },
   {
    "duration": 14,
    "start_time": "2022-09-16T07:20:59.626Z"
   },
   {
    "duration": 3,
    "start_time": "2022-09-16T07:21:00.375Z"
   },
   {
    "duration": 6709,
    "start_time": "2022-09-16T07:21:00.560Z"
   },
   {
    "duration": 16,
    "start_time": "2022-09-16T07:21:13.287Z"
   },
   {
    "duration": 10,
    "start_time": "2022-09-16T07:21:13.654Z"
   },
   {
    "duration": 12,
    "start_time": "2022-09-16T07:21:14.015Z"
   },
   {
    "duration": 4,
    "start_time": "2022-09-16T07:21:14.668Z"
   },
   {
    "duration": 6731,
    "start_time": "2022-09-16T07:21:14.880Z"
   },
   {
    "duration": 15,
    "start_time": "2022-09-16T07:21:25.479Z"
   },
   {
    "duration": 11,
    "start_time": "2022-09-16T07:21:25.856Z"
   },
   {
    "duration": 15,
    "start_time": "2022-09-16T07:21:26.184Z"
   },
   {
    "duration": 4,
    "start_time": "2022-09-16T07:21:26.586Z"
   },
   {
    "duration": 6743,
    "start_time": "2022-09-16T07:21:27.387Z"
   },
   {
    "duration": 7,
    "start_time": "2022-09-16T07:21:36.404Z"
   },
   {
    "duration": 3,
    "start_time": "2022-09-16T07:21:38.678Z"
   },
   {
    "duration": 123454,
    "start_time": "2022-09-16T07:21:39.041Z"
   },
   {
    "duration": 138,
    "start_time": "2022-09-16T07:23:42.497Z"
   },
   {
    "duration": 12,
    "start_time": "2022-09-16T07:23:42.637Z"
   },
   {
    "duration": 53,
    "start_time": "2022-09-16T07:23:42.652Z"
   },
   {
    "duration": 11,
    "start_time": "2022-09-16T07:29:50.840Z"
   },
   {
    "duration": 95,
    "start_time": "2022-09-16T07:29:55.752Z"
   },
   {
    "duration": 11,
    "start_time": "2022-09-16T07:30:00.169Z"
   },
   {
    "duration": 11,
    "start_time": "2022-09-16T07:30:06.871Z"
   },
   {
    "duration": 10,
    "start_time": "2022-09-16T07:30:52.810Z"
   },
   {
    "duration": 1616,
    "start_time": "2022-09-17T12:44:23.664Z"
   },
   {
    "duration": 261,
    "start_time": "2022-09-17T12:44:25.282Z"
   },
   {
    "duration": 22,
    "start_time": "2022-09-17T12:44:25.545Z"
   },
   {
    "duration": 20,
    "start_time": "2022-09-17T12:44:25.638Z"
   },
   {
    "duration": 12,
    "start_time": "2022-09-17T12:44:25.969Z"
   },
   {
    "duration": 12,
    "start_time": "2022-09-17T12:44:26.228Z"
   },
   {
    "duration": 12,
    "start_time": "2022-09-17T12:44:26.793Z"
   },
   {
    "duration": 14,
    "start_time": "2022-09-17T12:44:27.309Z"
   },
   {
    "duration": 199,
    "start_time": "2022-09-17T12:44:29.048Z"
   },
   {
    "duration": 194,
    "start_time": "2022-09-17T12:44:29.642Z"
   },
   {
    "duration": 786,
    "start_time": "2022-09-17T12:44:30.691Z"
   },
   {
    "duration": 661,
    "start_time": "2022-09-17T12:45:05.151Z"
   },
   {
    "duration": 793,
    "start_time": "2022-09-17T12:45:10.788Z"
   },
   {
    "duration": 598,
    "start_time": "2022-09-17T12:45:24.451Z"
   },
   {
    "duration": 714,
    "start_time": "2022-09-17T12:45:30.017Z"
   },
   {
    "duration": 723,
    "start_time": "2022-09-17T12:45:55.296Z"
   },
   {
    "duration": 4,
    "start_time": "2022-09-17T12:47:47.801Z"
   },
   {
    "duration": 22,
    "start_time": "2022-09-17T12:47:51.892Z"
   },
   {
    "duration": 4,
    "start_time": "2022-09-17T12:47:53.248Z"
   },
   {
    "duration": 212,
    "start_time": "2022-09-17T12:47:54.788Z"
   },
   {
    "duration": 4,
    "start_time": "2022-09-17T12:48:55.552Z"
   },
   {
    "duration": 16,
    "start_time": "2022-09-17T12:48:56.800Z"
   },
   {
    "duration": 4,
    "start_time": "2022-09-17T12:48:58.471Z"
   },
   {
    "duration": 15,
    "start_time": "2022-09-17T12:50:51.830Z"
   },
   {
    "duration": 4,
    "start_time": "2022-09-17T12:50:53.411Z"
   },
   {
    "duration": 4,
    "start_time": "2022-09-17T12:51:21.117Z"
   },
   {
    "duration": 37,
    "start_time": "2022-09-17T12:51:21.676Z"
   },
   {
    "duration": 17,
    "start_time": "2022-09-17T12:51:21.715Z"
   },
   {
    "duration": 14,
    "start_time": "2022-09-17T12:51:21.801Z"
   },
   {
    "duration": 9,
    "start_time": "2022-09-17T12:51:21.824Z"
   },
   {
    "duration": 10,
    "start_time": "2022-09-17T12:51:21.860Z"
   },
   {
    "duration": 8,
    "start_time": "2022-09-17T12:51:21.928Z"
   },
   {
    "duration": 12,
    "start_time": "2022-09-17T12:51:22.002Z"
   },
   {
    "duration": 222,
    "start_time": "2022-09-17T12:51:22.131Z"
   },
   {
    "duration": 196,
    "start_time": "2022-09-17T12:51:22.355Z"
   },
   {
    "duration": 664,
    "start_time": "2022-09-17T12:51:22.553Z"
   },
   {
    "duration": 4,
    "start_time": "2022-09-17T12:51:26.272Z"
   },
   {
    "duration": 15,
    "start_time": "2022-09-17T12:51:28.273Z"
   },
   {
    "duration": 4,
    "start_time": "2022-09-17T12:51:28.290Z"
   },
   {
    "duration": 5,
    "start_time": "2022-09-17T12:51:58.842Z"
   },
   {
    "duration": 18,
    "start_time": "2022-09-17T12:52:00.188Z"
   },
   {
    "duration": 4,
    "start_time": "2022-09-17T12:52:00.847Z"
   },
   {
    "duration": 16,
    "start_time": "2022-09-17T12:52:27.682Z"
   },
   {
    "duration": 4,
    "start_time": "2022-09-17T12:52:29.571Z"
   },
   {
    "duration": 19,
    "start_time": "2022-09-17T12:53:11.605Z"
   },
   {
    "duration": 4,
    "start_time": "2022-09-17T12:53:12.189Z"
   },
   {
    "duration": 4,
    "start_time": "2022-09-17T12:53:29.373Z"
   },
   {
    "duration": 39,
    "start_time": "2022-09-17T12:53:29.915Z"
   },
   {
    "duration": 19,
    "start_time": "2022-09-17T12:53:29.957Z"
   },
   {
    "duration": 16,
    "start_time": "2022-09-17T12:53:30.052Z"
   },
   {
    "duration": 11,
    "start_time": "2022-09-17T12:53:30.084Z"
   },
   {
    "duration": 11,
    "start_time": "2022-09-17T12:53:30.119Z"
   },
   {
    "duration": 8,
    "start_time": "2022-09-17T12:53:30.188Z"
   },
   {
    "duration": 15,
    "start_time": "2022-09-17T12:53:30.257Z"
   },
   {
    "duration": 311,
    "start_time": "2022-09-17T12:53:30.405Z"
   },
   {
    "duration": 209,
    "start_time": "2022-09-17T12:53:30.721Z"
   },
   {
    "duration": 717,
    "start_time": "2022-09-17T12:53:30.931Z"
   },
   {
    "duration": 3,
    "start_time": "2022-09-17T12:53:34.244Z"
   },
   {
    "duration": 18,
    "start_time": "2022-09-17T12:53:35.536Z"
   },
   {
    "duration": 7,
    "start_time": "2022-09-17T12:53:36.284Z"
   },
   {
    "duration": 12,
    "start_time": "2022-09-17T12:53:39.333Z"
   },
   {
    "duration": 5,
    "start_time": "2022-09-17T12:54:41.367Z"
   },
   {
    "duration": 79,
    "start_time": "2022-09-17T12:54:58.310Z"
   },
   {
    "duration": 3,
    "start_time": "2022-09-17T12:55:20.919Z"
   },
   {
    "duration": 4329,
    "start_time": "2022-09-17T12:55:22.717Z"
   },
   {
    "duration": 94,
    "start_time": "2022-09-17T12:55:55.462Z"
   },
   {
    "duration": 7,
    "start_time": "2022-09-17T12:56:46.825Z"
   },
   {
    "duration": 3,
    "start_time": "2022-09-17T12:56:47.659Z"
   },
   {
    "duration": 129264,
    "start_time": "2022-09-17T12:56:48.131Z"
   },
   {
    "duration": 104,
    "start_time": "2022-09-17T13:00:01.849Z"
   },
   {
    "duration": 8,
    "start_time": "2022-09-17T13:00:03.788Z"
   },
   {
    "duration": 14,
    "start_time": "2022-09-17T13:00:05.903Z"
   },
   {
    "duration": 8,
    "start_time": "2022-09-17T13:00:24.310Z"
   },
   {
    "duration": 105,
    "start_time": "2022-09-17T13:02:12.614Z"
   },
   {
    "duration": 286,
    "start_time": "2022-09-17T13:02:39.701Z"
   },
   {
    "duration": 98,
    "start_time": "2022-09-17T13:03:07.201Z"
   },
   {
    "duration": 499,
    "start_time": "2022-09-17T13:03:24.325Z"
   },
   {
    "duration": 170,
    "start_time": "2022-09-17T13:04:06.919Z"
   },
   {
    "duration": 262,
    "start_time": "2022-09-17T13:04:21.825Z"
   },
   {
    "duration": 191,
    "start_time": "2022-09-17T13:04:31.041Z"
   },
   {
    "duration": 146,
    "start_time": "2022-09-17T13:05:16.365Z"
   },
   {
    "duration": 101,
    "start_time": "2022-09-17T13:05:22.251Z"
   },
   {
    "duration": 111,
    "start_time": "2022-09-17T13:06:38.817Z"
   },
   {
    "duration": 140,
    "start_time": "2022-09-17T13:06:43.873Z"
   },
   {
    "duration": 101,
    "start_time": "2022-09-17T13:06:56.533Z"
   },
   {
    "duration": 121,
    "start_time": "2022-09-17T13:06:59.407Z"
   },
   {
    "duration": 171,
    "start_time": "2022-09-17T13:07:04.160Z"
   }
  ],
  "kernelspec": {
   "display_name": "Python 3 (ipykernel)",
   "language": "python",
   "name": "python3"
  },
  "language_info": {
   "codemirror_mode": {
    "name": "ipython",
    "version": 3
   },
   "file_extension": ".py",
   "mimetype": "text/x-python",
   "name": "python",
   "nbconvert_exporter": "python",
   "pygments_lexer": "ipython3",
   "version": "3.9.13"
  },
  "toc": {
   "base_numbering": 1,
   "nav_menu": {},
   "number_sections": true,
   "sideBar": true,
   "skip_h1_title": true,
   "title_cell": "Содержание",
   "title_sidebar": "Contents",
   "toc_cell": true,
   "toc_position": {},
   "toc_section_display": true,
   "toc_window_display": false
  }
 },
 "nbformat": 4,
 "nbformat_minor": 2
}
