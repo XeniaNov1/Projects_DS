{
 "cells": [
  {
   "cell_type": "markdown",
   "id": "ed3db83e",
   "metadata": {},
   "source": [
    "# Прогнозирование оттока клиентов банка"
   ]
  },
  {
   "cell_type": "markdown",
   "id": "d51feb4e",
   "metadata": {},
   "source": [
    "## Загрузка данных"
   ]
  },
  {
   "cell_type": "code",
   "execution_count": 1,
   "id": "ed03f20d",
   "metadata": {},
   "outputs": [],
   "source": [
    "import pandas as pd\n",
    "import numpy as np\n",
    "from tqdm import tqdm\n",
    "from sklearn.model_selection import train_test_split\n",
    "from sklearn.ensemble import RandomForestRegressor, RandomForestClassifier\n",
    "from sklearn.tree import DecisionTreeClassifier\n",
    "from sklearn.linear_model import LogisticRegression, LinearRegression\n",
    "from sklearn.utils import shuffle\n",
    "from sklearn.metrics import classification_report\n",
    "from sklearn.preprocessing import StandardScaler \n",
    "from sklearn.metrics import roc_auc_score\n",
    "\n",
    "from sklearn.metrics import f1_score\n",
    "#!pip install pandas_profiling\n",
    "#import pandas_profiling"
   ]
  },
  {
   "cell_type": "code",
   "execution_count": 2,
   "id": "cd921ab2",
   "metadata": {},
   "outputs": [
    {
     "name": "stdout",
     "output_type": "stream",
     "text": [
      "<class 'pandas.core.frame.DataFrame'>\n",
      "RangeIndex: 10000 entries, 0 to 9999\n",
      "Data columns (total 14 columns):\n",
      " #   Column           Non-Null Count  Dtype  \n",
      "---  ------           --------------  -----  \n",
      " 0   RowNumber        10000 non-null  int64  \n",
      " 1   CustomerId       10000 non-null  int64  \n",
      " 2   Surname          10000 non-null  object \n",
      " 3   CreditScore      10000 non-null  int64  \n",
      " 4   Geography        10000 non-null  object \n",
      " 5   Gender           10000 non-null  object \n",
      " 6   Age              10000 non-null  int64  \n",
      " 7   Tenure           9091 non-null   float64\n",
      " 8   Balance          10000 non-null  float64\n",
      " 9   NumOfProducts    10000 non-null  int64  \n",
      " 10  HasCrCard        10000 non-null  int64  \n",
      " 11  IsActiveMember   10000 non-null  int64  \n",
      " 12  EstimatedSalary  10000 non-null  float64\n",
      " 13  Exited           10000 non-null  int64  \n",
      "dtypes: float64(3), int64(8), object(3)\n",
      "memory usage: 1.1+ MB\n"
     ]
    },
    {
     "data": {
      "text/plain": [
       "None"
      ]
     },
     "metadata": {},
     "output_type": "display_data"
    },
    {
     "data": {
      "text/html": [
       "<div>\n",
       "<style scoped>\n",
       "    .dataframe tbody tr th:only-of-type {\n",
       "        vertical-align: middle;\n",
       "    }\n",
       "\n",
       "    .dataframe tbody tr th {\n",
       "        vertical-align: top;\n",
       "    }\n",
       "\n",
       "    .dataframe thead th {\n",
       "        text-align: right;\n",
       "    }\n",
       "</style>\n",
       "<table border=\"1\" class=\"dataframe\">\n",
       "  <thead>\n",
       "    <tr style=\"text-align: right;\">\n",
       "      <th></th>\n",
       "      <th>RowNumber</th>\n",
       "      <th>CustomerId</th>\n",
       "      <th>Surname</th>\n",
       "      <th>CreditScore</th>\n",
       "      <th>Geography</th>\n",
       "      <th>Gender</th>\n",
       "      <th>Age</th>\n",
       "      <th>Tenure</th>\n",
       "      <th>Balance</th>\n",
       "      <th>NumOfProducts</th>\n",
       "      <th>HasCrCard</th>\n",
       "      <th>IsActiveMember</th>\n",
       "      <th>EstimatedSalary</th>\n",
       "      <th>Exited</th>\n",
       "    </tr>\n",
       "  </thead>\n",
       "  <tbody>\n",
       "    <tr>\n",
       "      <th>0</th>\n",
       "      <td>1</td>\n",
       "      <td>15634602</td>\n",
       "      <td>Hargrave</td>\n",
       "      <td>619</td>\n",
       "      <td>France</td>\n",
       "      <td>Female</td>\n",
       "      <td>42</td>\n",
       "      <td>2.0</td>\n",
       "      <td>0.00</td>\n",
       "      <td>1</td>\n",
       "      <td>1</td>\n",
       "      <td>1</td>\n",
       "      <td>101348.88</td>\n",
       "      <td>1</td>\n",
       "    </tr>\n",
       "    <tr>\n",
       "      <th>1</th>\n",
       "      <td>2</td>\n",
       "      <td>15647311</td>\n",
       "      <td>Hill</td>\n",
       "      <td>608</td>\n",
       "      <td>Spain</td>\n",
       "      <td>Female</td>\n",
       "      <td>41</td>\n",
       "      <td>1.0</td>\n",
       "      <td>83807.86</td>\n",
       "      <td>1</td>\n",
       "      <td>0</td>\n",
       "      <td>1</td>\n",
       "      <td>112542.58</td>\n",
       "      <td>0</td>\n",
       "    </tr>\n",
       "    <tr>\n",
       "      <th>2</th>\n",
       "      <td>3</td>\n",
       "      <td>15619304</td>\n",
       "      <td>Onio</td>\n",
       "      <td>502</td>\n",
       "      <td>France</td>\n",
       "      <td>Female</td>\n",
       "      <td>42</td>\n",
       "      <td>8.0</td>\n",
       "      <td>159660.80</td>\n",
       "      <td>3</td>\n",
       "      <td>1</td>\n",
       "      <td>0</td>\n",
       "      <td>113931.57</td>\n",
       "      <td>1</td>\n",
       "    </tr>\n",
       "    <tr>\n",
       "      <th>3</th>\n",
       "      <td>4</td>\n",
       "      <td>15701354</td>\n",
       "      <td>Boni</td>\n",
       "      <td>699</td>\n",
       "      <td>France</td>\n",
       "      <td>Female</td>\n",
       "      <td>39</td>\n",
       "      <td>1.0</td>\n",
       "      <td>0.00</td>\n",
       "      <td>2</td>\n",
       "      <td>0</td>\n",
       "      <td>0</td>\n",
       "      <td>93826.63</td>\n",
       "      <td>0</td>\n",
       "    </tr>\n",
       "    <tr>\n",
       "      <th>4</th>\n",
       "      <td>5</td>\n",
       "      <td>15737888</td>\n",
       "      <td>Mitchell</td>\n",
       "      <td>850</td>\n",
       "      <td>Spain</td>\n",
       "      <td>Female</td>\n",
       "      <td>43</td>\n",
       "      <td>2.0</td>\n",
       "      <td>125510.82</td>\n",
       "      <td>1</td>\n",
       "      <td>1</td>\n",
       "      <td>1</td>\n",
       "      <td>79084.10</td>\n",
       "      <td>0</td>\n",
       "    </tr>\n",
       "    <tr>\n",
       "      <th>5</th>\n",
       "      <td>6</td>\n",
       "      <td>15574012</td>\n",
       "      <td>Chu</td>\n",
       "      <td>645</td>\n",
       "      <td>Spain</td>\n",
       "      <td>Male</td>\n",
       "      <td>44</td>\n",
       "      <td>8.0</td>\n",
       "      <td>113755.78</td>\n",
       "      <td>2</td>\n",
       "      <td>1</td>\n",
       "      <td>0</td>\n",
       "      <td>149756.71</td>\n",
       "      <td>1</td>\n",
       "    </tr>\n",
       "    <tr>\n",
       "      <th>6</th>\n",
       "      <td>7</td>\n",
       "      <td>15592531</td>\n",
       "      <td>Bartlett</td>\n",
       "      <td>822</td>\n",
       "      <td>France</td>\n",
       "      <td>Male</td>\n",
       "      <td>50</td>\n",
       "      <td>7.0</td>\n",
       "      <td>0.00</td>\n",
       "      <td>2</td>\n",
       "      <td>1</td>\n",
       "      <td>1</td>\n",
       "      <td>10062.80</td>\n",
       "      <td>0</td>\n",
       "    </tr>\n",
       "    <tr>\n",
       "      <th>7</th>\n",
       "      <td>8</td>\n",
       "      <td>15656148</td>\n",
       "      <td>Obinna</td>\n",
       "      <td>376</td>\n",
       "      <td>Germany</td>\n",
       "      <td>Female</td>\n",
       "      <td>29</td>\n",
       "      <td>4.0</td>\n",
       "      <td>115046.74</td>\n",
       "      <td>4</td>\n",
       "      <td>1</td>\n",
       "      <td>0</td>\n",
       "      <td>119346.88</td>\n",
       "      <td>1</td>\n",
       "    </tr>\n",
       "    <tr>\n",
       "      <th>8</th>\n",
       "      <td>9</td>\n",
       "      <td>15792365</td>\n",
       "      <td>He</td>\n",
       "      <td>501</td>\n",
       "      <td>France</td>\n",
       "      <td>Male</td>\n",
       "      <td>44</td>\n",
       "      <td>4.0</td>\n",
       "      <td>142051.07</td>\n",
       "      <td>2</td>\n",
       "      <td>0</td>\n",
       "      <td>1</td>\n",
       "      <td>74940.50</td>\n",
       "      <td>0</td>\n",
       "    </tr>\n",
       "    <tr>\n",
       "      <th>9</th>\n",
       "      <td>10</td>\n",
       "      <td>15592389</td>\n",
       "      <td>H?</td>\n",
       "      <td>684</td>\n",
       "      <td>France</td>\n",
       "      <td>Male</td>\n",
       "      <td>27</td>\n",
       "      <td>2.0</td>\n",
       "      <td>134603.88</td>\n",
       "      <td>1</td>\n",
       "      <td>1</td>\n",
       "      <td>1</td>\n",
       "      <td>71725.73</td>\n",
       "      <td>0</td>\n",
       "    </tr>\n",
       "  </tbody>\n",
       "</table>\n",
       "</div>"
      ],
      "text/plain": [
       "   RowNumber  CustomerId   Surname  CreditScore Geography  Gender  Age  \\\n",
       "0          1    15634602  Hargrave          619    France  Female   42   \n",
       "1          2    15647311      Hill          608     Spain  Female   41   \n",
       "2          3    15619304      Onio          502    France  Female   42   \n",
       "3          4    15701354      Boni          699    France  Female   39   \n",
       "4          5    15737888  Mitchell          850     Spain  Female   43   \n",
       "5          6    15574012       Chu          645     Spain    Male   44   \n",
       "6          7    15592531  Bartlett          822    France    Male   50   \n",
       "7          8    15656148    Obinna          376   Germany  Female   29   \n",
       "8          9    15792365        He          501    France    Male   44   \n",
       "9         10    15592389        H?          684    France    Male   27   \n",
       "\n",
       "   Tenure    Balance  NumOfProducts  HasCrCard  IsActiveMember  \\\n",
       "0     2.0       0.00              1          1               1   \n",
       "1     1.0   83807.86              1          0               1   \n",
       "2     8.0  159660.80              3          1               0   \n",
       "3     1.0       0.00              2          0               0   \n",
       "4     2.0  125510.82              1          1               1   \n",
       "5     8.0  113755.78              2          1               0   \n",
       "6     7.0       0.00              2          1               1   \n",
       "7     4.0  115046.74              4          1               0   \n",
       "8     4.0  142051.07              2          0               1   \n",
       "9     2.0  134603.88              1          1               1   \n",
       "\n",
       "   EstimatedSalary  Exited  \n",
       "0        101348.88       1  \n",
       "1        112542.58       0  \n",
       "2        113931.57       1  \n",
       "3         93826.63       0  \n",
       "4         79084.10       0  \n",
       "5        149756.71       1  \n",
       "6         10062.80       0  \n",
       "7        119346.88       1  \n",
       "8         74940.50       0  \n",
       "9         71725.73       0  "
      ]
     },
     "metadata": {},
     "output_type": "display_data"
    },
    {
     "data": {
      "text/html": [
       "<div>\n",
       "<style scoped>\n",
       "    .dataframe tbody tr th:only-of-type {\n",
       "        vertical-align: middle;\n",
       "    }\n",
       "\n",
       "    .dataframe tbody tr th {\n",
       "        vertical-align: top;\n",
       "    }\n",
       "\n",
       "    .dataframe thead th {\n",
       "        text-align: right;\n",
       "    }\n",
       "</style>\n",
       "<table border=\"1\" class=\"dataframe\">\n",
       "  <thead>\n",
       "    <tr style=\"text-align: right;\">\n",
       "      <th></th>\n",
       "      <th>RowNumber</th>\n",
       "      <th>CustomerId</th>\n",
       "      <th>CreditScore</th>\n",
       "      <th>Age</th>\n",
       "      <th>Tenure</th>\n",
       "      <th>Balance</th>\n",
       "      <th>NumOfProducts</th>\n",
       "      <th>HasCrCard</th>\n",
       "      <th>IsActiveMember</th>\n",
       "      <th>EstimatedSalary</th>\n",
       "      <th>Exited</th>\n",
       "    </tr>\n",
       "  </thead>\n",
       "  <tbody>\n",
       "    <tr>\n",
       "      <th>count</th>\n",
       "      <td>10000.00000</td>\n",
       "      <td>1.000000e+04</td>\n",
       "      <td>10000.000000</td>\n",
       "      <td>10000.000000</td>\n",
       "      <td>9091.000000</td>\n",
       "      <td>10000.000000</td>\n",
       "      <td>10000.000000</td>\n",
       "      <td>10000.00000</td>\n",
       "      <td>10000.000000</td>\n",
       "      <td>10000.000000</td>\n",
       "      <td>10000.000000</td>\n",
       "    </tr>\n",
       "    <tr>\n",
       "      <th>mean</th>\n",
       "      <td>5000.50000</td>\n",
       "      <td>1.569094e+07</td>\n",
       "      <td>650.528800</td>\n",
       "      <td>38.921800</td>\n",
       "      <td>4.997690</td>\n",
       "      <td>76485.889288</td>\n",
       "      <td>1.530200</td>\n",
       "      <td>0.70550</td>\n",
       "      <td>0.515100</td>\n",
       "      <td>100090.239881</td>\n",
       "      <td>0.203700</td>\n",
       "    </tr>\n",
       "    <tr>\n",
       "      <th>std</th>\n",
       "      <td>2886.89568</td>\n",
       "      <td>7.193619e+04</td>\n",
       "      <td>96.653299</td>\n",
       "      <td>10.487806</td>\n",
       "      <td>2.894723</td>\n",
       "      <td>62397.405202</td>\n",
       "      <td>0.581654</td>\n",
       "      <td>0.45584</td>\n",
       "      <td>0.499797</td>\n",
       "      <td>57510.492818</td>\n",
       "      <td>0.402769</td>\n",
       "    </tr>\n",
       "    <tr>\n",
       "      <th>min</th>\n",
       "      <td>1.00000</td>\n",
       "      <td>1.556570e+07</td>\n",
       "      <td>350.000000</td>\n",
       "      <td>18.000000</td>\n",
       "      <td>0.000000</td>\n",
       "      <td>0.000000</td>\n",
       "      <td>1.000000</td>\n",
       "      <td>0.00000</td>\n",
       "      <td>0.000000</td>\n",
       "      <td>11.580000</td>\n",
       "      <td>0.000000</td>\n",
       "    </tr>\n",
       "    <tr>\n",
       "      <th>25%</th>\n",
       "      <td>2500.75000</td>\n",
       "      <td>1.562853e+07</td>\n",
       "      <td>584.000000</td>\n",
       "      <td>32.000000</td>\n",
       "      <td>2.000000</td>\n",
       "      <td>0.000000</td>\n",
       "      <td>1.000000</td>\n",
       "      <td>0.00000</td>\n",
       "      <td>0.000000</td>\n",
       "      <td>51002.110000</td>\n",
       "      <td>0.000000</td>\n",
       "    </tr>\n",
       "    <tr>\n",
       "      <th>50%</th>\n",
       "      <td>5000.50000</td>\n",
       "      <td>1.569074e+07</td>\n",
       "      <td>652.000000</td>\n",
       "      <td>37.000000</td>\n",
       "      <td>5.000000</td>\n",
       "      <td>97198.540000</td>\n",
       "      <td>1.000000</td>\n",
       "      <td>1.00000</td>\n",
       "      <td>1.000000</td>\n",
       "      <td>100193.915000</td>\n",
       "      <td>0.000000</td>\n",
       "    </tr>\n",
       "    <tr>\n",
       "      <th>75%</th>\n",
       "      <td>7500.25000</td>\n",
       "      <td>1.575323e+07</td>\n",
       "      <td>718.000000</td>\n",
       "      <td>44.000000</td>\n",
       "      <td>7.000000</td>\n",
       "      <td>127644.240000</td>\n",
       "      <td>2.000000</td>\n",
       "      <td>1.00000</td>\n",
       "      <td>1.000000</td>\n",
       "      <td>149388.247500</td>\n",
       "      <td>0.000000</td>\n",
       "    </tr>\n",
       "    <tr>\n",
       "      <th>max</th>\n",
       "      <td>10000.00000</td>\n",
       "      <td>1.581569e+07</td>\n",
       "      <td>850.000000</td>\n",
       "      <td>92.000000</td>\n",
       "      <td>10.000000</td>\n",
       "      <td>250898.090000</td>\n",
       "      <td>4.000000</td>\n",
       "      <td>1.00000</td>\n",
       "      <td>1.000000</td>\n",
       "      <td>199992.480000</td>\n",
       "      <td>1.000000</td>\n",
       "    </tr>\n",
       "  </tbody>\n",
       "</table>\n",
       "</div>"
      ],
      "text/plain": [
       "         RowNumber    CustomerId   CreditScore           Age       Tenure  \\\n",
       "count  10000.00000  1.000000e+04  10000.000000  10000.000000  9091.000000   \n",
       "mean    5000.50000  1.569094e+07    650.528800     38.921800     4.997690   \n",
       "std     2886.89568  7.193619e+04     96.653299     10.487806     2.894723   \n",
       "min        1.00000  1.556570e+07    350.000000     18.000000     0.000000   \n",
       "25%     2500.75000  1.562853e+07    584.000000     32.000000     2.000000   \n",
       "50%     5000.50000  1.569074e+07    652.000000     37.000000     5.000000   \n",
       "75%     7500.25000  1.575323e+07    718.000000     44.000000     7.000000   \n",
       "max    10000.00000  1.581569e+07    850.000000     92.000000    10.000000   \n",
       "\n",
       "             Balance  NumOfProducts    HasCrCard  IsActiveMember  \\\n",
       "count   10000.000000   10000.000000  10000.00000    10000.000000   \n",
       "mean    76485.889288       1.530200      0.70550        0.515100   \n",
       "std     62397.405202       0.581654      0.45584        0.499797   \n",
       "min         0.000000       1.000000      0.00000        0.000000   \n",
       "25%         0.000000       1.000000      0.00000        0.000000   \n",
       "50%     97198.540000       1.000000      1.00000        1.000000   \n",
       "75%    127644.240000       2.000000      1.00000        1.000000   \n",
       "max    250898.090000       4.000000      1.00000        1.000000   \n",
       "\n",
       "       EstimatedSalary        Exited  \n",
       "count     10000.000000  10000.000000  \n",
       "mean     100090.239881      0.203700  \n",
       "std       57510.492818      0.402769  \n",
       "min          11.580000      0.000000  \n",
       "25%       51002.110000      0.000000  \n",
       "50%      100193.915000      0.000000  \n",
       "75%      149388.247500      0.000000  \n",
       "max      199992.480000      1.000000  "
      ]
     },
     "metadata": {},
     "output_type": "display_data"
    }
   ],
   "source": [
    "try:df=pd.read_csv('/datasets/Churn.csv')\n",
    "except: df=pd.read_csv('/Users/knovikova/Downloads/Churn.csv')\n",
    "    \n",
    "display(df.info())\n",
    "display()\n",
    "display(df.head(10))\n",
    "display()\n",
    "display(df.describe())\n",
    "#pandas_profiling.ProfileReport(df)"
   ]
  },
  {
   "cell_type": "markdown",
   "id": "2a23f9e5",
   "metadata": {},
   "source": [
    "**Легенда**\n",
    "\n",
    "**Признаки**\n",
    "\n",
    "- RowNumber — индекс строки в данных\n",
    "- CustomerId — уникальный идентификатор клиента\n",
    "- Surname — фамилия\n",
    "- CreditScore — кредитный рейтинг\n",
    "- Geography — страна проживания\n",
    "- Gender — пол\n",
    "- Age — возраст\n",
    "- Tenure — сколько лет человек является клиентом банка\n",
    "- Balance — баланс на счёте\n",
    "- NumOfProducts — количество продуктов банка, используемых клиентом\n",
    "- HasCrCard — наличие кредитной карты\n",
    "- IsActiveMember — активность клиента\n",
    "- EstimatedSalary — предполагаемая зарплата\n",
    "\n",
    "**Целевой признак**\n",
    "\n",
    "- Exited — факт ухода клиента"
   ]
  },
  {
   "cell_type": "markdown",
   "id": "859e248b",
   "metadata": {},
   "source": [
    "## Изучение и предобработка данных"
   ]
  },
  {
   "cell_type": "markdown",
   "id": "c084fdd6",
   "metadata": {},
   "source": [
    "### Изменение регистра столбцов"
   ]
  },
  {
   "cell_type": "code",
   "execution_count": 3,
   "id": "82e31c2a",
   "metadata": {},
   "outputs": [
    {
     "name": "stdout",
     "output_type": "stream",
     "text": [
      "Index(['rownumber', 'customerid', 'surname', 'creditscore', 'geography',\n",
      "       'gender', 'age', 'tenure', 'balance', 'numofproducts', 'hascrcard',\n",
      "       'isactivemember', 'estimatedsalary', 'exited'],\n",
      "      dtype='object')\n"
     ]
    }
   ],
   "source": [
    "df.columns = df.columns.str.lower()\n",
    "print(df.columns)"
   ]
  },
  {
   "cell_type": "markdown",
   "id": "6cc26178",
   "metadata": {},
   "source": [
    "### Заполнение пропусков"
   ]
  },
  {
   "cell_type": "markdown",
   "id": "fe866b31",
   "metadata": {},
   "source": [
    "Пропуски имеются в столбце Tenure, возможно, потому что данные клиенты обслуживаются в банке менее года. Заменим на 0 пропущенные значения."
   ]
  },
  {
   "cell_type": "code",
   "execution_count": 4,
   "id": "1c401d16",
   "metadata": {},
   "outputs": [
    {
     "name": "stdout",
     "output_type": "stream",
     "text": [
      "1.0     952\n",
      "2.0     950\n",
      "8.0     933\n",
      "3.0     928\n",
      "5.0     927\n",
      "7.0     925\n",
      "4.0     885\n",
      "9.0     882\n",
      "6.0     881\n",
      "10.0    446\n",
      "0.0     382\n",
      "Name: tenure, dtype: int64\n"
     ]
    }
   ],
   "source": [
    "print(df['tenure'].value_counts()) "
   ]
  },
  {
   "cell_type": "code",
   "execution_count": 5,
   "id": "89a5125d",
   "metadata": {},
   "outputs": [],
   "source": [
    "#заменим пропуски средним\n",
    "df['tenure'] = df['tenure'].fillna(df['tenure'].mean())"
   ]
  },
  {
   "cell_type": "code",
   "execution_count": 6,
   "id": "54411e21",
   "metadata": {},
   "outputs": [
    {
     "name": "stdout",
     "output_type": "stream",
     "text": [
      "0\n"
     ]
    }
   ],
   "source": [
    "print(df.duplicated().sum()) "
   ]
  },
  {
   "cell_type": "markdown",
   "id": "604bc8c5",
   "metadata": {},
   "source": [
    "### Кодирование категориальных данных"
   ]
  },
  {
   "cell_type": "markdown",
   "id": "a5e21bbf",
   "metadata": {},
   "source": [
    "Для начала уберем из анализа столбцы с фамилиями и номером строки - это ненужные данные"
   ]
  },
  {
   "cell_type": "code",
   "execution_count": 7,
   "id": "872ba807",
   "metadata": {},
   "outputs": [],
   "source": [
    "df = df.drop(['rownumber','surname','customerid'],axis=1)"
   ]
  },
  {
   "cell_type": "markdown",
   "id": "c50dbef0",
   "metadata": {},
   "source": [
    "Используем метод прямого кодирования для категориальных данных"
   ]
  },
  {
   "cell_type": "code",
   "execution_count": 8,
   "id": "60e78228",
   "metadata": {},
   "outputs": [
    {
     "data": {
      "text/html": [
       "<div>\n",
       "<style scoped>\n",
       "    .dataframe tbody tr th:only-of-type {\n",
       "        vertical-align: middle;\n",
       "    }\n",
       "\n",
       "    .dataframe tbody tr th {\n",
       "        vertical-align: top;\n",
       "    }\n",
       "\n",
       "    .dataframe thead th {\n",
       "        text-align: right;\n",
       "    }\n",
       "</style>\n",
       "<table border=\"1\" class=\"dataframe\">\n",
       "  <thead>\n",
       "    <tr style=\"text-align: right;\">\n",
       "      <th></th>\n",
       "      <th>creditscore</th>\n",
       "      <th>age</th>\n",
       "      <th>tenure</th>\n",
       "      <th>balance</th>\n",
       "      <th>numofproducts</th>\n",
       "      <th>hascrcard</th>\n",
       "      <th>isactivemember</th>\n",
       "      <th>estimatedsalary</th>\n",
       "      <th>exited</th>\n",
       "      <th>geography_Germany</th>\n",
       "      <th>geography_Spain</th>\n",
       "      <th>gender_Male</th>\n",
       "    </tr>\n",
       "  </thead>\n",
       "  <tbody>\n",
       "    <tr>\n",
       "      <th>0</th>\n",
       "      <td>619</td>\n",
       "      <td>42</td>\n",
       "      <td>2.0</td>\n",
       "      <td>0.00</td>\n",
       "      <td>1</td>\n",
       "      <td>1</td>\n",
       "      <td>1</td>\n",
       "      <td>101348.88</td>\n",
       "      <td>1</td>\n",
       "      <td>0</td>\n",
       "      <td>0</td>\n",
       "      <td>0</td>\n",
       "    </tr>\n",
       "    <tr>\n",
       "      <th>1</th>\n",
       "      <td>608</td>\n",
       "      <td>41</td>\n",
       "      <td>1.0</td>\n",
       "      <td>83807.86</td>\n",
       "      <td>1</td>\n",
       "      <td>0</td>\n",
       "      <td>1</td>\n",
       "      <td>112542.58</td>\n",
       "      <td>0</td>\n",
       "      <td>0</td>\n",
       "      <td>1</td>\n",
       "      <td>0</td>\n",
       "    </tr>\n",
       "    <tr>\n",
       "      <th>2</th>\n",
       "      <td>502</td>\n",
       "      <td>42</td>\n",
       "      <td>8.0</td>\n",
       "      <td>159660.80</td>\n",
       "      <td>3</td>\n",
       "      <td>1</td>\n",
       "      <td>0</td>\n",
       "      <td>113931.57</td>\n",
       "      <td>1</td>\n",
       "      <td>0</td>\n",
       "      <td>0</td>\n",
       "      <td>0</td>\n",
       "    </tr>\n",
       "    <tr>\n",
       "      <th>3</th>\n",
       "      <td>699</td>\n",
       "      <td>39</td>\n",
       "      <td>1.0</td>\n",
       "      <td>0.00</td>\n",
       "      <td>2</td>\n",
       "      <td>0</td>\n",
       "      <td>0</td>\n",
       "      <td>93826.63</td>\n",
       "      <td>0</td>\n",
       "      <td>0</td>\n",
       "      <td>0</td>\n",
       "      <td>0</td>\n",
       "    </tr>\n",
       "    <tr>\n",
       "      <th>4</th>\n",
       "      <td>850</td>\n",
       "      <td>43</td>\n",
       "      <td>2.0</td>\n",
       "      <td>125510.82</td>\n",
       "      <td>1</td>\n",
       "      <td>1</td>\n",
       "      <td>1</td>\n",
       "      <td>79084.10</td>\n",
       "      <td>0</td>\n",
       "      <td>0</td>\n",
       "      <td>1</td>\n",
       "      <td>0</td>\n",
       "    </tr>\n",
       "  </tbody>\n",
       "</table>\n",
       "</div>"
      ],
      "text/plain": [
       "   creditscore  age  tenure    balance  numofproducts  hascrcard  \\\n",
       "0          619   42     2.0       0.00              1          1   \n",
       "1          608   41     1.0   83807.86              1          0   \n",
       "2          502   42     8.0  159660.80              3          1   \n",
       "3          699   39     1.0       0.00              2          0   \n",
       "4          850   43     2.0  125510.82              1          1   \n",
       "\n",
       "   isactivemember  estimatedsalary  exited  geography_Germany  \\\n",
       "0               1        101348.88       1                  0   \n",
       "1               1        112542.58       0                  0   \n",
       "2               0        113931.57       1                  0   \n",
       "3               0         93826.63       0                  0   \n",
       "4               1         79084.10       0                  0   \n",
       "\n",
       "   geography_Spain  gender_Male  \n",
       "0                0            0  \n",
       "1                1            0  \n",
       "2                0            0  \n",
       "3                0            0  \n",
       "4                1            0  "
      ]
     },
     "metadata": {},
     "output_type": "display_data"
    }
   ],
   "source": [
    "df = pd.get_dummies(df,drop_first=True)\n",
    "display(df.head())"
   ]
  },
  {
   "cell_type": "markdown",
   "id": "cfc40b82",
   "metadata": {},
   "source": []
  },
  {
   "cell_type": "markdown",
   "id": "9976c253",
   "metadata": {},
   "source": [
    "# 2. Построение модели"
   ]
  },
  {
   "cell_type": "markdown",
   "id": "5b1257fb",
   "metadata": {},
   "source": [
    "Построим несколько моделей и выберем ту, которая даст наилучший результат."
   ]
  },
  {
   "cell_type": "code",
   "execution_count": 9,
   "id": "d4c3d1fe",
   "metadata": {},
   "outputs": [
    {
     "name": "stdout",
     "output_type": "stream",
     "text": [
      "Количество ушедших клиентов: 2037\n",
      "Количество оставшихся клиентов: 7963\n",
      "Дисбаланс данных в выборке составляет 3.9091801669121256\n"
     ]
    }
   ],
   "source": [
    "print('Количество ушедших клиентов:',df[df['exited']==1]['exited'].count())\n",
    "print('Количество оставшихся клиентов:',df[df['exited']==0]['exited'].count())\n",
    "print('Дисбаланс данных в выборке составляет',df[df['exited']==0]['exited'].count()/df[df['exited']==1]['exited'].count())\n",
    "\n",
    "#разделим выборку\n",
    "features_train, features_test, target_train, target_test = train_test_split(\n",
    "    df.drop(['exited'], axis=1),\n",
    "    df['exited'],\n",
    "    test_size=0.2,\n",
    "    random_state=12345\n",
    ")\n",
    "features_train, features_valid, target_train, target_valid = train_test_split(\n",
    "    features_train,\n",
    "    target_train,\n",
    "    test_size=0.25,\n",
    "    random_state=12345\n",
    ")\n",
    "\n",
    "#проведем масштабирование методом стандартизации данных\n",
    "scaler = StandardScaler()\n",
    "columns = ['creditscore','age', 'tenure', 'balance', 'numofproducts', 'hascrcard','isactivemember', 'estimatedsalary']\n",
    "scaler.fit(features_train[columns]) \n",
    "features_train[columns] = scaler.transform(features_train[columns])\n",
    "features_valid[columns] = scaler.transform(features_valid[columns])\n",
    "features_test[columns] = scaler.transform(features_test[columns])\n",
    "pd.options.mode.chained_assignment = None\n",
    "\n",
    "#функция для увеличения выборки ушедших клиентов\n",
    "def upsample(features, target, repeat):\n",
    "    features_zeros = features[target == 0]\n",
    "    features_ones = features[target == 1]\n",
    "    target_zeros = target[target == 0]\n",
    "    target_ones = target[target == 1]\n",
    "\n",
    "    features_big = pd.concat([features_zeros] + [features_ones] * repeat)\n",
    "    target_big = pd.concat([target_zeros] + [target_ones] * repeat)\n",
    "    \n",
    "    features_big, target_big = shuffle(\n",
    "        features_big, target_big, random_state=12345)\n",
    "    \n",
    "    return features_big, target_big\n",
    "\n",
    "features_big, target_big = upsample(features_train, target_train, 4)"
   ]
  },
  {
   "cell_type": "markdown",
   "id": "2e14c38d",
   "metadata": {},
   "source": [
    "Построим три вида моделей, где отдельно применим к каждой три вида изменения дисбаланса."
   ]
  },
  {
   "cell_type": "markdown",
   "id": "b7a8986a",
   "metadata": {},
   "source": [
    "**Логистическая модель:**"
   ]
  },
  {
   "cell_type": "code",
   "execution_count": 10,
   "id": "f782336c",
   "metadata": {},
   "outputs": [
    {
     "name": "stdout",
     "output_type": "stream",
     "text": [
      "F1 несбалансированное: 0.30131826741996237\n",
      "ROC-AUC несбалансированное: 0.7702739863205529\n",
      "F1 сбалансированное: 0.47457627118644063\n",
      "ROC-AUC сбалансированное: 0.7725819757470368\n",
      "Порог = 0.10 | F1 = 0.413, AUC-ROC = 0.65\n",
      "Порог = 0.12 | F1 = 0.429, AUC-ROC = 0.67\n",
      "Порог = 0.14 | F1 = 0.446, AUC-ROC = 0.69\n",
      "Порог = 0.16 | F1 = 0.462, AUC-ROC = 0.70\n",
      "Порог = 0.18 | F1 = 0.460, AUC-ROC = 0.69\n",
      "Порог = 0.20 | F1 = 0.466, AUC-ROC = 0.69\n",
      "Порог = 0.22 | F1 = 0.474, AUC-ROC = 0.69\n",
      "Порог = 0.24 | F1 = 0.477, AUC-ROC = 0.69\n",
      "Порог = 0.26 | F1 = 0.475, AUC-ROC = 0.68\n",
      "Порог = 0.28 | F1 = 0.479, AUC-ROC = 0.68\n",
      "Порог = 0.30 | F1 = 0.490, AUC-ROC = 0.69\n",
      "Порог = 0.32 | F1 = 0.494, AUC-ROC = 0.68\n",
      "Порог = 0.34 | F1 = 0.483, AUC-ROC = 0.68\n",
      "Порог = 0.36 | F1 = 0.471, AUC-ROC = 0.67\n",
      "Порог = 0.38 | F1 = 0.455, AUC-ROC = 0.66\n",
      "Порог = 0.40 | F1 = 0.436, AUC-ROC = 0.65\n",
      "Порог = 0.42 | F1 = 0.416, AUC-ROC = 0.63\n",
      "Порог = 0.44 | F1 = 0.379, AUC-ROC = 0.62\n",
      "Порог = 0.46 | F1 = 0.359, AUC-ROC = 0.61\n",
      "Порог = 0.48 | F1 = 0.329, AUC-ROC = 0.59\n",
      "F1 несбалансированное на расширенной выборке: 0.476693051890941\n",
      "ROC-AUC несбалансированное на расширенной выборке: 0.7725644909786544\n",
      "\n",
      "У логистической модели наибольшее значение F1 показала модель с подкруткой порога: 0.49417852522639066\n"
     ]
    }
   ],
   "source": [
    "#построим логистическую модель без учета балансировки\n",
    "model_log_1 = LogisticRegression(random_state=12345, solver='newton-cg')\n",
    "model_log_1.fit(features_train, target_train)\n",
    "predicted_log_1 = model_log_1.predict(features_valid)\n",
    "\n",
    "probabilities_valid_1 = model_log_1.predict_proba(features_valid)\n",
    "probabilities_one_valid_1 = probabilities_valid_1[:, 1]\n",
    "\n",
    "f1_log_1 = f1_score(target_valid, predicted_log_1)\n",
    "auc_roc_log_1 = roc_auc_score(target_valid,probabilities_one_valid_1)\n",
    "\n",
    "print(\"F1 несбалансированное:\", f1_log_1)\n",
    "print(\"ROC-AUC несбалансированное:\", auc_roc_log_1)\n",
    "\n",
    "#построим логистическую модель с учетом балансировки\n",
    "model_log_2 = LogisticRegression(random_state=12345, solver='newton-cg',class_weight='balanced')\n",
    "model_log_2.fit(features_big, target_big)\n",
    "predicted_log_2 = model_log_2.predict(features_valid)\n",
    "\n",
    "probabilities_valid_2 = model_log_2.predict_proba(features_valid)\n",
    "probabilities_one_valid_2 = probabilities_valid_2[:, 1]\n",
    "\n",
    "f1_log_2 = f1_score(target_valid, predicted_log_2)\n",
    "auc_roc_log_2 = roc_auc_score(target_valid,probabilities_one_valid_2)\n",
    "\n",
    "print(\"F1 сбалансированное:\", f1_log_2)\n",
    "print(\"ROC-AUC сбалансированное:\", auc_roc_log_2)\n",
    "\n",
    "#Найдем значения вероятностей классов для валидационной выборки\n",
    "probabilities_log_3 = model_log_1.predict_proba(features_valid)\n",
    "#Значения вероятностей класса «1» \n",
    "probabilities_one_log_3 = probabilities_log_3[:, 1]\n",
    "\n",
    "f1_3_log_list = []\n",
    "auc_roc_log_3_list = []\n",
    "for threshold in np.arange(0.1, 0.5, 0.02):\n",
    "    \n",
    "    predicted_log_3 = probabilities_one_log_3 > threshold \n",
    "    f1_log_3 = f1_score(target_valid,predicted_log_3)\n",
    "    auc_roc_3 = roc_auc_score(target_valid,predicted_log_3)\n",
    "    f1_3_log_list.append(f1_log_3)\n",
    "    auc_roc_log_3_list.append(auc_roc_3)\n",
    "    \n",
    "    print(\"Порог = {:.2f} | F1 = {:.3f}, AUC-ROC = {:.2f}\".format(\n",
    "        threshold, f1_log_3,auc_roc_3))\n",
    "\n",
    "#построим логистическую модель обученную на расширенной выборке\n",
    "model_log_4 = LogisticRegression(random_state=12345, solver='newton-cg')\n",
    "model_log_4.fit(features_big, target_big)\n",
    "predicted_log_4 = model_log_4.predict(features_valid)\n",
    "    \n",
    "probabilities_valid_4 = model_log_4.predict_proba(features_valid)\n",
    "probabilities_one_valid_4 = probabilities_valid_4[:, 1]\n",
    "\n",
    "f1_log_4 = f1_score(target_valid, predicted_log_4)\n",
    "auc_roc_log_4 = roc_auc_score(target_valid,probabilities_one_valid_4)\n",
    "\n",
    "print(\"F1 несбалансированное на расширенной выборке:\", f1_log_4) \n",
    "print(\"ROC-AUC несбалансированное на расширенной выборке:\", auc_roc_log_4)\n",
    "\n",
    "#соберем список f1 и AUC-ROC\n",
    "f1_log_list = [f1_log_1,f1_log_2,max(f1_3_log_list),f1_log_4]\n",
    "auc_roc_log_list = [auc_roc_log_1,auc_roc_log_2,max(auc_roc_log_3_list),auc_roc_log_4]\n",
    "\n",
    "print()\n",
    "print('У логистической модели наибольшее значение F1 показала модель с подкруткой порога:',max(f1_log_list))"
   ]
  },
  {
   "cell_type": "markdown",
   "id": "b9405e1d",
   "metadata": {},
   "source": [
    "**Модель дерева решений:**"
   ]
  },
  {
   "cell_type": "code",
   "execution_count": 11,
   "id": "dd169954",
   "metadata": {},
   "outputs": [
    {
     "name": "stderr",
     "output_type": "stream",
     "text": [
      "100%|██████████| 10/10 [00:03<00:00,  3.12it/s]\n"
     ]
    },
    {
     "name": "stdout",
     "output_type": "stream",
     "text": [
      " Наилучшее значение f1 небалансированного дерева получается при глубине 7, f1 = 0.5342019543973942, AUC-ROC = 0.8206809840427647\n"
     ]
    },
    {
     "name": "stderr",
     "output_type": "stream",
     "text": [
      "100%|██████████| 10/10 [00:03<00:00,  2.88it/s]\n"
     ]
    },
    {
     "name": "stdout",
     "output_type": "stream",
     "text": [
      " Наилучшее значение f1 сбалансированного дает дерево при глубине 8, f1 = 0.5540106951871657, AUC-ROC = 0.8030126255922965\n",
      "Порог = 0.40 | F1 = 0.570, AUC-ROC = 0.73\n",
      "Порог = 0.42 | F1 = 0.570, AUC-ROC = 0.73\n",
      "Порог = 0.44 | F1 = 0.550, AUC-ROC = 0.70\n",
      "Порог = 0.46 | F1 = 0.550, AUC-ROC = 0.70\n",
      "Порог = 0.48 | F1 = 0.550, AUC-ROC = 0.70\n",
      "Порог = 0.50 | F1 = 0.534, AUC-ROC = 0.69\n",
      "Порог = 0.52 | F1 = 0.534, AUC-ROC = 0.69\n",
      "Порог = 0.54 | F1 = 0.534, AUC-ROC = 0.69\n",
      "Порог = 0.56 | F1 = 0.492, AUC-ROC = 0.67\n",
      "Порог = 0.58 | F1 = 0.492, AUC-ROC = 0.67\n"
     ]
    },
    {
     "name": "stderr",
     "output_type": "stream",
     "text": [
      "100%|██████████| 10/10 [00:03<00:00,  2.60it/s]"
     ]
    },
    {
     "name": "stdout",
     "output_type": "stream",
     "text": [
      " Наилучшее значение f1 на расширенной выборке дает дерево при глубине 7, f1 = 0.5545893719806764,AUC-ROC = 0.8198043613370444\n",
      "\n",
      "У модели дерева решений наибольшее значение F1 показала модель с подкруткой порога: 0.5695364238410596\n"
     ]
    },
    {
     "name": "stderr",
     "output_type": "stream",
     "text": [
      "\n"
     ]
    }
   ],
   "source": [
    "#модель без изменения дисбаланса данных\n",
    "f1_dtc_1 = 0\n",
    "model_dtc_1 = None\n",
    "depth_dtc_1 = 0\n",
    "for est in tqdm(range(1, 11)):\n",
    "    for depth in range(1,16):\n",
    "        model = DecisionTreeClassifier(random_state=12345,criterion='entropy', max_depth=depth)\n",
    "        model.fit(features_train, target_train)\n",
    "        predicted_valid = model.predict(features_valid)\n",
    "        f1 = f1_score(target_valid, predicted_valid)\n",
    "        if f1 > f1_dtc_1:\n",
    "            f1_dtc_1 = f1\n",
    "            model_dtc_1 = model\n",
    "            depth_dtc_1 = depth\n",
    "probabilities_dtc_1 = model_dtc_1.predict_proba(features_valid)\n",
    "probabilities_one_dtc_1 = probabilities_dtc_1[:, 1]\n",
    "auc_roc_dtc_1 = roc_auc_score(target_valid,probabilities_one_dtc_1)\n",
    "print(f' Наилучшее значение f1 небалансированного дерева получается при глубине {depth_dtc_1}, f1 = {f1_dtc_1}, AUC-ROC = {auc_roc_dtc_1}')\n",
    "\n",
    "#модель дерева с учетом балансировки\n",
    "f1_dtc_2 = 0\n",
    "model_dtc_2 = None\n",
    "depth_dtc_2 = 0\n",
    "for est in tqdm(range(1, 11)):\n",
    "    for depth in range(1,16):\n",
    "        model = DecisionTreeClassifier(random_state=12345,criterion='entropy', max_depth=depth, class_weight='balanced')\n",
    "        model.fit(features_train, target_train)\n",
    "        predicted_valid = model.predict(features_valid)\n",
    "        f1 = f1_score(target_valid, predicted_valid)\n",
    "        if f1 > f1_dtc_2:\n",
    "            f1_dtc_2 = f1\n",
    "            model_dtc_2 = model\n",
    "            depth_dtc_2 = depth\n",
    "probabilities_dtc_2 = model_dtc_2.predict_proba(features_valid)\n",
    "probabilities_one_dtc_2 = probabilities_dtc_2[:, 1]\n",
    "auc_roc_dtc_2 = roc_auc_score(target_valid,probabilities_one_dtc_2)\n",
    "print(f' Наилучшее значение f1 сбалансированного дает дерево при глубине {depth_dtc_2}, f1 = {f1_dtc_2}, AUC-ROC = {auc_roc_dtc_2}')\n",
    "\n",
    "#Найдем значения вероятностей классов для валидационной выборки\n",
    "probabilities_dtc_3 = model_dtc_1.predict_proba(features_valid)\n",
    "#Значения вероятностей класса «1» \n",
    "probabilities_one_dtc_3 = probabilities_dtc_3[:, 1]\n",
    "\n",
    "f1_3_dtc_list=[]\n",
    "auc_roc_dtc_3_list = []\n",
    "for threshold in np.arange(0.4, 0.6, 0.02):\n",
    "    predicted_dtc_3 = probabilities_one_dtc_3 > threshold \n",
    "    f1_dtc_3 = f1_score(target_valid,predicted_dtc_3)\n",
    "    auc_roc_dtc_3 = roc_auc_score(target_valid,predicted_dtc_3)\n",
    "    f1_3_dtc_list.append(f1_dtc_3)\n",
    "    auc_roc_dtc_3_list.append(auc_roc_dtc_3)\n",
    "    print(\"Порог = {:.2f} | F1 = {:.3f}, AUC-ROC = {:.2f}\".format(\n",
    "        threshold, f1_dtc_3,auc_roc_dtc_3))\n",
    "    \n",
    "#модель дерева обученная на расширенной выборке\n",
    "f1_dtc_4 = 0\n",
    "model_dtc_4 = None\n",
    "depth_dtc_4 = 0\n",
    "for est in tqdm(range(1, 11)):\n",
    "    for depth in range(1,16):\n",
    "        model = DecisionTreeClassifier(random_state=12345,criterion='entropy', max_depth=depth)\n",
    "        model.fit(features_big, target_big)\n",
    "        predicted_valid = model.predict(features_valid)\n",
    "        f1 = f1_score(target_valid, predicted_valid)\n",
    "        if f1 > f1_dtc_4:\n",
    "            f1_dtc_4 = f1\n",
    "            model_dtc_4 = model\n",
    "            depth_dtc_4 = depth\n",
    "probabilities_dtc_4 = model_dtc_4.predict_proba(features_valid)\n",
    "probabilities_one_dtc_4 = probabilities_dtc_4[:, 1]\n",
    "auc_roc_dtc_4 = roc_auc_score(target_valid,probabilities_one_dtc_4)\n",
    "print(f' Наилучшее значение f1 на расширенной выборке дает дерево при глубине {depth_dtc_4}, f1 = {f1_dtc_4},AUC-ROC = {auc_roc_dtc_4}')\n",
    "\n",
    "#соберем список f1 и AUC-ROC\n",
    "f1_dtc_list = [f1_dtc_1,f1_dtc_2,max(f1_3_dtc_list),f1_dtc_4]\n",
    "auc_roc_dtc_list = [auc_roc_dtc_1,auc_roc_dtc_2,max(auc_roc_dtc_3_list),auc_roc_dtc_4]\n",
    "print()\n",
    "print('У модели дерева решений наибольшее значение F1 показала модель с подкруткой порога:',max(f1_dtc_list))\n"
   ]
  },
  {
   "cell_type": "markdown",
   "id": "28a9aeac",
   "metadata": {},
   "source": [
    "**Модель случайного леса:**"
   ]
  },
  {
   "cell_type": "code",
   "execution_count": 12,
   "id": "3c983c96",
   "metadata": {},
   "outputs": [
    {
     "name": "stdout",
     "output_type": "stream",
     "text": [
      "Несбалансированная модель случайного леса имеет глубину 14 и количество деревьев 40, значение F1 равно 0.5678233438485804,AUC-ROC = 0.8206809840427647\n",
      "Cбалансированная модель случайного леса имеет глубину 8 и количество деревьев 40, значение F1 равно 0.5914844649021864,AUC-ROC = 0.8030126255922965\n",
      "Порог = 0.30 | F1 = 0.586, AUC-ROC = 0.75\n",
      "Порог = 0.32 | F1 = 0.597, AUC-ROC = 0.75\n",
      "Порог = 0.34 | F1 = 0.589, AUC-ROC = 0.75\n",
      "Порог = 0.36 | F1 = 0.589, AUC-ROC = 0.74\n",
      "Порог = 0.38 | F1 = 0.600, AUC-ROC = 0.74\n",
      "Порог = 0.40 | F1 = 0.606, AUC-ROC = 0.74\n",
      "Порог = 0.42 | F1 = 0.594, AUC-ROC = 0.73\n",
      "Порог = 0.44 | F1 = 0.590, AUC-ROC = 0.73\n",
      "Несбалансированная модель случайного леса на расширенной выборке имеет глубину 10 и количество деревьев 70, значение F1 равно 0.5984251968503937,AUC-ROC = 0.8198043613370444\n",
      "\n",
      "У модели случайного леса наибольшее значение F1 показала модель с подкруткой порога: 0.6061452513966481\n"
     ]
    }
   ],
   "source": [
    "#несбалансированная модель случайного леса\n",
    "model_rfc_1 = None\n",
    "f1_rfc_1 = 0\n",
    "depth_rfc_1 = 0\n",
    "est_rfc_1 = 0\n",
    "for est in range(40, 71, 10):\n",
    "    for depth in range (8, 16):\n",
    "        model = RandomForestClassifier(random_state=12345, n_estimators=est,max_depth=depth)\n",
    "        model.fit(features_train, target_train) \n",
    "        predicted_rfc = model.predict(features_valid)\n",
    "        result = f1_score(target_valid, predicted_rfc)\n",
    "        if result > f1_rfc_1:\n",
    "            model_rfc_1 = model\n",
    "            f1_rfc_1 = result\n",
    "            depth_rfc_1 = est\n",
    "            est_rfc_1 = depth\n",
    "probabilities_rfc_1 = model_rfc_1.predict_proba(features_valid)\n",
    "probabilities_one_rfc_1 = probabilities_rfc_1[:, 1]\n",
    "auc_roc_rfc_1 = roc_auc_score(target_valid,probabilities_one_rfc_1)\n",
    "print(f'Несбалансированная модель случайного леса имеет глубину {est_rfc_1} и количество деревьев {depth_rfc_1}, значение F1 равно {f1_rfc_1},AUC-ROC = {auc_roc_dtc_1}')\n",
    "\n",
    "#Сбалансированная модель случайного леса\n",
    "model_rfc_2 = None\n",
    "f1_rfc_2 = 0\n",
    "depth_rfc_2 = 0\n",
    "est_rfc_2 = 0\n",
    "for est in range(40, 71, 10):\n",
    "    for depth in range (8, 16):\n",
    "        model = RandomForestClassifier(random_state=12345, n_estimators=est,max_depth=depth,class_weight='balanced')\n",
    "        model.fit(features_train, target_train) \n",
    "        predicted_rfc = model.predict(features_valid)\n",
    "        result = f1_score(target_valid, predicted_rfc)\n",
    "        if result > f1_rfc_2:\n",
    "            model_rfc_2 = model\n",
    "            f1_rfc_2 = result\n",
    "            depth_rfc_2 = est\n",
    "            est_rfc_2 = depth\n",
    "probabilities_rfc_2 = model_rfc_2.predict_proba(features_valid)\n",
    "probabilities_one_rfc_2 = probabilities_rfc_2[:, 1]\n",
    "auc_roc_rfc_2 = roc_auc_score(target_valid,probabilities_one_rfc_2)\n",
    "print(f'Cбалансированная модель случайного леса имеет глубину {est_rfc_2} и количество деревьев {depth_rfc_2}, значение F1 равно {f1_rfc_2},AUC-ROC = {auc_roc_dtc_2}')\n",
    "\n",
    "#Найдем значения вероятностей классов для валидационной выборки\n",
    "probabilities_rfc_3 = model_rfc_1.predict_proba(features_valid)\n",
    "#Значения вероятностей класса «1» \n",
    "probabilities_one_rfc_3 = probabilities_rfc_3[:, 1]\n",
    "f1_3_rfc_list=[]\n",
    "auc_roc_rfc_3_list = []\n",
    "for threshold in np.arange(0.3, 0.44, 0.02):\n",
    "    predicted_rfc_3 = probabilities_one_rfc_3 > threshold \n",
    "    f1_rfc_3 = f1_score(target_valid,predicted_rfc_3)\n",
    "    auc_roc_rfc_3 = roc_auc_score(target_valid,predicted_rfc_3)\n",
    "    f1_3_rfc_list.append(f1_rfc_3)\n",
    "    auc_roc_rfc_3_list.append(auc_roc_rfc_3)\n",
    "    print(\"Порог = {:.2f} | F1 = {:.3f}, AUC-ROC = {:.2f}\".format(\n",
    "        threshold, f1_rfc_3,auc_roc_rfc_3))\n",
    "best_threshold = 0.4\n",
    "\n",
    "#модель случайного леса обученная на расширенной выборке\n",
    "model_rfc_4 = None\n",
    "f1_rfc_4 = 0\n",
    "depth_rfc_4 = 0\n",
    "est_rfc_4 = 0\n",
    "for est in range(70, 91, 10):\n",
    "    for depth in range (8, 16):\n",
    "        model = RandomForestClassifier(random_state=12345, n_estimators=est,max_depth=depth)\n",
    "        model.fit(features_big, target_big) \n",
    "        predicted_rfc = model.predict(features_valid)\n",
    "        result = f1_score(target_valid, predicted_rfc)\n",
    "        if result > f1_rfc_4:\n",
    "            model_rfc_4 = model\n",
    "            f1_rfc_4 = result\n",
    "            depth_rfc_4 = est\n",
    "            est_rfc_4 = depth\n",
    "probabilities_rfc_4 = model_rfc_4.predict_proba(features_valid)\n",
    "probabilities_one_rfc_4 = probabilities_rfc_4[:, 1]\n",
    "auc_roc_rfc_4 = roc_auc_score(target_valid,probabilities_one_rfc_4)\n",
    "print(f'Несбалансированная модель случайного леса на расширенной выборке имеет глубину {est_rfc_4} и количество деревьев {depth_rfc_4}, значение F1 равно {f1_rfc_4},AUC-ROC = {auc_roc_dtc_4}')\n",
    "\n",
    "\n",
    "#соберем список f1 и AUC-ROC\n",
    "f1_rfc_list = [f1_rfc_1,f1_rfc_2,max(f1_3_rfc_list),f1_rfc_4]\n",
    "auc_roc_rfc_list = [auc_roc_rfc_1,auc_roc_rfc_2,max(auc_roc_rfc_3_list),auc_roc_rfc_4]\n",
    "print()\n",
    "print('У модели случайного леса наибольшее значение F1 показала модель с подкруткой порога:',max(f1_rfc_list))"
   ]
  },
  {
   "cell_type": "markdown",
   "id": "c5326f75",
   "metadata": {},
   "source": [
    "# 3 Тестирование решения. Вывод"
   ]
  },
  {
   "cell_type": "markdown",
   "id": "17f542ea",
   "metadata": {},
   "source": [
    "Соберем данные в таблицу"
   ]
  },
  {
   "cell_type": "code",
   "execution_count": 13,
   "id": "460ca2f3",
   "metadata": {},
   "outputs": [
    {
     "data": {
      "text/html": [
       "<div>\n",
       "<style scoped>\n",
       "    .dataframe tbody tr th:only-of-type {\n",
       "        vertical-align: middle;\n",
       "    }\n",
       "\n",
       "    .dataframe tbody tr th {\n",
       "        vertical-align: top;\n",
       "    }\n",
       "\n",
       "    .dataframe thead th {\n",
       "        text-align: right;\n",
       "    }\n",
       "</style>\n",
       "<table border=\"1\" class=\"dataframe\">\n",
       "  <thead>\n",
       "    <tr style=\"text-align: right;\">\n",
       "      <th></th>\n",
       "      <th>Модель</th>\n",
       "      <th>F1</th>\n",
       "      <th>AUC-ROC</th>\n",
       "    </tr>\n",
       "  </thead>\n",
       "  <tbody>\n",
       "    <tr>\n",
       "      <th>0</th>\n",
       "      <td>Логистическая модель 1</td>\n",
       "      <td>0.301318</td>\n",
       "      <td>0.770274</td>\n",
       "    </tr>\n",
       "    <tr>\n",
       "      <th>1</th>\n",
       "      <td>Логистическая модель 2</td>\n",
       "      <td>0.474576</td>\n",
       "      <td>0.772582</td>\n",
       "    </tr>\n",
       "    <tr>\n",
       "      <th>2</th>\n",
       "      <td>Логистическая модель 3</td>\n",
       "      <td>0.494179</td>\n",
       "      <td>0.697227</td>\n",
       "    </tr>\n",
       "    <tr>\n",
       "      <th>3</th>\n",
       "      <td>Логистическая модель 4</td>\n",
       "      <td>0.476693</td>\n",
       "      <td>0.772564</td>\n",
       "    </tr>\n",
       "    <tr>\n",
       "      <th>4</th>\n",
       "      <td>Модель дерева решений 1</td>\n",
       "      <td>0.534202</td>\n",
       "      <td>0.820681</td>\n",
       "    </tr>\n",
       "    <tr>\n",
       "      <th>5</th>\n",
       "      <td>Модель дерева решений 2</td>\n",
       "      <td>0.554011</td>\n",
       "      <td>0.803013</td>\n",
       "    </tr>\n",
       "    <tr>\n",
       "      <th>6</th>\n",
       "      <td>Модель дерева решений 3</td>\n",
       "      <td>0.569536</td>\n",
       "      <td>0.728634</td>\n",
       "    </tr>\n",
       "    <tr>\n",
       "      <th>7</th>\n",
       "      <td>Модель дерева решений 4</td>\n",
       "      <td>0.554589</td>\n",
       "      <td>0.819804</td>\n",
       "    </tr>\n",
       "    <tr>\n",
       "      <th>8</th>\n",
       "      <td>Модель случайного леса 1</td>\n",
       "      <td>0.567823</td>\n",
       "      <td>0.832996</td>\n",
       "    </tr>\n",
       "    <tr>\n",
       "      <th>9</th>\n",
       "      <td>Модель случайного леса 2</td>\n",
       "      <td>0.591484</td>\n",
       "      <td>0.852498</td>\n",
       "    </tr>\n",
       "    <tr>\n",
       "      <th>10</th>\n",
       "      <td>Модель случайного леса 3</td>\n",
       "      <td>0.606145</td>\n",
       "      <td>0.754149</td>\n",
       "    </tr>\n",
       "    <tr>\n",
       "      <th>11</th>\n",
       "      <td>Модель случайного леса 4</td>\n",
       "      <td>0.598425</td>\n",
       "      <td>0.852556</td>\n",
       "    </tr>\n",
       "  </tbody>\n",
       "</table>\n",
       "</div>"
      ],
      "text/plain": [
       "                      Модель        F1   AUC-ROC\n",
       "0     Логистическая модель 1  0.301318  0.770274\n",
       "1     Логистическая модель 2  0.474576  0.772582\n",
       "2     Логистическая модель 3  0.494179  0.697227\n",
       "3     Логистическая модель 4  0.476693  0.772564\n",
       "4    Модель дерева решений 1  0.534202  0.820681\n",
       "5    Модель дерева решений 2  0.554011  0.803013\n",
       "6    Модель дерева решений 3  0.569536  0.728634\n",
       "7    Модель дерева решений 4  0.554589  0.819804\n",
       "8   Модель случайного леса 1  0.567823  0.832996\n",
       "9   Модель случайного леса 2  0.591484  0.852498\n",
       "10  Модель случайного леса 3  0.606145  0.754149\n",
       "11  Модель случайного леса 4  0.598425  0.852556"
      ]
     },
     "metadata": {},
     "output_type": "display_data"
    }
   ],
   "source": [
    "table = {'Модель': ['Логистическая модель 1','Логистическая модель 2','Логистическая модель 3', 'Логистическая модель 4',\n",
    "          'Модель дерева решений 1','Модель дерева решений 2','Модель дерева решений 3','Модель дерева решений 4',\n",
    "         'Модель случайного леса 1','Модель случайного леса 2', 'Модель случайного леса 3', 'Модель случайного леса 4'],\n",
    "        'F1':[f1_log_1,f1_log_2,max(f1_3_log_list),f1_log_4,f1_dtc_1,f1_dtc_2,max(f1_3_dtc_list),f1_dtc_4,f1_rfc_1,f1_rfc_2,max(f1_3_rfc_list),f1_rfc_4],\n",
    "        'AUC-ROC':[auc_roc_log_1,auc_roc_log_2,max(auc_roc_log_3_list),auc_roc_log_4,auc_roc_dtc_1,auc_roc_dtc_2,max(auc_roc_dtc_3_list),auc_roc_dtc_4,auc_roc_rfc_1,auc_roc_rfc_2,max(auc_roc_rfc_3_list),auc_roc_rfc_4]}\n",
    "\n",
    "table = pd.DataFrame(table)\n",
    "\n",
    "display(table)"
   ]
  },
  {
   "cell_type": "markdown",
   "id": "d34470a2",
   "metadata": {},
   "source": [
    "Наибольшее значение F1 показывает модель случайного леса. Второй, третий и четвертый варианты модели были очень близки по значению f1, поэтому сравним все три варианта."
   ]
  },
  {
   "cell_type": "code",
   "execution_count": 14,
   "id": "0416ea8f",
   "metadata": {},
   "outputs": [
    {
     "name": "stdout",
     "output_type": "stream",
     "text": [
      "Модель случайного леса 2 на тестовых данных имеет значение F1:0.65, AUC-ROC:0.79\n",
      "Модель случайного леса 4 на тестовых данных имеет значение F1:0.62, AUC-ROC:0.86 \n",
      "Модель случайного леса 4 на тестовых данных имеет значение F1:0.64, AUC-ROC:0.86 \n"
     ]
    }
   ],
   "source": [
    "#тест Модели дерева решений 2 - сбалансированные данные \n",
    "pred_test_2 = model_rfc_2.predict(features_test)\n",
    "f1_test_2 = f1_score(target_test, pred_test_2)\n",
    "auc_roc_test_2 = roc_auc_score(target_test, pred_test_2)\n",
    "\n",
    "#тест Модели дерева решений 3 - подкручивание порога\n",
    "pred_test_3 = model_rfc_1.predict_proba(features_test)[:, 1]\n",
    "predictions_3 = pred_test_3 > best_threshold\n",
    "f1_test_3 = f1_score(target_test, predictions_3)\n",
    "auc_roc_test_3 = roc_auc_score(target_test, pred_test_3)\n",
    "\n",
    "#тест Модели дерева решений 4 - обучение на расширенной выборке\n",
    "pred_test_4 = model_rfc_4.predict(features_test)\n",
    "f1_test_4 = f1_score(target_test, pred_test_4)\n",
    "auc_roc_test_4 = roc_auc_score(target_test, pred_test_3)\n",
    "\n",
    "print(f'Модель случайного леса 2 на тестовых данных имеет значение F1:{f1_test_2:.2}, AUC-ROC:{auc_roc_test_2:.2}')\n",
    "print(f'Модель случайного леса 4 на тестовых данных имеет значение F1:{f1_test_3:.2}, AUC-ROC:{auc_roc_test_3:.2} ')\n",
    "print(f'Модель случайного леса 4 на тестовых данных имеет значение F1:{f1_test_4:.2}, AUC-ROC:{auc_roc_test_4:.2} ')"
   ]
  },
  {
   "cell_type": "markdown",
   "id": "cafd9f1b",
   "metadata": {},
   "source": [
    "Общий вывод:\n",
    "- Построено три вида моделей четырься различными подходами: без учета дисбаланса классов, с балансировкой, с расширением выборки и с подкруткой порога.\n",
    "- Из 12 моделей были выбраны 2 модели случайного леса: с балансировкой и с расширением выборки\n",
    "- Наилучший результат показала модель случайного леса 2, со сбалансированными данными выборки."
   ]
  }
 ],
 "metadata": {
  "ExecuteTimeLog": [
   {
    "duration": 1256,
    "start_time": "2022-07-10T20:38:46.656Z"
   },
   {
    "duration": 117,
    "start_time": "2022-07-10T20:38:47.914Z"
   },
   {
    "duration": 4,
    "start_time": "2022-07-10T20:38:48.033Z"
   },
   {
    "duration": 7,
    "start_time": "2022-07-10T20:38:48.038Z"
   },
   {
    "duration": 13,
    "start_time": "2022-07-10T20:38:48.047Z"
   },
   {
    "duration": 4,
    "start_time": "2022-07-10T20:38:48.062Z"
   },
   {
    "duration": 21,
    "start_time": "2022-07-10T20:38:48.068Z"
   },
   {
    "duration": 147,
    "start_time": "2022-07-10T20:38:48.091Z"
   },
   {
    "duration": 0,
    "start_time": "2022-07-10T20:38:48.240Z"
   },
   {
    "duration": 0,
    "start_time": "2022-07-10T20:38:48.241Z"
   },
   {
    "duration": 0,
    "start_time": "2022-07-10T20:38:48.243Z"
   },
   {
    "duration": 0,
    "start_time": "2022-07-10T20:38:48.244Z"
   },
   {
    "duration": 0,
    "start_time": "2022-07-10T20:38:48.245Z"
   },
   {
    "duration": 63,
    "start_time": "2022-07-11T07:09:28.399Z"
   },
   {
    "duration": 1229,
    "start_time": "2022-07-11T07:09:34.172Z"
   },
   {
    "duration": 119,
    "start_time": "2022-07-11T07:09:35.403Z"
   },
   {
    "duration": 5,
    "start_time": "2022-07-11T07:09:36.873Z"
   },
   {
    "duration": 5,
    "start_time": "2022-07-11T07:09:38.085Z"
   },
   {
    "duration": 11,
    "start_time": "2022-07-11T07:09:38.985Z"
   },
   {
    "duration": 4,
    "start_time": "2022-07-11T07:09:39.929Z"
   },
   {
    "duration": 24,
    "start_time": "2022-07-11T07:09:42.142Z"
   },
   {
    "duration": 94,
    "start_time": "2022-07-11T07:09:44.898Z"
   },
   {
    "duration": 40,
    "start_time": "2022-07-11T07:10:57.746Z"
   },
   {
    "duration": 37,
    "start_time": "2022-07-11T07:11:17.955Z"
   },
   {
    "duration": 45,
    "start_time": "2022-07-11T07:11:33.127Z"
   },
   {
    "duration": 96927,
    "start_time": "2022-07-11T07:12:08.619Z"
   },
   {
    "duration": 54,
    "start_time": "2022-07-11T18:53:57.663Z"
   },
   {
    "duration": 1154,
    "start_time": "2022-07-11T18:54:02.104Z"
   },
   {
    "duration": 126,
    "start_time": "2022-07-11T18:54:03.260Z"
   },
   {
    "duration": 4,
    "start_time": "2022-07-11T18:54:06.213Z"
   },
   {
    "duration": 69,
    "start_time": "2022-07-11T18:54:07.674Z"
   },
   {
    "duration": 49,
    "start_time": "2022-07-11T18:55:00.263Z"
   },
   {
    "duration": 17,
    "start_time": "2022-07-11T18:55:10.097Z"
   },
   {
    "duration": 5,
    "start_time": "2022-07-11T18:55:20.954Z"
   },
   {
    "duration": 4,
    "start_time": "2022-07-11T19:00:53.583Z"
   },
   {
    "duration": 4,
    "start_time": "2022-07-11T19:02:08.392Z"
   },
   {
    "duration": 12,
    "start_time": "2022-07-11T19:10:52.087Z"
   },
   {
    "duration": 5,
    "start_time": "2022-07-11T19:10:53.213Z"
   },
   {
    "duration": 25,
    "start_time": "2022-07-11T19:10:55.116Z"
   },
   {
    "duration": 15,
    "start_time": "2022-07-11T19:11:16.973Z"
   },
   {
    "duration": 3,
    "start_time": "2022-07-11T19:29:11.755Z"
   },
   {
    "duration": 94,
    "start_time": "2022-07-11T19:29:12.456Z"
   },
   {
    "duration": 5,
    "start_time": "2022-07-11T19:29:13.354Z"
   },
   {
    "duration": 6,
    "start_time": "2022-07-11T19:29:14.250Z"
   },
   {
    "duration": 5,
    "start_time": "2022-07-11T19:29:14.653Z"
   },
   {
    "duration": 12,
    "start_time": "2022-07-11T19:29:15.255Z"
   },
   {
    "duration": 7,
    "start_time": "2022-07-11T19:29:16.162Z"
   },
   {
    "duration": 27,
    "start_time": "2022-07-11T19:29:17.350Z"
   },
   {
    "duration": 11,
    "start_time": "2022-07-11T20:55:17.463Z"
   },
   {
    "duration": 961,
    "start_time": "2022-07-11T20:57:46.043Z"
   },
   {
    "duration": 1010,
    "start_time": "2022-07-11T20:58:14.109Z"
   },
   {
    "duration": 5579,
    "start_time": "2022-07-11T20:58:17.625Z"
   },
   {
    "duration": 19582,
    "start_time": "2022-07-11T20:58:26.318Z"
   },
   {
    "duration": 25947,
    "start_time": "2022-07-11T21:00:03.467Z"
   },
   {
    "duration": 5886,
    "start_time": "2022-07-11T21:00:29.501Z"
   },
   {
    "duration": 19610,
    "start_time": "2022-07-11T21:00:35.389Z"
   },
   {
    "duration": 215,
    "start_time": "2022-07-11T21:00:55.002Z"
   },
   {
    "duration": 18,
    "start_time": "2022-07-11T21:00:55.221Z"
   },
   {
    "duration": 0,
    "start_time": "2022-07-11T21:00:55.242Z"
   },
   {
    "duration": 20,
    "start_time": "2022-07-11T21:01:04.739Z"
   },
   {
    "duration": 772,
    "start_time": "2022-07-11T21:01:54.145Z"
   },
   {
    "duration": 52203,
    "start_time": "2022-07-11T21:04:34.913Z"
   },
   {
    "duration": 18928,
    "start_time": "2022-07-11T21:19:06.778Z"
   },
   {
    "duration": 22710,
    "start_time": "2022-07-11T21:24:35.692Z"
   },
   {
    "duration": 25282,
    "start_time": "2022-07-11T21:25:20.419Z"
   },
   {
    "duration": 6855,
    "start_time": "2022-07-11T21:36:12.950Z"
   },
   {
    "duration": 6775,
    "start_time": "2022-07-11T21:36:47.527Z"
   },
   {
    "duration": 6654,
    "start_time": "2022-07-11T21:37:40.272Z"
   },
   {
    "duration": 10908,
    "start_time": "2022-07-11T21:38:27.000Z"
   },
   {
    "duration": 10966,
    "start_time": "2022-07-11T21:39:45.000Z"
   },
   {
    "duration": 19863,
    "start_time": "2022-07-11T22:08:44.958Z"
   },
   {
    "duration": 33510,
    "start_time": "2022-07-11T22:09:46.179Z"
   },
   {
    "duration": 45398,
    "start_time": "2022-07-11T22:11:43.068Z"
   },
   {
    "duration": 46796,
    "start_time": "2022-07-11T22:13:41.728Z"
   },
   {
    "duration": 33956,
    "start_time": "2022-07-11T22:15:12.901Z"
   },
   {
    "duration": 87,
    "start_time": "2022-07-11T22:19:31.658Z"
   },
   {
    "duration": 62,
    "start_time": "2022-07-11T22:21:33.345Z"
   },
   {
    "duration": 334,
    "start_time": "2022-07-11T22:21:38.722Z"
   },
   {
    "duration": 369,
    "start_time": "2022-07-11T22:22:08.732Z"
   },
   {
    "duration": 10,
    "start_time": "2022-07-11T22:22:56.016Z"
   },
   {
    "duration": 11,
    "start_time": "2022-07-11T22:23:14.883Z"
   },
   {
    "duration": 14,
    "start_time": "2022-07-11T22:23:17.988Z"
   },
   {
    "duration": 14,
    "start_time": "2022-07-11T22:23:36.795Z"
   },
   {
    "duration": 14,
    "start_time": "2022-07-11T22:23:44.180Z"
   },
   {
    "duration": 10,
    "start_time": "2022-07-11T22:23:56.308Z"
   },
   {
    "duration": 3,
    "start_time": "2022-07-11T22:24:42.823Z"
   },
   {
    "duration": 1149,
    "start_time": "2022-07-12T16:22:25.005Z"
   },
   {
    "duration": 133,
    "start_time": "2022-07-12T16:22:26.157Z"
   },
   {
    "duration": 4,
    "start_time": "2022-07-12T16:22:26.292Z"
   },
   {
    "duration": 7,
    "start_time": "2022-07-12T16:22:26.298Z"
   },
   {
    "duration": 5,
    "start_time": "2022-07-12T16:22:26.307Z"
   },
   {
    "duration": 12,
    "start_time": "2022-07-12T16:22:26.313Z"
   },
   {
    "duration": 8,
    "start_time": "2022-07-12T16:22:26.348Z"
   },
   {
    "duration": 21,
    "start_time": "2022-07-12T16:22:26.360Z"
   },
   {
    "duration": 38584,
    "start_time": "2022-07-12T16:22:26.382Z"
   },
   {
    "duration": 64402,
    "start_time": "2022-07-12T16:23:05.048Z"
   },
   {
    "duration": 11377,
    "start_time": "2022-07-12T16:24:09.453Z"
   },
   {
    "duration": 36735,
    "start_time": "2022-07-12T16:24:20.832Z"
   },
   {
    "duration": 85,
    "start_time": "2022-07-12T16:24:57.568Z"
   },
   {
    "duration": 3,
    "start_time": "2022-07-12T16:24:57.657Z"
   },
   {
    "duration": 1226,
    "start_time": "2022-07-12T17:50:26.170Z"
   },
   {
    "duration": 258,
    "start_time": "2022-07-12T17:50:27.398Z"
   },
   {
    "duration": 6,
    "start_time": "2022-07-12T17:50:28.357Z"
   },
   {
    "duration": 6,
    "start_time": "2022-07-12T17:50:29.290Z"
   },
   {
    "duration": 4,
    "start_time": "2022-07-12T17:50:29.912Z"
   },
   {
    "duration": 200,
    "start_time": "2022-07-12T18:50:21.814Z"
   },
   {
    "duration": 22,
    "start_time": "2022-07-12T18:50:36.016Z"
   },
   {
    "duration": 6,
    "start_time": "2022-07-12T18:50:37.083Z"
   },
   {
    "duration": 22,
    "start_time": "2022-07-12T18:50:38.036Z"
   },
   {
    "duration": 78,
    "start_time": "2022-07-12T18:50:41.077Z"
   },
   {
    "duration": 53,
    "start_time": "2022-07-12T18:54:07.371Z"
   },
   {
    "duration": 34,
    "start_time": "2022-07-12T18:54:37.327Z"
   },
   {
    "duration": 56,
    "start_time": "2022-07-12T18:54:58.288Z"
   },
   {
    "duration": 64,
    "start_time": "2022-07-12T18:56:27.983Z"
   },
   {
    "duration": 58,
    "start_time": "2022-07-12T18:57:36.226Z"
   },
   {
    "duration": 6488,
    "start_time": "2022-07-12T18:58:39.511Z"
   },
   {
    "duration": 2951,
    "start_time": "2022-07-12T18:59:03.559Z"
   },
   {
    "duration": 2126,
    "start_time": "2022-07-12T19:19:24.477Z"
   },
   {
    "duration": 4678,
    "start_time": "2022-07-12T19:36:58.447Z"
   },
   {
    "duration": 5,
    "start_time": "2022-07-12T19:37:22.307Z"
   },
   {
    "duration": 148,
    "start_time": "2022-07-12T19:37:23.295Z"
   },
   {
    "duration": 5,
    "start_time": "2022-07-12T19:37:24.550Z"
   },
   {
    "duration": 9,
    "start_time": "2022-07-12T19:37:25.505Z"
   },
   {
    "duration": 7,
    "start_time": "2022-07-12T19:37:25.914Z"
   },
   {
    "duration": 20,
    "start_time": "2022-07-12T19:37:27.051Z"
   },
   {
    "duration": 7,
    "start_time": "2022-07-12T19:37:27.986Z"
   },
   {
    "duration": 29,
    "start_time": "2022-07-12T19:37:29.117Z"
   },
   {
    "duration": 5221,
    "start_time": "2022-07-12T19:37:32.098Z"
   },
   {
    "duration": 1723,
    "start_time": "2022-07-12T19:37:49.576Z"
   },
   {
    "duration": 1648,
    "start_time": "2022-07-12T19:38:04.850Z"
   },
   {
    "duration": 52,
    "start_time": "2022-07-12T19:40:15.422Z"
   },
   {
    "duration": 1944,
    "start_time": "2022-07-12T19:43:43.958Z"
   },
   {
    "duration": 2459,
    "start_time": "2022-07-12T19:44:36.346Z"
   },
   {
    "duration": 3503,
    "start_time": "2022-07-12T19:45:17.005Z"
   },
   {
    "duration": 1348,
    "start_time": "2022-07-12T19:46:54.851Z"
   },
   {
    "duration": 2576,
    "start_time": "2022-07-12T19:47:20.324Z"
   },
   {
    "duration": 1971,
    "start_time": "2022-07-12T19:47:38.542Z"
   },
   {
    "duration": 2238,
    "start_time": "2022-07-12T19:49:20.479Z"
   },
   {
    "duration": 3157,
    "start_time": "2022-07-12T19:49:51.859Z"
   },
   {
    "duration": 1994,
    "start_time": "2022-07-12T19:49:59.906Z"
   },
   {
    "duration": 2002,
    "start_time": "2022-07-12T19:50:10.297Z"
   },
   {
    "duration": 1636,
    "start_time": "2022-07-12T19:52:11.764Z"
   },
   {
    "duration": 4042,
    "start_time": "2022-07-12T19:53:20.563Z"
   },
   {
    "duration": 6202,
    "start_time": "2022-07-12T19:55:13.323Z"
   },
   {
    "duration": 3441,
    "start_time": "2022-07-12T19:55:34.477Z"
   },
   {
    "duration": 2847,
    "start_time": "2022-07-12T19:56:43.558Z"
   },
   {
    "duration": 2656,
    "start_time": "2022-07-12T19:57:09.359Z"
   },
   {
    "duration": 2660,
    "start_time": "2022-07-12T19:58:38.545Z"
   },
   {
    "duration": 3240,
    "start_time": "2022-07-12T19:59:33.365Z"
   },
   {
    "duration": 15697,
    "start_time": "2022-07-12T20:03:54.765Z"
   },
   {
    "duration": 13693,
    "start_time": "2022-07-12T20:30:33.690Z"
   },
   {
    "duration": 3036,
    "start_time": "2022-07-12T20:35:57.684Z"
   },
   {
    "duration": 5178,
    "start_time": "2022-07-12T20:36:19.020Z"
   },
   {
    "duration": 14722,
    "start_time": "2022-07-12T20:37:49.969Z"
   },
   {
    "duration": 43163,
    "start_time": "2022-07-12T20:45:22.839Z"
   },
   {
    "duration": 6,
    "start_time": "2022-07-12T20:52:05.057Z"
   },
   {
    "duration": 11,
    "start_time": "2022-07-12T20:52:20.233Z"
   },
   {
    "duration": 11,
    "start_time": "2022-07-12T20:52:23.795Z"
   },
   {
    "duration": 88,
    "start_time": "2022-07-12T20:52:28.434Z"
   },
   {
    "duration": 15,
    "start_time": "2022-07-12T20:52:30.838Z"
   },
   {
    "duration": 11,
    "start_time": "2022-07-12T20:52:32.892Z"
   },
   {
    "duration": 4,
    "start_time": "2022-07-12T20:52:39.293Z"
   },
   {
    "duration": 1234,
    "start_time": "2022-07-12T20:53:54.330Z"
   },
   {
    "duration": 79,
    "start_time": "2022-07-12T20:54:04.255Z"
   },
   {
    "duration": 87,
    "start_time": "2022-07-12T20:54:08.336Z"
   },
   {
    "duration": 23,
    "start_time": "2022-07-12T20:54:10.211Z"
   },
   {
    "duration": 12,
    "start_time": "2022-07-12T20:57:35.686Z"
   },
   {
    "duration": 12,
    "start_time": "2022-07-12T20:57:39.304Z"
   },
   {
    "duration": 4,
    "start_time": "2022-07-12T20:57:42.773Z"
   },
   {
    "duration": 27,
    "start_time": "2022-07-12T20:58:06.923Z"
   },
   {
    "duration": 13,
    "start_time": "2022-07-12T20:58:24.989Z"
   },
   {
    "duration": 18,
    "start_time": "2022-07-12T21:00:06.267Z"
   },
   {
    "duration": 20,
    "start_time": "2022-07-12T21:00:09.913Z"
   },
   {
    "duration": 15,
    "start_time": "2022-07-12T21:00:13.470Z"
   },
   {
    "duration": 10,
    "start_time": "2022-07-12T21:00:17.317Z"
   },
   {
    "duration": 72,
    "start_time": "2022-07-12T21:02:25.311Z"
   },
   {
    "duration": 80,
    "start_time": "2022-07-12T21:03:22.442Z"
   },
   {
    "duration": 91,
    "start_time": "2022-07-12T21:03:41.497Z"
   },
   {
    "duration": 7,
    "start_time": "2022-07-12T21:07:32.079Z"
   },
   {
    "duration": 12,
    "start_time": "2022-07-12T21:07:45.101Z"
   },
   {
    "duration": 145,
    "start_time": "2022-07-12T21:08:46.174Z"
   },
   {
    "duration": 14,
    "start_time": "2022-07-12T21:08:55.656Z"
   },
   {
    "duration": 14,
    "start_time": "2022-07-12T21:09:09.977Z"
   },
   {
    "duration": 36,
    "start_time": "2022-07-12T21:11:14.513Z"
   },
   {
    "duration": 64,
    "start_time": "2022-07-12T21:12:05.609Z"
   },
   {
    "duration": 59,
    "start_time": "2022-07-12T21:12:18.306Z"
   },
   {
    "duration": 56,
    "start_time": "2022-07-12T21:13:15.516Z"
   },
   {
    "duration": 43,
    "start_time": "2022-07-12T21:13:31.428Z"
   },
   {
    "duration": 4,
    "start_time": "2022-07-12T21:13:48.782Z"
   },
   {
    "duration": 108,
    "start_time": "2022-07-12T21:13:49.513Z"
   },
   {
    "duration": 5,
    "start_time": "2022-07-12T21:13:51.509Z"
   },
   {
    "duration": 7,
    "start_time": "2022-07-12T21:13:52.913Z"
   },
   {
    "duration": 5,
    "start_time": "2022-07-12T21:13:53.880Z"
   },
   {
    "duration": 5,
    "start_time": "2022-07-12T21:15:25.319Z"
   },
   {
    "duration": 13,
    "start_time": "2022-07-12T21:15:26.537Z"
   },
   {
    "duration": 5,
    "start_time": "2022-07-12T21:15:27.727Z"
   },
   {
    "duration": 21,
    "start_time": "2022-07-12T21:15:28.719Z"
   },
   {
    "duration": 48,
    "start_time": "2022-07-12T21:15:31.438Z"
   },
   {
    "duration": 2409,
    "start_time": "2022-07-12T21:15:33.997Z"
   },
   {
    "duration": 12428,
    "start_time": "2022-07-12T21:15:42.976Z"
   },
   {
    "duration": 41012,
    "start_time": "2022-07-12T21:16:00.424Z"
   },
   {
    "duration": 11,
    "start_time": "2022-07-12T21:16:41.438Z"
   },
   {
    "duration": 56,
    "start_time": "2022-07-12T21:16:41.451Z"
   },
   {
    "duration": 2,
    "start_time": "2022-07-12T21:16:41.510Z"
   },
   {
    "duration": 1067,
    "start_time": "2022-07-13T02:05:45.865Z"
   },
   {
    "duration": 86,
    "start_time": "2022-07-13T02:05:46.934Z"
   },
   {
    "duration": 4,
    "start_time": "2022-07-13T02:05:47.022Z"
   },
   {
    "duration": 14,
    "start_time": "2022-07-13T02:05:47.028Z"
   },
   {
    "duration": 3,
    "start_time": "2022-07-13T02:05:47.044Z"
   },
   {
    "duration": 12,
    "start_time": "2022-07-13T02:05:47.049Z"
   },
   {
    "duration": 4,
    "start_time": "2022-07-13T02:05:47.062Z"
   },
   {
    "duration": 18,
    "start_time": "2022-07-13T02:05:47.068Z"
   },
   {
    "duration": 63,
    "start_time": "2022-07-13T02:05:47.087Z"
   },
   {
    "duration": 1496,
    "start_time": "2022-07-13T02:05:47.153Z"
   },
   {
    "duration": 10409,
    "start_time": "2022-07-13T02:05:48.650Z"
   },
   {
    "duration": 33523,
    "start_time": "2022-07-13T02:05:59.061Z"
   },
   {
    "duration": 10,
    "start_time": "2022-07-13T02:06:32.586Z"
   },
   {
    "duration": 46,
    "start_time": "2022-07-13T02:06:32.597Z"
   },
   {
    "duration": 1100,
    "start_time": "2022-07-13T10:54:42.863Z"
   },
   {
    "duration": 124,
    "start_time": "2022-07-13T10:54:43.965Z"
   },
   {
    "duration": 4,
    "start_time": "2022-07-13T10:54:45.808Z"
   },
   {
    "duration": 5,
    "start_time": "2022-07-13T10:54:46.920Z"
   },
   {
    "duration": 4,
    "start_time": "2022-07-13T10:54:47.316Z"
   },
   {
    "duration": 11,
    "start_time": "2022-07-13T10:54:48.808Z"
   },
   {
    "duration": 5,
    "start_time": "2022-07-13T10:54:50.062Z"
   },
   {
    "duration": 18,
    "start_time": "2022-07-13T10:54:52.184Z"
   },
   {
    "duration": 47,
    "start_time": "2022-07-13T10:55:27.511Z"
   },
   {
    "duration": 1527,
    "start_time": "2022-07-13T10:55:30.181Z"
   },
   {
    "duration": 10841,
    "start_time": "2022-07-13T10:55:32.435Z"
   },
   {
    "duration": 35951,
    "start_time": "2022-07-13T10:55:43.277Z"
   },
   {
    "duration": 11,
    "start_time": "2022-07-13T10:56:19.230Z"
   },
   {
    "duration": 61,
    "start_time": "2022-07-13T10:56:19.242Z"
   },
   {
    "duration": 132,
    "start_time": "2022-07-13T10:59:37.587Z"
   },
   {
    "duration": 57,
    "start_time": "2022-07-13T11:01:23.789Z"
   },
   {
    "duration": 35936,
    "start_time": "2022-07-13T11:01:57.409Z"
   },
   {
    "duration": 10,
    "start_time": "2022-07-13T11:02:33.347Z"
   },
   {
    "duration": 90,
    "start_time": "2022-07-13T11:02:33.358Z"
   },
   {
    "duration": 74,
    "start_time": "2022-07-13T11:03:27.474Z"
   },
   {
    "duration": 77,
    "start_time": "2022-07-13T11:03:35.815Z"
   },
   {
    "duration": 80,
    "start_time": "2022-07-13T11:03:54.153Z"
   },
   {
    "duration": 80,
    "start_time": "2022-07-13T11:07:07.832Z"
   },
   {
    "duration": 82,
    "start_time": "2022-07-13T11:07:45.682Z"
   },
   {
    "duration": 78,
    "start_time": "2022-07-13T11:10:17.915Z"
   },
   {
    "duration": 1137,
    "start_time": "2022-07-14T00:30:09.139Z"
   },
   {
    "duration": 112,
    "start_time": "2022-07-14T00:30:10.278Z"
   },
   {
    "duration": 4,
    "start_time": "2022-07-14T00:30:10.391Z"
   },
   {
    "duration": 10,
    "start_time": "2022-07-14T00:30:10.396Z"
   },
   {
    "duration": 13,
    "start_time": "2022-07-14T00:30:10.408Z"
   },
   {
    "duration": 14,
    "start_time": "2022-07-14T00:30:10.422Z"
   },
   {
    "duration": 9,
    "start_time": "2022-07-14T00:30:10.437Z"
   },
   {
    "duration": 21,
    "start_time": "2022-07-14T00:30:10.447Z"
   },
   {
    "duration": 45,
    "start_time": "2022-07-14T00:30:10.469Z"
   },
   {
    "duration": 1693,
    "start_time": "2022-07-14T00:30:10.516Z"
   },
   {
    "duration": 10673,
    "start_time": "2022-07-14T00:30:12.301Z"
   },
   {
    "duration": 34221,
    "start_time": "2022-07-14T00:30:22.976Z"
   },
   {
    "duration": 11,
    "start_time": "2022-07-14T00:30:57.198Z"
   },
   {
    "duration": 89,
    "start_time": "2022-07-14T00:30:57.212Z"
   }
  ],
  "kernelspec": {
   "display_name": "Python 3 (ipykernel)",
   "language": "python",
   "name": "python3"
  },
  "language_info": {
   "codemirror_mode": {
    "name": "ipython",
    "version": 3
   },
   "file_extension": ".py",
   "mimetype": "text/x-python",
   "name": "python",
   "nbconvert_exporter": "python",
   "pygments_lexer": "ipython3",
   "version": "3.9.13"
  },
  "toc": {
   "base_numbering": 1,
   "nav_menu": {},
   "number_sections": true,
   "sideBar": true,
   "skip_h1_title": true,
   "title_cell": "Table of Contents",
   "title_sidebar": "Contents",
   "toc_cell": false,
   "toc_position": {},
   "toc_section_display": true,
   "toc_window_display": false
  }
 },
 "nbformat": 4,
 "nbformat_minor": 5
}
