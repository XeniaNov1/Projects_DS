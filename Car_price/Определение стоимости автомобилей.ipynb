{
 "cells": [
  {
   "cell_type": "markdown",
   "metadata": {},
   "source": [
    "# Определение стоимости автомобилей"
   ]
  },
  {
   "cell_type": "markdown",
   "metadata": {},
   "source": [
    "Сервис по продаже автомобилей с пробегом «Не бит, не крашен» разрабатывает приложение для привлечения новых клиентов. В нём можно быстро узнать рыночную стоимость своего автомобиля. В моем распоряжении исторические данные: технические характеристики, комплектации и цены автомобилей. Мне нужно построить модель для определения стоимости. \n",
    "\n",
    "Заказчику важны:\n",
    "\n",
    "- качество предсказания;\n",
    "- скорость предсказания;\n",
    "- время обучения.\n",
    "\n",
    "Доп. условия:\n",
    "\n",
    "- Для оценки качества моделей применяйте метрику RMSE;\n",
    "- Значение метрики RMSE должно быть меньше 2500;\n",
    "- Самостоятельно освойте библиотеку LightGBM и её средствами постройте модели градиентного бустинга"
   ]
  },
  {
   "cell_type": "markdown",
   "metadata": {},
   "source": [
    "## Загрузка данных"
   ]
  },
  {
   "cell_type": "code",
   "execution_count": 69,
   "metadata": {},
   "outputs": [],
   "source": [
    "import pandas as pd\n",
    "import os\n",
    "import numpy as np\n",
    "from tqdm import tqdm\n",
    "import lightgbm as lgb\n",
    "\n",
    "from sklearn.linear_model import LinearRegression\n",
    "from sklearn.tree import DecisionTreeRegressor\n",
    "from sklearn.ensemble import RandomForestRegressor\n",
    "from sklearn.dummy import DummyRegressor\n",
    "from lightgbm import LGBMRegressor\n",
    "\n",
    "from sklearn.model_selection import train_test_split\n",
    "from sklearn.preprocessing import StandardScaler\n",
    "from sklearn.model_selection import GridSearchCV\n",
    "from sklearn.metrics import make_scorer\n",
    "from sklearn.model_selection import cross_val_score\n",
    "from sklearn.metrics import mean_squared_error\n",
    "from sklearn.preprocessing import OrdinalEncoder "
   ]
  },
  {
   "cell_type": "code",
   "execution_count": 25,
   "metadata": {},
   "outputs": [],
   "source": [
    "path1 = '/datasets/autos.csv'\n",
    "\n",
    "path2 = 'autos.csv'\n",
    "\n",
    "if os.path.exists(path1):\n",
    "    auto_train = pd.read_csv(path1)\n",
    "    \n",
    "elif os.path.exists(path2):\n",
    "    auto_train = pd.read_csv(path2)\n",
    "\n",
    "else:\n",
    "    print('Something is wrong')"
   ]
  },
  {
   "cell_type": "code",
   "execution_count": 26,
   "metadata": {},
   "outputs": [
    {
     "data": {
      "text/html": [
       "<div>\n",
       "<style scoped>\n",
       "    .dataframe tbody tr th:only-of-type {\n",
       "        vertical-align: middle;\n",
       "    }\n",
       "\n",
       "    .dataframe tbody tr th {\n",
       "        vertical-align: top;\n",
       "    }\n",
       "\n",
       "    .dataframe thead th {\n",
       "        text-align: right;\n",
       "    }\n",
       "</style>\n",
       "<table border=\"1\" class=\"dataframe\">\n",
       "  <thead>\n",
       "    <tr style=\"text-align: right;\">\n",
       "      <th></th>\n",
       "      <th>DateCrawled</th>\n",
       "      <th>Price</th>\n",
       "      <th>VehicleType</th>\n",
       "      <th>RegistrationYear</th>\n",
       "      <th>Gearbox</th>\n",
       "      <th>Power</th>\n",
       "      <th>Model</th>\n",
       "      <th>Kilometer</th>\n",
       "      <th>RegistrationMonth</th>\n",
       "      <th>FuelType</th>\n",
       "      <th>Brand</th>\n",
       "      <th>NotRepaired</th>\n",
       "      <th>DateCreated</th>\n",
       "      <th>NumberOfPictures</th>\n",
       "      <th>PostalCode</th>\n",
       "      <th>LastSeen</th>\n",
       "    </tr>\n",
       "  </thead>\n",
       "  <tbody>\n",
       "    <tr>\n",
       "      <th>0</th>\n",
       "      <td>2016-03-24 11:52:17</td>\n",
       "      <td>480</td>\n",
       "      <td>NaN</td>\n",
       "      <td>1993</td>\n",
       "      <td>manual</td>\n",
       "      <td>0</td>\n",
       "      <td>golf</td>\n",
       "      <td>150000</td>\n",
       "      <td>0</td>\n",
       "      <td>petrol</td>\n",
       "      <td>volkswagen</td>\n",
       "      <td>NaN</td>\n",
       "      <td>2016-03-24 00:00:00</td>\n",
       "      <td>0</td>\n",
       "      <td>70435</td>\n",
       "      <td>2016-04-07 03:16:57</td>\n",
       "    </tr>\n",
       "    <tr>\n",
       "      <th>1</th>\n",
       "      <td>2016-03-24 10:58:45</td>\n",
       "      <td>18300</td>\n",
       "      <td>coupe</td>\n",
       "      <td>2011</td>\n",
       "      <td>manual</td>\n",
       "      <td>190</td>\n",
       "      <td>NaN</td>\n",
       "      <td>125000</td>\n",
       "      <td>5</td>\n",
       "      <td>gasoline</td>\n",
       "      <td>audi</td>\n",
       "      <td>yes</td>\n",
       "      <td>2016-03-24 00:00:00</td>\n",
       "      <td>0</td>\n",
       "      <td>66954</td>\n",
       "      <td>2016-04-07 01:46:50</td>\n",
       "    </tr>\n",
       "    <tr>\n",
       "      <th>2</th>\n",
       "      <td>2016-03-14 12:52:21</td>\n",
       "      <td>9800</td>\n",
       "      <td>suv</td>\n",
       "      <td>2004</td>\n",
       "      <td>auto</td>\n",
       "      <td>163</td>\n",
       "      <td>grand</td>\n",
       "      <td>125000</td>\n",
       "      <td>8</td>\n",
       "      <td>gasoline</td>\n",
       "      <td>jeep</td>\n",
       "      <td>NaN</td>\n",
       "      <td>2016-03-14 00:00:00</td>\n",
       "      <td>0</td>\n",
       "      <td>90480</td>\n",
       "      <td>2016-04-05 12:47:46</td>\n",
       "    </tr>\n",
       "    <tr>\n",
       "      <th>3</th>\n",
       "      <td>2016-03-17 16:54:04</td>\n",
       "      <td>1500</td>\n",
       "      <td>small</td>\n",
       "      <td>2001</td>\n",
       "      <td>manual</td>\n",
       "      <td>75</td>\n",
       "      <td>golf</td>\n",
       "      <td>150000</td>\n",
       "      <td>6</td>\n",
       "      <td>petrol</td>\n",
       "      <td>volkswagen</td>\n",
       "      <td>no</td>\n",
       "      <td>2016-03-17 00:00:00</td>\n",
       "      <td>0</td>\n",
       "      <td>91074</td>\n",
       "      <td>2016-03-17 17:40:17</td>\n",
       "    </tr>\n",
       "    <tr>\n",
       "      <th>4</th>\n",
       "      <td>2016-03-31 17:25:20</td>\n",
       "      <td>3600</td>\n",
       "      <td>small</td>\n",
       "      <td>2008</td>\n",
       "      <td>manual</td>\n",
       "      <td>69</td>\n",
       "      <td>fabia</td>\n",
       "      <td>90000</td>\n",
       "      <td>7</td>\n",
       "      <td>gasoline</td>\n",
       "      <td>skoda</td>\n",
       "      <td>no</td>\n",
       "      <td>2016-03-31 00:00:00</td>\n",
       "      <td>0</td>\n",
       "      <td>60437</td>\n",
       "      <td>2016-04-06 10:17:21</td>\n",
       "    </tr>\n",
       "    <tr>\n",
       "      <th>5</th>\n",
       "      <td>2016-04-04 17:36:23</td>\n",
       "      <td>650</td>\n",
       "      <td>sedan</td>\n",
       "      <td>1995</td>\n",
       "      <td>manual</td>\n",
       "      <td>102</td>\n",
       "      <td>3er</td>\n",
       "      <td>150000</td>\n",
       "      <td>10</td>\n",
       "      <td>petrol</td>\n",
       "      <td>bmw</td>\n",
       "      <td>yes</td>\n",
       "      <td>2016-04-04 00:00:00</td>\n",
       "      <td>0</td>\n",
       "      <td>33775</td>\n",
       "      <td>2016-04-06 19:17:07</td>\n",
       "    </tr>\n",
       "    <tr>\n",
       "      <th>6</th>\n",
       "      <td>2016-04-01 20:48:51</td>\n",
       "      <td>2200</td>\n",
       "      <td>convertible</td>\n",
       "      <td>2004</td>\n",
       "      <td>manual</td>\n",
       "      <td>109</td>\n",
       "      <td>2_reihe</td>\n",
       "      <td>150000</td>\n",
       "      <td>8</td>\n",
       "      <td>petrol</td>\n",
       "      <td>peugeot</td>\n",
       "      <td>no</td>\n",
       "      <td>2016-04-01 00:00:00</td>\n",
       "      <td>0</td>\n",
       "      <td>67112</td>\n",
       "      <td>2016-04-05 18:18:39</td>\n",
       "    </tr>\n",
       "    <tr>\n",
       "      <th>7</th>\n",
       "      <td>2016-03-21 18:54:38</td>\n",
       "      <td>0</td>\n",
       "      <td>sedan</td>\n",
       "      <td>1980</td>\n",
       "      <td>manual</td>\n",
       "      <td>50</td>\n",
       "      <td>other</td>\n",
       "      <td>40000</td>\n",
       "      <td>7</td>\n",
       "      <td>petrol</td>\n",
       "      <td>volkswagen</td>\n",
       "      <td>no</td>\n",
       "      <td>2016-03-21 00:00:00</td>\n",
       "      <td>0</td>\n",
       "      <td>19348</td>\n",
       "      <td>2016-03-25 16:47:58</td>\n",
       "    </tr>\n",
       "    <tr>\n",
       "      <th>8</th>\n",
       "      <td>2016-04-04 23:42:13</td>\n",
       "      <td>14500</td>\n",
       "      <td>bus</td>\n",
       "      <td>2014</td>\n",
       "      <td>manual</td>\n",
       "      <td>125</td>\n",
       "      <td>c_max</td>\n",
       "      <td>30000</td>\n",
       "      <td>8</td>\n",
       "      <td>petrol</td>\n",
       "      <td>ford</td>\n",
       "      <td>NaN</td>\n",
       "      <td>2016-04-04 00:00:00</td>\n",
       "      <td>0</td>\n",
       "      <td>94505</td>\n",
       "      <td>2016-04-04 23:42:13</td>\n",
       "    </tr>\n",
       "    <tr>\n",
       "      <th>9</th>\n",
       "      <td>2016-03-17 10:53:50</td>\n",
       "      <td>999</td>\n",
       "      <td>small</td>\n",
       "      <td>1998</td>\n",
       "      <td>manual</td>\n",
       "      <td>101</td>\n",
       "      <td>golf</td>\n",
       "      <td>150000</td>\n",
       "      <td>0</td>\n",
       "      <td>NaN</td>\n",
       "      <td>volkswagen</td>\n",
       "      <td>NaN</td>\n",
       "      <td>2016-03-17 00:00:00</td>\n",
       "      <td>0</td>\n",
       "      <td>27472</td>\n",
       "      <td>2016-03-31 17:17:06</td>\n",
       "    </tr>\n",
       "  </tbody>\n",
       "</table>\n",
       "</div>"
      ],
      "text/plain": [
       "           DateCrawled  Price  VehicleType  RegistrationYear Gearbox  Power  \\\n",
       "0  2016-03-24 11:52:17    480          NaN              1993  manual      0   \n",
       "1  2016-03-24 10:58:45  18300        coupe              2011  manual    190   \n",
       "2  2016-03-14 12:52:21   9800          suv              2004    auto    163   \n",
       "3  2016-03-17 16:54:04   1500        small              2001  manual     75   \n",
       "4  2016-03-31 17:25:20   3600        small              2008  manual     69   \n",
       "5  2016-04-04 17:36:23    650        sedan              1995  manual    102   \n",
       "6  2016-04-01 20:48:51   2200  convertible              2004  manual    109   \n",
       "7  2016-03-21 18:54:38      0        sedan              1980  manual     50   \n",
       "8  2016-04-04 23:42:13  14500          bus              2014  manual    125   \n",
       "9  2016-03-17 10:53:50    999        small              1998  manual    101   \n",
       "\n",
       "     Model  Kilometer  RegistrationMonth  FuelType       Brand NotRepaired  \\\n",
       "0     golf     150000                  0    petrol  volkswagen         NaN   \n",
       "1      NaN     125000                  5  gasoline        audi         yes   \n",
       "2    grand     125000                  8  gasoline        jeep         NaN   \n",
       "3     golf     150000                  6    petrol  volkswagen          no   \n",
       "4    fabia      90000                  7  gasoline       skoda          no   \n",
       "5      3er     150000                 10    petrol         bmw         yes   \n",
       "6  2_reihe     150000                  8    petrol     peugeot          no   \n",
       "7    other      40000                  7    petrol  volkswagen          no   \n",
       "8    c_max      30000                  8    petrol        ford         NaN   \n",
       "9     golf     150000                  0       NaN  volkswagen         NaN   \n",
       "\n",
       "           DateCreated  NumberOfPictures  PostalCode             LastSeen  \n",
       "0  2016-03-24 00:00:00                 0       70435  2016-04-07 03:16:57  \n",
       "1  2016-03-24 00:00:00                 0       66954  2016-04-07 01:46:50  \n",
       "2  2016-03-14 00:00:00                 0       90480  2016-04-05 12:47:46  \n",
       "3  2016-03-17 00:00:00                 0       91074  2016-03-17 17:40:17  \n",
       "4  2016-03-31 00:00:00                 0       60437  2016-04-06 10:17:21  \n",
       "5  2016-04-04 00:00:00                 0       33775  2016-04-06 19:17:07  \n",
       "6  2016-04-01 00:00:00                 0       67112  2016-04-05 18:18:39  \n",
       "7  2016-03-21 00:00:00                 0       19348  2016-03-25 16:47:58  \n",
       "8  2016-04-04 00:00:00                 0       94505  2016-04-04 23:42:13  \n",
       "9  2016-03-17 00:00:00                 0       27472  2016-03-31 17:17:06  "
      ]
     },
     "metadata": {},
     "output_type": "display_data"
    },
    {
     "name": "stdout",
     "output_type": "stream",
     "text": [
      "<class 'pandas.core.frame.DataFrame'>\n",
      "RangeIndex: 354369 entries, 0 to 354368\n",
      "Data columns (total 16 columns):\n",
      " #   Column             Non-Null Count   Dtype \n",
      "---  ------             --------------   ----- \n",
      " 0   DateCrawled        354369 non-null  object\n",
      " 1   Price              354369 non-null  int64 \n",
      " 2   VehicleType        316879 non-null  object\n",
      " 3   RegistrationYear   354369 non-null  int64 \n",
      " 4   Gearbox            334536 non-null  object\n",
      " 5   Power              354369 non-null  int64 \n",
      " 6   Model              334664 non-null  object\n",
      " 7   Kilometer          354369 non-null  int64 \n",
      " 8   RegistrationMonth  354369 non-null  int64 \n",
      " 9   FuelType           321474 non-null  object\n",
      " 10  Brand              354369 non-null  object\n",
      " 11  NotRepaired        283215 non-null  object\n",
      " 12  DateCreated        354369 non-null  object\n",
      " 13  NumberOfPictures   354369 non-null  int64 \n",
      " 14  PostalCode         354369 non-null  int64 \n",
      " 15  LastSeen           354369 non-null  object\n",
      "dtypes: int64(7), object(9)\n",
      "memory usage: 43.3+ MB\n"
     ]
    },
    {
     "data": {
      "text/plain": [
       "None"
      ]
     },
     "metadata": {},
     "output_type": "display_data"
    },
    {
     "data": {
      "text/html": [
       "<div>\n",
       "<style scoped>\n",
       "    .dataframe tbody tr th:only-of-type {\n",
       "        vertical-align: middle;\n",
       "    }\n",
       "\n",
       "    .dataframe tbody tr th {\n",
       "        vertical-align: top;\n",
       "    }\n",
       "\n",
       "    .dataframe thead th {\n",
       "        text-align: right;\n",
       "    }\n",
       "</style>\n",
       "<table border=\"1\" class=\"dataframe\">\n",
       "  <thead>\n",
       "    <tr style=\"text-align: right;\">\n",
       "      <th></th>\n",
       "      <th>Price</th>\n",
       "      <th>RegistrationYear</th>\n",
       "      <th>Power</th>\n",
       "      <th>Kilometer</th>\n",
       "      <th>RegistrationMonth</th>\n",
       "      <th>NumberOfPictures</th>\n",
       "      <th>PostalCode</th>\n",
       "    </tr>\n",
       "  </thead>\n",
       "  <tbody>\n",
       "    <tr>\n",
       "      <th>count</th>\n",
       "      <td>354369.000000</td>\n",
       "      <td>354369.000000</td>\n",
       "      <td>354369.000000</td>\n",
       "      <td>354369.000000</td>\n",
       "      <td>354369.000000</td>\n",
       "      <td>354369.0</td>\n",
       "      <td>354369.000000</td>\n",
       "    </tr>\n",
       "    <tr>\n",
       "      <th>mean</th>\n",
       "      <td>4416.656776</td>\n",
       "      <td>2004.234448</td>\n",
       "      <td>110.094337</td>\n",
       "      <td>128211.172535</td>\n",
       "      <td>5.714645</td>\n",
       "      <td>0.0</td>\n",
       "      <td>50508.689087</td>\n",
       "    </tr>\n",
       "    <tr>\n",
       "      <th>std</th>\n",
       "      <td>4514.158514</td>\n",
       "      <td>90.227958</td>\n",
       "      <td>189.850405</td>\n",
       "      <td>37905.341530</td>\n",
       "      <td>3.726421</td>\n",
       "      <td>0.0</td>\n",
       "      <td>25783.096248</td>\n",
       "    </tr>\n",
       "    <tr>\n",
       "      <th>min</th>\n",
       "      <td>0.000000</td>\n",
       "      <td>1000.000000</td>\n",
       "      <td>0.000000</td>\n",
       "      <td>5000.000000</td>\n",
       "      <td>0.000000</td>\n",
       "      <td>0.0</td>\n",
       "      <td>1067.000000</td>\n",
       "    </tr>\n",
       "    <tr>\n",
       "      <th>25%</th>\n",
       "      <td>1050.000000</td>\n",
       "      <td>1999.000000</td>\n",
       "      <td>69.000000</td>\n",
       "      <td>125000.000000</td>\n",
       "      <td>3.000000</td>\n",
       "      <td>0.0</td>\n",
       "      <td>30165.000000</td>\n",
       "    </tr>\n",
       "    <tr>\n",
       "      <th>50%</th>\n",
       "      <td>2700.000000</td>\n",
       "      <td>2003.000000</td>\n",
       "      <td>105.000000</td>\n",
       "      <td>150000.000000</td>\n",
       "      <td>6.000000</td>\n",
       "      <td>0.0</td>\n",
       "      <td>49413.000000</td>\n",
       "    </tr>\n",
       "    <tr>\n",
       "      <th>75%</th>\n",
       "      <td>6400.000000</td>\n",
       "      <td>2008.000000</td>\n",
       "      <td>143.000000</td>\n",
       "      <td>150000.000000</td>\n",
       "      <td>9.000000</td>\n",
       "      <td>0.0</td>\n",
       "      <td>71083.000000</td>\n",
       "    </tr>\n",
       "    <tr>\n",
       "      <th>max</th>\n",
       "      <td>20000.000000</td>\n",
       "      <td>9999.000000</td>\n",
       "      <td>20000.000000</td>\n",
       "      <td>150000.000000</td>\n",
       "      <td>12.000000</td>\n",
       "      <td>0.0</td>\n",
       "      <td>99998.000000</td>\n",
       "    </tr>\n",
       "  </tbody>\n",
       "</table>\n",
       "</div>"
      ],
      "text/plain": [
       "               Price  RegistrationYear          Power      Kilometer  \\\n",
       "count  354369.000000     354369.000000  354369.000000  354369.000000   \n",
       "mean     4416.656776       2004.234448     110.094337  128211.172535   \n",
       "std      4514.158514         90.227958     189.850405   37905.341530   \n",
       "min         0.000000       1000.000000       0.000000    5000.000000   \n",
       "25%      1050.000000       1999.000000      69.000000  125000.000000   \n",
       "50%      2700.000000       2003.000000     105.000000  150000.000000   \n",
       "75%      6400.000000       2008.000000     143.000000  150000.000000   \n",
       "max     20000.000000       9999.000000   20000.000000  150000.000000   \n",
       "\n",
       "       RegistrationMonth  NumberOfPictures     PostalCode  \n",
       "count      354369.000000          354369.0  354369.000000  \n",
       "mean            5.714645               0.0   50508.689087  \n",
       "std             3.726421               0.0   25783.096248  \n",
       "min             0.000000               0.0    1067.000000  \n",
       "25%             3.000000               0.0   30165.000000  \n",
       "50%             6.000000               0.0   49413.000000  \n",
       "75%             9.000000               0.0   71083.000000  \n",
       "max            12.000000               0.0   99998.000000  "
      ]
     },
     "metadata": {},
     "output_type": "display_data"
    }
   ],
   "source": [
    "display(auto_train.head(10))\n",
    "display(auto_train.info())\n",
    "display(auto_train.describe())"
   ]
  },
  {
   "cell_type": "markdown",
   "metadata": {},
   "source": [
    "**Легенда:**\n",
    "\n",
    "- DateCrawled — дата скачивания анкеты из базы\n",
    "- VehicleType — тип автомобильного кузова\n",
    "- RegistrationYear — год регистрации автомобиля\n",
    "- Gearbox — тип коробки передач\n",
    "- Power — мощность (л. с.)\n",
    "- Model — модель автомобиля\n",
    "- Kilometer — пробег (км)\n",
    "- RegistrationMonth — месяц регистрации автомобиля\n",
    "- FuelType — тип топлива\n",
    "- Brand — марка автомобиля\n",
    "- NotRepaired — была машина в ремонте или нет\n",
    "- DateCreated — дата создания анкеты\n",
    "- NumberOfPictures — количество фотографий автомобиля\n",
    "- PostalCode — почтовый индекс владельца анкеты (пользователя)\n",
    "- LastSeen — дата последней активности пользователя\n",
    "- Price — цена (евро)"
   ]
  },
  {
   "cell_type": "markdown",
   "metadata": {},
   "source": [
    "**Общий взгляд на данные:**\n",
    "\n",
    "- в данных присутствуют пропуски\n",
    "- в колонке месяца нет некорректных значений\n",
    "- в колонке год есть некорректные значения (нереалистичные значения мин. и макс.)\n",
    "- в колонке цены есть 0, это надо проверить, скорее всего данные некорректны\n",
    "- в колонке мощности л.с. есть некорректные значения (мин. и макс. выглядят нереалистично)\n",
    "- колонка с фото не нужна - она нулевая\n",
    "- колонки с датами некорректный тип данных, но данной задачи это роль не сыграет\n",
    "- в остальных колонках тип данных корректен"
   ]
  },
  {
   "cell_type": "markdown",
   "metadata": {},
   "source": [
    "### Предобработка данных"
   ]
  },
  {
   "cell_type": "markdown",
   "metadata": {},
   "source": [
    "#### Заполнение пропусков"
   ]
  },
  {
   "cell_type": "markdown",
   "metadata": {},
   "source": [
    "Начнем с пропусков. Рассмотрим в каких колонках есть пропуски и оценим их долю от общего числа строк:"
   ]
  },
  {
   "cell_type": "code",
   "execution_count": 27,
   "metadata": {},
   "outputs": [
    {
     "name": "stdout",
     "output_type": "stream",
     "text": [
      "VehicleType: 10.58%\n",
      "Gearbox: 5.60%\n",
      "Model: 5.56%\n",
      "FuelType: 9.28%\n",
      "NotRepaired: 20.08%\n"
     ]
    }
   ],
   "source": [
    "print(f'VehicleType: {1 - 316879/354369:.2%}')\n",
    "print(f'Gearbox: {1 - 334536/354369:.2%}')\n",
    "print(f'Model: {1 - 334664/354369:.2%}')\n",
    "print(f'FuelType: {1 - 321474/354369:.2%}')\n",
    "print(f'NotRepaired: {1 - 283215/354369:.2%}')"
   ]
  },
  {
   "cell_type": "markdown",
   "metadata": {},
   "source": [
    "У VehicleType, FuelType и NotRepaired значительное количество пропусков. Очень жаль, я хотела просто грохнуть порченные данные. Беда в том, что это категориальные значения и восстановить тип кузова, тип топлива и тип коробки пердач возможно (чисто гипотетически) по модели и марки автомобиля. Но самую значительную часть пропущенных данных - было в починке или нет, никак не восстановить. Предлагаю в данной колонке оставить \"отсутствие данных о ремонте\" как третий категориальный признак для этой колонки.\n",
    "\n",
    "Чтобы понять, могу ли я подтянуть недостающие значения запчастей автомобила, я попробую взять колонки с этими запчастями, молями и брендами, удалить дубликаты, ранжировать и посмотреть, если я увижe что одному и тому же сочетанию бренд+модель соответствует всегда одни и те же детали, то я смогу самостоятельно заполнить часть пропусков в данных."
   ]
  },
  {
   "cell_type": "code",
   "execution_count": 28,
   "metadata": {},
   "outputs": [
    {
     "name": "stdout",
     "output_type": "stream",
     "text": [
      "             Brand Model VehicleType Gearbox  FuelType\n",
      "11267   alfa_romeo   145       small  manual    petrol\n",
      "15254   alfa_romeo   145       sedan  manual    petrol\n",
      "73386   alfa_romeo   145       coupe  manual    petrol\n",
      "281893  alfa_romeo   145       other  manual    petrol\n",
      "138     alfa_romeo   147       sedan  manual  gasoline\n",
      "474     alfa_romeo   147       sedan  manual    petrol\n",
      "2100    alfa_romeo   147       small  manual    petrol\n",
      "4508    alfa_romeo   147       small  manual  gasoline\n",
      "24659   alfa_romeo   147       sedan  manual       lpg\n",
      "30100   alfa_romeo   147       wagon  manual  gasoline\n",
      "30175   alfa_romeo   147       coupe  manual    petrol\n",
      "31162   alfa_romeo   147       sedan    auto    petrol\n",
      "33171   alfa_romeo   147       small    auto    petrol\n",
      "48809   alfa_romeo   147       coupe    auto    petrol\n",
      "55333   alfa_romeo   147       coupe  manual  gasoline\n",
      "69445   alfa_romeo   147       small  manual       lpg\n",
      "81667   alfa_romeo   147       other    auto    petrol\n",
      "91590   alfa_romeo   147       other  manual    petrol\n",
      "102759  alfa_romeo   147       other  manual  gasoline\n",
      "111041  alfa_romeo   147       coupe  manual       lpg\n"
     ]
    }
   ],
   "source": [
    "gears = auto_train[['Brand','Model','VehicleType','Gearbox','FuelType']]\n",
    "gears = gears.drop_duplicates().sort_values(by = ['Brand','Model']).dropna()\n",
    "print(gears.head(20))"
   ]
  },
  {
   "cell_type": "markdown",
   "metadata": {},
   "source": [
    "Уже на 147 модели первого бренда понятно, что однозначно назвать деталь основываясь на информации о других параметрах машины нельзя. В таком случае заполню все пропуски \"unknown\", пусть это будет новое категориальное значение. "
   ]
  },
  {
   "cell_type": "code",
   "execution_count": 29,
   "metadata": {},
   "outputs": [
    {
     "name": "stdout",
     "output_type": "stream",
     "text": [
      "<class 'pandas.core.frame.DataFrame'>\n",
      "RangeIndex: 354369 entries, 0 to 354368\n",
      "Data columns (total 16 columns):\n",
      " #   Column             Non-Null Count   Dtype \n",
      "---  ------             --------------   ----- \n",
      " 0   DateCrawled        354369 non-null  object\n",
      " 1   Price              354369 non-null  int64 \n",
      " 2   VehicleType        354369 non-null  object\n",
      " 3   RegistrationYear   354369 non-null  int64 \n",
      " 4   Gearbox            354369 non-null  object\n",
      " 5   Power              354369 non-null  int64 \n",
      " 6   Model              354369 non-null  object\n",
      " 7   Kilometer          354369 non-null  int64 \n",
      " 8   RegistrationMonth  354369 non-null  int64 \n",
      " 9   FuelType           354369 non-null  object\n",
      " 10  Brand              354369 non-null  object\n",
      " 11  NotRepaired        354369 non-null  object\n",
      " 12  DateCreated        354369 non-null  object\n",
      " 13  NumberOfPictures   354369 non-null  int64 \n",
      " 14  PostalCode         354369 non-null  int64 \n",
      " 15  LastSeen           354369 non-null  object\n",
      "dtypes: int64(7), object(9)\n",
      "memory usage: 43.3+ MB\n"
     ]
    },
    {
     "data": {
      "text/plain": [
       "None"
      ]
     },
     "metadata": {},
     "output_type": "display_data"
    }
   ],
   "source": [
    "auto_train[['Brand','Model','VehicleType','Gearbox','FuelType','NotRepaired']] = auto_train[['Brand','Model','VehicleType','Gearbox','FuelType','NotRepaired']].fillna('unknown')\n",
    "display(auto_train.info())"
   ]
  },
  {
   "cell_type": "markdown",
   "metadata": {},
   "source": [
    "Пропусков больше нет, двигаемся дальше"
   ]
  },
  {
   "cell_type": "markdown",
   "metadata": {},
   "source": [
    "#### Работа с некорректными значениями"
   ]
  },
  {
   "cell_type": "markdown",
   "metadata": {},
   "source": [
    "При предварительном обзоре данных видно, что:\n",
    "\n",
    "- в колонке год есть некорректные значения (нереалистичные значения мин. и макс.)\n",
    "- в колонке цены есть 0, это надо проверить, скорее всего данные некорректны\n",
    "- в колонке мощности л.с. есть некорректные значения (мин. и макс. выглядят нереалистично)\n",
    "\n",
    "Начнем с 1 пункта. Рассмотрим какие года есть в нас в датасете."
   ]
  },
  {
   "cell_type": "markdown",
   "metadata": {},
   "source": [
    "**Год регистрации**"
   ]
  },
  {
   "cell_type": "markdown",
   "metadata": {},
   "source": [
    "Посмотрим, какие года есть в выборке"
   ]
  },
  {
   "cell_type": "code",
   "execution_count": 30,
   "metadata": {},
   "outputs": [
    {
     "name": "stdout",
     "output_type": "stream",
     "text": [
      "Empty DataFrame\n",
      "Columns: []\n",
      "Index: [1000, 1001, 1039, 1111, 1200, 1234, 1253, 1255, 1300, 1400, 1500, 1600, 1602, 1688, 1800, 1910, 1915, 1919, 1920, 1923, 1925, 1927, 1928, 1929, 1930, 1931, 1932, 1933, 1934, 1935, 1936, 1937, 1938, 1940, 1941, 1942, 1943, 1944, 1945, 1946, 1947, 1948, 1949, 1950, 1951, 1952, 1953, 1954, 1955, 1956, 1957, 1958, 1959, 1960, 1961, 1962, 1963, 1964, 1965, 1966, 1967, 1968, 1969, 1970, 1971, 1972, 1973, 1974, 1975, 1976, 1977, 1978, 1979, 1980, 1981, 1982, 1983, 1984, 1985, 1986, 1987, 1988, 1989, 1990, 1991, 1992, 1993, 1994, 1995, 1996, 1997, 1998, 1999, 2000, 2001, 2002, 2003, 2004, 2005, 2006, ...]\n",
      "\n",
      "[151 rows x 0 columns]\n"
     ]
    }
   ],
   "source": [
    "print(auto_train[['RegistrationYear']].groupby('RegistrationYear').count())"
   ]
  },
  {
   "cell_type": "markdown",
   "metadata": {},
   "source": [
    "Рассмотрим, как выглядят данные для самых маленьких годов регистрации"
   ]
  },
  {
   "cell_type": "code",
   "execution_count": 31,
   "metadata": {},
   "outputs": [
    {
     "data": {
      "text/html": [
       "<div>\n",
       "<style scoped>\n",
       "    .dataframe tbody tr th:only-of-type {\n",
       "        vertical-align: middle;\n",
       "    }\n",
       "\n",
       "    .dataframe tbody tr th {\n",
       "        vertical-align: top;\n",
       "    }\n",
       "\n",
       "    .dataframe thead th {\n",
       "        text-align: right;\n",
       "    }\n",
       "</style>\n",
       "<table border=\"1\" class=\"dataframe\">\n",
       "  <thead>\n",
       "    <tr style=\"text-align: right;\">\n",
       "      <th></th>\n",
       "      <th>DateCrawled</th>\n",
       "      <th>Price</th>\n",
       "      <th>VehicleType</th>\n",
       "      <th>RegistrationYear</th>\n",
       "      <th>Gearbox</th>\n",
       "      <th>Power</th>\n",
       "      <th>Model</th>\n",
       "      <th>Kilometer</th>\n",
       "      <th>RegistrationMonth</th>\n",
       "      <th>FuelType</th>\n",
       "      <th>Brand</th>\n",
       "      <th>NotRepaired</th>\n",
       "      <th>DateCreated</th>\n",
       "      <th>NumberOfPictures</th>\n",
       "      <th>PostalCode</th>\n",
       "      <th>LastSeen</th>\n",
       "    </tr>\n",
       "  </thead>\n",
       "  <tbody>\n",
       "    <tr>\n",
       "      <th>244092</th>\n",
       "      <td>2016-03-26 19:52:56</td>\n",
       "      <td>2000</td>\n",
       "      <td>unknown</td>\n",
       "      <td>1000</td>\n",
       "      <td>unknown</td>\n",
       "      <td>0</td>\n",
       "      <td>unknown</td>\n",
       "      <td>5000</td>\n",
       "      <td>0</td>\n",
       "      <td>unknown</td>\n",
       "      <td>sonstige_autos</td>\n",
       "      <td>unknown</td>\n",
       "      <td>2016-03-26 00:00:00</td>\n",
       "      <td>0</td>\n",
       "      <td>31188</td>\n",
       "      <td>2016-04-02 12:46:25</td>\n",
       "    </tr>\n",
       "    <tr>\n",
       "      <th>91869</th>\n",
       "      <td>2016-03-11 14:45:24</td>\n",
       "      <td>400</td>\n",
       "      <td>unknown</td>\n",
       "      <td>1000</td>\n",
       "      <td>unknown</td>\n",
       "      <td>0</td>\n",
       "      <td>unknown</td>\n",
       "      <td>5000</td>\n",
       "      <td>0</td>\n",
       "      <td>unknown</td>\n",
       "      <td>sonstige_autos</td>\n",
       "      <td>unknown</td>\n",
       "      <td>2016-03-11 00:00:00</td>\n",
       "      <td>0</td>\n",
       "      <td>48683</td>\n",
       "      <td>2016-03-12 18:45:19</td>\n",
       "    </tr>\n",
       "    <tr>\n",
       "      <th>143621</th>\n",
       "      <td>2016-03-17 23:40:11</td>\n",
       "      <td>550</td>\n",
       "      <td>unknown</td>\n",
       "      <td>1000</td>\n",
       "      <td>unknown</td>\n",
       "      <td>1000</td>\n",
       "      <td>golf</td>\n",
       "      <td>5000</td>\n",
       "      <td>6</td>\n",
       "      <td>petrol</td>\n",
       "      <td>volkswagen</td>\n",
       "      <td>unknown</td>\n",
       "      <td>2016-03-17 00:00:00</td>\n",
       "      <td>0</td>\n",
       "      <td>91732</td>\n",
       "      <td>2016-03-26 05:18:19</td>\n",
       "    </tr>\n",
       "    <tr>\n",
       "      <th>55605</th>\n",
       "      <td>2016-03-10 19:50:17</td>\n",
       "      <td>500</td>\n",
       "      <td>unknown</td>\n",
       "      <td>1000</td>\n",
       "      <td>unknown</td>\n",
       "      <td>0</td>\n",
       "      <td>unknown</td>\n",
       "      <td>5000</td>\n",
       "      <td>0</td>\n",
       "      <td>unknown</td>\n",
       "      <td>citroen</td>\n",
       "      <td>yes</td>\n",
       "      <td>2016-03-10 00:00:00</td>\n",
       "      <td>0</td>\n",
       "      <td>24811</td>\n",
       "      <td>2016-04-06 03:45:53</td>\n",
       "    </tr>\n",
       "    <tr>\n",
       "      <th>164397</th>\n",
       "      <td>2016-03-29 17:49:10</td>\n",
       "      <td>0</td>\n",
       "      <td>unknown</td>\n",
       "      <td>1000</td>\n",
       "      <td>unknown</td>\n",
       "      <td>0</td>\n",
       "      <td>transporter</td>\n",
       "      <td>5000</td>\n",
       "      <td>1</td>\n",
       "      <td>unknown</td>\n",
       "      <td>volkswagen</td>\n",
       "      <td>unknown</td>\n",
       "      <td>2016-03-29 00:00:00</td>\n",
       "      <td>0</td>\n",
       "      <td>29351</td>\n",
       "      <td>2016-04-06 03:45:14</td>\n",
       "    </tr>\n",
       "  </tbody>\n",
       "</table>\n",
       "</div>"
      ],
      "text/plain": [
       "                DateCrawled  Price VehicleType  RegistrationYear  Gearbox  \\\n",
       "244092  2016-03-26 19:52:56   2000     unknown              1000  unknown   \n",
       "91869   2016-03-11 14:45:24    400     unknown              1000  unknown   \n",
       "143621  2016-03-17 23:40:11    550     unknown              1000  unknown   \n",
       "55605   2016-03-10 19:50:17    500     unknown              1000  unknown   \n",
       "164397  2016-03-29 17:49:10      0     unknown              1000  unknown   \n",
       "\n",
       "        Power        Model  Kilometer  RegistrationMonth FuelType  \\\n",
       "244092      0      unknown       5000                  0  unknown   \n",
       "91869       0      unknown       5000                  0  unknown   \n",
       "143621   1000         golf       5000                  6   petrol   \n",
       "55605       0      unknown       5000                  0  unknown   \n",
       "164397      0  transporter       5000                  1  unknown   \n",
       "\n",
       "                 Brand NotRepaired          DateCreated  NumberOfPictures  \\\n",
       "244092  sonstige_autos     unknown  2016-03-26 00:00:00                 0   \n",
       "91869   sonstige_autos     unknown  2016-03-11 00:00:00                 0   \n",
       "143621      volkswagen     unknown  2016-03-17 00:00:00                 0   \n",
       "55605          citroen         yes  2016-03-10 00:00:00                 0   \n",
       "164397      volkswagen     unknown  2016-03-29 00:00:00                 0   \n",
       "\n",
       "        PostalCode             LastSeen  \n",
       "244092       31188  2016-04-02 12:46:25  \n",
       "91869        48683  2016-03-12 18:45:19  \n",
       "143621       91732  2016-03-26 05:18:19  \n",
       "55605        24811  2016-04-06 03:45:53  \n",
       "164397       29351  2016-04-06 03:45:14  "
      ]
     },
     "metadata": {},
     "output_type": "display_data"
    }
   ],
   "source": [
    "display(auto_train.sort_values(by='RegistrationYear').head())"
   ]
  },
  {
   "cell_type": "code",
   "execution_count": 32,
   "metadata": {},
   "outputs": [
    {
     "data": {
      "text/html": [
       "<div>\n",
       "<style scoped>\n",
       "    .dataframe tbody tr th:only-of-type {\n",
       "        vertical-align: middle;\n",
       "    }\n",
       "\n",
       "    .dataframe tbody tr th {\n",
       "        vertical-align: top;\n",
       "    }\n",
       "\n",
       "    .dataframe thead th {\n",
       "        text-align: right;\n",
       "    }\n",
       "</style>\n",
       "<table border=\"1\" class=\"dataframe\">\n",
       "  <thead>\n",
       "    <tr style=\"text-align: right;\">\n",
       "      <th></th>\n",
       "      <th>DateCrawled</th>\n",
       "      <th>Price</th>\n",
       "      <th>VehicleType</th>\n",
       "      <th>RegistrationYear</th>\n",
       "      <th>Gearbox</th>\n",
       "      <th>Power</th>\n",
       "      <th>Model</th>\n",
       "      <th>Kilometer</th>\n",
       "      <th>RegistrationMonth</th>\n",
       "      <th>FuelType</th>\n",
       "      <th>Brand</th>\n",
       "      <th>NotRepaired</th>\n",
       "      <th>DateCreated</th>\n",
       "      <th>NumberOfPictures</th>\n",
       "      <th>PostalCode</th>\n",
       "      <th>LastSeen</th>\n",
       "    </tr>\n",
       "  </thead>\n",
       "  <tbody>\n",
       "    <tr>\n",
       "      <th>323913</th>\n",
       "      <td>2016-03-07 13:51:17</td>\n",
       "      <td>0</td>\n",
       "      <td>suv</td>\n",
       "      <td>1942</td>\n",
       "      <td>manual</td>\n",
       "      <td>0</td>\n",
       "      <td>other</td>\n",
       "      <td>100000</td>\n",
       "      <td>0</td>\n",
       "      <td>gasoline</td>\n",
       "      <td>jeep</td>\n",
       "      <td>unknown</td>\n",
       "      <td>2016-03-07 00:00:00</td>\n",
       "      <td>0</td>\n",
       "      <td>82272</td>\n",
       "      <td>2016-03-17 17:15:26</td>\n",
       "    </tr>\n",
       "    <tr>\n",
       "      <th>230679</th>\n",
       "      <td>2016-04-01 12:37:37</td>\n",
       "      <td>7500</td>\n",
       "      <td>suv</td>\n",
       "      <td>1942</td>\n",
       "      <td>manual</td>\n",
       "      <td>72</td>\n",
       "      <td>other</td>\n",
       "      <td>100000</td>\n",
       "      <td>2</td>\n",
       "      <td>gasoline</td>\n",
       "      <td>jeep</td>\n",
       "      <td>no</td>\n",
       "      <td>2016-04-01 00:00:00</td>\n",
       "      <td>0</td>\n",
       "      <td>63925</td>\n",
       "      <td>2016-04-05 06:17:31</td>\n",
       "    </tr>\n",
       "    <tr>\n",
       "      <th>88033</th>\n",
       "      <td>2016-03-29 15:37:22</td>\n",
       "      <td>6999</td>\n",
       "      <td>suv</td>\n",
       "      <td>1942</td>\n",
       "      <td>manual</td>\n",
       "      <td>72</td>\n",
       "      <td>other</td>\n",
       "      <td>150000</td>\n",
       "      <td>2</td>\n",
       "      <td>gasoline</td>\n",
       "      <td>jeep</td>\n",
       "      <td>no</td>\n",
       "      <td>2016-03-29 00:00:00</td>\n",
       "      <td>0</td>\n",
       "      <td>63925</td>\n",
       "      <td>2016-04-06 01:15:33</td>\n",
       "    </tr>\n",
       "    <tr>\n",
       "      <th>188344</th>\n",
       "      <td>2016-03-15 10:50:59</td>\n",
       "      <td>10700</td>\n",
       "      <td>suv</td>\n",
       "      <td>1941</td>\n",
       "      <td>unknown</td>\n",
       "      <td>0</td>\n",
       "      <td>other</td>\n",
       "      <td>150000</td>\n",
       "      <td>0</td>\n",
       "      <td>petrol</td>\n",
       "      <td>jeep</td>\n",
       "      <td>unknown</td>\n",
       "      <td>2016-03-15 00:00:00</td>\n",
       "      <td>0</td>\n",
       "      <td>70806</td>\n",
       "      <td>2016-04-07 07:17:15</td>\n",
       "    </tr>\n",
       "    <tr>\n",
       "      <th>16635</th>\n",
       "      <td>2016-03-09 10:54:11</td>\n",
       "      <td>9500</td>\n",
       "      <td>suv</td>\n",
       "      <td>1941</td>\n",
       "      <td>manual</td>\n",
       "      <td>57</td>\n",
       "      <td>unknown</td>\n",
       "      <td>40000</td>\n",
       "      <td>1</td>\n",
       "      <td>petrol</td>\n",
       "      <td>sonstige_autos</td>\n",
       "      <td>no</td>\n",
       "      <td>2016-03-09 00:00:00</td>\n",
       "      <td>0</td>\n",
       "      <td>59557</td>\n",
       "      <td>2016-03-12 21:16:29</td>\n",
       "    </tr>\n",
       "    <tr>\n",
       "      <th>...</th>\n",
       "      <td>...</td>\n",
       "      <td>...</td>\n",
       "      <td>...</td>\n",
       "      <td>...</td>\n",
       "      <td>...</td>\n",
       "      <td>...</td>\n",
       "      <td>...</td>\n",
       "      <td>...</td>\n",
       "      <td>...</td>\n",
       "      <td>...</td>\n",
       "      <td>...</td>\n",
       "      <td>...</td>\n",
       "      <td>...</td>\n",
       "      <td>...</td>\n",
       "      <td>...</td>\n",
       "      <td>...</td>\n",
       "    </tr>\n",
       "    <tr>\n",
       "      <th>195855</th>\n",
       "      <td>2016-03-28 23:40:10</td>\n",
       "      <td>1</td>\n",
       "      <td>unknown</td>\n",
       "      <td>1800</td>\n",
       "      <td>unknown</td>\n",
       "      <td>0</td>\n",
       "      <td>zafira</td>\n",
       "      <td>5000</td>\n",
       "      <td>0</td>\n",
       "      <td>unknown</td>\n",
       "      <td>opel</td>\n",
       "      <td>unknown</td>\n",
       "      <td>2016-03-28 00:00:00</td>\n",
       "      <td>0</td>\n",
       "      <td>50171</td>\n",
       "      <td>2016-04-05 03:44:47</td>\n",
       "    </tr>\n",
       "    <tr>\n",
       "      <th>218241</th>\n",
       "      <td>2016-03-16 12:46:55</td>\n",
       "      <td>7999</td>\n",
       "      <td>unknown</td>\n",
       "      <td>1800</td>\n",
       "      <td>unknown</td>\n",
       "      <td>290</td>\n",
       "      <td>golf</td>\n",
       "      <td>5000</td>\n",
       "      <td>6</td>\n",
       "      <td>unknown</td>\n",
       "      <td>volkswagen</td>\n",
       "      <td>unknown</td>\n",
       "      <td>2016-03-16 00:00:00</td>\n",
       "      <td>0</td>\n",
       "      <td>15827</td>\n",
       "      <td>2016-03-29 20:47:40</td>\n",
       "    </tr>\n",
       "    <tr>\n",
       "      <th>34332</th>\n",
       "      <td>2016-04-01 06:02:10</td>\n",
       "      <td>450</td>\n",
       "      <td>unknown</td>\n",
       "      <td>1800</td>\n",
       "      <td>unknown</td>\n",
       "      <td>1800</td>\n",
       "      <td>unknown</td>\n",
       "      <td>5000</td>\n",
       "      <td>2</td>\n",
       "      <td>unknown</td>\n",
       "      <td>mitsubishi</td>\n",
       "      <td>no</td>\n",
       "      <td>2016-04-01 00:00:00</td>\n",
       "      <td>0</td>\n",
       "      <td>63322</td>\n",
       "      <td>2016-04-01 09:42:30</td>\n",
       "    </tr>\n",
       "    <tr>\n",
       "      <th>139360</th>\n",
       "      <td>2016-04-02 16:56:39</td>\n",
       "      <td>450</td>\n",
       "      <td>unknown</td>\n",
       "      <td>1800</td>\n",
       "      <td>unknown</td>\n",
       "      <td>1800</td>\n",
       "      <td>unknown</td>\n",
       "      <td>5000</td>\n",
       "      <td>2</td>\n",
       "      <td>unknown</td>\n",
       "      <td>mitsubishi</td>\n",
       "      <td>no</td>\n",
       "      <td>2016-04-02 00:00:00</td>\n",
       "      <td>0</td>\n",
       "      <td>63322</td>\n",
       "      <td>2016-04-04 14:46:21</td>\n",
       "    </tr>\n",
       "    <tr>\n",
       "      <th>351682</th>\n",
       "      <td>2016-03-12 00:57:39</td>\n",
       "      <td>11500</td>\n",
       "      <td>unknown</td>\n",
       "      <td>1800</td>\n",
       "      <td>unknown</td>\n",
       "      <td>16</td>\n",
       "      <td>other</td>\n",
       "      <td>5000</td>\n",
       "      <td>6</td>\n",
       "      <td>petrol</td>\n",
       "      <td>fiat</td>\n",
       "      <td>unknown</td>\n",
       "      <td>2016-03-11 00:00:00</td>\n",
       "      <td>0</td>\n",
       "      <td>16515</td>\n",
       "      <td>2016-04-05 19:47:27</td>\n",
       "    </tr>\n",
       "  </tbody>\n",
       "</table>\n",
       "<p>168 rows × 16 columns</p>\n",
       "</div>"
      ],
      "text/plain": [
       "                DateCrawled  Price VehicleType  RegistrationYear  Gearbox  \\\n",
       "323913  2016-03-07 13:51:17      0         suv              1942   manual   \n",
       "230679  2016-04-01 12:37:37   7500         suv              1942   manual   \n",
       "88033   2016-03-29 15:37:22   6999         suv              1942   manual   \n",
       "188344  2016-03-15 10:50:59  10700         suv              1941  unknown   \n",
       "16635   2016-03-09 10:54:11   9500         suv              1941   manual   \n",
       "...                     ...    ...         ...               ...      ...   \n",
       "195855  2016-03-28 23:40:10      1     unknown              1800  unknown   \n",
       "218241  2016-03-16 12:46:55   7999     unknown              1800  unknown   \n",
       "34332   2016-04-01 06:02:10    450     unknown              1800  unknown   \n",
       "139360  2016-04-02 16:56:39    450     unknown              1800  unknown   \n",
       "351682  2016-03-12 00:57:39  11500     unknown              1800  unknown   \n",
       "\n",
       "        Power    Model  Kilometer  RegistrationMonth  FuelType  \\\n",
       "323913      0    other     100000                  0  gasoline   \n",
       "230679     72    other     100000                  2  gasoline   \n",
       "88033      72    other     150000                  2  gasoline   \n",
       "188344      0    other     150000                  0    petrol   \n",
       "16635      57  unknown      40000                  1    petrol   \n",
       "...       ...      ...        ...                ...       ...   \n",
       "195855      0   zafira       5000                  0   unknown   \n",
       "218241    290     golf       5000                  6   unknown   \n",
       "34332    1800  unknown       5000                  2   unknown   \n",
       "139360   1800  unknown       5000                  2   unknown   \n",
       "351682     16    other       5000                  6    petrol   \n",
       "\n",
       "                 Brand NotRepaired          DateCreated  NumberOfPictures  \\\n",
       "323913            jeep     unknown  2016-03-07 00:00:00                 0   \n",
       "230679            jeep          no  2016-04-01 00:00:00                 0   \n",
       "88033             jeep          no  2016-03-29 00:00:00                 0   \n",
       "188344            jeep     unknown  2016-03-15 00:00:00                 0   \n",
       "16635   sonstige_autos          no  2016-03-09 00:00:00                 0   \n",
       "...                ...         ...                  ...               ...   \n",
       "195855            opel     unknown  2016-03-28 00:00:00                 0   \n",
       "218241      volkswagen     unknown  2016-03-16 00:00:00                 0   \n",
       "34332       mitsubishi          no  2016-04-01 00:00:00                 0   \n",
       "139360      mitsubishi          no  2016-04-02 00:00:00                 0   \n",
       "351682            fiat     unknown  2016-03-11 00:00:00                 0   \n",
       "\n",
       "        PostalCode             LastSeen  \n",
       "323913       82272  2016-03-17 17:15:26  \n",
       "230679       63925  2016-04-05 06:17:31  \n",
       "88033        63925  2016-04-06 01:15:33  \n",
       "188344       70806  2016-04-07 07:17:15  \n",
       "16635        59557  2016-03-12 21:16:29  \n",
       "...            ...                  ...  \n",
       "195855       50171  2016-04-05 03:44:47  \n",
       "218241       15827  2016-03-29 20:47:40  \n",
       "34332        63322  2016-04-01 09:42:30  \n",
       "139360       63322  2016-04-04 14:46:21  \n",
       "351682       16515  2016-04-05 19:47:27  \n",
       "\n",
       "[168 rows x 16 columns]"
      ]
     },
     "metadata": {},
     "output_type": "display_data"
    }
   ],
   "source": [
    "display(auto_train[(auto_train['RegistrationYear'] >= 1800) & (auto_train['RegistrationYear'] <= 1942)].sort_values(by='RegistrationYear',ascending=False))"
   ]
  },
  {
   "cell_type": "markdown",
   "metadata": {},
   "source": [
    "Так, ну это явно все порченные данные. Джип 1942 года, который ни разу не был в ремонте? Ну да конечно.\n",
    "Давайте подумаем какой кусок данных надо отсечь. Для этого построим график."
   ]
  },
  {
   "cell_type": "code",
   "execution_count": 33,
   "metadata": {},
   "outputs": [
    {
     "name": "stdout",
     "output_type": "stream",
     "text": [
      "AxesSubplot(0.125,0.125;0.775x0.755)\n"
     ]
    },
    {
     "data": {
      "image/png": "[encoded data removed]",
      "text/plain": [
       "<Figure size 432x288 with 1 Axes>"
      ]
     },
     "metadata": {
      "needs_background": "light"
     },
     "output_type": "display_data"
    }
   ],
   "source": [
    "print(auto_train['RegistrationYear'].plot(kind='hist', \n",
    "    bins=50, \n",
    "    range=(1970, 2022),\n",
    "    grid = True, \n",
    "    legend=True,\n",
    "    density=True))"
   ]
  },
  {
   "cell_type": "markdown",
   "metadata": {},
   "source": [
    "Большая часть данных приходится на автомобили свыше 1990 года регистрации. Думаю, можно отрезать все строки, где год регистрации меньше 1990. Верхняя планка - год выгрузки анкет - 2016 год."
   ]
  },
  {
   "cell_type": "code",
   "execution_count": 34,
   "metadata": {},
   "outputs": [
    {
     "name": "stdout",
     "output_type": "stream",
     "text": [
      "Отрезано 6.83% данных\n",
      "Текущее количество данных: 330170\n"
     ]
    }
   ],
   "source": [
    "auto_train_cut1 = auto_train[(auto_train['RegistrationYear'] >=1990)&(auto_train['RegistrationYear'] <=2016)]\n",
    "print(f'Отрезано {1 - len(auto_train_cut1) / len(auto_train):.2%} данных')\n",
    "print('Текущее количество данных:',len(auto_train_cut1))"
   ]
  },
  {
   "cell_type": "markdown",
   "metadata": {},
   "source": [
    "**Цена автомобилей**\n",
    "\n",
    "\n",
    "Далее рассмотрим распределение цен на автомобили, чтобы определить минимальную границу и избавиться на 0 в ценах"
   ]
  },
  {
   "cell_type": "code",
   "execution_count": 35,
   "metadata": {},
   "outputs": [
    {
     "name": "stdout",
     "output_type": "stream",
     "text": [
      "AxesSubplot(0.125,0.125;0.775x0.755)\n"
     ]
    },
    {
     "data": {
      "image/png": "[encoded data removed]",
      "text/plain": [
       "<Figure size 432x288 with 1 Axes>"
      ]
     },
     "metadata": {
      "needs_background": "light"
     },
     "output_type": "display_data"
    }
   ],
   "source": [
    "print(auto_train['Price'].plot(kind='hist', \n",
    "    bins=50, \n",
    "    grid = True, \n",
    "    legend=True,\n",
    "    density=True))"
   ]
  },
  {
   "cell_type": "markdown",
   "metadata": {},
   "source": [
    "Распределение выглядит логичным, большинство автомобилей стоят до 5000 евро, далее размер цены обратно пропорционален количеству автомобилей. Рассмотрим укрупненно нижнюю границу менее 2500 евро, чтобы понять нижнюю границу цены."
   ]
  },
  {
   "cell_type": "code",
   "execution_count": 36,
   "metadata": {},
   "outputs": [
    {
     "name": "stdout",
     "output_type": "stream",
     "text": [
      "AxesSubplot(0.125,0.125;0.775x0.755)\n"
     ]
    },
    {
     "data": {
      "image/png": "[encoded data removed]",
      "text/plain": [
       "<Figure size 432x288 with 1 Axes>"
      ]
     },
     "metadata": {
      "needs_background": "light"
     },
     "output_type": "display_data"
    }
   ],
   "source": [
    "print(auto_train_cut1['Price'].plot(kind='hist', \n",
    "    bins=100,\n",
    "    range = (0,2500),\n",
    "    grid = True, \n",
    "    legend=True,\n",
    "    density=True))"
   ]
  },
  {
   "cell_type": "markdown",
   "metadata": {},
   "source": [
    "Квантиль 25% цены это 1050 евро, поэтому чтобы не отрезать четверть данных возьмем границу меньше 1050. Предлагаю остановиться на 500 евро."
   ]
  },
  {
   "cell_type": "code",
   "execution_count": 37,
   "metadata": {},
   "outputs": [
    {
     "name": "stdout",
     "output_type": "stream",
     "text": [
      "Отрезано 10.04% данных\n",
      "Текущее количество данных: 297008\n"
     ]
    }
   ],
   "source": [
    "auto_train_cut2 = auto_train_cut1[auto_train_cut1['Price'] >=500]\n",
    "print(f'Отрезано {1 - len(auto_train_cut2) / len(auto_train_cut1):.2%} данных')\n",
    "print('Текущее количество данных:',len(auto_train_cut2))"
   ]
  },
  {
   "cell_type": "markdown",
   "metadata": {},
   "source": [
    "**Мощность двигателя**\n",
    "\n",
    "В данной колонке также обнаружены некорректные значения. Гугл говорит, что самое низкое (адекватное для размеров нормального автомобиля) значение мощности 25 л.с - предлагаю это значение оставить нижней границей. Самая большая мощность автомобиля в данный момент около 1600 л.с. Давайте оставим это значение для верхней границы. Возможно, в нащей выборке есть спорт-кары."
   ]
  },
  {
   "cell_type": "code",
   "execution_count": 38,
   "metadata": {},
   "outputs": [
    {
     "name": "stdout",
     "output_type": "stream",
     "text": [
      "Отрезано 8.18% данных\n",
      "Текущее количество данных: 272707\n"
     ]
    }
   ],
   "source": [
    "auto_train_cut3 = auto_train_cut2[(auto_train_cut2['Power'] >= 25) & (auto_train_cut2['Power'] <= 1600)]\n",
    "print(f'Отрезано {1 - len(auto_train_cut3) / len(auto_train_cut2):.2%} данных')\n",
    "print('Текущее количество данных:',len(auto_train_cut3))"
   ]
  },
  {
   "cell_type": "markdown",
   "metadata": {},
   "source": [
    "Пояснение: для предобработки данных я каждый раз использую новую переменную, чтобы в случае чего можно было откатиться к одной из версий датасета, плюс у меня в прошлых проектах часто ломался код из-за того, что я в предобработке перезаписывала  переменную, куда загружался исходный датасет"
   ]
  },
  {
   "cell_type": "markdown",
   "metadata": {},
   "source": [
    "#### Формируем обучающий датасет"
   ]
  },
  {
   "cell_type": "markdown",
   "metadata": {},
   "source": [
    "Удалим дубликаты, перезапишем индексы и выкинем нулевую колонку с количеством фото, а также данные о дате скачивания анкеты, месяц регистрации автомобиля, дата создания анкеты, почтовый индекс и дата последней активности, потому что с точки зрения здравого смысла эти данные не влияют на цену автомобиля. \n",
    "\n",
    "Хотя если углубиться, то дата создания анкеты косвенно влияет на цену, потому что по дате размещения можно учесть инфляцию и валютные колебания и, например, дисконтировать стоимость автомобиля. Кроме того, в определенные моменты времени из-за каких-либо нерыночных факторов цены на автомобили могут сильно расти или падать. Если мы знаем, в какие периоды времени происходили такие нерыночные росты/падения цены, то с помощью даты размещения и года регистрации автомобиля мы можем понять, в какую сторону необходимо скорректировать цену автомобиля. Но это требует серьезных временных затрат и, полагаю, не требуется в рамках данного проекта. "
   ]
  },
  {
   "cell_type": "code",
   "execution_count": 39,
   "metadata": {},
   "outputs": [],
   "source": [
    "auto = auto_train_cut3.drop(['NumberOfPictures','DateCrawled','RegistrationMonth','DateCreated','PostalCode','LastSeen'],axis = 1).drop_duplicates().reset_index(drop=True)"
   ]
  },
  {
   "cell_type": "markdown",
   "metadata": {},
   "source": [
    "## Обучение моделей"
   ]
  },
  {
   "cell_type": "markdown",
   "metadata": {},
   "source": [
    "Подготовка обучающих данных"
   ]
  },
  {
   "cell_type": "markdown",
   "metadata": {},
   "source": [
    "Используем следующие модели для обучения и сравним их точность: \n",
    "\n",
    "1. линейная регрессия, \n",
    "2. дерево решений, \n",
    "3. случайный лес\n",
    "4. модель градиентного бустинга из библиотеки LightGBM\n",
    "\n",
    "Далее под этими цифрами я буду нумеровать переменные каждой модели"
   ]
  },
  {
   "cell_type": "markdown",
   "metadata": {},
   "source": [
    "Далее закодируем категориальные переменные методом прямого кодирования"
   ]
  },
  {
   "cell_type": "code",
   "execution_count": 43,
   "metadata": {},
   "outputs": [],
   "source": [
    "#OHE\n",
    "auto_ohe = pd.get_dummies(auto,drop_first=True)\n",
    "\n",
    "#OE\n",
    "ordinal_columns = ['VehicleType', 'Gearbox', 'Model', 'FuelType', 'Brand', 'NotRepaired']\n",
    "encoder = OrdinalEncoder() \n",
    "auto_oe = auto.copy()\n",
    "auto_oe[ordinal_columns] = encoder.fit_transform(auto_oe[ordinal_columns])\n"
   ]
  },
  {
   "cell_type": "markdown",
   "metadata": {},
   "source": [
    "Разделим датасет на обучающие параметры и таргет."
   ]
  },
  {
   "cell_type": "code",
   "execution_count": 58,
   "metadata": {},
   "outputs": [],
   "source": [
    "#разделим выборку\n",
    "#OHE\n",
    "ft_train_ohe, ft_test_ohe, tg_train_ohe, tg_test_ohe = train_test_split(\n",
    "    auto_ohe.drop(['Price'], axis=1),\n",
    "    auto_ohe['Price'],\n",
    "    test_size=0.2,\n",
    "    random_state=12345\n",
    ")\n",
    "ft_train_ohe, ft_valid_ohe, tg_train_ohe, tg_valid_ohe = train_test_split(\n",
    "    ft_train_ohe,\n",
    "    tg_train_ohe,\n",
    "    test_size=0.25,\n",
    "    random_state=12345\n",
    ")\n",
    "\n",
    "#OE\n",
    "ft_train_oe, ft_test_oe, tg_train_oe, tg_test_oe = train_test_split(\n",
    "    auto_oe.drop(['Price'], axis=1),\n",
    "    auto_oe['Price'],\n",
    "    test_size=0.2,\n",
    "    random_state=12345\n",
    ")\n",
    "ft_train_oe, ft_valid_oe, tg_train_oe, tg_valid_oe = train_test_split(\n",
    "    ft_train_oe,\n",
    "    tg_train_oe,\n",
    "    test_size=0.25,\n",
    "    random_state=12345\n",
    ")"
   ]
  },
  {
   "cell_type": "code",
   "execution_count": 51,
   "metadata": {},
   "outputs": [
    {
     "data": {
      "text/html": [
       "<div>\n",
       "<style scoped>\n",
       "    .dataframe tbody tr th:only-of-type {\n",
       "        vertical-align: middle;\n",
       "    }\n",
       "\n",
       "    .dataframe tbody tr th {\n",
       "        vertical-align: top;\n",
       "    }\n",
       "\n",
       "    .dataframe thead th {\n",
       "        text-align: right;\n",
       "    }\n",
       "</style>\n",
       "<table border=\"1\" class=\"dataframe\">\n",
       "  <thead>\n",
       "    <tr style=\"text-align: right;\">\n",
       "      <th></th>\n",
       "      <th>RegistrationYear</th>\n",
       "      <th>Power</th>\n",
       "      <th>Kilometer</th>\n",
       "      <th>VehicleType_convertible</th>\n",
       "      <th>VehicleType_coupe</th>\n",
       "      <th>VehicleType_other</th>\n",
       "      <th>VehicleType_sedan</th>\n",
       "      <th>VehicleType_small</th>\n",
       "      <th>VehicleType_suv</th>\n",
       "      <th>VehicleType_unknown</th>\n",
       "      <th>...</th>\n",
       "      <th>Brand_smart</th>\n",
       "      <th>Brand_sonstige_autos</th>\n",
       "      <th>Brand_subaru</th>\n",
       "      <th>Brand_suzuki</th>\n",
       "      <th>Brand_toyota</th>\n",
       "      <th>Brand_trabant</th>\n",
       "      <th>Brand_volkswagen</th>\n",
       "      <th>Brand_volvo</th>\n",
       "      <th>NotRepaired_unknown</th>\n",
       "      <th>NotRepaired_yes</th>\n",
       "    </tr>\n",
       "  </thead>\n",
       "  <tbody>\n",
       "    <tr>\n",
       "      <th>169634</th>\n",
       "      <td>2011</td>\n",
       "      <td>77</td>\n",
       "      <td>125000</td>\n",
       "      <td>0</td>\n",
       "      <td>0</td>\n",
       "      <td>0</td>\n",
       "      <td>0</td>\n",
       "      <td>1</td>\n",
       "      <td>0</td>\n",
       "      <td>0</td>\n",
       "      <td>...</td>\n",
       "      <td>0</td>\n",
       "      <td>0</td>\n",
       "      <td>0</td>\n",
       "      <td>0</td>\n",
       "      <td>0</td>\n",
       "      <td>0</td>\n",
       "      <td>0</td>\n",
       "      <td>0</td>\n",
       "      <td>0</td>\n",
       "      <td>0</td>\n",
       "    </tr>\n",
       "    <tr>\n",
       "      <th>168527</th>\n",
       "      <td>2013</td>\n",
       "      <td>68</td>\n",
       "      <td>60000</td>\n",
       "      <td>0</td>\n",
       "      <td>0</td>\n",
       "      <td>0</td>\n",
       "      <td>0</td>\n",
       "      <td>1</td>\n",
       "      <td>0</td>\n",
       "      <td>0</td>\n",
       "      <td>...</td>\n",
       "      <td>0</td>\n",
       "      <td>0</td>\n",
       "      <td>0</td>\n",
       "      <td>0</td>\n",
       "      <td>1</td>\n",
       "      <td>0</td>\n",
       "      <td>0</td>\n",
       "      <td>0</td>\n",
       "      <td>0</td>\n",
       "      <td>1</td>\n",
       "    </tr>\n",
       "    <tr>\n",
       "      <th>876</th>\n",
       "      <td>2004</td>\n",
       "      <td>115</td>\n",
       "      <td>150000</td>\n",
       "      <td>0</td>\n",
       "      <td>0</td>\n",
       "      <td>0</td>\n",
       "      <td>1</td>\n",
       "      <td>0</td>\n",
       "      <td>0</td>\n",
       "      <td>0</td>\n",
       "      <td>...</td>\n",
       "      <td>0</td>\n",
       "      <td>0</td>\n",
       "      <td>0</td>\n",
       "      <td>0</td>\n",
       "      <td>0</td>\n",
       "      <td>0</td>\n",
       "      <td>0</td>\n",
       "      <td>0</td>\n",
       "      <td>1</td>\n",
       "      <td>0</td>\n",
       "    </tr>\n",
       "    <tr>\n",
       "      <th>158775</th>\n",
       "      <td>2011</td>\n",
       "      <td>170</td>\n",
       "      <td>150000</td>\n",
       "      <td>0</td>\n",
       "      <td>0</td>\n",
       "      <td>0</td>\n",
       "      <td>0</td>\n",
       "      <td>0</td>\n",
       "      <td>1</td>\n",
       "      <td>0</td>\n",
       "      <td>...</td>\n",
       "      <td>0</td>\n",
       "      <td>0</td>\n",
       "      <td>0</td>\n",
       "      <td>0</td>\n",
       "      <td>0</td>\n",
       "      <td>0</td>\n",
       "      <td>0</td>\n",
       "      <td>0</td>\n",
       "      <td>0</td>\n",
       "      <td>0</td>\n",
       "    </tr>\n",
       "    <tr>\n",
       "      <th>44738</th>\n",
       "      <td>1998</td>\n",
       "      <td>102</td>\n",
       "      <td>150000</td>\n",
       "      <td>0</td>\n",
       "      <td>0</td>\n",
       "      <td>0</td>\n",
       "      <td>0</td>\n",
       "      <td>0</td>\n",
       "      <td>0</td>\n",
       "      <td>0</td>\n",
       "      <td>...</td>\n",
       "      <td>0</td>\n",
       "      <td>0</td>\n",
       "      <td>0</td>\n",
       "      <td>0</td>\n",
       "      <td>0</td>\n",
       "      <td>0</td>\n",
       "      <td>1</td>\n",
       "      <td>0</td>\n",
       "      <td>0</td>\n",
       "      <td>0</td>\n",
       "    </tr>\n",
       "  </tbody>\n",
       "</table>\n",
       "<p>5 rows × 308 columns</p>\n",
       "</div>"
      ],
      "text/plain": [
       "        RegistrationYear  Power  Kilometer  VehicleType_convertible  \\\n",
       "169634              2011     77     125000                        0   \n",
       "168527              2013     68      60000                        0   \n",
       "876                 2004    115     150000                        0   \n",
       "158775              2011    170     150000                        0   \n",
       "44738               1998    102     150000                        0   \n",
       "\n",
       "        VehicleType_coupe  VehicleType_other  VehicleType_sedan  \\\n",
       "169634                  0                  0                  0   \n",
       "168527                  0                  0                  0   \n",
       "876                     0                  0                  1   \n",
       "158775                  0                  0                  0   \n",
       "44738                   0                  0                  0   \n",
       "\n",
       "        VehicleType_small  VehicleType_suv  VehicleType_unknown  ...  \\\n",
       "169634                  1                0                    0  ...   \n",
       "168527                  1                0                    0  ...   \n",
       "876                     0                0                    0  ...   \n",
       "158775                  0                1                    0  ...   \n",
       "44738                   0                0                    0  ...   \n",
       "\n",
       "        Brand_smart  Brand_sonstige_autos  Brand_subaru  Brand_suzuki  \\\n",
       "169634            0                     0             0             0   \n",
       "168527            0                     0             0             0   \n",
       "876               0                     0             0             0   \n",
       "158775            0                     0             0             0   \n",
       "44738             0                     0             0             0   \n",
       "\n",
       "        Brand_toyota  Brand_trabant  Brand_volkswagen  Brand_volvo  \\\n",
       "169634             0              0                 0            0   \n",
       "168527             1              0                 0            0   \n",
       "876                0              0                 0            0   \n",
       "158775             0              0                 0            0   \n",
       "44738              0              0                 1            0   \n",
       "\n",
       "        NotRepaired_unknown  NotRepaired_yes  \n",
       "169634                    0                0  \n",
       "168527                    0                1  \n",
       "876                       1                0  \n",
       "158775                    0                0  \n",
       "44738                     0                0  \n",
       "\n",
       "[5 rows x 308 columns]"
      ]
     },
     "metadata": {},
     "output_type": "display_data"
    },
    {
     "data": {
      "text/plain": [
       "Index(['RegistrationYear', 'Power', 'Kilometer', 'VehicleType_convertible',\n",
       "       'VehicleType_coupe', 'VehicleType_other', 'VehicleType_sedan',\n",
       "       'VehicleType_small', 'VehicleType_suv', 'VehicleType_unknown',\n",
       "       ...\n",
       "       'Brand_smart', 'Brand_sonstige_autos', 'Brand_subaru', 'Brand_suzuki',\n",
       "       'Brand_toyota', 'Brand_trabant', 'Brand_volkswagen', 'Brand_volvo',\n",
       "       'NotRepaired_unknown', 'NotRepaired_yes'],\n",
       "      dtype='object', length=308)"
      ]
     },
     "metadata": {},
     "output_type": "display_data"
    }
   ],
   "source": [
    "display(ft_train_ohe.head())\n",
    "display(ft_train_ohe.columns)"
   ]
  },
  {
   "cell_type": "code",
   "execution_count": 53,
   "metadata": {},
   "outputs": [],
   "source": [
    "#Проведем масштабирование методом стандартизации данных\n",
    "scaler = StandardScaler()\n",
    "columns = ['Power','Kilometer']\n",
    "scaler.fit(ft_train_ohe[columns]) \n",
    "#ft_train_ohe[columns] = scaler.transform(ft_train_ohe[columns])\n",
    "ft_train_oe[columns] = scaler.transform(ft_train_oe[columns])\n",
    "pd.options.mode.chained_assignment = None"
   ]
  },
  {
   "cell_type": "markdown",
   "metadata": {},
   "source": [
    "Комментарий: я правильно понимаю, что масштабирование здесь не применимо? Если я его использую, то показатель rmse у меня выходит просто космический"
   ]
  },
  {
   "cell_type": "markdown",
   "metadata": {},
   "source": [
    "### Линейная регрессия "
   ]
  },
  {
   "cell_type": "code",
   "execution_count": 59,
   "metadata": {},
   "outputs": [
    {
     "name": "stderr",
     "output_type": "stream",
     "text": [
      "100%|██████████| 10/10 [00:35<00:00,  3.51s/it]\n"
     ]
    }
   ],
   "source": [
    "for i in tqdm(range(10)):\n",
    "    model_1 = LinearRegression()  \n",
    "    model_1.fit(X=ft_train_ohe,y=tg_train_ohe)\n"
   ]
  },
  {
   "cell_type": "code",
   "execution_count": 60,
   "metadata": {},
   "outputs": [
    {
     "name": "stderr",
     "output_type": "stream",
     "text": [
      "100%|██████████| 10/10 [00:02<00:00,  3.60it/s]"
     ]
    },
    {
     "name": "stdout",
     "output_type": "stream",
     "text": [
      "RMSE модели линейной регрессии на валидационной выборке: 2388.4455624046673\n"
     ]
    },
    {
     "name": "stderr",
     "output_type": "stream",
     "text": [
      "\n"
     ]
    }
   ],
   "source": [
    "for i in tqdm(range(10)):\n",
    "    predictions_valid = model_1.predict(ft_valid_ohe)\n",
    "\n",
    "    result_1 = mean_squared_error(tg_valid_ohe,predictions_valid,squared=False) \n",
    "print(\"RMSE модели линейной регрессии на валидационной выборке:\", result_1)"
   ]
  },
  {
   "cell_type": "markdown",
   "metadata": {},
   "source": [
    "### Дерево решений"
   ]
  },
  {
   "cell_type": "code",
   "execution_count": 62,
   "metadata": {},
   "outputs": [
    {
     "name": "stderr",
     "output_type": "stream",
     "text": [
      "100%|██████████| 10/10 [00:00<00:00, 9360.20it/s]\n"
     ]
    }
   ],
   "source": [
    "#param_grid\n",
    "params_for_tree = {'max_depth': np.arange(1,10)}\n",
    "\n",
    "#модель дерева решений\n",
    "for i in tqdm(range(10)):\n",
    "    model_2 = GridSearchCV(DecisionTreeRegressor(random_state = 0),param_grid = params_for_tree, scoring = make_scorer(mean_squared_error, greater_is_better=False), cv=5)"
   ]
  },
  {
   "cell_type": "code",
   "execution_count": 63,
   "metadata": {},
   "outputs": [
    {
     "name": "stderr",
     "output_type": "stream",
     "text": [
      "100%|██████████| 10/10 [03:25<00:00, 20.58s/it]\n"
     ]
    }
   ],
   "source": [
    "for i in tqdm(range(10)):\n",
    "    model_2.fit(ft_train_oe,tg_train_oe)"
   ]
  },
  {
   "cell_type": "markdown",
   "metadata": {},
   "source": [
    "Комментарий: я пыталась в кросс-валидацию, но получила космический RMSE. Больше так делать не буду."
   ]
  },
  {
   "cell_type": "code",
   "execution_count": 65,
   "metadata": {},
   "outputs": [
    {
     "name": "stderr",
     "output_type": "stream",
     "text": [
      "100%|██████████| 10/10 [00:00<00:00, 44.32it/s]"
     ]
    },
    {
     "name": "stdout",
     "output_type": "stream",
     "text": [
      "Оценка RMSE: 1982.5070556017658\n"
     ]
    },
    {
     "name": "stderr",
     "output_type": "stream",
     "text": [
      "\n"
     ]
    }
   ],
   "source": [
    "for i in tqdm(range(10)):\n",
    "    predictions_valid_2 = model_2.predict(ft_valid_oe)\n",
    "    score_2 = mean_squared_error(tg_valid_oe, predictions_valid_2,squared=False)\n",
    "print('Оценка RMSE:', score_2)"
   ]
  },
  {
   "cell_type": "markdown",
   "metadata": {},
   "source": [
    "### Случайный лес"
   ]
  },
  {
   "cell_type": "markdown",
   "metadata": {},
   "source": [
    "<font color='red'> Не перезапускать! </font>"
   ]
  },
  {
   "cell_type": "code",
   "execution_count": 73,
   "metadata": {},
   "outputs": [
    {
     "name": "stderr",
     "output_type": "stream",
     "text": [
      "100%|██████████| 10/10 [00:00<00:00, 7715.79it/s]\n"
     ]
    }
   ],
   "source": [
    "#param_grid\n",
    "params_for_forest = [{'max_depth': np.arange(1,5)}, {'n_estimators': np.arange(10,31,10)}]\n",
    "\n",
    "#модель случайного леса\n",
    "for i in tqdm(range(10)):\n",
    "    model_3 = GridSearchCV(RandomForestRegressor(random_state = 0),param_grid = params_for_forest, scoring = make_scorer(mean_squared_error, greater_is_better=False), cv=5)"
   ]
  },
  {
   "cell_type": "code",
   "execution_count": 74,
   "metadata": {
    "scrolled": true
   },
   "outputs": [
    {
     "name": "stderr",
     "output_type": "stream",
     "text": [
      "100%|██████████| 10/10 [46:28<00:00, 278.85s/it] \n"
     ]
    }
   ],
   "source": [
    "for i in tqdm(range(10)):\n",
    "    model_3.fit(ft_train_oe,tg_train_oe)"
   ]
  },
  {
   "cell_type": "code",
   "execution_count": 75,
   "metadata": {},
   "outputs": [
    {
     "name": "stderr",
     "output_type": "stream",
     "text": [
      "100%|██████████| 10/10 [00:08<00:00,  1.24it/s]"
     ]
    },
    {
     "name": "stdout",
     "output_type": "stream",
     "text": [
      "Оценка RMSE: 1622.8790154676008\n"
     ]
    },
    {
     "name": "stderr",
     "output_type": "stream",
     "text": [
      "\n"
     ]
    }
   ],
   "source": [
    "for i in tqdm(range(10)):\n",
    "    predictions_valid_3 = model_3.predict(ft_valid_oe)\n",
    "    score_3 = mean_squared_error(tg_valid_oe, predictions_valid_3,squared=False)\n",
    "\n",
    "print('Оценка RMSE:', score_3)"
   ]
  },
  {
   "cell_type": "markdown",
   "metadata": {},
   "source": [
    "Я забыла туда поставить счетчик времени, но код обрабатывается с общей сложности чуть больше 2 часов. Могу я не вставлять туда счетчик, чтобы не перезапускать модель? Примерное время работы я и так отследила."
   ]
  },
  {
   "cell_type": "markdown",
   "metadata": {},
   "source": [
    "### SGD Регрессия"
   ]
  },
  {
   "cell_type": "code",
   "execution_count": 70,
   "metadata": {},
   "outputs": [],
   "source": [
    "#param_grid\n",
    "params_for_lgbm = [{'max_depth': np.arange(1,5)}, {'n_estimators': np.arange(10,31,10)}]\n",
    "\n",
    "model_4 = GridSearchCV(LGBMRegressor(random_state = 0,class_weight='balanced'),param_grid = params_for_lgbm, scoring = make_scorer(mean_squared_error, greater_is_better=False), cv=5)"
   ]
  },
  {
   "cell_type": "code",
   "execution_count": 71,
   "metadata": {},
   "outputs": [
    {
     "name": "stderr",
     "output_type": "stream",
     "text": [
      "100%|██████████| 10/10 [05:43<00:00, 34.30s/it]\n"
     ]
    }
   ],
   "source": [
    "for i in tqdm(range(10)):\n",
    "    model_4.fit(ft_train_oe,tg_train_oe)"
   ]
  },
  {
   "cell_type": "code",
   "execution_count": 72,
   "metadata": {},
   "outputs": [
    {
     "name": "stderr",
     "output_type": "stream",
     "text": [
      "100%|██████████| 10/10 [00:01<00:00,  5.77it/s]"
     ]
    },
    {
     "name": "stdout",
     "output_type": "stream",
     "text": [
      "Оценка RMSE: 1876.1344231526134\n"
     ]
    },
    {
     "name": "stderr",
     "output_type": "stream",
     "text": [
      "\n"
     ]
    }
   ],
   "source": [
    "for i in tqdm(range(10)):\n",
    "    predictions_valid_4 = model_4.predict(ft_valid_oe)\n",
    "score_4 = mean_squared_error(tg_valid_oe, predictions_valid_4,squared=False)\n",
    "\n",
    "print('Оценка RMSE:', score_4)"
   ]
  },
  {
   "cell_type": "markdown",
   "metadata": {},
   "source": [
    "Мы выделили обучающий датасет, построили 4 модели и от каждой получили метрики RMSE. Далее оценими каждую из моделей и сравним их."
   ]
  },
  {
   "cell_type": "markdown",
   "metadata": {},
   "source": [
    "## Анализ моделей"
   ]
  },
  {
   "cell_type": "markdown",
   "metadata": {},
   "source": [
    "Составим сравнительную таблицу для следующих показателей моделей: время обучения, время предсказания и качество моделей"
   ]
  },
  {
   "cell_type": "code",
   "execution_count": 348,
   "metadata": {},
   "outputs": [
    {
     "data": {
      "text/html": [
       "<div>\n",
       "<style scoped>\n",
       "    .dataframe tbody tr th:only-of-type {\n",
       "        vertical-align: middle;\n",
       "    }\n",
       "\n",
       "    .dataframe tbody tr th {\n",
       "        vertical-align: top;\n",
       "    }\n",
       "\n",
       "    .dataframe thead th {\n",
       "        text-align: right;\n",
       "    }\n",
       "</style>\n",
       "<table border=\"1\" class=\"dataframe\">\n",
       "  <thead>\n",
       "    <tr style=\"text-align: right;\">\n",
       "      <th></th>\n",
       "      <th>№ Модели</th>\n",
       "      <th>Модель</th>\n",
       "      <th>Время обучения, мин.</th>\n",
       "      <th>Время предсказания, мин.</th>\n",
       "      <th>Значение RMSE</th>\n",
       "    </tr>\n",
       "  </thead>\n",
       "  <tbody>\n",
       "    <tr>\n",
       "      <th>0</th>\n",
       "      <td>1</td>\n",
       "      <td>Линейная регрессия</td>\n",
       "      <td>0.21</td>\n",
       "      <td>0.02</td>\n",
       "      <td>2974</td>\n",
       "    </tr>\n",
       "    <tr>\n",
       "      <th>1</th>\n",
       "      <td>2</td>\n",
       "      <td>Модель дерева решений</td>\n",
       "      <td>17</td>\n",
       "      <td>0.01</td>\n",
       "      <td>2019</td>\n",
       "    </tr>\n",
       "    <tr>\n",
       "      <th>2</th>\n",
       "      <td>3</td>\n",
       "      <td>Модель случайного леса</td>\n",
       "      <td>около 120</td>\n",
       "      <td>около 30</td>\n",
       "      <td>1637</td>\n",
       "    </tr>\n",
       "    <tr>\n",
       "      <th>3</th>\n",
       "      <td>4</td>\n",
       "      <td>LGBM</td>\n",
       "      <td>9</td>\n",
       "      <td>0.02</td>\n",
       "      <td>1956</td>\n",
       "    </tr>\n",
       "  </tbody>\n",
       "</table>\n",
       "</div>"
      ],
      "text/plain": [
       "   № Модели                  Модель Время обучения, мин.  \\\n",
       "0         1      Линейная регрессия                 0.21   \n",
       "1         2   Модель дерева решений                   17   \n",
       "2         3  Модель случайного леса            около 120   \n",
       "3         4                    LGBM                    9   \n",
       "\n",
       "  Время предсказания, мин.  Значение RMSE  \n",
       "0                     0.02           2974  \n",
       "1                     0.01           2019  \n",
       "2                 около 30           1637  \n",
       "3                     0.02           1956  "
      ]
     },
     "metadata": {},
     "output_type": "display_data"
    }
   ],
   "source": [
    "final_results = pd.DataFrame([[1,'Линейная регрессия',0.35,0.02,2388],\n",
    "                  [2,'Модель дерева решений', 3.25, 0.01, 1982],\n",
    "                  [3,'Модель случайного леса', 46.28, 0.8, 1622],\n",
    "                  [4,'LGBM', 5.43,0.01, 1876]], \n",
    "columns=['№ Модели','Модель', 'Время обучения, мин.','Время предсказания, мин.','Значение RMSE'])\n",
    "\n",
    "display(final_results)"
   ]
  },
  {
   "cell_type": "markdown",
   "metadata": {},
   "source": [
    "Сравнительная таблица показывает, что линейная регрессия не подходит т.к. дает слишком высокий RMS. Модель случайного леса также не применима из-за высоких показателей времени обработки кода. Остаются модели 2 и 4, из которых лучший результат показывает модель LGBM из-за высоких показателей обработки кода и более высокой точности. Протестируем наилучшую модель на тестовой выборке."
   ]
  },
  {
   "cell_type": "code",
   "execution_count": 76,
   "metadata": {},
   "outputs": [
    {
     "name": "stderr",
     "output_type": "stream",
     "text": [
      "100%|██████████| 10/10 [00:01<00:00,  9.21it/s]"
     ]
    },
    {
     "name": "stdout",
     "output_type": "stream",
     "text": [
      "Тестовая оценка RMSE: 1869.271507789008\n"
     ]
    },
    {
     "name": "stderr",
     "output_type": "stream",
     "text": [
      "\n"
     ]
    }
   ],
   "source": [
    "for i in tqdm(range(10)):\n",
    "    predictions_test = model_4.predict(ft_test_oe)\n",
    "score_test = mean_squared_error(tg_test_oe, predictions_test,squared=False)\n",
    "\n",
    "print('Тестовая оценка RMSE:', score_test)"
   ]
  },
  {
   "cell_type": "markdown",
   "metadata": {},
   "source": [
    "Оценка RMSE модели LGBM на тестовой выборке показала приемлемое значение RMSE. Таким образом, рекомендуется модель 4 LGBM."
   ]
  },
  {
   "cell_type": "markdown",
   "metadata": {},
   "source": [
    "**Общий вывод**\n",
    "\n",
    "Мы проанализировали датасет для предсказания рыночной стоимости автомобиля. В ходе предобработки было отброшено 20% данных от общей длиный датасета. Было построено 4 модели, каждая протестирован на валидационной выборке. Рекомендована модель LGBM, она показала наилучший результат, выиграв и по скорости выполнения кода, и по точности предсказаний. Тест модели не показал значительного ухудшения метрики RMSE."
   ]
  }
 ],
 "metadata": {
  "ExecuteTimeLog": [
   {
    "duration": 4,
    "start_time": "2022-09-04T13:04:25.013Z"
   }
  ],
  "kernelspec": {
   "display_name": "Python 3 (ipykernel)",
   "language": "python",
   "name": "python3"
  },
  "language_info": {
   "codemirror_mode": {
    "name": "ipython",
    "version": 3
   },
   "file_extension": ".py",
   "mimetype": "text/x-python",
   "name": "python",
   "nbconvert_exporter": "python",
   "pygments_lexer": "ipython3",
   "version": "3.9.13"
  },
  "toc": {
   "base_numbering": 1,
   "nav_menu": {},
   "number_sections": true,
   "sideBar": true,
   "skip_h1_title": true,
   "title_cell": "Table of Contents",
   "title_sidebar": "Contents",
   "toc_cell": false,
   "toc_position": {},
   "toc_section_display": true,
   "toc_window_display": false
  }
 },
 "nbformat": 4,
 "nbformat_minor": 2
}
