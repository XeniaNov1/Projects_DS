{
 "cells": [
  {
   "cell_type": "markdown",
   "id": "fe8ef360",
   "metadata": {},
   "source": [
    "# Сборный проект"
   ]
  },
  {
   "cell_type": "markdown",
   "id": "aedcd8c2",
   "metadata": {},
   "source": [
    "Из открытых источников доступны исторические данные о продажах игр, оценки пользователей и экспертов, жанры и платформы (например, Xbox или PlayStation) до декабря 2016 года. Вам нужно выявить определяющие успешность игры закономерности. \n",
    "Сделать ставку на потенциально популярный продукт и спланировать рекламные кампании на 2017 год.\n"
   ]
  },
  {
   "cell_type": "code",
   "execution_count": 1,
   "id": "160cc7c6",
   "metadata": {},
   "outputs": [],
   "source": [
    "import pandas as pd\n",
    "import math as mt\n",
    "import numpy as np\n",
    "import matplotlib.pyplot as plt\n",
    "import datetime as dt\n",
    "from scipy import stats as st"
   ]
  },
  {
   "cell_type": "code",
   "execution_count": 2,
   "id": "85d7fcf3",
   "metadata": {},
   "outputs": [
    {
     "data": {
      "text/html": [
       "<div>\n",
       "<style scoped>\n",
       "    .dataframe tbody tr th:only-of-type {\n",
       "        vertical-align: middle;\n",
       "    }\n",
       "\n",
       "    .dataframe tbody tr th {\n",
       "        vertical-align: top;\n",
       "    }\n",
       "\n",
       "    .dataframe thead th {\n",
       "        text-align: right;\n",
       "    }\n",
       "</style>\n",
       "<table border=\"1\" class=\"dataframe\">\n",
       "  <thead>\n",
       "    <tr style=\"text-align: right;\">\n",
       "      <th></th>\n",
       "      <th>Name</th>\n",
       "      <th>Platform</th>\n",
       "      <th>Year_of_Release</th>\n",
       "      <th>Genre</th>\n",
       "      <th>NA_sales</th>\n",
       "      <th>EU_sales</th>\n",
       "      <th>JP_sales</th>\n",
       "      <th>Other_sales</th>\n",
       "      <th>Critic_Score</th>\n",
       "      <th>User_Score</th>\n",
       "      <th>Rating</th>\n",
       "    </tr>\n",
       "  </thead>\n",
       "  <tbody>\n",
       "    <tr>\n",
       "      <th>0</th>\n",
       "      <td>Wii Sports</td>\n",
       "      <td>Wii</td>\n",
       "      <td>2006.0</td>\n",
       "      <td>Sports</td>\n",
       "      <td>41.36</td>\n",
       "      <td>28.96</td>\n",
       "      <td>3.77</td>\n",
       "      <td>8.45</td>\n",
       "      <td>76.0</td>\n",
       "      <td>8</td>\n",
       "      <td>E</td>\n",
       "    </tr>\n",
       "    <tr>\n",
       "      <th>1</th>\n",
       "      <td>Super Mario Bros.</td>\n",
       "      <td>NES</td>\n",
       "      <td>1985.0</td>\n",
       "      <td>Platform</td>\n",
       "      <td>29.08</td>\n",
       "      <td>3.58</td>\n",
       "      <td>6.81</td>\n",
       "      <td>0.77</td>\n",
       "      <td>NaN</td>\n",
       "      <td>NaN</td>\n",
       "      <td>NaN</td>\n",
       "    </tr>\n",
       "    <tr>\n",
       "      <th>2</th>\n",
       "      <td>Mario Kart Wii</td>\n",
       "      <td>Wii</td>\n",
       "      <td>2008.0</td>\n",
       "      <td>Racing</td>\n",
       "      <td>15.68</td>\n",
       "      <td>12.76</td>\n",
       "      <td>3.79</td>\n",
       "      <td>3.29</td>\n",
       "      <td>82.0</td>\n",
       "      <td>8.3</td>\n",
       "      <td>E</td>\n",
       "    </tr>\n",
       "    <tr>\n",
       "      <th>3</th>\n",
       "      <td>Wii Sports Resort</td>\n",
       "      <td>Wii</td>\n",
       "      <td>2009.0</td>\n",
       "      <td>Sports</td>\n",
       "      <td>15.61</td>\n",
       "      <td>10.93</td>\n",
       "      <td>3.28</td>\n",
       "      <td>2.95</td>\n",
       "      <td>80.0</td>\n",
       "      <td>8</td>\n",
       "      <td>E</td>\n",
       "    </tr>\n",
       "    <tr>\n",
       "      <th>4</th>\n",
       "      <td>Pokemon Red/Pokemon Blue</td>\n",
       "      <td>GB</td>\n",
       "      <td>1996.0</td>\n",
       "      <td>Role-Playing</td>\n",
       "      <td>11.27</td>\n",
       "      <td>8.89</td>\n",
       "      <td>10.22</td>\n",
       "      <td>1.00</td>\n",
       "      <td>NaN</td>\n",
       "      <td>NaN</td>\n",
       "      <td>NaN</td>\n",
       "    </tr>\n",
       "    <tr>\n",
       "      <th>5</th>\n",
       "      <td>Tetris</td>\n",
       "      <td>GB</td>\n",
       "      <td>1989.0</td>\n",
       "      <td>Puzzle</td>\n",
       "      <td>23.20</td>\n",
       "      <td>2.26</td>\n",
       "      <td>4.22</td>\n",
       "      <td>0.58</td>\n",
       "      <td>NaN</td>\n",
       "      <td>NaN</td>\n",
       "      <td>NaN</td>\n",
       "    </tr>\n",
       "    <tr>\n",
       "      <th>6</th>\n",
       "      <td>New Super Mario Bros.</td>\n",
       "      <td>DS</td>\n",
       "      <td>2006.0</td>\n",
       "      <td>Platform</td>\n",
       "      <td>11.28</td>\n",
       "      <td>9.14</td>\n",
       "      <td>6.50</td>\n",
       "      <td>2.88</td>\n",
       "      <td>89.0</td>\n",
       "      <td>8.5</td>\n",
       "      <td>E</td>\n",
       "    </tr>\n",
       "    <tr>\n",
       "      <th>7</th>\n",
       "      <td>Wii Play</td>\n",
       "      <td>Wii</td>\n",
       "      <td>2006.0</td>\n",
       "      <td>Misc</td>\n",
       "      <td>13.96</td>\n",
       "      <td>9.18</td>\n",
       "      <td>2.93</td>\n",
       "      <td>2.84</td>\n",
       "      <td>58.0</td>\n",
       "      <td>6.6</td>\n",
       "      <td>E</td>\n",
       "    </tr>\n",
       "    <tr>\n",
       "      <th>8</th>\n",
       "      <td>New Super Mario Bros. Wii</td>\n",
       "      <td>Wii</td>\n",
       "      <td>2009.0</td>\n",
       "      <td>Platform</td>\n",
       "      <td>14.44</td>\n",
       "      <td>6.94</td>\n",
       "      <td>4.70</td>\n",
       "      <td>2.24</td>\n",
       "      <td>87.0</td>\n",
       "      <td>8.4</td>\n",
       "      <td>E</td>\n",
       "    </tr>\n",
       "    <tr>\n",
       "      <th>9</th>\n",
       "      <td>Duck Hunt</td>\n",
       "      <td>NES</td>\n",
       "      <td>1984.0</td>\n",
       "      <td>Shooter</td>\n",
       "      <td>26.93</td>\n",
       "      <td>0.63</td>\n",
       "      <td>0.28</td>\n",
       "      <td>0.47</td>\n",
       "      <td>NaN</td>\n",
       "      <td>NaN</td>\n",
       "      <td>NaN</td>\n",
       "    </tr>\n",
       "    <tr>\n",
       "      <th>10</th>\n",
       "      <td>Nintendogs</td>\n",
       "      <td>DS</td>\n",
       "      <td>2005.0</td>\n",
       "      <td>Simulation</td>\n",
       "      <td>9.05</td>\n",
       "      <td>10.95</td>\n",
       "      <td>1.93</td>\n",
       "      <td>2.74</td>\n",
       "      <td>NaN</td>\n",
       "      <td>NaN</td>\n",
       "      <td>NaN</td>\n",
       "    </tr>\n",
       "    <tr>\n",
       "      <th>11</th>\n",
       "      <td>Mario Kart DS</td>\n",
       "      <td>DS</td>\n",
       "      <td>2005.0</td>\n",
       "      <td>Racing</td>\n",
       "      <td>9.71</td>\n",
       "      <td>7.47</td>\n",
       "      <td>4.13</td>\n",
       "      <td>1.90</td>\n",
       "      <td>91.0</td>\n",
       "      <td>8.6</td>\n",
       "      <td>E</td>\n",
       "    </tr>\n",
       "    <tr>\n",
       "      <th>12</th>\n",
       "      <td>Pokemon Gold/Pokemon Silver</td>\n",
       "      <td>GB</td>\n",
       "      <td>1999.0</td>\n",
       "      <td>Role-Playing</td>\n",
       "      <td>9.00</td>\n",
       "      <td>6.18</td>\n",
       "      <td>7.20</td>\n",
       "      <td>0.71</td>\n",
       "      <td>NaN</td>\n",
       "      <td>NaN</td>\n",
       "      <td>NaN</td>\n",
       "    </tr>\n",
       "    <tr>\n",
       "      <th>13</th>\n",
       "      <td>Wii Fit</td>\n",
       "      <td>Wii</td>\n",
       "      <td>2007.0</td>\n",
       "      <td>Sports</td>\n",
       "      <td>8.92</td>\n",
       "      <td>8.03</td>\n",
       "      <td>3.60</td>\n",
       "      <td>2.15</td>\n",
       "      <td>80.0</td>\n",
       "      <td>7.7</td>\n",
       "      <td>E</td>\n",
       "    </tr>\n",
       "    <tr>\n",
       "      <th>14</th>\n",
       "      <td>Kinect Adventures!</td>\n",
       "      <td>X360</td>\n",
       "      <td>2010.0</td>\n",
       "      <td>Misc</td>\n",
       "      <td>15.00</td>\n",
       "      <td>4.89</td>\n",
       "      <td>0.24</td>\n",
       "      <td>1.69</td>\n",
       "      <td>61.0</td>\n",
       "      <td>6.3</td>\n",
       "      <td>E</td>\n",
       "    </tr>\n",
       "    <tr>\n",
       "      <th>15</th>\n",
       "      <td>Wii Fit Plus</td>\n",
       "      <td>Wii</td>\n",
       "      <td>2009.0</td>\n",
       "      <td>Sports</td>\n",
       "      <td>9.01</td>\n",
       "      <td>8.49</td>\n",
       "      <td>2.53</td>\n",
       "      <td>1.77</td>\n",
       "      <td>80.0</td>\n",
       "      <td>7.4</td>\n",
       "      <td>E</td>\n",
       "    </tr>\n",
       "    <tr>\n",
       "      <th>16</th>\n",
       "      <td>Grand Theft Auto V</td>\n",
       "      <td>PS3</td>\n",
       "      <td>2013.0</td>\n",
       "      <td>Action</td>\n",
       "      <td>7.02</td>\n",
       "      <td>9.09</td>\n",
       "      <td>0.98</td>\n",
       "      <td>3.96</td>\n",
       "      <td>97.0</td>\n",
       "      <td>8.2</td>\n",
       "      <td>M</td>\n",
       "    </tr>\n",
       "    <tr>\n",
       "      <th>17</th>\n",
       "      <td>Grand Theft Auto: San Andreas</td>\n",
       "      <td>PS2</td>\n",
       "      <td>2004.0</td>\n",
       "      <td>Action</td>\n",
       "      <td>9.43</td>\n",
       "      <td>0.40</td>\n",
       "      <td>0.41</td>\n",
       "      <td>10.57</td>\n",
       "      <td>95.0</td>\n",
       "      <td>9</td>\n",
       "      <td>M</td>\n",
       "    </tr>\n",
       "    <tr>\n",
       "      <th>18</th>\n",
       "      <td>Super Mario World</td>\n",
       "      <td>SNES</td>\n",
       "      <td>1990.0</td>\n",
       "      <td>Platform</td>\n",
       "      <td>12.78</td>\n",
       "      <td>3.75</td>\n",
       "      <td>3.54</td>\n",
       "      <td>0.55</td>\n",
       "      <td>NaN</td>\n",
       "      <td>NaN</td>\n",
       "      <td>NaN</td>\n",
       "    </tr>\n",
       "    <tr>\n",
       "      <th>19</th>\n",
       "      <td>Brain Age: Train Your Brain in Minutes a Day</td>\n",
       "      <td>DS</td>\n",
       "      <td>2005.0</td>\n",
       "      <td>Misc</td>\n",
       "      <td>4.74</td>\n",
       "      <td>9.20</td>\n",
       "      <td>4.16</td>\n",
       "      <td>2.04</td>\n",
       "      <td>77.0</td>\n",
       "      <td>7.9</td>\n",
       "      <td>E</td>\n",
       "    </tr>\n",
       "  </tbody>\n",
       "</table>\n",
       "</div>"
      ],
      "text/plain": [
       "                                            Name Platform  Year_of_Release  \\\n",
       "0                                     Wii Sports      Wii           2006.0   \n",
       "1                              Super Mario Bros.      NES           1985.0   \n",
       "2                                 Mario Kart Wii      Wii           2008.0   \n",
       "3                              Wii Sports Resort      Wii           2009.0   \n",
       "4                       Pokemon Red/Pokemon Blue       GB           1996.0   \n",
       "5                                         Tetris       GB           1989.0   \n",
       "6                          New Super Mario Bros.       DS           2006.0   \n",
       "7                                       Wii Play      Wii           2006.0   \n",
       "8                      New Super Mario Bros. Wii      Wii           2009.0   \n",
       "9                                      Duck Hunt      NES           1984.0   \n",
       "10                                    Nintendogs       DS           2005.0   \n",
       "11                                 Mario Kart DS       DS           2005.0   \n",
       "12                   Pokemon Gold/Pokemon Silver       GB           1999.0   \n",
       "13                                       Wii Fit      Wii           2007.0   \n",
       "14                            Kinect Adventures!     X360           2010.0   \n",
       "15                                  Wii Fit Plus      Wii           2009.0   \n",
       "16                            Grand Theft Auto V      PS3           2013.0   \n",
       "17                 Grand Theft Auto: San Andreas      PS2           2004.0   \n",
       "18                             Super Mario World     SNES           1990.0   \n",
       "19  Brain Age: Train Your Brain in Minutes a Day       DS           2005.0   \n",
       "\n",
       "           Genre  NA_sales  EU_sales  JP_sales  Other_sales  Critic_Score  \\\n",
       "0         Sports     41.36     28.96      3.77         8.45          76.0   \n",
       "1       Platform     29.08      3.58      6.81         0.77           NaN   \n",
       "2         Racing     15.68     12.76      3.79         3.29          82.0   \n",
       "3         Sports     15.61     10.93      3.28         2.95          80.0   \n",
       "4   Role-Playing     11.27      8.89     10.22         1.00           NaN   \n",
       "5         Puzzle     23.20      2.26      4.22         0.58           NaN   \n",
       "6       Platform     11.28      9.14      6.50         2.88          89.0   \n",
       "7           Misc     13.96      9.18      2.93         2.84          58.0   \n",
       "8       Platform     14.44      6.94      4.70         2.24          87.0   \n",
       "9        Shooter     26.93      0.63      0.28         0.47           NaN   \n",
       "10    Simulation      9.05     10.95      1.93         2.74           NaN   \n",
       "11        Racing      9.71      7.47      4.13         1.90          91.0   \n",
       "12  Role-Playing      9.00      6.18      7.20         0.71           NaN   \n",
       "13        Sports      8.92      8.03      3.60         2.15          80.0   \n",
       "14          Misc     15.00      4.89      0.24         1.69          61.0   \n",
       "15        Sports      9.01      8.49      2.53         1.77          80.0   \n",
       "16        Action      7.02      9.09      0.98         3.96          97.0   \n",
       "17        Action      9.43      0.40      0.41        10.57          95.0   \n",
       "18      Platform     12.78      3.75      3.54         0.55           NaN   \n",
       "19          Misc      4.74      9.20      4.16         2.04          77.0   \n",
       "\n",
       "   User_Score Rating  \n",
       "0           8      E  \n",
       "1         NaN    NaN  \n",
       "2         8.3      E  \n",
       "3           8      E  \n",
       "4         NaN    NaN  \n",
       "5         NaN    NaN  \n",
       "6         8.5      E  \n",
       "7         6.6      E  \n",
       "8         8.4      E  \n",
       "9         NaN    NaN  \n",
       "10        NaN    NaN  \n",
       "11        8.6      E  \n",
       "12        NaN    NaN  \n",
       "13        7.7      E  \n",
       "14        6.3      E  \n",
       "15        7.4      E  \n",
       "16        8.2      M  \n",
       "17          9      M  \n",
       "18        NaN    NaN  \n",
       "19        7.9      E  "
      ]
     },
     "metadata": {},
     "output_type": "display_data"
    },
    {
     "name": "stdout",
     "output_type": "stream",
     "text": [
      "<class 'pandas.core.frame.DataFrame'>\n",
      "RangeIndex: 16715 entries, 0 to 16714\n",
      "Data columns (total 11 columns):\n",
      " #   Column           Non-Null Count  Dtype  \n",
      "---  ------           --------------  -----  \n",
      " 0   Name             16713 non-null  object \n",
      " 1   Platform         16715 non-null  object \n",
      " 2   Year_of_Release  16446 non-null  float64\n",
      " 3   Genre            16713 non-null  object \n",
      " 4   NA_sales         16715 non-null  float64\n",
      " 5   EU_sales         16715 non-null  float64\n",
      " 6   JP_sales         16715 non-null  float64\n",
      " 7   Other_sales      16715 non-null  float64\n",
      " 8   Critic_Score     8137 non-null   float64\n",
      " 9   User_Score       10014 non-null  object \n",
      " 10  Rating           9949 non-null   object \n",
      "dtypes: float64(6), object(5)\n",
      "memory usage: 1.4+ MB\n"
     ]
    },
    {
     "data": {
      "text/plain": [
       "None"
      ]
     },
     "metadata": {},
     "output_type": "display_data"
    },
    {
     "data": {
      "text/html": [
       "<div>\n",
       "<style scoped>\n",
       "    .dataframe tbody tr th:only-of-type {\n",
       "        vertical-align: middle;\n",
       "    }\n",
       "\n",
       "    .dataframe tbody tr th {\n",
       "        vertical-align: top;\n",
       "    }\n",
       "\n",
       "    .dataframe thead th {\n",
       "        text-align: right;\n",
       "    }\n",
       "</style>\n",
       "<table border=\"1\" class=\"dataframe\">\n",
       "  <thead>\n",
       "    <tr style=\"text-align: right;\">\n",
       "      <th></th>\n",
       "      <th>Year_of_Release</th>\n",
       "      <th>NA_sales</th>\n",
       "      <th>EU_sales</th>\n",
       "      <th>JP_sales</th>\n",
       "      <th>Other_sales</th>\n",
       "      <th>Critic_Score</th>\n",
       "    </tr>\n",
       "  </thead>\n",
       "  <tbody>\n",
       "    <tr>\n",
       "      <th>count</th>\n",
       "      <td>16446.000000</td>\n",
       "      <td>16715.000000</td>\n",
       "      <td>16715.000000</td>\n",
       "      <td>16715.000000</td>\n",
       "      <td>16715.000000</td>\n",
       "      <td>8137.000000</td>\n",
       "    </tr>\n",
       "    <tr>\n",
       "      <th>mean</th>\n",
       "      <td>2006.484616</td>\n",
       "      <td>0.263377</td>\n",
       "      <td>0.145060</td>\n",
       "      <td>0.077617</td>\n",
       "      <td>0.047342</td>\n",
       "      <td>68.967679</td>\n",
       "    </tr>\n",
       "    <tr>\n",
       "      <th>std</th>\n",
       "      <td>5.877050</td>\n",
       "      <td>0.813604</td>\n",
       "      <td>0.503339</td>\n",
       "      <td>0.308853</td>\n",
       "      <td>0.186731</td>\n",
       "      <td>13.938165</td>\n",
       "    </tr>\n",
       "    <tr>\n",
       "      <th>min</th>\n",
       "      <td>1980.000000</td>\n",
       "      <td>0.000000</td>\n",
       "      <td>0.000000</td>\n",
       "      <td>0.000000</td>\n",
       "      <td>0.000000</td>\n",
       "      <td>13.000000</td>\n",
       "    </tr>\n",
       "    <tr>\n",
       "      <th>25%</th>\n",
       "      <td>2003.000000</td>\n",
       "      <td>0.000000</td>\n",
       "      <td>0.000000</td>\n",
       "      <td>0.000000</td>\n",
       "      <td>0.000000</td>\n",
       "      <td>60.000000</td>\n",
       "    </tr>\n",
       "    <tr>\n",
       "      <th>50%</th>\n",
       "      <td>2007.000000</td>\n",
       "      <td>0.080000</td>\n",
       "      <td>0.020000</td>\n",
       "      <td>0.000000</td>\n",
       "      <td>0.010000</td>\n",
       "      <td>71.000000</td>\n",
       "    </tr>\n",
       "    <tr>\n",
       "      <th>75%</th>\n",
       "      <td>2010.000000</td>\n",
       "      <td>0.240000</td>\n",
       "      <td>0.110000</td>\n",
       "      <td>0.040000</td>\n",
       "      <td>0.030000</td>\n",
       "      <td>79.000000</td>\n",
       "    </tr>\n",
       "    <tr>\n",
       "      <th>max</th>\n",
       "      <td>2016.000000</td>\n",
       "      <td>41.360000</td>\n",
       "      <td>28.960000</td>\n",
       "      <td>10.220000</td>\n",
       "      <td>10.570000</td>\n",
       "      <td>98.000000</td>\n",
       "    </tr>\n",
       "  </tbody>\n",
       "</table>\n",
       "</div>"
      ],
      "text/plain": [
       "       Year_of_Release      NA_sales      EU_sales      JP_sales  \\\n",
       "count     16446.000000  16715.000000  16715.000000  16715.000000   \n",
       "mean       2006.484616      0.263377      0.145060      0.077617   \n",
       "std           5.877050      0.813604      0.503339      0.308853   \n",
       "min        1980.000000      0.000000      0.000000      0.000000   \n",
       "25%        2003.000000      0.000000      0.000000      0.000000   \n",
       "50%        2007.000000      0.080000      0.020000      0.000000   \n",
       "75%        2010.000000      0.240000      0.110000      0.040000   \n",
       "max        2016.000000     41.360000     28.960000     10.220000   \n",
       "\n",
       "        Other_sales  Critic_Score  \n",
       "count  16715.000000   8137.000000  \n",
       "mean       0.047342     68.967679  \n",
       "std        0.186731     13.938165  \n",
       "min        0.000000     13.000000  \n",
       "25%        0.000000     60.000000  \n",
       "50%        0.010000     71.000000  \n",
       "75%        0.030000     79.000000  \n",
       "max       10.570000     98.000000  "
      ]
     },
     "metadata": {},
     "output_type": "display_data"
    }
   ],
   "source": [
    "try:\n",
    "    games = pd.read_csv('/datasets/games.csv')\n",
    "except:\n",
    "    games = pd.read_csv('/Users/knovikova/Downloads/games.csv')\n",
    "    \n",
    "display(games.head(20))\n",
    "display(games.info())\n",
    "display(games.describe())"
   ]
  },
  {
   "cell_type": "markdown",
   "id": "b897f0be",
   "metadata": {},
   "source": [
    "Описание данных\n",
    "- Name — название игры\n",
    "- Platform — платформа\n",
    "- Year_of_Release — год выпуска\n",
    "- Genre — жанр игры\n",
    "- NA_sales — продажи в Северной Америке (миллионы проданных копий)\n",
    "- EU_sales — продажи в Европе (миллионы проданных копий)\n",
    "- JP_sales — продажи в Японии (миллионы проданных копий)\n",
    "- Other_sales — продажи в других странах (миллионы проданных копий)\n",
    "- Critic_Score — оценка критиков (максимум 100)\n",
    "- User_Score — оценка пользователей (максимум 10)\n",
    "- Rating — рейтинг от организации ESRB (англ. Entertainment Software Rating Board). Эта ассоциация определяет рейтинг компьютерных игр и присваивает им подходящую возрастную категорию."
   ]
  },
  {
   "cell_type": "markdown",
   "id": "7ec11cc0",
   "metadata": {},
   "source": [
    "Общие пункты по таблице:\n",
    "\n",
    "- Разный регистр в названиях колонок\n",
    "- Пустые значения в в столбцах Name, Year_of_Release, Genre, Critic_Score, User_Score и Rating\n",
    "- Следует изменить тип данных в столбцах: Year_of_Release, User_Score\n",
    "- Год релиза игр в выборке от 1980 - 2016 гг.\n",
    "- Странных больших/ маленьких значений не замечено"
   ]
  },
  {
   "cell_type": "markdown",
   "id": "4fa575dc",
   "metadata": {},
   "source": [
    "## Предобработка данных"
   ]
  },
  {
   "cell_type": "markdown",
   "id": "c14943c0",
   "metadata": {},
   "source": [
    "Заменим регистр названий столбцов"
   ]
  },
  {
   "cell_type": "code",
   "execution_count": 3,
   "id": "c809e519",
   "metadata": {},
   "outputs": [
    {
     "data": {
      "text/plain": [
       "Index(['name', 'platform', 'year_of_release', 'genre', 'na_sales', 'eu_sales',\n",
       "       'jp_sales', 'other_sales', 'critic_score', 'user_score', 'rating'],\n",
       "      dtype='object')"
      ]
     },
     "metadata": {},
     "output_type": "display_data"
    }
   ],
   "source": [
    "games.columns = ['name', 'platform', 'year_of_release', 'genre', 'na_sales', 'eu_sales',\n",
    "       'jp_sales', 'other_sales', 'critic_score', 'user_score', 'rating']\n",
    "display(games.columns)"
   ]
  },
  {
   "cell_type": "markdown",
   "id": "d68ed92c",
   "metadata": {},
   "source": [
    "Заполним пропуски чтобы изменить тип данных в нужных столбцах.\n",
    "\n",
    "Строки в пропусками в столбцах name, year_of_release и genre следует удалить т.к. кол-во пропусков незначительно и заменить пропуски на среднее/ноль или оставить как есть было бы некорректно."
   ]
  },
  {
   "cell_type": "code",
   "execution_count": 4,
   "id": "51b33e6f",
   "metadata": {},
   "outputs": [
    {
     "name": "stdout",
     "output_type": "stream",
     "text": [
      "<class 'pandas.core.frame.DataFrame'>\n",
      "RangeIndex: 16444 entries, 0 to 16443\n",
      "Data columns (total 12 columns):\n",
      " #   Column           Non-Null Count  Dtype  \n",
      "---  ------           --------------  -----  \n",
      " 0   index            16444 non-null  int64  \n",
      " 1   name             16444 non-null  object \n",
      " 2   platform         16444 non-null  object \n",
      " 3   year_of_release  16444 non-null  float64\n",
      " 4   genre            16444 non-null  object \n",
      " 5   na_sales         16444 non-null  float64\n",
      " 6   eu_sales         16444 non-null  float64\n",
      " 7   jp_sales         16444 non-null  float64\n",
      " 8   other_sales      16444 non-null  float64\n",
      " 9   critic_score     7983 non-null   float64\n",
      " 10  user_score       9839 non-null   object \n",
      " 11  rating           9768 non-null   object \n",
      "dtypes: float64(6), int64(1), object(5)\n",
      "memory usage: 1.5+ MB\n"
     ]
    }
   ],
   "source": [
    "games = games.dropna(subset=['name', 'year_of_release', 'genre']).reset_index()\n",
    "games.info()"
   ]
  },
  {
   "cell_type": "markdown",
   "id": "37c33e60",
   "metadata": {},
   "source": [
    "Я думаю, что заполнять пропуски в данных Critic_Score и User_Score следует 0 т.к. обычно такая оценка формируется как среднее арифметическое по кол-ву игроков и их оценке, ноль означает, что игра еще не получила оценок пользователей.\n",
    "\n",
    "Столбец Rating следует оставить с пустыми значениями т.к. пустое место означает, что агентство еще не сформировало рейтинг игре."
   ]
  },
  {
   "cell_type": "code",
   "execution_count": 5,
   "id": "8e86afe1",
   "metadata": {},
   "outputs": [
    {
     "name": "stdout",
     "output_type": "stream",
     "text": [
      "<class 'pandas.core.frame.DataFrame'>\n",
      "RangeIndex: 16444 entries, 0 to 16443\n",
      "Data columns (total 12 columns):\n",
      " #   Column           Non-Null Count  Dtype  \n",
      "---  ------           --------------  -----  \n",
      " 0   index            16444 non-null  int64  \n",
      " 1   name             16444 non-null  object \n",
      " 2   platform         16444 non-null  object \n",
      " 3   year_of_release  16444 non-null  float64\n",
      " 4   genre            16444 non-null  object \n",
      " 5   na_sales         16444 non-null  float64\n",
      " 6   eu_sales         16444 non-null  float64\n",
      " 7   jp_sales         16444 non-null  float64\n",
      " 8   other_sales      16444 non-null  float64\n",
      " 9   critic_score     16444 non-null  float64\n",
      " 10  user_score       16444 non-null  object \n",
      " 11  rating           16444 non-null  object \n",
      "dtypes: float64(6), int64(1), object(5)\n",
      "memory usage: 1.5+ MB\n"
     ]
    },
    {
     "data": {
      "text/plain": [
       "None"
      ]
     },
     "metadata": {},
     "output_type": "display_data"
    }
   ],
   "source": [
    "games[['critic_score', 'user_score']] = games[['critic_score', 'user_score']].fillna(0)\n",
    "games['rating'] = games['rating'].fillna('unknown')\n",
    "display(games.info())"
   ]
  },
  {
   "cell_type": "markdown",
   "id": "ea1bed0a",
   "metadata": {},
   "source": [
    "Изменим тип данных в столбце year_of_release с float на int т.к. в этом столбце не может быть дробных значений. "
   ]
  },
  {
   "cell_type": "code",
   "execution_count": 6,
   "id": "42e5a437",
   "metadata": {},
   "outputs": [],
   "source": [
    "games['year_of_release'] = games['year_of_release'].astype('int')"
   ]
  },
  {
   "cell_type": "markdown",
   "id": "ebb67910",
   "metadata": {},
   "source": [
    "Далее, посмотрим, почему столбцы user_score и rating имеют тип данных Объект"
   ]
  },
  {
   "cell_type": "code",
   "execution_count": 7,
   "id": "4bc93409",
   "metadata": {},
   "outputs": [
    {
     "data": {
      "text/plain": [
       "0      6605\n",
       "tbd    2376\n",
       "7.8     322\n",
       "8       285\n",
       "8.2     276\n",
       "       ... \n",
       "1.5       2\n",
       "0.3       2\n",
       "1.1       2\n",
       "0         1\n",
       "9.7       1\n",
       "Name: user_score, Length: 97, dtype: int64"
      ]
     },
     "metadata": {},
     "output_type": "display_data"
    },
    {
     "data": {
      "text/plain": [
       "unknown    6676\n",
       "E          3921\n",
       "T          2905\n",
       "M          1536\n",
       "E10+       1393\n",
       "EC            8\n",
       "K-A           3\n",
       "AO            1\n",
       "RP            1\n",
       "Name: rating, dtype: int64"
      ]
     },
     "metadata": {},
     "output_type": "display_data"
    }
   ],
   "source": [
    "display(games['user_score'].value_counts())\n",
    "display(games['rating'].value_counts())"
   ]
  },
  {
   "cell_type": "markdown",
   "id": "384cdc29",
   "metadata": {},
   "source": [
    "Итак, мы видим 2376 оценок tbd, обычно под этой аббревиатурой по моему опыту понимается To Be Discussed, то есть скорее всего оценка находится на уточнении т.к. возможно не собрано достаточное кол-во данных для формирование оценки"
   ]
  },
  {
   "cell_type": "code",
   "execution_count": 8,
   "id": "18d09606",
   "metadata": {},
   "outputs": [
    {
     "data": {
      "text/plain": [
       "0.26       1\n",
       "0.20       1\n",
       "0.14       1\n",
       "0.15       1\n",
       "0.86       1\n",
       "0.47       1\n",
       "0.31       1\n",
       "0.10       1\n",
       "0.17       1\n",
       "0.16       2\n",
       "0.11       2\n",
       "0.13       2\n",
       "0.12       2\n",
       "0.08       2\n",
       "0.25       2\n",
       "0.18       2\n",
       "0.09       3\n",
       "0.04       5\n",
       "0.06       6\n",
       "0.05       7\n",
       "0.02      11\n",
       "0.03      11\n",
       "0.01      16\n",
       "0.00    2294\n",
       "Name: jp_sales, dtype: int64"
      ]
     },
     "metadata": {},
     "output_type": "display_data"
    }
   ],
   "source": [
    "display(games[games['user_score']=='tbd']['jp_sales'].value_counts().sort_values())"
   ]
  },
  {
   "cell_type": "markdown",
   "id": "35aaa74d",
   "metadata": {},
   "source": [
    "Перебрав столбцы датафрейма можно увидеть, что скорее всего рейтинг tbd стоит у игр, которые не смогли пока получить оценки пользователей со всех трех основных рынов сбыта: Северной Америке, Европе и Японии. В данном случае, в Японии и категории \"прочие страны\" у игр с рейтингом tbd мало продаж, то есть пока не собрана обратная связь от игроков.\n",
    "\n",
    "Предлагаю заполнить tbd нулем т.к. как было принято выше, в данном датафрейме ноль в рейтинге означает его отсутствие, а не низкий рейтинг игры. "
   ]
  },
  {
   "cell_type": "code",
   "execution_count": 9,
   "id": "0fccede5",
   "metadata": {},
   "outputs": [
    {
     "data": {
      "text/plain": [
       "0      8981\n",
       "7.8     322\n",
       "8       285\n",
       "8.2     276\n",
       "8.3     252\n",
       "       ... \n",
       "0.3       2\n",
       "1.3       2\n",
       "1.1       2\n",
       "0         1\n",
       "9.7       1\n",
       "Name: user_score, Length: 96, dtype: int64"
      ]
     },
     "metadata": {},
     "output_type": "display_data"
    }
   ],
   "source": [
    "games['user_score'] = games['user_score'].replace('tbd', 0)\n",
    "display(games['user_score'].value_counts())"
   ]
  },
  {
   "cell_type": "code",
   "execution_count": 10,
   "id": "2a9d8ff1",
   "metadata": {},
   "outputs": [
    {
     "name": "stdout",
     "output_type": "stream",
     "text": [
      "<class 'pandas.core.frame.DataFrame'>\n",
      "RangeIndex: 16444 entries, 0 to 16443\n",
      "Data columns (total 12 columns):\n",
      " #   Column           Non-Null Count  Dtype  \n",
      "---  ------           --------------  -----  \n",
      " 0   index            16444 non-null  int64  \n",
      " 1   name             16444 non-null  object \n",
      " 2   platform         16444 non-null  object \n",
      " 3   year_of_release  16444 non-null  int64  \n",
      " 4   genre            16444 non-null  object \n",
      " 5   na_sales         16444 non-null  float64\n",
      " 6   eu_sales         16444 non-null  float64\n",
      " 7   jp_sales         16444 non-null  float64\n",
      " 8   other_sales      16444 non-null  float64\n",
      " 9   critic_score     16444 non-null  float64\n",
      " 10  user_score       16444 non-null  float64\n",
      " 11  rating           16444 non-null  object \n",
      "dtypes: float64(6), int64(2), object(4)\n",
      "memory usage: 1.5+ MB\n"
     ]
    }
   ],
   "source": [
    "games['user_score'] = games['user_score'].astype('float')\n",
    "games.info()"
   ]
  },
  {
   "cell_type": "markdown",
   "id": "349d6cfb",
   "metadata": {},
   "source": [
    "Посчитаем суммарные продажи во всех регионах и запишем их в отдельный столбец."
   ]
  },
  {
   "cell_type": "code",
   "execution_count": 11,
   "id": "d7a5b681",
   "metadata": {},
   "outputs": [
    {
     "data": {
      "text/html": [
       "<div>\n",
       "<style scoped>\n",
       "    .dataframe tbody tr th:only-of-type {\n",
       "        vertical-align: middle;\n",
       "    }\n",
       "\n",
       "    .dataframe tbody tr th {\n",
       "        vertical-align: top;\n",
       "    }\n",
       "\n",
       "    .dataframe thead th {\n",
       "        text-align: right;\n",
       "    }\n",
       "</style>\n",
       "<table border=\"1\" class=\"dataframe\">\n",
       "  <thead>\n",
       "    <tr style=\"text-align: right;\">\n",
       "      <th></th>\n",
       "      <th>index</th>\n",
       "      <th>name</th>\n",
       "      <th>platform</th>\n",
       "      <th>year_of_release</th>\n",
       "      <th>genre</th>\n",
       "      <th>na_sales</th>\n",
       "      <th>eu_sales</th>\n",
       "      <th>jp_sales</th>\n",
       "      <th>other_sales</th>\n",
       "      <th>critic_score</th>\n",
       "      <th>user_score</th>\n",
       "      <th>rating</th>\n",
       "      <th>total_sales</th>\n",
       "    </tr>\n",
       "  </thead>\n",
       "  <tbody>\n",
       "    <tr>\n",
       "      <th>0</th>\n",
       "      <td>0</td>\n",
       "      <td>Wii Sports</td>\n",
       "      <td>Wii</td>\n",
       "      <td>2006</td>\n",
       "      <td>Sports</td>\n",
       "      <td>41.36</td>\n",
       "      <td>28.96</td>\n",
       "      <td>3.77</td>\n",
       "      <td>8.45</td>\n",
       "      <td>76.0</td>\n",
       "      <td>8.0</td>\n",
       "      <td>E</td>\n",
       "      <td>82.54</td>\n",
       "    </tr>\n",
       "    <tr>\n",
       "      <th>1</th>\n",
       "      <td>1</td>\n",
       "      <td>Super Mario Bros.</td>\n",
       "      <td>NES</td>\n",
       "      <td>1985</td>\n",
       "      <td>Platform</td>\n",
       "      <td>29.08</td>\n",
       "      <td>3.58</td>\n",
       "      <td>6.81</td>\n",
       "      <td>0.77</td>\n",
       "      <td>0.0</td>\n",
       "      <td>0.0</td>\n",
       "      <td>unknown</td>\n",
       "      <td>40.24</td>\n",
       "    </tr>\n",
       "    <tr>\n",
       "      <th>2</th>\n",
       "      <td>2</td>\n",
       "      <td>Mario Kart Wii</td>\n",
       "      <td>Wii</td>\n",
       "      <td>2008</td>\n",
       "      <td>Racing</td>\n",
       "      <td>15.68</td>\n",
       "      <td>12.76</td>\n",
       "      <td>3.79</td>\n",
       "      <td>3.29</td>\n",
       "      <td>82.0</td>\n",
       "      <td>8.3</td>\n",
       "      <td>E</td>\n",
       "      <td>35.52</td>\n",
       "    </tr>\n",
       "    <tr>\n",
       "      <th>3</th>\n",
       "      <td>3</td>\n",
       "      <td>Wii Sports Resort</td>\n",
       "      <td>Wii</td>\n",
       "      <td>2009</td>\n",
       "      <td>Sports</td>\n",
       "      <td>15.61</td>\n",
       "      <td>10.93</td>\n",
       "      <td>3.28</td>\n",
       "      <td>2.95</td>\n",
       "      <td>80.0</td>\n",
       "      <td>8.0</td>\n",
       "      <td>E</td>\n",
       "      <td>32.77</td>\n",
       "    </tr>\n",
       "    <tr>\n",
       "      <th>4</th>\n",
       "      <td>4</td>\n",
       "      <td>Pokemon Red/Pokemon Blue</td>\n",
       "      <td>GB</td>\n",
       "      <td>1996</td>\n",
       "      <td>Role-Playing</td>\n",
       "      <td>11.27</td>\n",
       "      <td>8.89</td>\n",
       "      <td>10.22</td>\n",
       "      <td>1.00</td>\n",
       "      <td>0.0</td>\n",
       "      <td>0.0</td>\n",
       "      <td>unknown</td>\n",
       "      <td>31.38</td>\n",
       "    </tr>\n",
       "  </tbody>\n",
       "</table>\n",
       "</div>"
      ],
      "text/plain": [
       "   index                      name platform  year_of_release         genre  \\\n",
       "0      0                Wii Sports      Wii             2006        Sports   \n",
       "1      1         Super Mario Bros.      NES             1985      Platform   \n",
       "2      2            Mario Kart Wii      Wii             2008        Racing   \n",
       "3      3         Wii Sports Resort      Wii             2009        Sports   \n",
       "4      4  Pokemon Red/Pokemon Blue       GB             1996  Role-Playing   \n",
       "\n",
       "   na_sales  eu_sales  jp_sales  other_sales  critic_score  user_score  \\\n",
       "0     41.36     28.96      3.77         8.45          76.0         8.0   \n",
       "1     29.08      3.58      6.81         0.77           0.0         0.0   \n",
       "2     15.68     12.76      3.79         3.29          82.0         8.3   \n",
       "3     15.61     10.93      3.28         2.95          80.0         8.0   \n",
       "4     11.27      8.89     10.22         1.00           0.0         0.0   \n",
       "\n",
       "    rating  total_sales  \n",
       "0        E        82.54  \n",
       "1  unknown        40.24  \n",
       "2        E        35.52  \n",
       "3        E        32.77  \n",
       "4  unknown        31.38  "
      ]
     },
     "metadata": {},
     "output_type": "display_data"
    }
   ],
   "source": [
    "games['total_sales'] = np.nan #новая колонка где будет хранится общее кол-во продаж\n",
    "games['total_sales'] = games[['na_sales','eu_sales','jp_sales','other_sales']].sum(axis=1)\n",
    "display(games.head())"
   ]
  },
  {
   "cell_type": "markdown",
   "id": "a3ad1cc3",
   "metadata": {},
   "source": [
    "## Исследовательский анализ данных"
   ]
  },
  {
   "cell_type": "markdown",
   "id": "8404bd44",
   "metadata": {},
   "source": [
    "Рассмотрим, сколько игр выпускалось в разные годы и определим за какой период следует рассматривать данные"
   ]
  },
  {
   "cell_type": "code",
   "execution_count": 12,
   "id": "5d53320c",
   "metadata": {},
   "outputs": [
    {
     "data": {
      "text/plain": [
       "<AxesSubplot:xlabel='year_of_release'>"
      ]
     },
     "metadata": {},
     "output_type": "display_data"
    },
    {
     "data": {
      "image/png": "[encoded data removed]",
      "text/plain": [
       "<Figure size 432x288 with 1 Axes>"
      ]
     },
     "metadata": {
      "needs_background": "light"
     },
     "output_type": "display_data"
    }
   ],
   "source": [
    "display(games.pivot_table(index='year_of_release',values='name', aggfunc='count').plot(style='-o',grid=True))"
   ]
  },
  {
   "cell_type": "markdown",
   "id": "21195a47",
   "metadata": {},
   "source": [
    "На данном графике мы видим, что большая часть игр выходила с 2000 года по дату выгрузки - 2016.\n",
    "\n",
    "Рассмотрим продажи по платформам"
   ]
  },
  {
   "cell_type": "code",
   "execution_count": 13,
   "id": "6a4d3e64",
   "metadata": {},
   "outputs": [
    {
     "data": {
      "text/html": [
       "<div>\n",
       "<style scoped>\n",
       "    .dataframe tbody tr th:only-of-type {\n",
       "        vertical-align: middle;\n",
       "    }\n",
       "\n",
       "    .dataframe tbody tr th {\n",
       "        vertical-align: top;\n",
       "    }\n",
       "\n",
       "    .dataframe thead th {\n",
       "        text-align: right;\n",
       "    }\n",
       "</style>\n",
       "<table border=\"1\" class=\"dataframe\">\n",
       "  <thead>\n",
       "    <tr style=\"text-align: right;\">\n",
       "      <th></th>\n",
       "      <th>total_sales</th>\n",
       "    </tr>\n",
       "    <tr>\n",
       "      <th>platform</th>\n",
       "      <th></th>\n",
       "    </tr>\n",
       "  </thead>\n",
       "  <tbody>\n",
       "    <tr>\n",
       "      <th>PS2</th>\n",
       "      <td>1233.56</td>\n",
       "    </tr>\n",
       "    <tr>\n",
       "      <th>X360</th>\n",
       "      <td>961.24</td>\n",
       "    </tr>\n",
       "    <tr>\n",
       "      <th>PS3</th>\n",
       "      <td>931.34</td>\n",
       "    </tr>\n",
       "    <tr>\n",
       "      <th>Wii</th>\n",
       "      <td>891.18</td>\n",
       "    </tr>\n",
       "    <tr>\n",
       "      <th>DS</th>\n",
       "      <td>802.78</td>\n",
       "    </tr>\n",
       "    <tr>\n",
       "      <th>PS</th>\n",
       "      <td>727.58</td>\n",
       "    </tr>\n",
       "    <tr>\n",
       "      <th>PS4</th>\n",
       "      <td>314.14</td>\n",
       "    </tr>\n",
       "    <tr>\n",
       "      <th>GBA</th>\n",
       "      <td>312.88</td>\n",
       "    </tr>\n",
       "    <tr>\n",
       "      <th>PSP</th>\n",
       "      <td>289.53</td>\n",
       "    </tr>\n",
       "    <tr>\n",
       "      <th>3DS</th>\n",
       "      <td>257.81</td>\n",
       "    </tr>\n",
       "  </tbody>\n",
       "</table>\n",
       "</div>"
      ],
      "text/plain": [
       "          total_sales\n",
       "platform             \n",
       "PS2           1233.56\n",
       "X360           961.24\n",
       "PS3            931.34\n",
       "Wii            891.18\n",
       "DS             802.78\n",
       "PS             727.58\n",
       "PS4            314.14\n",
       "GBA            312.88\n",
       "PSP            289.53\n",
       "3DS            257.81"
      ]
     },
     "metadata": {},
     "output_type": "display_data"
    }
   ],
   "source": [
    "display(games.pivot_table(index='platform',values='total_sales',aggfunc='sum').sort_values(by='total_sales',ascending = False).head(10))"
   ]
  },
  {
   "cell_type": "markdown",
   "id": "85f93a2a",
   "metadata": {},
   "source": [
    "Лидеры продаж это консоли, давайте посмотрим как у наиболее популярных платформ (PS,XBOX, Wii, Nintendo DS, PC) менялись продажи с течением времени"
   ]
  },
  {
   "cell_type": "code",
   "execution_count": 14,
   "id": "986d6ce7",
   "metadata": {},
   "outputs": [
    {
     "data": {
      "text/plain": [
       "<AxesSubplot:title={'center':'X360_sales'}, xlabel='year_of_release'>"
      ]
     },
     "execution_count": 14,
     "metadata": {},
     "output_type": "execute_result"
    },
    {
     "data": {
      "image/png": "[encoded data removed]",
      "text/plain": [
       "<Figure size 432x288 with 1 Axes>"
      ]
     },
     "metadata": {
      "needs_background": "light"
     },
     "output_type": "display_data"
    },
    {
     "data": {
      "image/png": "[encoded data removed]",
      "text/plain": [
       "<Figure size 432x288 with 1 Axes>"
      ]
     },
     "metadata": {
      "needs_background": "light"
     },
     "output_type": "display_data"
    }
   ],
   "source": [
    "games[games['platform']=='PS2'].pivot_table(index='year_of_release', values='total_sales', aggfunc='sum').plot(style='-o',grid=True, title='PS2_sales')\n",
    "games[games['platform']=='X360'].pivot_table(index='year_of_release', values='total_sales', aggfunc='sum').plot(style='-o',grid=True,title='X360_sales')"
   ]
  },
  {
   "cell_type": "code",
   "execution_count": 15,
   "id": "73b980e1",
   "metadata": {},
   "outputs": [
    {
     "data": {
      "text/plain": [
       "<AxesSubplot:xlabel='year_of_release'>"
      ]
     },
     "execution_count": 15,
     "metadata": {},
     "output_type": "execute_result"
    },
    {
     "data": {
      "image/png": "[encoded data removed]",
      "text/plain": [
       "<Figure size 432x288 with 1 Axes>"
      ]
     },
     "metadata": {
      "needs_background": "light"
     },
     "output_type": "display_data"
    }
   ],
   "source": [
    "games[games['platform']=='X360'].pivot_table(index='year_of_release', values='total_sales', aggfunc='sum').plot(style='-o',grid=True)"
   ]
  },
  {
   "cell_type": "code",
   "execution_count": 16,
   "id": "46634acc",
   "metadata": {},
   "outputs": [
    {
     "data": {
      "text/plain": [
       "<AxesSubplot:xlabel='year_of_release'>"
      ]
     },
     "execution_count": 16,
     "metadata": {},
     "output_type": "execute_result"
    },
    {
     "data": {
      "image/png": "[encoded data removed]",
      "text/plain": [
       "<Figure size 432x288 with 1 Axes>"
      ]
     },
     "metadata": {
      "needs_background": "light"
     },
     "output_type": "display_data"
    }
   ],
   "source": [
    "games[games['platform']=='PS3'].pivot_table(index='year_of_release', values='total_sales', aggfunc='sum').plot(style='-o',grid=True)"
   ]
  },
  {
   "cell_type": "code",
   "execution_count": 17,
   "id": "7c319ee5",
   "metadata": {},
   "outputs": [
    {
     "data": {
      "text/plain": [
       "<AxesSubplot:xlabel='year_of_release'>"
      ]
     },
     "execution_count": 17,
     "metadata": {},
     "output_type": "execute_result"
    },
    {
     "data": {
      "image/png": "[encoded data removed]",
      "text/plain": [
       "<Figure size 432x288 with 1 Axes>"
      ]
     },
     "metadata": {
      "needs_background": "light"
     },
     "output_type": "display_data"
    }
   ],
   "source": [
    "games[games['platform']=='Wii'].pivot_table(index='year_of_release', values='total_sales', aggfunc='sum').plot(style='-o',grid=True)"
   ]
  },
  {
   "cell_type": "markdown",
   "id": "367a403a",
   "metadata": {},
   "source": [
    "На графиках мы видим, что в начале 2000х наиболее популярной платформой была PS2, но в 2005 году состоялся релиз XBOX 360 и он начал вымещать PS2 с рынка, в 2006 году вышел PS3, и продажи ранее популярной PS2 к 2010 упали до нуля.\n",
    "\n",
    "Wii быстро рос в продажах с 2006 года, но достигнув максимума в 2009 продажи начали резко падать и к 2016 году игры на данной платформе почти никто не покупает"
   ]
  },
  {
   "cell_type": "code",
   "execution_count": 18,
   "id": "b2dbea46",
   "metadata": {},
   "outputs": [
    {
     "data": {
      "text/plain": [
       "<AxesSubplot:xlabel='year_of_release'>"
      ]
     },
     "execution_count": 18,
     "metadata": {},
     "output_type": "execute_result"
    },
    {
     "data": {
      "image/png": "[encoded data removed]",
      "text/plain": [
       "<Figure size 432x288 with 1 Axes>"
      ]
     },
     "metadata": {
      "needs_background": "light"
     },
     "output_type": "display_data"
    }
   ],
   "source": [
    "games[games['platform']=='PS4'].pivot_table(index='year_of_release', values='total_sales', aggfunc='sum').plot(style='-o',grid=True)"
   ]
  },
  {
   "cell_type": "markdown",
   "id": "6d58509e",
   "metadata": {},
   "source": [
    "Продажи XBOX 360 и PS3 к 2016 году упали практически до нуля в связи с выходом PS4, которая заместила собой предыдущие поколения консолей."
   ]
  },
  {
   "cell_type": "code",
   "execution_count": 19,
   "id": "a76e3ea3",
   "metadata": {},
   "outputs": [
    {
     "data": {
      "text/plain": [
       "<AxesSubplot:xlabel='year_of_release'>"
      ]
     },
     "execution_count": 19,
     "metadata": {},
     "output_type": "execute_result"
    },
    {
     "data": {
      "image/png": "[encoded data removed]",
      "text/plain": [
       "<Figure size 432x288 with 1 Axes>"
      ]
     },
     "metadata": {
      "needs_background": "light"
     },
     "output_type": "display_data"
    }
   ],
   "source": [
    "games[games['platform']=='DS'].pivot_table(index='year_of_release', values='total_sales', aggfunc='sum').plot(style='-o',grid=True)"
   ]
  },
  {
   "cell_type": "code",
   "execution_count": 20,
   "id": "bf0bf876",
   "metadata": {},
   "outputs": [
    {
     "data": {
      "text/plain": [
       "<AxesSubplot:xlabel='year_of_release'>"
      ]
     },
     "execution_count": 20,
     "metadata": {},
     "output_type": "execute_result"
    },
    {
     "data": {
      "image/png": "[encoded data removed]",
      "text/plain": [
       "<Figure size 432x288 with 1 Axes>"
      ]
     },
     "metadata": {
      "needs_background": "light"
     },
     "output_type": "display_data"
    }
   ],
   "source": [
    "games[games['platform']=='PC'].pivot_table(index='year_of_release', values='total_sales', aggfunc='sum').plot(style='-o',grid=True)"
   ]
  },
  {
   "cell_type": "markdown",
   "id": "934b3586",
   "metadata": {},
   "source": [
    "У Нинтендо запуск состоялся в 2004 году на американском рынке и через год данная консоль уже продавалась по всему миру. Однако, рынок слишком быстро пресытился и новые поколения ниндендо не оживили продажи, после 2013 года продажи прекратились данных о продажах нет.\n",
    "\n",
    "ПК является одной из главных платформ, однако на графике выше мы видим, что в целом продажи на данной платформе с 1990х годов относительно стабильны, в 2011 году наблюдается сильный всплеск продаж."
   ]
  },
  {
   "cell_type": "code",
   "execution_count": 21,
   "id": "4f4b042f",
   "metadata": {},
   "outputs": [
    {
     "data": {
      "text/html": [
       "<div>\n",
       "<style scoped>\n",
       "    .dataframe tbody tr th:only-of-type {\n",
       "        vertical-align: middle;\n",
       "    }\n",
       "\n",
       "    .dataframe tbody tr th {\n",
       "        vertical-align: top;\n",
       "    }\n",
       "\n",
       "    .dataframe thead th {\n",
       "        text-align: right;\n",
       "    }\n",
       "</style>\n",
       "<table border=\"1\" class=\"dataframe\">\n",
       "  <thead>\n",
       "    <tr style=\"text-align: right;\">\n",
       "      <th></th>\n",
       "      <th>total_sales</th>\n",
       "    </tr>\n",
       "    <tr>\n",
       "      <th>name</th>\n",
       "      <th></th>\n",
       "    </tr>\n",
       "  </thead>\n",
       "  <tbody>\n",
       "    <tr>\n",
       "      <th>The Elder Scrolls V: Skyrim</th>\n",
       "      <td>3.88</td>\n",
       "    </tr>\n",
       "    <tr>\n",
       "      <th>Star Wars: The Old Republic</th>\n",
       "      <td>2.97</td>\n",
       "    </tr>\n",
       "    <tr>\n",
       "      <th>Battlefield 3</th>\n",
       "      <td>2.78</td>\n",
       "    </tr>\n",
       "    <tr>\n",
       "      <th>Call of Duty: Modern Warfare 3</th>\n",
       "      <td>1.71</td>\n",
       "    </tr>\n",
       "    <tr>\n",
       "      <th>Football Manager 2012</th>\n",
       "      <td>1.51</td>\n",
       "    </tr>\n",
       "    <tr>\n",
       "      <th>Anno 2070</th>\n",
       "      <td>1.42</td>\n",
       "    </tr>\n",
       "    <tr>\n",
       "      <th>The Witcher 2: Assassins of Kings</th>\n",
       "      <td>0.95</td>\n",
       "    </tr>\n",
       "    <tr>\n",
       "      <th>Portal 2</th>\n",
       "      <td>0.75</td>\n",
       "    </tr>\n",
       "    <tr>\n",
       "      <th>Assassin's Creed: Revelations</th>\n",
       "      <td>0.74</td>\n",
       "    </tr>\n",
       "    <tr>\n",
       "      <th>Crysis 2</th>\n",
       "      <td>0.74</td>\n",
       "    </tr>\n",
       "  </tbody>\n",
       "</table>\n",
       "</div>"
      ],
      "text/plain": [
       "                                   total_sales\n",
       "name                                          \n",
       "The Elder Scrolls V: Skyrim               3.88\n",
       "Star Wars: The Old Republic               2.97\n",
       "Battlefield 3                             2.78\n",
       "Call of Duty: Modern Warfare 3            1.71\n",
       "Football Manager 2012                     1.51\n",
       "Anno 2070                                 1.42\n",
       "The Witcher 2: Assassins of Kings         0.95\n",
       "Portal 2                                  0.75\n",
       "Assassin's Creed: Revelations             0.74\n",
       "Crysis 2                                  0.74"
      ]
     },
     "metadata": {},
     "output_type": "display_data"
    }
   ],
   "source": [
    "display(games[(games['year_of_release']==2011) & (games['platform']=='PC')].pivot_table(index='name', values='total_sales', aggfunc='sum').sort_values(by='total_sales', ascending=False).head(10))"
   ]
  },
  {
   "cell_type": "markdown",
   "id": "3567d461",
   "metadata": {},
   "source": [
    "Всплеск продаж произошел благодаря выходу таких очень популярных игр как The Elder Scrolls V: Skyrim, Battlefield 3, Call of Duty: Modern Warfare 3. Стоит отметить, что вторая по продажам игра Star Wars: The Old Republic вышла только для платформы PC, что также повлияло на всплеск продаж\n",
    "\n",
    "Рассмотрим за текущий и два предыдущих периода наиболее популярные платформы."
   ]
  },
  {
   "cell_type": "code",
   "execution_count": 22,
   "id": "d96aee4b",
   "metadata": {},
   "outputs": [
    {
     "data": {
      "text/html": [
       "<div>\n",
       "<style scoped>\n",
       "    .dataframe tbody tr th:only-of-type {\n",
       "        vertical-align: middle;\n",
       "    }\n",
       "\n",
       "    .dataframe tbody tr th {\n",
       "        vertical-align: top;\n",
       "    }\n",
       "\n",
       "    .dataframe thead th {\n",
       "        text-align: right;\n",
       "    }\n",
       "</style>\n",
       "<table border=\"1\" class=\"dataframe\">\n",
       "  <thead>\n",
       "    <tr style=\"text-align: right;\">\n",
       "      <th></th>\n",
       "      <th>total_sales</th>\n",
       "    </tr>\n",
       "    <tr>\n",
       "      <th>platform</th>\n",
       "      <th></th>\n",
       "    </tr>\n",
       "  </thead>\n",
       "  <tbody>\n",
       "    <tr>\n",
       "      <th>PS4</th>\n",
       "      <td>69.25</td>\n",
       "    </tr>\n",
       "    <tr>\n",
       "      <th>XOne</th>\n",
       "      <td>26.15</td>\n",
       "    </tr>\n",
       "    <tr>\n",
       "      <th>3DS</th>\n",
       "      <td>15.14</td>\n",
       "    </tr>\n",
       "    <tr>\n",
       "      <th>PC</th>\n",
       "      <td>5.25</td>\n",
       "    </tr>\n",
       "    <tr>\n",
       "      <th>WiiU</th>\n",
       "      <td>4.60</td>\n",
       "    </tr>\n",
       "    <tr>\n",
       "      <th>PSV</th>\n",
       "      <td>4.25</td>\n",
       "    </tr>\n",
       "    <tr>\n",
       "      <th>PS3</th>\n",
       "      <td>3.60</td>\n",
       "    </tr>\n",
       "    <tr>\n",
       "      <th>X360</th>\n",
       "      <td>1.52</td>\n",
       "    </tr>\n",
       "    <tr>\n",
       "      <th>Wii</th>\n",
       "      <td>0.18</td>\n",
       "    </tr>\n",
       "  </tbody>\n",
       "</table>\n",
       "</div>"
      ],
      "text/plain": [
       "          total_sales\n",
       "platform             \n",
       "PS4             69.25\n",
       "XOne            26.15\n",
       "3DS             15.14\n",
       "PC               5.25\n",
       "WiiU             4.60\n",
       "PSV              4.25\n",
       "PS3              3.60\n",
       "X360             1.52\n",
       "Wii              0.18"
      ]
     },
     "metadata": {},
     "output_type": "display_data"
    }
   ],
   "source": [
    "display(games[games['year_of_release']==2016].pivot_table(index='platform', values='total_sales', aggfunc='sum').sort_values(by='total_sales', ascending=False))"
   ]
  },
  {
   "cell_type": "code",
   "execution_count": 23,
   "id": "4cebd852",
   "metadata": {},
   "outputs": [
    {
     "data": {
      "text/html": [
       "<div>\n",
       "<style scoped>\n",
       "    .dataframe tbody tr th:only-of-type {\n",
       "        vertical-align: middle;\n",
       "    }\n",
       "\n",
       "    .dataframe tbody tr th {\n",
       "        vertical-align: top;\n",
       "    }\n",
       "\n",
       "    .dataframe thead th {\n",
       "        text-align: right;\n",
       "    }\n",
       "</style>\n",
       "<table border=\"1\" class=\"dataframe\">\n",
       "  <thead>\n",
       "    <tr style=\"text-align: right;\">\n",
       "      <th></th>\n",
       "      <th>total_sales</th>\n",
       "    </tr>\n",
       "    <tr>\n",
       "      <th>platform</th>\n",
       "      <th></th>\n",
       "    </tr>\n",
       "  </thead>\n",
       "  <tbody>\n",
       "    <tr>\n",
       "      <th>PS4</th>\n",
       "      <td>118.90</td>\n",
       "    </tr>\n",
       "    <tr>\n",
       "      <th>XOne</th>\n",
       "      <td>60.14</td>\n",
       "    </tr>\n",
       "    <tr>\n",
       "      <th>3DS</th>\n",
       "      <td>27.78</td>\n",
       "    </tr>\n",
       "    <tr>\n",
       "      <th>PS3</th>\n",
       "      <td>16.82</td>\n",
       "    </tr>\n",
       "    <tr>\n",
       "      <th>WiiU</th>\n",
       "      <td>16.35</td>\n",
       "    </tr>\n",
       "    <tr>\n",
       "      <th>X360</th>\n",
       "      <td>11.96</td>\n",
       "    </tr>\n",
       "    <tr>\n",
       "      <th>PC</th>\n",
       "      <td>8.52</td>\n",
       "    </tr>\n",
       "    <tr>\n",
       "      <th>PSV</th>\n",
       "      <td>6.25</td>\n",
       "    </tr>\n",
       "    <tr>\n",
       "      <th>Wii</th>\n",
       "      <td>1.14</td>\n",
       "    </tr>\n",
       "    <tr>\n",
       "      <th>PSP</th>\n",
       "      <td>0.12</td>\n",
       "    </tr>\n",
       "  </tbody>\n",
       "</table>\n",
       "</div>"
      ],
      "text/plain": [
       "          total_sales\n",
       "platform             \n",
       "PS4            118.90\n",
       "XOne            60.14\n",
       "3DS             27.78\n",
       "PS3             16.82\n",
       "WiiU            16.35\n",
       "X360            11.96\n",
       "PC               8.52\n",
       "PSV              6.25\n",
       "Wii              1.14\n",
       "PSP              0.12"
      ]
     },
     "metadata": {},
     "output_type": "display_data"
    }
   ],
   "source": [
    "display(games[games['year_of_release']==2015].pivot_table(index='platform', values='total_sales', aggfunc='sum').sort_values(by='total_sales', ascending=False))"
   ]
  },
  {
   "cell_type": "code",
   "execution_count": 24,
   "id": "c0876133",
   "metadata": {},
   "outputs": [
    {
     "data": {
      "text/html": [
       "<div>\n",
       "<style scoped>\n",
       "    .dataframe tbody tr th:only-of-type {\n",
       "        vertical-align: middle;\n",
       "    }\n",
       "\n",
       "    .dataframe tbody tr th {\n",
       "        vertical-align: top;\n",
       "    }\n",
       "\n",
       "    .dataframe thead th {\n",
       "        text-align: right;\n",
       "    }\n",
       "</style>\n",
       "<table border=\"1\" class=\"dataframe\">\n",
       "  <thead>\n",
       "    <tr style=\"text-align: right;\">\n",
       "      <th></th>\n",
       "      <th>total_sales</th>\n",
       "    </tr>\n",
       "    <tr>\n",
       "      <th>platform</th>\n",
       "      <th></th>\n",
       "    </tr>\n",
       "  </thead>\n",
       "  <tbody>\n",
       "    <tr>\n",
       "      <th>PS4</th>\n",
       "      <td>100.00</td>\n",
       "    </tr>\n",
       "    <tr>\n",
       "      <th>XOne</th>\n",
       "      <td>54.07</td>\n",
       "    </tr>\n",
       "    <tr>\n",
       "      <th>PS3</th>\n",
       "      <td>47.76</td>\n",
       "    </tr>\n",
       "    <tr>\n",
       "      <th>3DS</th>\n",
       "      <td>43.76</td>\n",
       "    </tr>\n",
       "    <tr>\n",
       "      <th>X360</th>\n",
       "      <td>34.74</td>\n",
       "    </tr>\n",
       "    <tr>\n",
       "      <th>WiiU</th>\n",
       "      <td>22.03</td>\n",
       "    </tr>\n",
       "    <tr>\n",
       "      <th>PC</th>\n",
       "      <td>13.28</td>\n",
       "    </tr>\n",
       "    <tr>\n",
       "      <th>PSV</th>\n",
       "      <td>11.90</td>\n",
       "    </tr>\n",
       "    <tr>\n",
       "      <th>Wii</th>\n",
       "      <td>3.75</td>\n",
       "    </tr>\n",
       "    <tr>\n",
       "      <th>PSP</th>\n",
       "      <td>0.24</td>\n",
       "    </tr>\n",
       "  </tbody>\n",
       "</table>\n",
       "</div>"
      ],
      "text/plain": [
       "          total_sales\n",
       "platform             \n",
       "PS4            100.00\n",
       "XOne            54.07\n",
       "PS3             47.76\n",
       "3DS             43.76\n",
       "X360            34.74\n",
       "WiiU            22.03\n",
       "PC              13.28\n",
       "PSV             11.90\n",
       "Wii              3.75\n",
       "PSP              0.24"
      ]
     },
     "metadata": {},
     "output_type": "display_data"
    }
   ],
   "source": [
    "display(games[games['year_of_release']==2014].pivot_table(index='platform', values='total_sales', aggfunc='sum').sort_values(by='total_sales', ascending=False))"
   ]
  },
  {
   "cell_type": "markdown",
   "id": "ba051ee1",
   "metadata": {},
   "source": [
    "За последние три года продажи PS3 сильно упали, лидерство сохранили XBOX One и PS4. Платформа 3DS (Нинтендо) сильно потеряло в продажах в течение рассматриваемого периода, но в 2016 тем не менее сохранила лидерскую позицию. Платформа PC не в лидерах рейтинга, однако, показывает стабильные продажи из года в год."
   ]
  },
  {
   "cell_type": "code",
   "execution_count": 25,
   "id": "22d641a8",
   "metadata": {},
   "outputs": [
    {
     "data": {
      "image/png": "[encoded data removed]",
      "text/plain": [
       "<Figure size 1080x504 with 1 Axes>"
      ]
     },
     "metadata": {
      "needs_background": "light"
     },
     "output_type": "display_data"
    }
   ],
   "source": [
    "# код ревьюера\n",
    "import seaborn as sns\n",
    "\n",
    "plt.figure(figsize=(15, 7))\n",
    "\n",
    "sns.boxplot(data=games[(games['year_of_release']>=2014)], x='total_sales', y='platform')\n",
    "\n",
    "plt.xlim(0, 5)\n",
    "plt.show()"
   ]
  },
  {
   "cell_type": "markdown",
   "id": "4adb6d30",
   "metadata": {},
   "source": [
    "На данном графике мы видим, что показатели продаж PS4 и Xbox One практически равны, у них примерно на одинаковом уровне находятся верхние границы графика и медианы, они в целом показывают самые высокие продажи, если посмотретт на часть графика, отражающую выбросы. Не уступает по величине продаж и платформа Wii и WiiU, однако у них почти нет выбросов выше ящика, то есть игры на этой платформе продаются стабильно, но больших успехов продаж игры за последние три года на этой платформе не делали. \n",
    "\n",
    "Слабые продажи наблюдаются на платформах PS3, PC, PCV и PSP.\n",
    "\n",
    "Немного необычный график у Нинтендо, ящик показывает, что большинство продаж данной платформы довольно невысокие, однако, мы вдиим большое количество отдельных выбросов очень высоких продаж. То есть продажи данной платформы стабильно низкие, но игра стабильно пару раз в год выдает рекордные продажи - я насчитала порядка 20 выбросов выще ящика лидеров PS4 и XOne."
   ]
  },
  {
   "cell_type": "markdown",
   "id": "310336b2",
   "metadata": {},
   "source": [
    "Рассмотрим зависимость уровня продаж внутри одной платформы и отзывов критиков / пользователей."
   ]
  },
  {
   "cell_type": "code",
   "execution_count": 26,
   "id": "abed7218",
   "metadata": {},
   "outputs": [
    {
     "name": "stderr",
     "output_type": "stream",
     "text": [
      "/opt/conda/lib/python3.9/site-packages/pandas/core/computation/expressions.py:204: UserWarning: evaluating in Python space because the '+' operator is not supported by numexpr for the bool dtype, use '|' instead\n",
      "  warnings.warn(\n",
      "/opt/conda/lib/python3.9/site-packages/pandas/core/computation/expressions.py:204: UserWarning: evaluating in Python space because the '+' operator is not supported by numexpr for the bool dtype, use '|' instead\n",
      "  warnings.warn(\n"
     ]
    },
    {
     "data": {
      "text/plain": [
       "<AxesSubplot:title={'center':'user_score'}, xlabel='user_score', ylabel='total_sales'>"
      ]
     },
     "execution_count": 26,
     "metadata": {},
     "output_type": "execute_result"
    },
    {
     "data": {
      "image/png": "[encoded data removed]",
      "text/plain": [
       "<Figure size 432x288 with 1 Axes>"
      ]
     },
     "metadata": {
      "needs_background": "light"
     },
     "output_type": "display_data"
    },
    {
     "data": {
      "image/png": "[encoded data removed]",
      "text/plain": [
       "<Figure size 432x288 with 1 Axes>"
      ]
     },
     "metadata": {
      "needs_background": "light"
     },
     "output_type": "display_data"
    }
   ],
   "source": [
    "games = games[(games['year_of_release']==2014) + (games['year_of_release']==2015) + (games['year_of_release']==2016)]\n",
    "#ограничим данные только рассматриваемым периодом\n",
    "\n",
    "games.plot(x='critic_score', y='total_sales', kind='scatter', alpha=0.1, title='critic_score')\n",
    "games.plot(x='user_score', y='total_sales', kind='scatter', alpha=0.1, title='user_score')"
   ]
  },
  {
   "cell_type": "code",
   "execution_count": 27,
   "id": "defa8818",
   "metadata": {},
   "outputs": [
    {
     "data": {
      "text/plain": [
       "'Корреляция оценок пользователей и уровня продаж:'"
      ]
     },
     "metadata": {},
     "output_type": "display_data"
    },
    {
     "data": {
      "text/html": [
       "<div>\n",
       "<style scoped>\n",
       "    .dataframe tbody tr th:only-of-type {\n",
       "        vertical-align: middle;\n",
       "    }\n",
       "\n",
       "    .dataframe tbody tr th {\n",
       "        vertical-align: top;\n",
       "    }\n",
       "\n",
       "    .dataframe thead th {\n",
       "        text-align: right;\n",
       "    }\n",
       "</style>\n",
       "<table border=\"1\" class=\"dataframe\">\n",
       "  <thead>\n",
       "    <tr style=\"text-align: right;\">\n",
       "      <th></th>\n",
       "      <th>total_sales</th>\n",
       "      <th>user_score</th>\n",
       "    </tr>\n",
       "  </thead>\n",
       "  <tbody>\n",
       "    <tr>\n",
       "      <th>total_sales</th>\n",
       "      <td>1.00000</td>\n",
       "      <td>-0.01307</td>\n",
       "    </tr>\n",
       "    <tr>\n",
       "      <th>user_score</th>\n",
       "      <td>-0.01307</td>\n",
       "      <td>1.00000</td>\n",
       "    </tr>\n",
       "  </tbody>\n",
       "</table>\n",
       "</div>"
      ],
      "text/plain": [
       "             total_sales  user_score\n",
       "total_sales      1.00000    -0.01307\n",
       "user_score      -0.01307     1.00000"
      ]
     },
     "metadata": {},
     "output_type": "display_data"
    },
    {
     "data": {
      "text/plain": [
       "'Корреляция оценок критиков и уровеня продаж:'"
      ]
     },
     "metadata": {},
     "output_type": "display_data"
    },
    {
     "data": {
      "text/html": [
       "<div>\n",
       "<style scoped>\n",
       "    .dataframe tbody tr th:only-of-type {\n",
       "        vertical-align: middle;\n",
       "    }\n",
       "\n",
       "    .dataframe tbody tr th {\n",
       "        vertical-align: top;\n",
       "    }\n",
       "\n",
       "    .dataframe thead th {\n",
       "        text-align: right;\n",
       "    }\n",
       "</style>\n",
       "<table border=\"1\" class=\"dataframe\">\n",
       "  <thead>\n",
       "    <tr style=\"text-align: right;\">\n",
       "      <th></th>\n",
       "      <th>total_sales</th>\n",
       "      <th>critic_score</th>\n",
       "    </tr>\n",
       "  </thead>\n",
       "  <tbody>\n",
       "    <tr>\n",
       "      <th>total_sales</th>\n",
       "      <td>1.000000</td>\n",
       "      <td>0.328105</td>\n",
       "    </tr>\n",
       "    <tr>\n",
       "      <th>critic_score</th>\n",
       "      <td>0.328105</td>\n",
       "      <td>1.000000</td>\n",
       "    </tr>\n",
       "  </tbody>\n",
       "</table>\n",
       "</div>"
      ],
      "text/plain": [
       "              total_sales  critic_score\n",
       "total_sales      1.000000      0.328105\n",
       "critic_score     0.328105      1.000000"
      ]
     },
     "metadata": {},
     "output_type": "display_data"
    }
   ],
   "source": [
    "user_score = games[games['user_score']!=0][['total_sales', 'user_score']]\n",
    "critic_score = games[games['critic_score']!=0][['total_sales', 'critic_score']]\n",
    "display(\"Корреляция оценок пользователей и уровня продаж:\",user_score.corr())\n",
    "display(\"Корреляция оценок критиков и уровеня продаж:\", critic_score.corr())"
   ]
  },
  {
   "cell_type": "markdown",
   "id": "396c061e",
   "metadata": {},
   "source": [
    "График рассеивания показывает, что высокому уровню продаж всегда соответстсвует высокая оценка критиков, со стороны оценок пользователей данной связи не наблюдается.\n",
    "\n",
    "Коэффициент корреляции показывает, что связm между продажами и оценками игроков отсутствует, для критиков он равен 0.33 что говорит о том, что связь между оценками критиков и продажами игр есть, но крайне слабая. "
   ]
  },
  {
   "cell_type": "markdown",
   "id": "9f340855",
   "metadata": {},
   "source": [
    "Давайте рассмотрим данные в разрезе основных платформ - PS,XBOX, Wii, Nintendo DS, PC"
   ]
  },
  {
   "cell_type": "code",
   "execution_count": 28,
   "id": "6abf6325",
   "metadata": {},
   "outputs": [
    {
     "data": {
      "text/plain": [
       "'Корреляция оценок и уровня продаж по платформе PS4:'"
      ]
     },
     "metadata": {},
     "output_type": "display_data"
    },
    {
     "data": {
      "text/html": [
       "<div>\n",
       "<style scoped>\n",
       "    .dataframe tbody tr th:only-of-type {\n",
       "        vertical-align: middle;\n",
       "    }\n",
       "\n",
       "    .dataframe tbody tr th {\n",
       "        vertical-align: top;\n",
       "    }\n",
       "\n",
       "    .dataframe thead th {\n",
       "        text-align: right;\n",
       "    }\n",
       "</style>\n",
       "<table border=\"1\" class=\"dataframe\">\n",
       "  <thead>\n",
       "    <tr style=\"text-align: right;\">\n",
       "      <th></th>\n",
       "      <th>critic_score</th>\n",
       "      <th>user_score</th>\n",
       "      <th>total_sales</th>\n",
       "    </tr>\n",
       "  </thead>\n",
       "  <tbody>\n",
       "    <tr>\n",
       "      <th>critic_score</th>\n",
       "      <td>1.000000</td>\n",
       "      <td>0.903670</td>\n",
       "      <td>0.211837</td>\n",
       "    </tr>\n",
       "    <tr>\n",
       "      <th>user_score</th>\n",
       "      <td>0.903670</td>\n",
       "      <td>1.000000</td>\n",
       "      <td>0.101448</td>\n",
       "    </tr>\n",
       "    <tr>\n",
       "      <th>total_sales</th>\n",
       "      <td>0.211837</td>\n",
       "      <td>0.101448</td>\n",
       "      <td>1.000000</td>\n",
       "    </tr>\n",
       "  </tbody>\n",
       "</table>\n",
       "</div>"
      ],
      "text/plain": [
       "              critic_score  user_score  total_sales\n",
       "critic_score      1.000000    0.903670     0.211837\n",
       "user_score        0.903670    1.000000     0.101448\n",
       "total_sales       0.211837    0.101448     1.000000"
      ]
     },
     "metadata": {},
     "output_type": "display_data"
    },
    {
     "data": {
      "image/png": "[encoded data removed]",
      "text/plain": [
       "<Figure size 432x288 with 1 Axes>"
      ]
     },
     "metadata": {
      "needs_background": "light"
     },
     "output_type": "display_data"
    },
    {
     "data": {
      "image/png": "[encoded data removed]",
      "text/plain": [
       "<Figure size 432x288 with 1 Axes>"
      ]
     },
     "metadata": {
      "needs_background": "light"
     },
     "output_type": "display_data"
    }
   ],
   "source": [
    "games[(games['platform']=='PS4')].plot(x='critic_score', y='total_sales', kind='scatter', alpha=0.1, title='PS4_critic_score')\n",
    "games[(games['platform']=='PS4')].plot(x='user_score', y='total_sales', kind='scatter', alpha=0.1, title='PS4_user_score')\n",
    "display(\"Корреляция оценок и уровня продаж по платформе PS4:\",games[games['platform']=='PS4'][['critic_score', 'user_score', 'total_sales']].corr())"
   ]
  },
  {
   "cell_type": "markdown",
   "id": "b0cbed0c",
   "metadata": {},
   "source": [
    "Данные по корреляции и графику рассеивания не отличаются от общей тенденции, рассмотренной выше\n",
    "\n",
    "Рассмотрим данные по платформе XBOX"
   ]
  },
  {
   "cell_type": "code",
   "execution_count": 29,
   "id": "ce0de82c",
   "metadata": {},
   "outputs": [
    {
     "data": {
      "text/plain": [
       "'Корреляция оценок и уровня продаж по платформе XBOX:'"
      ]
     },
     "metadata": {},
     "output_type": "display_data"
    },
    {
     "data": {
      "text/html": [
       "<div>\n",
       "<style scoped>\n",
       "    .dataframe tbody tr th:only-of-type {\n",
       "        vertical-align: middle;\n",
       "    }\n",
       "\n",
       "    .dataframe tbody tr th {\n",
       "        vertical-align: top;\n",
       "    }\n",
       "\n",
       "    .dataframe thead th {\n",
       "        text-align: right;\n",
       "    }\n",
       "</style>\n",
       "<table border=\"1\" class=\"dataframe\">\n",
       "  <thead>\n",
       "    <tr style=\"text-align: right;\">\n",
       "      <th></th>\n",
       "      <th>critic_score</th>\n",
       "      <th>user_score</th>\n",
       "      <th>total_sales</th>\n",
       "    </tr>\n",
       "  </thead>\n",
       "  <tbody>\n",
       "    <tr>\n",
       "      <th>critic_score</th>\n",
       "      <td>1.000000</td>\n",
       "      <td>0.793371</td>\n",
       "      <td>0.272518</td>\n",
       "    </tr>\n",
       "    <tr>\n",
       "      <th>user_score</th>\n",
       "      <td>0.793371</td>\n",
       "      <td>1.000000</td>\n",
       "      <td>0.102074</td>\n",
       "    </tr>\n",
       "    <tr>\n",
       "      <th>total_sales</th>\n",
       "      <td>0.272518</td>\n",
       "      <td>0.102074</td>\n",
       "      <td>1.000000</td>\n",
       "    </tr>\n",
       "  </tbody>\n",
       "</table>\n",
       "</div>"
      ],
      "text/plain": [
       "              critic_score  user_score  total_sales\n",
       "critic_score      1.000000    0.793371     0.272518\n",
       "user_score        0.793371    1.000000     0.102074\n",
       "total_sales       0.272518    0.102074     1.000000"
      ]
     },
     "metadata": {},
     "output_type": "display_data"
    },
    {
     "data": {
      "image/png": "[encoded data removed]",
      "text/plain": [
       "<Figure size 432x288 with 1 Axes>"
      ]
     },
     "metadata": {
      "needs_background": "light"
     },
     "output_type": "display_data"
    },
    {
     "data": {
      "image/png": "[encoded data removed]",
      "text/plain": [
       "<Figure size 432x288 with 1 Axes>"
      ]
     },
     "metadata": {
      "needs_background": "light"
     },
     "output_type": "display_data"
    }
   ],
   "source": [
    "games[(games['platform']=='XOne')].plot(x='critic_score', y='total_sales', kind='scatter', alpha=0.1, title='XOne_critic_score')\n",
    "games[(games['platform']=='XOne')].plot(x='user_score', y='total_sales', kind='scatter', alpha=0.1, title='XOne_user_score')\n",
    "display(\"Корреляция оценок и уровня продаж по платформе XBOX:\",games[games['platform']=='XOne'][['critic_score', 'user_score', 'total_sales']].corr())"
   ]
  },
  {
   "cell_type": "markdown",
   "id": "b0cfa48a",
   "metadata": {},
   "source": [
    "Данные по корреляции и графику рассеивания не отличаются от общей тенденции, рассмотренной выше\n",
    "\n",
    "Рассмотрим данные по платформе PC"
   ]
  },
  {
   "cell_type": "code",
   "execution_count": 30,
   "id": "b1fc9471",
   "metadata": {},
   "outputs": [
    {
     "data": {
      "text/plain": [
       "'Корреляция оценок и уровня продаж по платформе PC:'"
      ]
     },
     "metadata": {},
     "output_type": "display_data"
    },
    {
     "data": {
      "text/html": [
       "<div>\n",
       "<style scoped>\n",
       "    .dataframe tbody tr th:only-of-type {\n",
       "        vertical-align: middle;\n",
       "    }\n",
       "\n",
       "    .dataframe tbody tr th {\n",
       "        vertical-align: top;\n",
       "    }\n",
       "\n",
       "    .dataframe thead th {\n",
       "        text-align: right;\n",
       "    }\n",
       "</style>\n",
       "<table border=\"1\" class=\"dataframe\">\n",
       "  <thead>\n",
       "    <tr style=\"text-align: right;\">\n",
       "      <th></th>\n",
       "      <th>critic_score</th>\n",
       "      <th>user_score</th>\n",
       "      <th>total_sales</th>\n",
       "    </tr>\n",
       "  </thead>\n",
       "  <tbody>\n",
       "    <tr>\n",
       "      <th>critic_score</th>\n",
       "      <td>1.000000</td>\n",
       "      <td>0.786678</td>\n",
       "      <td>0.184312</td>\n",
       "    </tr>\n",
       "    <tr>\n",
       "      <th>user_score</th>\n",
       "      <td>0.786678</td>\n",
       "      <td>1.000000</td>\n",
       "      <td>0.061709</td>\n",
       "    </tr>\n",
       "    <tr>\n",
       "      <th>total_sales</th>\n",
       "      <td>0.184312</td>\n",
       "      <td>0.061709</td>\n",
       "      <td>1.000000</td>\n",
       "    </tr>\n",
       "  </tbody>\n",
       "</table>\n",
       "</div>"
      ],
      "text/plain": [
       "              critic_score  user_score  total_sales\n",
       "critic_score      1.000000    0.786678     0.184312\n",
       "user_score        0.786678    1.000000     0.061709\n",
       "total_sales       0.184312    0.061709     1.000000"
      ]
     },
     "metadata": {},
     "output_type": "display_data"
    },
    {
     "data": {
      "image/png": "[encoded data removed]",
      "text/plain": [
       "<Figure size 432x288 with 1 Axes>"
      ]
     },
     "metadata": {
      "needs_background": "light"
     },
     "output_type": "display_data"
    },
    {
     "data": {
      "image/png": "[encoded data removed]",
      "text/plain": [
       "<Figure size 432x288 with 1 Axes>"
      ]
     },
     "metadata": {
      "needs_background": "light"
     },
     "output_type": "display_data"
    }
   ],
   "source": [
    "games[(games['platform']=='PC')].plot(x='critic_score', y='total_sales', kind='scatter', alpha=0.1, title='PC_critic_score')\n",
    "games[(games['platform']=='PC')].plot(x='user_score', y='total_sales', kind='scatter', alpha=0.1, title='PC_user_score')\n",
    "display(\"Корреляция оценок и уровня продаж по платформе PC:\",games[games['platform']=='PC'][['critic_score', 'user_score', 'total_sales']].corr())"
   ]
  },
  {
   "cell_type": "markdown",
   "id": "d757038b",
   "metadata": {},
   "source": [
    "Рассмотрим данные по платформе Nintendo"
   ]
  },
  {
   "cell_type": "code",
   "execution_count": 31,
   "id": "500616e6",
   "metadata": {},
   "outputs": [
    {
     "data": {
      "text/plain": [
       "'Корреляция оценок и уровня продаж по платформе Nintendo:'"
      ]
     },
     "metadata": {},
     "output_type": "display_data"
    },
    {
     "data": {
      "text/html": [
       "<div>\n",
       "<style scoped>\n",
       "    .dataframe tbody tr th:only-of-type {\n",
       "        vertical-align: middle;\n",
       "    }\n",
       "\n",
       "    .dataframe tbody tr th {\n",
       "        vertical-align: top;\n",
       "    }\n",
       "\n",
       "    .dataframe thead th {\n",
       "        text-align: right;\n",
       "    }\n",
       "</style>\n",
       "<table border=\"1\" class=\"dataframe\">\n",
       "  <thead>\n",
       "    <tr style=\"text-align: right;\">\n",
       "      <th></th>\n",
       "      <th>critic_score</th>\n",
       "      <th>user_score</th>\n",
       "      <th>total_sales</th>\n",
       "    </tr>\n",
       "  </thead>\n",
       "  <tbody>\n",
       "    <tr>\n",
       "      <th>critic_score</th>\n",
       "      <td>1.000000</td>\n",
       "      <td>0.887491</td>\n",
       "      <td>0.053255</td>\n",
       "    </tr>\n",
       "    <tr>\n",
       "      <th>user_score</th>\n",
       "      <td>0.887491</td>\n",
       "      <td>1.000000</td>\n",
       "      <td>0.054922</td>\n",
       "    </tr>\n",
       "    <tr>\n",
       "      <th>total_sales</th>\n",
       "      <td>0.053255</td>\n",
       "      <td>0.054922</td>\n",
       "      <td>1.000000</td>\n",
       "    </tr>\n",
       "  </tbody>\n",
       "</table>\n",
       "</div>"
      ],
      "text/plain": [
       "              critic_score  user_score  total_sales\n",
       "critic_score      1.000000    0.887491     0.053255\n",
       "user_score        0.887491    1.000000     0.054922\n",
       "total_sales       0.053255    0.054922     1.000000"
      ]
     },
     "metadata": {},
     "output_type": "display_data"
    },
    {
     "data": {
      "image/png": "[encoded data removed]",
      "text/plain": [
       "<Figure size 432x288 with 1 Axes>"
      ]
     },
     "metadata": {
      "needs_background": "light"
     },
     "output_type": "display_data"
    },
    {
     "data": {
      "image/png": "[encoded data removed]",
      "text/plain": [
       "<Figure size 432x288 with 1 Axes>"
      ]
     },
     "metadata": {
      "needs_background": "light"
     },
     "output_type": "display_data"
    }
   ],
   "source": [
    "games[(games['platform']=='3DS')].plot(x='total_sales', y='critic_score', kind='scatter', alpha=0.1, title='Nintendo_critic_score')\n",
    "games[(games['platform']=='3DS')].plot(x='total_sales', y='user_score', kind='scatter', alpha=0.1, title='Nintendo_user_score')\n",
    "display(\"Корреляция оценок и уровня продаж по платформе Nintendo:\",games[games['platform']=='3DS'][['critic_score', 'user_score', 'total_sales']].corr())"
   ]
  },
  {
   "cell_type": "markdown",
   "id": "3e48cf17",
   "metadata": {},
   "source": [
    "Пользователи при покупке игры в бОльшей степени ориентируются на оценку критиков. Однако, анализ коэффициентов корреляции и диаграмм рассеивания показывает, что связь между уровнем продаж и высотой оценки критиков / пользователей прямая, но в целом несущественная. Таким образом, брать оценку пользователей/критиков для дальнейшего анализа и прогнозирования уровня продаж игр не следует. \n",
    "\n",
    "Рассмотрим динамику и уровень продаж в разрезе жанров."
   ]
  },
  {
   "cell_type": "code",
   "execution_count": 32,
   "id": "c5f5c6e6",
   "metadata": {},
   "outputs": [
    {
     "data": {
      "text/html": [
       "<div>\n",
       "<style scoped>\n",
       "    .dataframe tbody tr th:only-of-type {\n",
       "        vertical-align: middle;\n",
       "    }\n",
       "\n",
       "    .dataframe tbody tr th {\n",
       "        vertical-align: top;\n",
       "    }\n",
       "\n",
       "    .dataframe thead th {\n",
       "        text-align: right;\n",
       "    }\n",
       "</style>\n",
       "<table border=\"1\" class=\"dataframe\">\n",
       "  <thead>\n",
       "    <tr style=\"text-align: right;\">\n",
       "      <th></th>\n",
       "      <th>sum</th>\n",
       "      <th>count</th>\n",
       "      <th>mean</th>\n",
       "    </tr>\n",
       "    <tr>\n",
       "      <th>genre</th>\n",
       "      <th></th>\n",
       "      <th></th>\n",
       "      <th></th>\n",
       "    </tr>\n",
       "  </thead>\n",
       "  <tbody>\n",
       "    <tr>\n",
       "      <th>Shooter</th>\n",
       "      <td>170.94</td>\n",
       "      <td>128</td>\n",
       "      <td>1.335469</td>\n",
       "    </tr>\n",
       "    <tr>\n",
       "      <th>Sports</th>\n",
       "      <td>109.48</td>\n",
       "      <td>161</td>\n",
       "      <td>0.680000</td>\n",
       "    </tr>\n",
       "    <tr>\n",
       "      <th>Platform</th>\n",
       "      <td>18.09</td>\n",
       "      <td>38</td>\n",
       "      <td>0.476053</td>\n",
       "    </tr>\n",
       "    <tr>\n",
       "      <th>Fighting</th>\n",
       "      <td>28.22</td>\n",
       "      <td>60</td>\n",
       "      <td>0.470333</td>\n",
       "    </tr>\n",
       "    <tr>\n",
       "      <th>Role-Playing</th>\n",
       "      <td>101.44</td>\n",
       "      <td>221</td>\n",
       "      <td>0.459005</td>\n",
       "    </tr>\n",
       "    <tr>\n",
       "      <th>Racing</th>\n",
       "      <td>27.52</td>\n",
       "      <td>69</td>\n",
       "      <td>0.398841</td>\n",
       "    </tr>\n",
       "    <tr>\n",
       "      <th>Misc</th>\n",
       "      <td>37.55</td>\n",
       "      <td>113</td>\n",
       "      <td>0.332301</td>\n",
       "    </tr>\n",
       "    <tr>\n",
       "      <th>Action</th>\n",
       "      <td>199.36</td>\n",
       "      <td>619</td>\n",
       "      <td>0.322068</td>\n",
       "    </tr>\n",
       "    <tr>\n",
       "      <th>Simulation</th>\n",
       "      <td>13.13</td>\n",
       "      <td>44</td>\n",
       "      <td>0.298409</td>\n",
       "    </tr>\n",
       "    <tr>\n",
       "      <th>Puzzle</th>\n",
       "      <td>2.21</td>\n",
       "      <td>14</td>\n",
       "      <td>0.157857</td>\n",
       "    </tr>\n",
       "    <tr>\n",
       "      <th>Strategy</th>\n",
       "      <td>3.96</td>\n",
       "      <td>37</td>\n",
       "      <td>0.107027</td>\n",
       "    </tr>\n",
       "    <tr>\n",
       "      <th>Adventure</th>\n",
       "      <td>17.55</td>\n",
       "      <td>185</td>\n",
       "      <td>0.094865</td>\n",
       "    </tr>\n",
       "  </tbody>\n",
       "</table>\n",
       "</div>"
      ],
      "text/plain": [
       "                 sum  count      mean\n",
       "genre                                \n",
       "Shooter       170.94    128  1.335469\n",
       "Sports        109.48    161  0.680000\n",
       "Platform       18.09     38  0.476053\n",
       "Fighting       28.22     60  0.470333\n",
       "Role-Playing  101.44    221  0.459005\n",
       "Racing         27.52     69  0.398841\n",
       "Misc           37.55    113  0.332301\n",
       "Action        199.36    619  0.322068\n",
       "Simulation     13.13     44  0.298409\n",
       "Puzzle          2.21     14  0.157857\n",
       "Strategy        3.96     37  0.107027\n",
       "Adventure      17.55    185  0.094865"
      ]
     },
     "metadata": {},
     "output_type": "display_data"
    }
   ],
   "source": [
    "genre_pivot = games.pivot_table(index='genre', values = 'total_sales', aggfunc=['sum', 'count', 'mean'])\n",
    "genre_pivot.columns = ['sum', 'count', 'mean']\n",
    "display(genre_pivot.sort_values(by='mean', ascending=False))"
   ]
  },
  {
   "cell_type": "markdown",
   "id": "3548941b",
   "metadata": {},
   "source": [
    "Наиболее высокие продажи наблюдаются у жанров Action, Shooter, Sports и Role-playing. Самые низкие продажи у жанров Strategy и Puzzle\n",
    "\n",
    "Наиболее высокие продажи на одну игру приносят жанры Shooter, Sports, Platform, Fighting и Role-playing. \n",
    "\n",
    "Определим портрет пользователя для каждого из трех регионов продаж.\n",
    "\n",
    "Рассмотрим Северную Америку."
   ]
  },
  {
   "cell_type": "code",
   "execution_count": 33,
   "id": "49255e31",
   "metadata": {},
   "outputs": [
    {
     "data": {
      "text/plain": [
       "'Самые популярные платформы в Северной Америке'"
      ]
     },
     "metadata": {},
     "output_type": "display_data"
    },
    {
     "data": {
      "text/html": [
       "<div>\n",
       "<style scoped>\n",
       "    .dataframe tbody tr th:only-of-type {\n",
       "        vertical-align: middle;\n",
       "    }\n",
       "\n",
       "    .dataframe tbody tr th {\n",
       "        vertical-align: top;\n",
       "    }\n",
       "\n",
       "    .dataframe thead th {\n",
       "        text-align: right;\n",
       "    }\n",
       "</style>\n",
       "<table border=\"1\" class=\"dataframe\">\n",
       "  <thead>\n",
       "    <tr style=\"text-align: right;\">\n",
       "      <th></th>\n",
       "      <th>na_sales</th>\n",
       "    </tr>\n",
       "    <tr>\n",
       "      <th>platform</th>\n",
       "      <th></th>\n",
       "    </tr>\n",
       "  </thead>\n",
       "  <tbody>\n",
       "    <tr>\n",
       "      <th>XOne</th>\n",
       "      <td>0.356447</td>\n",
       "    </tr>\n",
       "    <tr>\n",
       "      <th>WiiU</th>\n",
       "      <td>0.265205</td>\n",
       "    </tr>\n",
       "    <tr>\n",
       "      <th>PS4</th>\n",
       "      <td>0.262261</td>\n",
       "    </tr>\n",
       "    <tr>\n",
       "      <th>X360</th>\n",
       "      <td>0.254955</td>\n",
       "    </tr>\n",
       "    <tr>\n",
       "      <th>Wii</th>\n",
       "      <td>0.189091</td>\n",
       "    </tr>\n",
       "  </tbody>\n",
       "</table>\n",
       "</div>"
      ],
      "text/plain": [
       "          na_sales\n",
       "platform          \n",
       "XOne      0.356447\n",
       "WiiU      0.265205\n",
       "PS4       0.262261\n",
       "X360      0.254955\n",
       "Wii       0.189091"
      ]
     },
     "metadata": {},
     "output_type": "display_data"
    }
   ],
   "source": [
    "display(\"Самые популярные платформы в Северной Америке\",games.pivot_table(index='platform', values='na_sales', aggfunc='mean').sort_values(by='na_sales', ascending=False).head())"
   ]
  },
  {
   "cell_type": "code",
   "execution_count": 34,
   "id": "2f7e9be4",
   "metadata": {},
   "outputs": [
    {
     "data": {
      "text/plain": [
       "'Самые популярные жанры в Северной Америке'"
      ]
     },
     "metadata": {},
     "output_type": "display_data"
    },
    {
     "data": {
      "text/html": [
       "<div>\n",
       "<style scoped>\n",
       "    .dataframe tbody tr th:only-of-type {\n",
       "        vertical-align: middle;\n",
       "    }\n",
       "\n",
       "    .dataframe tbody tr th {\n",
       "        vertical-align: top;\n",
       "    }\n",
       "\n",
       "    .dataframe thead th {\n",
       "        text-align: right;\n",
       "    }\n",
       "</style>\n",
       "<table border=\"1\" class=\"dataframe\">\n",
       "  <thead>\n",
       "    <tr style=\"text-align: right;\">\n",
       "      <th></th>\n",
       "      <th>na_sales</th>\n",
       "    </tr>\n",
       "    <tr>\n",
       "      <th>genre</th>\n",
       "      <th></th>\n",
       "    </tr>\n",
       "  </thead>\n",
       "  <tbody>\n",
       "    <tr>\n",
       "      <th>Shooter</th>\n",
       "      <td>0.617344</td>\n",
       "    </tr>\n",
       "    <tr>\n",
       "      <th>Sports</th>\n",
       "      <td>0.286522</td>\n",
       "    </tr>\n",
       "    <tr>\n",
       "      <th>Fighting</th>\n",
       "      <td>0.207167</td>\n",
       "    </tr>\n",
       "    <tr>\n",
       "      <th>Platform</th>\n",
       "      <td>0.178684</td>\n",
       "    </tr>\n",
       "    <tr>\n",
       "      <th>Role-Playing</th>\n",
       "      <td>0.151448</td>\n",
       "    </tr>\n",
       "  </tbody>\n",
       "</table>\n",
       "</div>"
      ],
      "text/plain": [
       "              na_sales\n",
       "genre                 \n",
       "Shooter       0.617344\n",
       "Sports        0.286522\n",
       "Fighting      0.207167\n",
       "Platform      0.178684\n",
       "Role-Playing  0.151448"
      ]
     },
     "metadata": {},
     "output_type": "display_data"
    }
   ],
   "source": [
    "display(\"Самые популярные жанры в Северной Америке\",games.pivot_table(index='genre', values='na_sales', aggfunc='mean').sort_values(by='na_sales', ascending=False).head())"
   ]
  },
  {
   "cell_type": "code",
   "execution_count": 36,
   "id": "72974a86",
   "metadata": {},
   "outputs": [
    {
     "data": {
      "image/png": "[encoded data removed]",
      "text/plain": [
       "<Figure size 1280x720 with 1 Axes>"
      ]
     },
     "metadata": {
      "needs_background": "light"
     },
     "output_type": "display_data"
    }
   ],
   "source": [
    "x_var = 'na_sales'\n",
    "groupby_var = 'rating'\n",
    "games_loc = games.loc[:, [x_var, groupby_var]].groupby(groupby_var)\n",
    "vals = [games[x_var].values.tolist() for i, games in games_loc]\n",
    "\n",
    "# Draw\n",
    "plt.figure(figsize=(16,9), dpi= 80)\n",
    "colors = [plt.cm.Spectral(i/float(len(vals)-1)) for i in range(len(vals))]\n",
    "n, bins, patches = plt.hist(vals, games[x_var].unique().__len__(), stacked=True, density=False, color=colors[:len(vals)])\n",
    "\n",
    "# Decoration\n",
    "plt.legend({group:col for group, col in zip(np.unique(games[groupby_var]).tolist(), colors[:len(vals)])})\n",
    "plt.title(f\"Stacked Histogram of ${x_var}$ colored by ${groupby_var}$\", fontsize=22)\n",
    "plt.xlabel(x_var)\n",
    "plt.ylabel(\"Frequency\")\n",
    "plt.ylim(0, 5)\n",
    "# plt.xticks(ticks=bins, labels=np.unique(games[x_var]).tolist(), rotation=90, horizontalalignment='left')\n",
    "plt.show()"
   ]
  },
  {
   "cell_type": "code",
   "execution_count": 35,
   "id": "62150f83",
   "metadata": {},
   "outputs": [
    {
     "data": {
      "text/plain": [
       "'Влияние рейтинга ESRB на продажи в Северной Америке'"
      ]
     },
     "metadata": {},
     "output_type": "display_data"
    },
    {
     "data": {
      "text/html": [
       "<div>\n",
       "<style scoped>\n",
       "    .dataframe tbody tr th:only-of-type {\n",
       "        vertical-align: middle;\n",
       "    }\n",
       "\n",
       "    .dataframe tbody tr th {\n",
       "        vertical-align: top;\n",
       "    }\n",
       "\n",
       "    .dataframe thead th {\n",
       "        text-align: right;\n",
       "    }\n",
       "</style>\n",
       "<table border=\"1\" class=\"dataframe\">\n",
       "  <thead>\n",
       "    <tr style=\"text-align: right;\">\n",
       "      <th></th>\n",
       "      <th>na_sales</th>\n",
       "    </tr>\n",
       "    <tr>\n",
       "      <th>rating</th>\n",
       "      <th></th>\n",
       "    </tr>\n",
       "  </thead>\n",
       "  <tbody>\n",
       "    <tr>\n",
       "      <th>E</th>\n",
       "      <td>50.74</td>\n",
       "    </tr>\n",
       "    <tr>\n",
       "      <th>E10+</th>\n",
       "      <td>33.23</td>\n",
       "    </tr>\n",
       "    <tr>\n",
       "      <th>M</th>\n",
       "      <td>96.42</td>\n",
       "    </tr>\n",
       "    <tr>\n",
       "      <th>T</th>\n",
       "      <td>38.95</td>\n",
       "    </tr>\n",
       "    <tr>\n",
       "      <th>unknown</th>\n",
       "      <td>64.72</td>\n",
       "    </tr>\n",
       "  </tbody>\n",
       "</table>\n",
       "</div>"
      ],
      "text/plain": [
       "         na_sales\n",
       "rating           \n",
       "E           50.74\n",
       "E10+        33.23\n",
       "M           96.42\n",
       "T           38.95\n",
       "unknown     64.72"
      ]
     },
     "metadata": {},
     "output_type": "display_data"
    }
   ],
   "source": [
    "display('Влияние рейтинга ESRB на продажи в Северной Америке',games.pivot_table(index='rating', values='na_sales', aggfunc='sum'))"
   ]
  },
  {
   "cell_type": "markdown",
   "id": "3a61c730",
   "metadata": {},
   "source": [
    "Рассмотрим регион Европа"
   ]
  },
  {
   "cell_type": "code",
   "execution_count": 37,
   "id": "5cdd85ed",
   "metadata": {},
   "outputs": [
    {
     "data": {
      "text/plain": [
       "'Самые популярные платформы в Европе'"
      ]
     },
     "metadata": {},
     "output_type": "display_data"
    },
    {
     "data": {
      "text/html": [
       "<div>\n",
       "<style scoped>\n",
       "    .dataframe tbody tr th:only-of-type {\n",
       "        vertical-align: middle;\n",
       "    }\n",
       "\n",
       "    .dataframe tbody tr th {\n",
       "        vertical-align: top;\n",
       "    }\n",
       "\n",
       "    .dataframe thead th {\n",
       "        text-align: right;\n",
       "    }\n",
       "</style>\n",
       "<table border=\"1\" class=\"dataframe\">\n",
       "  <thead>\n",
       "    <tr style=\"text-align: right;\">\n",
       "      <th></th>\n",
       "      <th>eu_sales</th>\n",
       "    </tr>\n",
       "    <tr>\n",
       "      <th>platform</th>\n",
       "      <th></th>\n",
       "    </tr>\n",
       "  </thead>\n",
       "  <tbody>\n",
       "    <tr>\n",
       "      <th>PS4</th>\n",
       "      <td>0.345851</td>\n",
       "    </tr>\n",
       "    <tr>\n",
       "      <th>Wii</th>\n",
       "      <td>0.235455</td>\n",
       "    </tr>\n",
       "    <tr>\n",
       "      <th>XOne</th>\n",
       "      <td>0.202851</td>\n",
       "    </tr>\n",
       "    <tr>\n",
       "      <th>WiiU</th>\n",
       "      <td>0.180137</td>\n",
       "    </tr>\n",
       "    <tr>\n",
       "      <th>X360</th>\n",
       "      <td>0.139550</td>\n",
       "    </tr>\n",
       "  </tbody>\n",
       "</table>\n",
       "</div>"
      ],
      "text/plain": [
       "          eu_sales\n",
       "platform          \n",
       "PS4       0.345851\n",
       "Wii       0.235455\n",
       "XOne      0.202851\n",
       "WiiU      0.180137\n",
       "X360      0.139550"
      ]
     },
     "metadata": {},
     "output_type": "display_data"
    }
   ],
   "source": [
    "display(\"Самые популярные платформы в Европе\",games.pivot_table(index='platform', values='eu_sales', aggfunc='mean').sort_values(by='eu_sales', ascending=False).head())"
   ]
  },
  {
   "cell_type": "code",
   "execution_count": 38,
   "id": "0b424afc",
   "metadata": {},
   "outputs": [
    {
     "data": {
      "text/plain": [
       "'Самые популярные жанры в Европе'"
      ]
     },
     "metadata": {},
     "output_type": "display_data"
    },
    {
     "data": {
      "text/html": [
       "<div>\n",
       "<style scoped>\n",
       "    .dataframe tbody tr th:only-of-type {\n",
       "        vertical-align: middle;\n",
       "    }\n",
       "\n",
       "    .dataframe tbody tr th {\n",
       "        vertical-align: top;\n",
       "    }\n",
       "\n",
       "    .dataframe thead th {\n",
       "        text-align: right;\n",
       "    }\n",
       "</style>\n",
       "<table border=\"1\" class=\"dataframe\">\n",
       "  <thead>\n",
       "    <tr style=\"text-align: right;\">\n",
       "      <th></th>\n",
       "      <th>eu_sales</th>\n",
       "    </tr>\n",
       "    <tr>\n",
       "      <th>genre</th>\n",
       "      <th></th>\n",
       "    </tr>\n",
       "  </thead>\n",
       "  <tbody>\n",
       "    <tr>\n",
       "      <th>Shooter</th>\n",
       "      <td>0.511875</td>\n",
       "    </tr>\n",
       "    <tr>\n",
       "      <th>Sports</th>\n",
       "      <td>0.284037</td>\n",
       "    </tr>\n",
       "    <tr>\n",
       "      <th>Racing</th>\n",
       "      <td>0.204783</td>\n",
       "    </tr>\n",
       "    <tr>\n",
       "      <th>Platform</th>\n",
       "      <td>0.178947</td>\n",
       "    </tr>\n",
       "    <tr>\n",
       "      <th>Simulation</th>\n",
       "      <td>0.165909</td>\n",
       "    </tr>\n",
       "  </tbody>\n",
       "</table>\n",
       "</div>"
      ],
      "text/plain": [
       "            eu_sales\n",
       "genre               \n",
       "Shooter     0.511875\n",
       "Sports      0.284037\n",
       "Racing      0.204783\n",
       "Platform    0.178947\n",
       "Simulation  0.165909"
      ]
     },
     "metadata": {},
     "output_type": "display_data"
    }
   ],
   "source": [
    "display(\"Самые популярные жанры в Европе\",games.pivot_table(index='genre', values='eu_sales', aggfunc='mean').sort_values(by='eu_sales', ascending=False).head())"
   ]
  },
  {
   "cell_type": "code",
   "execution_count": 39,
   "id": "63ce2ccc",
   "metadata": {},
   "outputs": [
    {
     "data": {
      "text/plain": [
       "'Влияние рейтинга ESRB на продажи в Европе'"
      ]
     },
     "metadata": {},
     "output_type": "display_data"
    },
    {
     "data": {
      "text/html": [
       "<div>\n",
       "<style scoped>\n",
       "    .dataframe tbody tr th:only-of-type {\n",
       "        vertical-align: middle;\n",
       "    }\n",
       "\n",
       "    .dataframe tbody tr th {\n",
       "        vertical-align: top;\n",
       "    }\n",
       "\n",
       "    .dataframe thead th {\n",
       "        text-align: right;\n",
       "    }\n",
       "</style>\n",
       "<table border=\"1\" class=\"dataframe\">\n",
       "  <thead>\n",
       "    <tr style=\"text-align: right;\">\n",
       "      <th></th>\n",
       "      <th>eu_sales</th>\n",
       "    </tr>\n",
       "    <tr>\n",
       "      <th>rating</th>\n",
       "      <th></th>\n",
       "    </tr>\n",
       "  </thead>\n",
       "  <tbody>\n",
       "    <tr>\n",
       "      <th>E</th>\n",
       "      <td>58.06</td>\n",
       "    </tr>\n",
       "    <tr>\n",
       "      <th>E10+</th>\n",
       "      <td>26.16</td>\n",
       "    </tr>\n",
       "    <tr>\n",
       "      <th>M</th>\n",
       "      <td>93.44</td>\n",
       "    </tr>\n",
       "    <tr>\n",
       "      <th>T</th>\n",
       "      <td>34.07</td>\n",
       "    </tr>\n",
       "    <tr>\n",
       "      <th>unknown</th>\n",
       "      <td>58.95</td>\n",
       "    </tr>\n",
       "  </tbody>\n",
       "</table>\n",
       "</div>"
      ],
      "text/plain": [
       "         eu_sales\n",
       "rating           \n",
       "E           58.06\n",
       "E10+        26.16\n",
       "M           93.44\n",
       "T           34.07\n",
       "unknown     58.95"
      ]
     },
     "metadata": {},
     "output_type": "display_data"
    }
   ],
   "source": [
    "display('Влияние рейтинга ESRB на продажи в Европе',games.pivot_table(index='rating', values='eu_sales', aggfunc='sum'))"
   ]
  },
  {
   "cell_type": "markdown",
   "id": "7857f70d",
   "metadata": {},
   "source": [
    "Рассмотрим регион Япония"
   ]
  },
  {
   "cell_type": "code",
   "execution_count": 40,
   "id": "aff40f4b",
   "metadata": {},
   "outputs": [
    {
     "data": {
      "text/plain": [
       "'Самые популярные платформы в Японии'"
      ]
     },
     "metadata": {},
     "output_type": "display_data"
    },
    {
     "data": {
      "text/html": [
       "<div>\n",
       "<style scoped>\n",
       "    .dataframe tbody tr th:only-of-type {\n",
       "        vertical-align: middle;\n",
       "    }\n",
       "\n",
       "    .dataframe tbody tr th {\n",
       "        vertical-align: top;\n",
       "    }\n",
       "\n",
       "    .dataframe thead th {\n",
       "        text-align: right;\n",
       "    }\n",
       "</style>\n",
       "<table border=\"1\" class=\"dataframe\">\n",
       "  <thead>\n",
       "    <tr style=\"text-align: right;\">\n",
       "      <th></th>\n",
       "      <th>jp_sales</th>\n",
       "    </tr>\n",
       "    <tr>\n",
       "      <th>platform</th>\n",
       "      <th></th>\n",
       "    </tr>\n",
       "  </thead>\n",
       "  <tbody>\n",
       "    <tr>\n",
       "      <th>3DS</th>\n",
       "      <td>0.208679</td>\n",
       "    </tr>\n",
       "    <tr>\n",
       "      <th>WiiU</th>\n",
       "      <td>0.100137</td>\n",
       "    </tr>\n",
       "    <tr>\n",
       "      <th>PS3</th>\n",
       "      <td>0.051233</td>\n",
       "    </tr>\n",
       "    <tr>\n",
       "      <th>PSV</th>\n",
       "      <td>0.049288</td>\n",
       "    </tr>\n",
       "    <tr>\n",
       "      <th>PS4</th>\n",
       "      <td>0.039947</td>\n",
       "    </tr>\n",
       "  </tbody>\n",
       "</table>\n",
       "</div>"
      ],
      "text/plain": [
       "          jp_sales\n",
       "platform          \n",
       "3DS       0.208679\n",
       "WiiU      0.100137\n",
       "PS3       0.051233\n",
       "PSV       0.049288\n",
       "PS4       0.039947"
      ]
     },
     "metadata": {},
     "output_type": "display_data"
    }
   ],
   "source": [
    "display(\"Самые популярные платформы в Японии\",games.pivot_table(index='platform', values='jp_sales', aggfunc='mean').sort_values(by='jp_sales', ascending=False).head())"
   ]
  },
  {
   "cell_type": "code",
   "execution_count": 41,
   "id": "9184b0ee",
   "metadata": {},
   "outputs": [
    {
     "data": {
      "text/plain": [
       "'Самые популярные жанры в Японии'"
      ]
     },
     "metadata": {},
     "output_type": "display_data"
    },
    {
     "data": {
      "text/html": [
       "<div>\n",
       "<style scoped>\n",
       "    .dataframe tbody tr th:only-of-type {\n",
       "        vertical-align: middle;\n",
       "    }\n",
       "\n",
       "    .dataframe tbody tr th {\n",
       "        vertical-align: top;\n",
       "    }\n",
       "\n",
       "    .dataframe thead th {\n",
       "        text-align: right;\n",
       "    }\n",
       "</style>\n",
       "<table border=\"1\" class=\"dataframe\">\n",
       "  <thead>\n",
       "    <tr style=\"text-align: right;\">\n",
       "      <th></th>\n",
       "      <th>jp_sales</th>\n",
       "    </tr>\n",
       "    <tr>\n",
       "      <th>genre</th>\n",
       "      <th></th>\n",
       "    </tr>\n",
       "  </thead>\n",
       "  <tbody>\n",
       "    <tr>\n",
       "      <th>Role-Playing</th>\n",
       "      <td>0.140995</td>\n",
       "    </tr>\n",
       "    <tr>\n",
       "      <th>Fighting</th>\n",
       "      <td>0.106167</td>\n",
       "    </tr>\n",
       "    <tr>\n",
       "      <th>Platform</th>\n",
       "      <td>0.070789</td>\n",
       "    </tr>\n",
       "    <tr>\n",
       "      <th>Puzzle</th>\n",
       "      <td>0.066429</td>\n",
       "    </tr>\n",
       "    <tr>\n",
       "      <th>Simulation</th>\n",
       "      <td>0.052500</td>\n",
       "    </tr>\n",
       "  </tbody>\n",
       "</table>\n",
       "</div>"
      ],
      "text/plain": [
       "              jp_sales\n",
       "genre                 \n",
       "Role-Playing  0.140995\n",
       "Fighting      0.106167\n",
       "Platform      0.070789\n",
       "Puzzle        0.066429\n",
       "Simulation    0.052500"
      ]
     },
     "metadata": {},
     "output_type": "display_data"
    }
   ],
   "source": [
    "display(\"Самые популярные жанры в Японии\",games.pivot_table(index='genre', values='jp_sales', aggfunc='mean').sort_values(by='jp_sales', ascending=False).head())"
   ]
  },
  {
   "cell_type": "code",
   "execution_count": 42,
   "id": "652eb954",
   "metadata": {},
   "outputs": [
    {
     "data": {
      "text/plain": [
       "'Влияние рейтинга ESRB на продажи в Японии'"
      ]
     },
     "metadata": {},
     "output_type": "display_data"
    },
    {
     "data": {
      "text/html": [
       "<div>\n",
       "<style scoped>\n",
       "    .dataframe tbody tr th:only-of-type {\n",
       "        vertical-align: middle;\n",
       "    }\n",
       "\n",
       "    .dataframe tbody tr th {\n",
       "        vertical-align: top;\n",
       "    }\n",
       "\n",
       "    .dataframe thead th {\n",
       "        text-align: right;\n",
       "    }\n",
       "</style>\n",
       "<table border=\"1\" class=\"dataframe\">\n",
       "  <thead>\n",
       "    <tr style=\"text-align: right;\">\n",
       "      <th></th>\n",
       "      <th>jp_sales</th>\n",
       "    </tr>\n",
       "    <tr>\n",
       "      <th>rating</th>\n",
       "      <th></th>\n",
       "    </tr>\n",
       "  </thead>\n",
       "  <tbody>\n",
       "    <tr>\n",
       "      <th>E</th>\n",
       "      <td>8.94</td>\n",
       "    </tr>\n",
       "    <tr>\n",
       "      <th>E10+</th>\n",
       "      <td>4.46</td>\n",
       "    </tr>\n",
       "    <tr>\n",
       "      <th>M</th>\n",
       "      <td>8.01</td>\n",
       "    </tr>\n",
       "    <tr>\n",
       "      <th>T</th>\n",
       "      <td>14.78</td>\n",
       "    </tr>\n",
       "    <tr>\n",
       "      <th>unknown</th>\n",
       "      <td>56.90</td>\n",
       "    </tr>\n",
       "  </tbody>\n",
       "</table>\n",
       "</div>"
      ],
      "text/plain": [
       "         jp_sales\n",
       "rating           \n",
       "E            8.94\n",
       "E10+         4.46\n",
       "M            8.01\n",
       "T           14.78\n",
       "unknown     56.90"
      ]
     },
     "metadata": {},
     "output_type": "display_data"
    }
   ],
   "source": [
    "display('Влияние рейтинга ESRB на продажи в Японии',games.pivot_table(index='rating', values='jp_sales', aggfunc='sum'))"
   ]
  },
  {
   "cell_type": "markdown",
   "id": "ecc91e97",
   "metadata": {},
   "source": [
    "Попробуем описать портрет каждого региона.\n",
    "\n",
    "Для Северной Америки наиболее предпочтительными являются игры на платформе PS4 и XOne жанра шутер. Скорее всего этот пользователь предпочитает игры более высокого возрастного рейтинга - M (для этого рейтинга различные жестокие сцены и рекомендуется для людей старше 17 лет). Но я бы не стала предполагать, что типичный игрок Северной Америки это взрослый совершеннолетний человек т.к. возрастное ограничение рейтинга является рекомендацией и никак не остановит игроков младше 17 лет поиграть в игру рейтинга M. Мы скорее можем сделать вывод, что в данном регионе предпочитают довольно жестокие игры, связанные с насилием (это же показывает наиболее популярный жанр шутер)\n",
    "\n",
    "Для игроков Европы наиболее предпочтительными также являются игры на платформе PS4 и XOne жанра шутер. Игры рейтинга М также являются наиболее продаваемыми. Можно сделать вывод, что портреты игроков Северной Америки и Европы очень схожи.\n",
    "\n",
    "В Японии лучше всего продаются игры на платформе Нинтендо жанров файтинг или рпг. При этом, наибольшей популярность пользуются игры жанра T (для подростков, где возрастное ограничение от 13 лет). То что наиболее предпочитаемый рейтинг игр в Японии ниже, чем в Северной Америке и Европе скорее напрямую связано с особенностями предпочитаемых жанров. Файтингам и рпг в целом реже присваивают высокие рейтинги, по сравнению с шутерами. "
   ]
  },
  {
   "cell_type": "markdown",
   "id": "2cb42bae",
   "metadata": {},
   "source": [
    "## Проверка гипотез"
   ]
  },
  {
   "cell_type": "markdown",
   "id": "7860579c",
   "metadata": {},
   "source": [
    "Необходимо проверить следующие гипотезы:\n",
    "- Средние пользовательские рейтинги платформ Xbox One и PC одинаковые;\n",
    "- Средние пользовательские рейтинги жанров Action (англ. «действие», экшен-игры) и Sports (англ. «спортивные соревнования») разные."
   ]
  },
  {
   "cell_type": "markdown",
   "id": "b91cdfb5",
   "metadata": {},
   "source": [
    "Первую гипотезу можно сформулировать следующим образом:\n",
    "- Н0 Средние пользовательские рейтинги платформ Xbox One и PC равны\n",
    "- Н1 Средние пользовательские рейтинги платформ Xbox One и PC не равны\n",
    "    \n",
    "Вторую гипотезу сформулируем следующим образом:\n",
    "- Н0 Средние пользовательские рейтинги жанров Action и Sports равны\n",
    "- Н1 Средние пользовательские рейтинги жанров Action и Sports не равны"
   ]
  },
  {
   "cell_type": "code",
   "execution_count": 44,
   "id": "40e49011",
   "metadata": {},
   "outputs": [],
   "source": [
    "#соберем необходимые срезы данных для проверок гипотез \n",
    "xbox_sales = games[(games['platform']=='XOne') & (games['user_score']!=0)]['user_score']\n",
    "pc_sales = games[(games['platform']=='PC') & (games['user_score']!=0)]['user_score']\n",
    "action_sales = games[(games['genre']=='Action') & (games['user_score']!=0)]['user_score']\n",
    "sports_sales = games[(games['genre']=='Sports') & (games['user_score']!=0)]['user_score']"
   ]
  },
  {
   "cell_type": "code",
   "execution_count": 45,
   "id": "d1e79457",
   "metadata": {},
   "outputs": [
    {
     "name": "stdout",
     "output_type": "stream",
     "text": [
      "p-значение: 0.10450507919348415\n",
      "Не получилось отвергнуть нулевую гипотезу\n"
     ]
    }
   ],
   "source": [
    "alpha = 0.05\n",
    "results = st.ttest_ind(\n",
    "    xbox_sales, \n",
    "    pc_sales)\n",
    "print('p-значение:', results.pvalue)\n",
    "\n",
    "if results.pvalue < alpha:\n",
    "    print(\"Отвергаем нулевую гипотезу\")\n",
    "else:\n",
    "    print(\"Не получилось отвергнуть нулевую гипотезу\") "
   ]
  },
  {
   "cell_type": "markdown",
   "id": "84e280c7",
   "metadata": {},
   "source": [
    "То есть пользовательские оценки игр на платформах XBOX One и PC скорее всего равны."
   ]
  },
  {
   "cell_type": "code",
   "execution_count": 46,
   "id": "b7ae103f",
   "metadata": {},
   "outputs": [
    {
     "name": "stdout",
     "output_type": "stream",
     "text": [
      "p-значение: 2.8711147985105864e-19\n",
      "Отвергаем нулевую гипотезу\n"
     ]
    }
   ],
   "source": [
    "alpha = 0.05\n",
    "results = st.ttest_ind(\n",
    "    action_sales, \n",
    "    sports_sales)\n",
    "print('p-значение:', results.pvalue)\n",
    "\n",
    "if results.pvalue < alpha:\n",
    "    print(\"Отвергаем нулевую гипотезу\")\n",
    "else:\n",
    "    print(\"Не получилось отвергнуть нулевую гипотезу\") "
   ]
  },
  {
   "cell_type": "markdown",
   "id": "556fffb1",
   "metadata": {},
   "source": [
    "То есть пользовательские оценки игр жанров Action и Sports не равны."
   ]
  },
  {
   "cell_type": "markdown",
   "id": "8d5d49a6",
   "metadata": {},
   "source": [
    "## Общий вывод"
   ]
  },
  {
   "cell_type": "markdown",
   "id": "41a00671",
   "metadata": {},
   "source": [
    "Наиболее успешная игра должна покрывать три основные платфромы XBOX, PS и PC. Причем игра для консолей должна быть для последней версии консоли, в 2017 году это будут XBOX One и PS4.\n",
    "\n",
    "Наиболее доходные рынки - Северная Америка и Европа, у них примерно одинаковые предпочтения в играх - это шутеры на консолях с высоким возрастным рейтингом. Шутеры имеют самый высокий уровень продаж на одну игру (1.3) то есть на каждая игра этого жанра в среднем продает 1 300 тыс. копий, что намного больше, чем любой другой жанр. Следующими в рейтинге по средним продажам копий на одну игру идут платформеры и спорт. Следует также обратить внимание на файтинги т.к. они популярны в Северной Америке и в Японии.\n",
    "\n",
    "В Японии иные предпочтения, игроки данной страны в основном играют в рпг и файтинги, к тому же предпочтения отдаются не слишком жестоким играм.\n",
    "\n",
    "Таким образом, при планировании рекламной кампании для Северной Америки и Европы следует отслеживать анонсы шутеров от наиболее крупных игровых компаний, а также игр про спорт и платформеры. Важно, чтобы эти игры выходили на консолях XBOX и PS последнего поколения. Для Японии следует сделать акцент на рпг и файтинги, причем важно, чтобы помимо двух наиболее популярных консолей, игра была доступна также на Нинтендо. Кроме того, отзывы критиков и самих игроков почти не влияют на продажи, так что резать показы рекламы игры с невысоким рейтингом от критиков не стоит, скорее всего, это почти не повлияет на продажи. "
   ]
  }
 ],
 "metadata": {
  "ExecuteTimeLog": [
   {
    "duration": 1224,
    "start_time": "2022-06-12T06:33:11.971Z"
   },
   {
    "duration": 166,
    "start_time": "2022-06-12T06:33:13.197Z"
   },
   {
    "duration": 4,
    "start_time": "2022-06-12T06:33:13.365Z"
   },
   {
    "duration": 24,
    "start_time": "2022-06-12T06:33:13.370Z"
   },
   {
    "duration": 40,
    "start_time": "2022-06-12T06:33:13.395Z"
   },
   {
    "duration": 3,
    "start_time": "2022-06-12T06:33:13.437Z"
   },
   {
    "duration": 15,
    "start_time": "2022-06-12T06:33:13.442Z"
   },
   {
    "duration": 9,
    "start_time": "2022-06-12T06:33:13.459Z"
   },
   {
    "duration": 10,
    "start_time": "2022-06-12T06:33:13.470Z"
   },
   {
    "duration": 45,
    "start_time": "2022-06-12T06:33:13.482Z"
   },
   {
    "duration": 17,
    "start_time": "2022-06-12T06:33:13.529Z"
   },
   {
    "duration": 179,
    "start_time": "2022-06-12T06:33:13.547Z"
   },
   {
    "duration": 15,
    "start_time": "2022-06-12T06:33:13.728Z"
   },
   {
    "duration": 309,
    "start_time": "2022-06-12T06:33:13.744Z"
   },
   {
    "duration": 165,
    "start_time": "2022-06-12T06:33:14.055Z"
   },
   {
    "duration": 165,
    "start_time": "2022-06-12T06:33:14.221Z"
   },
   {
    "duration": 150,
    "start_time": "2022-06-12T06:33:14.387Z"
   },
   {
    "duration": 155,
    "start_time": "2022-06-12T06:33:14.539Z"
   },
   {
    "duration": 160,
    "start_time": "2022-06-12T06:33:14.695Z"
   },
   {
    "duration": 158,
    "start_time": "2022-06-12T06:33:14.857Z"
   },
   {
    "duration": 23,
    "start_time": "2022-06-12T06:33:15.017Z"
   },
   {
    "duration": 13,
    "start_time": "2022-06-12T06:33:15.042Z"
   },
   {
    "duration": 14,
    "start_time": "2022-06-12T06:33:15.057Z"
   },
   {
    "duration": 16,
    "start_time": "2022-06-12T06:33:15.073Z"
   },
   {
    "duration": 125,
    "start_time": "2022-06-12T06:33:15.091Z"
   },
   {
    "duration": 191,
    "start_time": "2022-06-12T06:33:15.218Z"
   },
   {
    "duration": 96,
    "start_time": "2022-06-12T06:33:15.410Z"
   },
   {
    "duration": 273,
    "start_time": "2022-06-12T06:33:15.509Z"
   },
   {
    "duration": 17,
    "start_time": "2022-06-12T06:33:15.784Z"
   },
   {
    "duration": 284,
    "start_time": "2022-06-12T06:33:15.803Z"
   },
   {
    "duration": 338,
    "start_time": "2022-06-12T06:33:16.089Z"
   },
   {
    "duration": 314,
    "start_time": "2022-06-12T06:33:16.429Z"
   },
   {
    "duration": 275,
    "start_time": "2022-06-12T06:33:16.745Z"
   },
   {
    "duration": 24,
    "start_time": "2022-06-12T06:33:17.026Z"
   },
   {
    "duration": 16,
    "start_time": "2022-06-12T06:33:17.052Z"
   },
   {
    "duration": 21,
    "start_time": "2022-06-12T06:33:17.070Z"
   },
   {
    "duration": 40,
    "start_time": "2022-06-12T06:33:17.093Z"
   },
   {
    "duration": 16,
    "start_time": "2022-06-12T06:33:17.135Z"
   },
   {
    "duration": 17,
    "start_time": "2022-06-12T06:33:17.153Z"
   },
   {
    "duration": 14,
    "start_time": "2022-06-12T06:33:17.171Z"
   },
   {
    "duration": 46,
    "start_time": "2022-06-12T06:33:17.186Z"
   },
   {
    "duration": 14,
    "start_time": "2022-06-12T06:33:17.234Z"
   },
   {
    "duration": 18,
    "start_time": "2022-06-12T06:33:17.250Z"
   },
   {
    "duration": 10,
    "start_time": "2022-06-12T06:33:17.270Z"
   },
   {
    "duration": 7,
    "start_time": "2022-06-12T06:33:17.282Z"
   },
   {
    "duration": 8,
    "start_time": "2022-06-12T06:33:17.290Z"
   },
   {
    "duration": 219,
    "start_time": "2022-06-12T06:42:54.761Z"
   },
   {
    "duration": 95,
    "start_time": "2022-06-12T06:43:17.549Z"
   },
   {
    "duration": 114,
    "start_time": "2022-06-12T06:43:33.725Z"
   },
   {
    "duration": 106,
    "start_time": "2022-06-12T06:51:50.906Z"
   },
   {
    "duration": 274,
    "start_time": "2022-06-12T06:52:09.746Z"
   },
   {
    "duration": 116,
    "start_time": "2022-06-12T06:53:00.427Z"
   },
   {
    "duration": 112,
    "start_time": "2022-06-12T06:53:13.239Z"
   },
   {
    "duration": 106,
    "start_time": "2022-06-12T06:54:22.379Z"
   },
   {
    "duration": 184,
    "start_time": "2022-06-12T06:59:53.315Z"
   },
   {
    "duration": 99,
    "start_time": "2022-06-12T07:02:15.541Z"
   },
   {
    "duration": 187,
    "start_time": "2022-06-12T07:07:46.818Z"
   },
   {
    "duration": 122,
    "start_time": "2022-06-12T07:08:21.407Z"
   },
   {
    "duration": 113,
    "start_time": "2022-06-12T07:08:42.562Z"
   },
   {
    "duration": 295,
    "start_time": "2022-06-12T07:09:16.455Z"
   },
   {
    "duration": 316,
    "start_time": "2022-06-12T07:09:28.472Z"
   },
   {
    "duration": 256,
    "start_time": "2022-06-12T07:10:05.606Z"
   },
   {
    "duration": 233,
    "start_time": "2022-06-12T07:10:12.554Z"
   },
   {
    "duration": 256,
    "start_time": "2022-06-12T07:11:12.602Z"
   },
   {
    "duration": 1044,
    "start_time": "2022-06-12T07:18:57.949Z"
   },
   {
    "duration": 118,
    "start_time": "2022-06-12T07:18:58.995Z"
   },
   {
    "duration": 27,
    "start_time": "2022-06-12T07:18:59.114Z"
   },
   {
    "duration": 23,
    "start_time": "2022-06-12T07:18:59.150Z"
   },
   {
    "duration": 15,
    "start_time": "2022-06-12T07:18:59.175Z"
   },
   {
    "duration": 3,
    "start_time": "2022-06-12T07:18:59.192Z"
   },
   {
    "duration": 14,
    "start_time": "2022-06-12T07:18:59.196Z"
   },
   {
    "duration": 26,
    "start_time": "2022-06-12T07:18:59.211Z"
   },
   {
    "duration": 19,
    "start_time": "2022-06-12T07:18:59.238Z"
   },
   {
    "duration": 17,
    "start_time": "2022-06-12T07:18:59.262Z"
   },
   {
    "duration": 17,
    "start_time": "2022-06-12T07:18:59.281Z"
   },
   {
    "duration": 171,
    "start_time": "2022-06-12T07:18:59.299Z"
   },
   {
    "duration": 16,
    "start_time": "2022-06-12T07:18:59.472Z"
   },
   {
    "duration": 352,
    "start_time": "2022-06-12T07:18:59.490Z"
   },
   {
    "duration": 214,
    "start_time": "2022-06-12T07:18:59.846Z"
   },
   {
    "duration": 224,
    "start_time": "2022-06-12T07:19:00.062Z"
   },
   {
    "duration": 149,
    "start_time": "2022-06-12T07:19:00.288Z"
   },
   {
    "duration": 166,
    "start_time": "2022-06-12T07:19:00.438Z"
   },
   {
    "duration": 166,
    "start_time": "2022-06-12T07:19:00.606Z"
   },
   {
    "duration": 170,
    "start_time": "2022-06-12T07:19:00.774Z"
   },
   {
    "duration": 20,
    "start_time": "2022-06-12T07:19:00.949Z"
   },
   {
    "duration": 17,
    "start_time": "2022-06-12T07:19:00.970Z"
   },
   {
    "duration": 13,
    "start_time": "2022-06-12T07:19:00.989Z"
   },
   {
    "duration": 22,
    "start_time": "2022-06-12T07:19:01.003Z"
   },
   {
    "duration": 124,
    "start_time": "2022-06-12T07:19:01.031Z"
   },
   {
    "duration": 203,
    "start_time": "2022-06-12T07:19:01.156Z"
   },
   {
    "duration": 99,
    "start_time": "2022-06-12T07:19:01.361Z"
   },
   {
    "duration": 314,
    "start_time": "2022-06-12T07:19:01.463Z"
   },
   {
    "duration": 321,
    "start_time": "2022-06-12T07:19:01.779Z"
   },
   {
    "duration": 34,
    "start_time": "2022-06-12T07:19:02.101Z"
   },
   {
    "duration": 296,
    "start_time": "2022-06-12T07:19:02.138Z"
   },
   {
    "duration": 294,
    "start_time": "2022-06-12T07:19:02.443Z"
   },
   {
    "duration": 272,
    "start_time": "2022-06-12T07:19:02.739Z"
   },
   {
    "duration": 283,
    "start_time": "2022-06-12T07:19:03.012Z"
   },
   {
    "duration": 41,
    "start_time": "2022-06-12T07:19:03.297Z"
   },
   {
    "duration": 18,
    "start_time": "2022-06-12T07:19:03.350Z"
   },
   {
    "duration": 22,
    "start_time": "2022-06-12T07:19:03.370Z"
   },
   {
    "duration": 16,
    "start_time": "2022-06-12T07:19:03.394Z"
   },
   {
    "duration": 13,
    "start_time": "2022-06-12T07:19:03.412Z"
   },
   {
    "duration": 28,
    "start_time": "2022-06-12T07:19:03.433Z"
   },
   {
    "duration": 11,
    "start_time": "2022-06-12T07:19:03.463Z"
   },
   {
    "duration": 12,
    "start_time": "2022-06-12T07:19:03.476Z"
   },
   {
    "duration": 13,
    "start_time": "2022-06-12T07:19:03.490Z"
   },
   {
    "duration": 33,
    "start_time": "2022-06-12T07:19:03.505Z"
   },
   {
    "duration": 26,
    "start_time": "2022-06-12T07:19:03.539Z"
   },
   {
    "duration": 15,
    "start_time": "2022-06-12T07:19:03.566Z"
   },
   {
    "duration": 9,
    "start_time": "2022-06-12T07:19:03.582Z"
   },
   {
    "duration": 47,
    "start_time": "2022-06-12T07:27:03.372Z"
   },
   {
    "duration": 1194,
    "start_time": "2022-06-12T07:27:12.819Z"
   },
   {
    "duration": 159,
    "start_time": "2022-06-12T07:27:14.015Z"
   },
   {
    "duration": 4,
    "start_time": "2022-06-12T07:27:16.146Z"
   },
   {
    "duration": 22,
    "start_time": "2022-06-12T07:27:19.462Z"
   },
   {
    "duration": 18,
    "start_time": "2022-06-12T07:27:20.942Z"
   },
   {
    "duration": 3,
    "start_time": "2022-06-12T07:27:24.612Z"
   },
   {
    "duration": 10,
    "start_time": "2022-06-12T07:27:25.241Z"
   },
   {
    "duration": 9,
    "start_time": "2022-06-12T07:27:26.090Z"
   },
   {
    "duration": 8,
    "start_time": "2022-06-12T07:27:26.941Z"
   },
   {
    "duration": 21,
    "start_time": "2022-06-12T07:27:27.455Z"
   },
   {
    "duration": 23,
    "start_time": "2022-06-12T07:28:10.466Z"
   },
   {
    "duration": 176,
    "start_time": "2022-06-12T07:28:11.687Z"
   },
   {
    "duration": 13,
    "start_time": "2022-06-12T07:28:12.319Z"
   },
   {
    "duration": 295,
    "start_time": "2022-06-12T07:28:13.087Z"
   },
   {
    "duration": 154,
    "start_time": "2022-06-12T07:28:13.475Z"
   },
   {
    "duration": 149,
    "start_time": "2022-06-12T07:28:13.783Z"
   },
   {
    "duration": 129,
    "start_time": "2022-06-12T07:28:14.368Z"
   },
   {
    "duration": 158,
    "start_time": "2022-06-12T07:28:15.211Z"
   },
   {
    "duration": 158,
    "start_time": "2022-06-12T07:28:16.128Z"
   },
   {
    "duration": 156,
    "start_time": "2022-06-12T07:28:16.861Z"
   },
   {
    "duration": 16,
    "start_time": "2022-06-12T07:28:17.889Z"
   },
   {
    "duration": 23,
    "start_time": "2022-06-12T07:28:18.876Z"
   },
   {
    "duration": 15,
    "start_time": "2022-06-12T07:28:19.272Z"
   },
   {
    "duration": 15,
    "start_time": "2022-06-12T07:28:19.772Z"
   },
   {
    "duration": 92,
    "start_time": "2022-06-12T07:28:20.823Z"
   },
   {
    "duration": 157,
    "start_time": "2022-06-12T07:28:21.434Z"
   },
   {
    "duration": 94,
    "start_time": "2022-06-12T07:28:21.959Z"
   },
   {
    "duration": 290,
    "start_time": "2022-06-12T07:47:55.249Z"
   },
   {
    "duration": 296,
    "start_time": "2022-06-12T07:48:05.373Z"
   },
   {
    "duration": 231,
    "start_time": "2022-06-12T07:48:09.212Z"
   },
   {
    "duration": 254,
    "start_time": "2022-06-12T07:48:10.719Z"
   },
   {
    "duration": 17,
    "start_time": "2022-06-12T07:48:19.614Z"
   },
   {
    "duration": 265,
    "start_time": "2022-06-12T07:48:21.769Z"
   },
   {
    "duration": 273,
    "start_time": "2022-06-12T07:48:22.353Z"
   },
   {
    "duration": 341,
    "start_time": "2022-06-12T07:48:23.060Z"
   },
   {
    "duration": 249,
    "start_time": "2022-06-12T07:48:23.745Z"
   },
   {
    "duration": 23,
    "start_time": "2022-06-12T07:48:24.407Z"
   },
   {
    "duration": 14,
    "start_time": "2022-06-12T07:48:25.116Z"
   },
   {
    "duration": 14,
    "start_time": "2022-06-12T07:48:25.389Z"
   },
   {
    "duration": 14,
    "start_time": "2022-06-12T07:48:26.590Z"
   },
   {
    "duration": 17,
    "start_time": "2022-06-12T07:48:27.174Z"
   },
   {
    "duration": 15,
    "start_time": "2022-06-12T07:48:27.416Z"
   },
   {
    "duration": 14,
    "start_time": "2022-06-12T07:48:27.654Z"
   },
   {
    "duration": 13,
    "start_time": "2022-06-12T07:48:28.154Z"
   },
   {
    "duration": 13,
    "start_time": "2022-06-12T07:48:28.389Z"
   },
   {
    "duration": 14,
    "start_time": "2022-06-12T07:48:28.599Z"
   },
   {
    "duration": 63,
    "start_time": "2022-06-12T07:53:54.180Z"
   },
   {
    "duration": 3486,
    "start_time": "2022-06-12T07:54:17.659Z"
   },
   {
    "duration": 27,
    "start_time": "2022-06-12T07:55:45.679Z"
   },
   {
    "duration": 1021,
    "start_time": "2022-06-12T08:56:05.042Z"
   },
   {
    "duration": 117,
    "start_time": "2022-06-12T08:56:06.065Z"
   },
   {
    "duration": 5,
    "start_time": "2022-06-12T08:56:06.185Z"
   },
   {
    "duration": 33,
    "start_time": "2022-06-12T08:56:06.192Z"
   },
   {
    "duration": 25,
    "start_time": "2022-06-12T08:56:06.227Z"
   },
   {
    "duration": 6,
    "start_time": "2022-06-12T08:56:06.255Z"
   },
   {
    "duration": 17,
    "start_time": "2022-06-12T08:56:06.264Z"
   },
   {
    "duration": 19,
    "start_time": "2022-06-12T08:56:06.283Z"
   },
   {
    "duration": 36,
    "start_time": "2022-06-12T08:56:06.303Z"
   },
   {
    "duration": 41,
    "start_time": "2022-06-12T08:56:06.342Z"
   },
   {
    "duration": 21,
    "start_time": "2022-06-12T08:56:06.386Z"
   },
   {
    "duration": 210,
    "start_time": "2022-06-12T08:56:06.409Z"
   },
   {
    "duration": 22,
    "start_time": "2022-06-12T08:56:06.626Z"
   },
   {
    "duration": 300,
    "start_time": "2022-06-12T08:56:06.651Z"
   },
   {
    "duration": 157,
    "start_time": "2022-06-12T08:56:06.952Z"
   },
   {
    "duration": 173,
    "start_time": "2022-06-12T08:56:07.111Z"
   },
   {
    "duration": 162,
    "start_time": "2022-06-12T08:56:07.286Z"
   },
   {
    "duration": 153,
    "start_time": "2022-06-12T08:56:07.450Z"
   },
   {
    "duration": 178,
    "start_time": "2022-06-12T08:56:07.605Z"
   },
   {
    "duration": 168,
    "start_time": "2022-06-12T08:56:07.785Z"
   },
   {
    "duration": 14,
    "start_time": "2022-06-12T08:56:07.955Z"
   },
   {
    "duration": 16,
    "start_time": "2022-06-12T08:56:07.971Z"
   },
   {
    "duration": 14,
    "start_time": "2022-06-12T08:56:07.988Z"
   },
   {
    "duration": 38,
    "start_time": "2022-06-12T08:56:08.003Z"
   },
   {
    "duration": 347,
    "start_time": "2022-06-12T08:56:08.043Z"
   },
   {
    "duration": 274,
    "start_time": "2022-06-12T08:56:08.392Z"
   },
   {
    "duration": 18,
    "start_time": "2022-06-12T08:56:08.668Z"
   },
   {
    "duration": 307,
    "start_time": "2022-06-12T08:56:08.690Z"
   },
   {
    "duration": 280,
    "start_time": "2022-06-12T08:56:08.999Z"
   },
   {
    "duration": 299,
    "start_time": "2022-06-12T08:56:09.280Z"
   },
   {
    "duration": 277,
    "start_time": "2022-06-12T08:56:09.581Z"
   },
   {
    "duration": 33,
    "start_time": "2022-06-12T08:56:09.860Z"
   },
   {
    "duration": 12,
    "start_time": "2022-06-12T08:56:09.895Z"
   },
   {
    "duration": 19,
    "start_time": "2022-06-12T08:56:09.931Z"
   },
   {
    "duration": 13,
    "start_time": "2022-06-12T08:56:09.951Z"
   },
   {
    "duration": 3357,
    "start_time": "2022-06-12T08:56:09.965Z"
   },
   {
    "duration": 0,
    "start_time": "2022-06-12T08:56:13.323Z"
   },
   {
    "duration": 0,
    "start_time": "2022-06-12T08:56:13.325Z"
   },
   {
    "duration": 0,
    "start_time": "2022-06-12T08:56:13.328Z"
   },
   {
    "duration": 0,
    "start_time": "2022-06-12T08:56:13.329Z"
   },
   {
    "duration": 0,
    "start_time": "2022-06-12T08:56:13.330Z"
   },
   {
    "duration": 0,
    "start_time": "2022-06-12T08:56:13.331Z"
   },
   {
    "duration": 0,
    "start_time": "2022-06-12T08:56:13.332Z"
   },
   {
    "duration": 0,
    "start_time": "2022-06-12T08:56:13.333Z"
   },
   {
    "duration": 0,
    "start_time": "2022-06-12T08:56:13.334Z"
   },
   {
    "duration": 27,
    "start_time": "2022-06-12T09:00:30.016Z"
   },
   {
    "duration": 15,
    "start_time": "2022-06-12T09:00:30.544Z"
   },
   {
    "duration": 14,
    "start_time": "2022-06-12T09:00:30.955Z"
   },
   {
    "duration": 16,
    "start_time": "2022-06-12T09:00:31.956Z"
   },
   {
    "duration": 14,
    "start_time": "2022-06-12T09:00:32.579Z"
   },
   {
    "duration": 13,
    "start_time": "2022-06-12T09:00:33.367Z"
   },
   {
    "duration": 4,
    "start_time": "2022-06-12T09:03:59.464Z"
   },
   {
    "duration": 14,
    "start_time": "2022-06-12T09:04:20.480Z"
   },
   {
    "duration": 1074,
    "start_time": "2022-06-12T09:06:31.521Z"
   },
   {
    "duration": 2558,
    "start_time": "2022-06-12T09:07:21.766Z"
   },
   {
    "duration": 2527,
    "start_time": "2022-06-12T09:07:41.098Z"
   },
   {
    "duration": 1144,
    "start_time": "2022-06-12T09:07:48.852Z"
   },
   {
    "duration": 1619,
    "start_time": "2022-06-12T09:08:06.434Z"
   },
   {
    "duration": 267,
    "start_time": "2022-06-12T09:12:09.652Z"
   },
   {
    "duration": 321,
    "start_time": "2022-06-12T09:12:19.169Z"
   },
   {
    "duration": 292,
    "start_time": "2022-06-12T09:12:26.464Z"
   },
   {
    "duration": 310,
    "start_time": "2022-06-12T09:13:00.880Z"
   },
   {
    "duration": 551,
    "start_time": "2022-06-12T09:17:34.339Z"
   },
   {
    "duration": 251,
    "start_time": "2022-06-12T09:17:47.214Z"
   },
   {
    "duration": 299,
    "start_time": "2022-06-12T09:18:07.843Z"
   },
   {
    "duration": 294,
    "start_time": "2022-06-12T09:18:21.491Z"
   },
   {
    "duration": 313,
    "start_time": "2022-06-12T09:18:43.783Z"
   },
   {
    "duration": 297,
    "start_time": "2022-06-12T09:18:52.930Z"
   },
   {
    "duration": 757,
    "start_time": "2022-06-12T09:19:47.042Z"
   },
   {
    "duration": 418,
    "start_time": "2022-06-12T09:20:01.786Z"
   },
   {
    "duration": 408,
    "start_time": "2022-06-12T09:21:06.515Z"
   },
   {
    "duration": 454,
    "start_time": "2022-06-12T09:21:48.916Z"
   },
   {
    "duration": 311,
    "start_time": "2022-06-12T09:22:11.332Z"
   },
   {
    "duration": 254,
    "start_time": "2022-06-12T09:22:18.137Z"
   },
   {
    "duration": 277,
    "start_time": "2022-06-12T09:22:55.200Z"
   },
   {
    "duration": 248,
    "start_time": "2022-06-12T09:23:57.249Z"
   },
   {
    "duration": 239,
    "start_time": "2022-06-12T09:25:10.854Z"
   },
   {
    "duration": 255,
    "start_time": "2022-06-12T09:25:49.102Z"
   },
   {
    "duration": 273,
    "start_time": "2022-06-12T09:26:57.154Z"
   },
   {
    "duration": 342,
    "start_time": "2022-06-12T09:28:35.331Z"
   },
   {
    "duration": 473,
    "start_time": "2022-06-12T09:30:24.259Z"
   },
   {
    "duration": 278,
    "start_time": "2022-06-12T09:30:41.176Z"
   },
   {
    "duration": 282,
    "start_time": "2022-06-12T09:36:05.357Z"
   },
   {
    "duration": 1028,
    "start_time": "2022-06-12T09:40:34.841Z"
   },
   {
    "duration": 104,
    "start_time": "2022-06-12T09:40:35.871Z"
   },
   {
    "duration": 4,
    "start_time": "2022-06-12T09:40:35.977Z"
   },
   {
    "duration": 23,
    "start_time": "2022-06-12T09:40:35.983Z"
   },
   {
    "duration": 36,
    "start_time": "2022-06-12T09:40:36.007Z"
   },
   {
    "duration": 4,
    "start_time": "2022-06-12T09:40:36.044Z"
   },
   {
    "duration": 22,
    "start_time": "2022-06-12T09:40:36.049Z"
   },
   {
    "duration": 23,
    "start_time": "2022-06-12T09:40:36.072Z"
   },
   {
    "duration": 9,
    "start_time": "2022-06-12T09:40:36.097Z"
   },
   {
    "duration": 23,
    "start_time": "2022-06-12T09:40:36.109Z"
   },
   {
    "duration": 25,
    "start_time": "2022-06-12T09:40:36.134Z"
   },
   {
    "duration": 221,
    "start_time": "2022-06-12T09:40:36.160Z"
   },
   {
    "duration": 20,
    "start_time": "2022-06-12T09:40:36.383Z"
   },
   {
    "duration": 293,
    "start_time": "2022-06-12T09:40:36.405Z"
   },
   {
    "duration": 149,
    "start_time": "2022-06-12T09:40:36.700Z"
   },
   {
    "duration": 149,
    "start_time": "2022-06-12T09:40:36.851Z"
   },
   {
    "duration": 131,
    "start_time": "2022-06-12T09:40:37.002Z"
   },
   {
    "duration": 156,
    "start_time": "2022-06-12T09:40:37.135Z"
   },
   {
    "duration": 151,
    "start_time": "2022-06-12T09:40:37.293Z"
   },
   {
    "duration": 161,
    "start_time": "2022-06-12T09:40:37.445Z"
   },
   {
    "duration": 21,
    "start_time": "2022-06-12T09:40:37.607Z"
   },
   {
    "duration": 20,
    "start_time": "2022-06-12T09:40:37.629Z"
   },
   {
    "duration": 15,
    "start_time": "2022-06-12T09:40:37.651Z"
   },
   {
    "duration": 14,
    "start_time": "2022-06-12T09:40:37.667Z"
   },
   {
    "duration": 365,
    "start_time": "2022-06-12T09:40:37.683Z"
   },
   {
    "duration": 258,
    "start_time": "2022-06-12T09:40:38.050Z"
   },
   {
    "duration": 24,
    "start_time": "2022-06-12T09:40:38.309Z"
   },
   {
    "duration": 268,
    "start_time": "2022-06-12T09:40:38.336Z"
   },
   {
    "duration": 274,
    "start_time": "2022-06-12T09:40:38.606Z"
   },
   {
    "duration": 260,
    "start_time": "2022-06-12T09:40:38.882Z"
   },
   {
    "duration": 249,
    "start_time": "2022-06-12T09:40:39.144Z"
   },
   {
    "duration": 34,
    "start_time": "2022-06-12T09:40:39.394Z"
   },
   {
    "duration": 13,
    "start_time": "2022-06-12T09:40:39.430Z"
   },
   {
    "duration": 17,
    "start_time": "2022-06-12T09:40:39.444Z"
   },
   {
    "duration": 12,
    "start_time": "2022-06-12T09:40:39.463Z"
   },
   {
    "duration": 1670,
    "start_time": "2022-06-12T09:40:39.476Z"
   },
   {
    "duration": 14,
    "start_time": "2022-06-12T09:40:41.148Z"
   },
   {
    "duration": 15,
    "start_time": "2022-06-12T09:40:41.164Z"
   },
   {
    "duration": 13,
    "start_time": "2022-06-12T09:40:41.180Z"
   },
   {
    "duration": 14,
    "start_time": "2022-06-12T09:40:41.227Z"
   },
   {
    "duration": 20,
    "start_time": "2022-06-12T09:40:41.243Z"
   },
   {
    "duration": 16,
    "start_time": "2022-06-12T09:40:41.264Z"
   },
   {
    "duration": 270,
    "start_time": "2022-06-12T09:40:41.282Z"
   },
   {
    "duration": 8,
    "start_time": "2022-06-12T09:40:41.554Z"
   },
   {
    "duration": 9,
    "start_time": "2022-06-12T09:40:41.564Z"
   },
   {
    "duration": 8,
    "start_time": "2022-06-12T09:40:41.575Z"
   },
   {
    "duration": 298,
    "start_time": "2022-06-12T09:41:43.797Z"
   },
   {
    "duration": 280,
    "start_time": "2022-06-12T09:42:28.173Z"
   },
   {
    "duration": 520,
    "start_time": "2022-06-12T09:42:48.646Z"
   },
   {
    "duration": 281,
    "start_time": "2022-06-12T09:42:58.237Z"
   }
  ],
  "kernelspec": {
   "display_name": "Python 3 (ipykernel)",
   "language": "python",
   "name": "python3"
  },
  "language_info": {
   "codemirror_mode": {
    "name": "ipython",
    "version": 3
   },
   "file_extension": ".py",
   "mimetype": "text/x-python",
   "name": "python",
   "nbconvert_exporter": "python",
   "pygments_lexer": "ipython3",
   "version": "3.9.13"
  },
  "toc": {
   "base_numbering": 1,
   "nav_menu": {},
   "number_sections": true,
   "sideBar": true,
   "skip_h1_title": true,
   "title_cell": "Table of Contents",
   "title_sidebar": "Contents",
   "toc_cell": false,
   "toc_position": {},
   "toc_section_display": true,
   "toc_window_display": false
  }
 },
 "nbformat": 4,
 "nbformat_minor": 5
}
