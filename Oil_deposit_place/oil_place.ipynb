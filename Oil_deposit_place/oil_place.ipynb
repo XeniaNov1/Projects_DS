{
  "cells": [
    {
      "cell_type": "markdown",
      "metadata": {
        "id": "0ymofHjpkcWq"
      },
      "source": [
        "# Выбор локации для скважины"
      ]
    },
    {
      "cell_type": "markdown",
      "metadata": {
        "id": "4XuczlKmkcWq"
      },
      "source": [
        "Компании «ГлавРосГосНефть» необходимо определить, где бурить новую скважину.\n",
        "\n",
        "Были предоставлены пробы нефти в трёх регионах: в каждом 10 000 месторождений, где измерили качество нефти и объём её запасов. \n",
        "Построим модель машинного обучения, которая поможет определить регион, где добыча принесёт наибольшую прибыль. Проанализируем возможную прибыль и риски техникой Bootstrap.\n",
        "\n",
        "Шаги для выбора локации:\n",
        "\n",
        "- В избранном регионе ищут месторождения, для каждого определяется значение признаков;\n",
        "- Строится модель и оценивается объём запасов;\n",
        "- Выбор месторождения с самым высокими оценками значений. Количество месторождений зависит от бюджета компании и стоимости разработки одной скважины;\n",
        "- Прибыль равна суммарной прибыли отобранных месторождений."
      ]
    },
    {
      "cell_type": "markdown",
      "metadata": {
        "id": "cr7R0_UgkcWq"
      },
      "source": [
        "Условия задачи:\n",
        "- Для обучения модели подходит только линейная регрессия (остальные — недостаточно предсказуемые).\n",
        "- При разведке региона исследуют 500 точек, из которых с помощью машинного обучения выбирают 200 лучших для разработки.\n",
        "- Бюджет на разработку скважин в регионе — 10 млрд рублей.\n",
        "- При нынешних ценах один баррель сырья приносит 450 рублей дохода. Доход с каждой единицы продукта составляет 450 тыс. рублей, поскольку объём указан в тысячах баррелей.\n",
        "- После оценки рисков нужно оставить лишь те регионы, в которых вероятность убытков меньше 2.5%. Среди них выбирают регион с наибольшей средней прибылью."
      ]
    },
    {
      "cell_type": "markdown",
      "metadata": {
        "id": "ktJWrzxckcWs"
      },
      "source": [
        "## Загрузка и подготовка данных"
      ]
    },
    {
      "cell_type": "code",
      "execution_count": null,
      "metadata": {
        "id": "MQAmzjuskcWs"
      },
      "outputs": [],
      "source": [
        "import pandas as pd\n",
        "from sklearn.model_selection import train_test_split\n",
        "from sklearn.linear_model import LinearRegression\n",
        "from sklearn.metrics import mean_squared_error\n",
        "import numpy as np\n",
        "from tqdm import tqdm"
      ]
    },
    {
      "cell_type": "markdown",
      "metadata": {
        "id": "0ebJKZNbkcWt"
      },
      "source": [
        "Все ключевые значения для расчётов сохраним в отдельных переменных"
      ]
    },
    {
      "cell_type": "code",
      "execution_count": null,
      "metadata": {
        "id": "9_j222UIkcWt"
      },
      "outputs": [],
      "source": [
        "#сохраним ключевые метрики в переменных\n",
        "STATE = np.random.RandomState(12345) # рандом\n",
        "PICK500 = 500 # по условию, для исследования берут 500 случайных скважин\n",
        "BEST200 = 200 # 200 лучших скважин для разработки\n",
        "PRICE = 450 # тыс. руб. дохода от 1000 баррелей сырья\n",
        "BUDGET = 10000000 # тыс. руб. бюджет на разработку скважин\n",
        "RISK_RATE = 0.025 # риск убытков"
      ]
    },
    {
      "cell_type": "code",
      "execution_count": null,
      "metadata": {
        "id": "icovl_AmkcWu"
      },
      "outputs": [],
      "source": [
        "try:\n",
        "    region1 = pd.read_csv('/datasets/geo_data_0.csv')\n",
        "    region2 = pd.read_csv('/datasets/geo_data_1.csv')\n",
        "    region3 = pd.read_csv('/datasets/geo_data_2.csv')\n",
        "except:\n",
        "    region1 = pd.read_csv('/Users/knovikova/Downloads/geo_data_0.csv')\n",
        "    region2 = pd.read_csv('/Users/knovikova/Downloads/geo_data_1.csv')\n",
        "    region3 = pd.read_csv('/Users/knovikova/Downloads/geo_data_2.csv')"
      ]
    },
    {
      "cell_type": "code",
      "execution_count": null,
      "metadata": {
        "id": "OJDN4I9ZkcWv"
      },
      "outputs": [],
      "source": [
        "import os\n",
        "\n",
        "path1 = '/datasets/geo_data_0.csv'\n",
        "path2 = '/Users/knovikova/Downloads/geo_data_0.csv'\n",
        "\n",
        "if os.path.exists(path1):\n",
        "    query_1 = pd.read_csv(path1)\n",
        "elif os.path.exists(pth2):\n",
        "    query_1 = pd.read_csv(path2)\n",
        "else:\n",
        "    print('Something is wrong')"
      ]
    },
    {
      "cell_type": "code",
      "execution_count": null,
      "metadata": {
        "id": "Qi9bvCKvkcWv",
        "outputId": "f0c70f34-26ce-4bea-9c38-a3272bed1833"
      },
      "outputs": [
        {
          "name": "stdout",
          "output_type": "stream",
          "text": [
            "Геодата 1\n"
          ]
        },
        {
          "data": {
            "text/html": [
              "<div>\n",
              "<style scoped>\n",
              "    .dataframe tbody tr th:only-of-type {\n",
              "        vertical-align: middle;\n",
              "    }\n",
              "\n",
              "    .dataframe tbody tr th {\n",
              "        vertical-align: top;\n",
              "    }\n",
              "\n",
              "    .dataframe thead th {\n",
              "        text-align: right;\n",
              "    }\n",
              "</style>\n",
              "<table border=\"1\" class=\"dataframe\">\n",
              "  <thead>\n",
              "    <tr style=\"text-align: right;\">\n",
              "      <th></th>\n",
              "      <th>id</th>\n",
              "      <th>f0</th>\n",
              "      <th>f1</th>\n",
              "      <th>f2</th>\n",
              "      <th>product</th>\n",
              "    </tr>\n",
              "  </thead>\n",
              "  <tbody>\n",
              "    <tr>\n",
              "      <th>0</th>\n",
              "      <td>txEyH</td>\n",
              "      <td>0.705745</td>\n",
              "      <td>-0.497823</td>\n",
              "      <td>1.221170</td>\n",
              "      <td>105.280062</td>\n",
              "    </tr>\n",
              "    <tr>\n",
              "      <th>1</th>\n",
              "      <td>2acmU</td>\n",
              "      <td>1.334711</td>\n",
              "      <td>-0.340164</td>\n",
              "      <td>4.365080</td>\n",
              "      <td>73.037750</td>\n",
              "    </tr>\n",
              "    <tr>\n",
              "      <th>2</th>\n",
              "      <td>409Wp</td>\n",
              "      <td>1.022732</td>\n",
              "      <td>0.151990</td>\n",
              "      <td>1.419926</td>\n",
              "      <td>85.265647</td>\n",
              "    </tr>\n",
              "    <tr>\n",
              "      <th>3</th>\n",
              "      <td>iJLyR</td>\n",
              "      <td>-0.032172</td>\n",
              "      <td>0.139033</td>\n",
              "      <td>2.978566</td>\n",
              "      <td>168.620776</td>\n",
              "    </tr>\n",
              "    <tr>\n",
              "      <th>4</th>\n",
              "      <td>Xdl7t</td>\n",
              "      <td>1.988431</td>\n",
              "      <td>0.155413</td>\n",
              "      <td>4.751769</td>\n",
              "      <td>154.036647</td>\n",
              "    </tr>\n",
              "    <tr>\n",
              "      <th>5</th>\n",
              "      <td>wX4Hy</td>\n",
              "      <td>0.969570</td>\n",
              "      <td>0.489775</td>\n",
              "      <td>-0.735383</td>\n",
              "      <td>64.741541</td>\n",
              "    </tr>\n",
              "    <tr>\n",
              "      <th>6</th>\n",
              "      <td>tL6pL</td>\n",
              "      <td>0.645075</td>\n",
              "      <td>0.530656</td>\n",
              "      <td>1.780266</td>\n",
              "      <td>49.055285</td>\n",
              "    </tr>\n",
              "    <tr>\n",
              "      <th>7</th>\n",
              "      <td>BYPU6</td>\n",
              "      <td>-0.400648</td>\n",
              "      <td>0.808337</td>\n",
              "      <td>-5.624670</td>\n",
              "      <td>72.943292</td>\n",
              "    </tr>\n",
              "    <tr>\n",
              "      <th>8</th>\n",
              "      <td>j9Oui</td>\n",
              "      <td>0.643105</td>\n",
              "      <td>-0.551583</td>\n",
              "      <td>2.372141</td>\n",
              "      <td>113.356160</td>\n",
              "    </tr>\n",
              "    <tr>\n",
              "      <th>9</th>\n",
              "      <td>OLuZU</td>\n",
              "      <td>2.173381</td>\n",
              "      <td>0.563698</td>\n",
              "      <td>9.441852</td>\n",
              "      <td>127.910945</td>\n",
              "    </tr>\n",
              "  </tbody>\n",
              "</table>\n",
              "</div>"
            ],
            "text/plain": [
              "      id        f0        f1        f2     product\n",
              "0  txEyH  0.705745 -0.497823  1.221170  105.280062\n",
              "1  2acmU  1.334711 -0.340164  4.365080   73.037750\n",
              "2  409Wp  1.022732  0.151990  1.419926   85.265647\n",
              "3  iJLyR -0.032172  0.139033  2.978566  168.620776\n",
              "4  Xdl7t  1.988431  0.155413  4.751769  154.036647\n",
              "5  wX4Hy  0.969570  0.489775 -0.735383   64.741541\n",
              "6  tL6pL  0.645075  0.530656  1.780266   49.055285\n",
              "7  BYPU6 -0.400648  0.808337 -5.624670   72.943292\n",
              "8  j9Oui  0.643105 -0.551583  2.372141  113.356160\n",
              "9  OLuZU  2.173381  0.563698  9.441852  127.910945"
            ]
          },
          "metadata": {},
          "output_type": "display_data"
        },
        {
          "name": "stdout",
          "output_type": "stream",
          "text": [
            "<class 'pandas.core.frame.DataFrame'>\n",
            "RangeIndex: 100000 entries, 0 to 99999\n",
            "Data columns (total 5 columns):\n",
            " #   Column   Non-Null Count   Dtype  \n",
            "---  ------   --------------   -----  \n",
            " 0   id       100000 non-null  object \n",
            " 1   f0       100000 non-null  float64\n",
            " 2   f1       100000 non-null  float64\n",
            " 3   f2       100000 non-null  float64\n",
            " 4   product  100000 non-null  float64\n",
            "dtypes: float64(4), object(1)\n",
            "memory usage: 3.8+ MB\n"
          ]
        },
        {
          "data": {
            "text/plain": [
              "None"
            ]
          },
          "metadata": {},
          "output_type": "display_data"
        },
        {
          "data": {
            "text/html": [
              "<div>\n",
              "<style scoped>\n",
              "    .dataframe tbody tr th:only-of-type {\n",
              "        vertical-align: middle;\n",
              "    }\n",
              "\n",
              "    .dataframe tbody tr th {\n",
              "        vertical-align: top;\n",
              "    }\n",
              "\n",
              "    .dataframe thead th {\n",
              "        text-align: right;\n",
              "    }\n",
              "</style>\n",
              "<table border=\"1\" class=\"dataframe\">\n",
              "  <thead>\n",
              "    <tr style=\"text-align: right;\">\n",
              "      <th></th>\n",
              "      <th>f0</th>\n",
              "      <th>f1</th>\n",
              "      <th>f2</th>\n",
              "      <th>product</th>\n",
              "    </tr>\n",
              "  </thead>\n",
              "  <tbody>\n",
              "    <tr>\n",
              "      <th>count</th>\n",
              "      <td>100000.000000</td>\n",
              "      <td>100000.000000</td>\n",
              "      <td>100000.000000</td>\n",
              "      <td>100000.000000</td>\n",
              "    </tr>\n",
              "    <tr>\n",
              "      <th>mean</th>\n",
              "      <td>0.500419</td>\n",
              "      <td>0.250143</td>\n",
              "      <td>2.502647</td>\n",
              "      <td>92.500000</td>\n",
              "    </tr>\n",
              "    <tr>\n",
              "      <th>std</th>\n",
              "      <td>0.871832</td>\n",
              "      <td>0.504433</td>\n",
              "      <td>3.248248</td>\n",
              "      <td>44.288691</td>\n",
              "    </tr>\n",
              "    <tr>\n",
              "      <th>min</th>\n",
              "      <td>-1.408605</td>\n",
              "      <td>-0.848218</td>\n",
              "      <td>-12.088328</td>\n",
              "      <td>0.000000</td>\n",
              "    </tr>\n",
              "    <tr>\n",
              "      <th>25%</th>\n",
              "      <td>-0.072580</td>\n",
              "      <td>-0.200881</td>\n",
              "      <td>0.287748</td>\n",
              "      <td>56.497507</td>\n",
              "    </tr>\n",
              "    <tr>\n",
              "      <th>50%</th>\n",
              "      <td>0.502360</td>\n",
              "      <td>0.250252</td>\n",
              "      <td>2.515969</td>\n",
              "      <td>91.849972</td>\n",
              "    </tr>\n",
              "    <tr>\n",
              "      <th>75%</th>\n",
              "      <td>1.073581</td>\n",
              "      <td>0.700646</td>\n",
              "      <td>4.715088</td>\n",
              "      <td>128.564089</td>\n",
              "    </tr>\n",
              "    <tr>\n",
              "      <th>max</th>\n",
              "      <td>2.362331</td>\n",
              "      <td>1.343769</td>\n",
              "      <td>16.003790</td>\n",
              "      <td>185.364347</td>\n",
              "    </tr>\n",
              "  </tbody>\n",
              "</table>\n",
              "</div>"
            ],
            "text/plain": [
              "                  f0             f1             f2        product\n",
              "count  100000.000000  100000.000000  100000.000000  100000.000000\n",
              "mean        0.500419       0.250143       2.502647      92.500000\n",
              "std         0.871832       0.504433       3.248248      44.288691\n",
              "min        -1.408605      -0.848218     -12.088328       0.000000\n",
              "25%        -0.072580      -0.200881       0.287748      56.497507\n",
              "50%         0.502360       0.250252       2.515969      91.849972\n",
              "75%         1.073581       0.700646       4.715088     128.564089\n",
              "max         2.362331       1.343769      16.003790     185.364347"
            ]
          },
          "metadata": {},
          "output_type": "display_data"
        },
        {
          "name": "stdout",
          "output_type": "stream",
          "text": [
            "Геодата 2\n"
          ]
        },
        {
          "data": {
            "text/html": [
              "<div>\n",
              "<style scoped>\n",
              "    .dataframe tbody tr th:only-of-type {\n",
              "        vertical-align: middle;\n",
              "    }\n",
              "\n",
              "    .dataframe tbody tr th {\n",
              "        vertical-align: top;\n",
              "    }\n",
              "\n",
              "    .dataframe thead th {\n",
              "        text-align: right;\n",
              "    }\n",
              "</style>\n",
              "<table border=\"1\" class=\"dataframe\">\n",
              "  <thead>\n",
              "    <tr style=\"text-align: right;\">\n",
              "      <th></th>\n",
              "      <th>id</th>\n",
              "      <th>f0</th>\n",
              "      <th>f1</th>\n",
              "      <th>f2</th>\n",
              "      <th>product</th>\n",
              "    </tr>\n",
              "  </thead>\n",
              "  <tbody>\n",
              "    <tr>\n",
              "      <th>0</th>\n",
              "      <td>kBEdx</td>\n",
              "      <td>-15.001348</td>\n",
              "      <td>-8.276000</td>\n",
              "      <td>-0.005876</td>\n",
              "      <td>3.179103</td>\n",
              "    </tr>\n",
              "    <tr>\n",
              "      <th>1</th>\n",
              "      <td>62mP7</td>\n",
              "      <td>14.272088</td>\n",
              "      <td>-3.475083</td>\n",
              "      <td>0.999183</td>\n",
              "      <td>26.953261</td>\n",
              "    </tr>\n",
              "    <tr>\n",
              "      <th>2</th>\n",
              "      <td>vyE1P</td>\n",
              "      <td>6.263187</td>\n",
              "      <td>-5.948386</td>\n",
              "      <td>5.001160</td>\n",
              "      <td>134.766305</td>\n",
              "    </tr>\n",
              "    <tr>\n",
              "      <th>3</th>\n",
              "      <td>KcrkZ</td>\n",
              "      <td>-13.081196</td>\n",
              "      <td>-11.506057</td>\n",
              "      <td>4.999415</td>\n",
              "      <td>137.945408</td>\n",
              "    </tr>\n",
              "    <tr>\n",
              "      <th>4</th>\n",
              "      <td>AHL4O</td>\n",
              "      <td>12.702195</td>\n",
              "      <td>-8.147433</td>\n",
              "      <td>5.004363</td>\n",
              "      <td>134.766305</td>\n",
              "    </tr>\n",
              "    <tr>\n",
              "      <th>5</th>\n",
              "      <td>HHckp</td>\n",
              "      <td>-3.327590</td>\n",
              "      <td>-2.205276</td>\n",
              "      <td>3.003647</td>\n",
              "      <td>84.038886</td>\n",
              "    </tr>\n",
              "    <tr>\n",
              "      <th>6</th>\n",
              "      <td>h5Ujo</td>\n",
              "      <td>-11.142655</td>\n",
              "      <td>-10.133399</td>\n",
              "      <td>4.002382</td>\n",
              "      <td>110.992147</td>\n",
              "    </tr>\n",
              "    <tr>\n",
              "      <th>7</th>\n",
              "      <td>muH9x</td>\n",
              "      <td>4.234715</td>\n",
              "      <td>-0.001354</td>\n",
              "      <td>2.004588</td>\n",
              "      <td>53.906522</td>\n",
              "    </tr>\n",
              "    <tr>\n",
              "      <th>8</th>\n",
              "      <td>YiRkx</td>\n",
              "      <td>13.355129</td>\n",
              "      <td>-0.332068</td>\n",
              "      <td>4.998647</td>\n",
              "      <td>134.766305</td>\n",
              "    </tr>\n",
              "    <tr>\n",
              "      <th>9</th>\n",
              "      <td>jG6Gi</td>\n",
              "      <td>1.069227</td>\n",
              "      <td>-11.025667</td>\n",
              "      <td>4.997844</td>\n",
              "      <td>137.945408</td>\n",
              "    </tr>\n",
              "  </tbody>\n",
              "</table>\n",
              "</div>"
            ],
            "text/plain": [
              "      id         f0         f1        f2     product\n",
              "0  kBEdx -15.001348  -8.276000 -0.005876    3.179103\n",
              "1  62mP7  14.272088  -3.475083  0.999183   26.953261\n",
              "2  vyE1P   6.263187  -5.948386  5.001160  134.766305\n",
              "3  KcrkZ -13.081196 -11.506057  4.999415  137.945408\n",
              "4  AHL4O  12.702195  -8.147433  5.004363  134.766305\n",
              "5  HHckp  -3.327590  -2.205276  3.003647   84.038886\n",
              "6  h5Ujo -11.142655 -10.133399  4.002382  110.992147\n",
              "7  muH9x   4.234715  -0.001354  2.004588   53.906522\n",
              "8  YiRkx  13.355129  -0.332068  4.998647  134.766305\n",
              "9  jG6Gi   1.069227 -11.025667  4.997844  137.945408"
            ]
          },
          "metadata": {},
          "output_type": "display_data"
        },
        {
          "name": "stdout",
          "output_type": "stream",
          "text": [
            "<class 'pandas.core.frame.DataFrame'>\n",
            "RangeIndex: 100000 entries, 0 to 99999\n",
            "Data columns (total 5 columns):\n",
            " #   Column   Non-Null Count   Dtype  \n",
            "---  ------   --------------   -----  \n",
            " 0   id       100000 non-null  object \n",
            " 1   f0       100000 non-null  float64\n",
            " 2   f1       100000 non-null  float64\n",
            " 3   f2       100000 non-null  float64\n",
            " 4   product  100000 non-null  float64\n",
            "dtypes: float64(4), object(1)\n",
            "memory usage: 3.8+ MB\n"
          ]
        },
        {
          "data": {
            "text/plain": [
              "None"
            ]
          },
          "metadata": {},
          "output_type": "display_data"
        },
        {
          "data": {
            "text/html": [
              "<div>\n",
              "<style scoped>\n",
              "    .dataframe tbody tr th:only-of-type {\n",
              "        vertical-align: middle;\n",
              "    }\n",
              "\n",
              "    .dataframe tbody tr th {\n",
              "        vertical-align: top;\n",
              "    }\n",
              "\n",
              "    .dataframe thead th {\n",
              "        text-align: right;\n",
              "    }\n",
              "</style>\n",
              "<table border=\"1\" class=\"dataframe\">\n",
              "  <thead>\n",
              "    <tr style=\"text-align: right;\">\n",
              "      <th></th>\n",
              "      <th>f0</th>\n",
              "      <th>f1</th>\n",
              "      <th>f2</th>\n",
              "      <th>product</th>\n",
              "    </tr>\n",
              "  </thead>\n",
              "  <tbody>\n",
              "    <tr>\n",
              "      <th>count</th>\n",
              "      <td>100000.000000</td>\n",
              "      <td>100000.000000</td>\n",
              "      <td>100000.000000</td>\n",
              "      <td>100000.000000</td>\n",
              "    </tr>\n",
              "    <tr>\n",
              "      <th>mean</th>\n",
              "      <td>1.141296</td>\n",
              "      <td>-4.796579</td>\n",
              "      <td>2.494541</td>\n",
              "      <td>68.825000</td>\n",
              "    </tr>\n",
              "    <tr>\n",
              "      <th>std</th>\n",
              "      <td>8.965932</td>\n",
              "      <td>5.119872</td>\n",
              "      <td>1.703572</td>\n",
              "      <td>45.944423</td>\n",
              "    </tr>\n",
              "    <tr>\n",
              "      <th>min</th>\n",
              "      <td>-31.609576</td>\n",
              "      <td>-26.358598</td>\n",
              "      <td>-0.018144</td>\n",
              "      <td>0.000000</td>\n",
              "    </tr>\n",
              "    <tr>\n",
              "      <th>25%</th>\n",
              "      <td>-6.298551</td>\n",
              "      <td>-8.267985</td>\n",
              "      <td>1.000021</td>\n",
              "      <td>26.953261</td>\n",
              "    </tr>\n",
              "    <tr>\n",
              "      <th>50%</th>\n",
              "      <td>1.153055</td>\n",
              "      <td>-4.813172</td>\n",
              "      <td>2.011479</td>\n",
              "      <td>57.085625</td>\n",
              "    </tr>\n",
              "    <tr>\n",
              "      <th>75%</th>\n",
              "      <td>8.621015</td>\n",
              "      <td>-1.332816</td>\n",
              "      <td>3.999904</td>\n",
              "      <td>107.813044</td>\n",
              "    </tr>\n",
              "    <tr>\n",
              "      <th>max</th>\n",
              "      <td>29.421755</td>\n",
              "      <td>18.734063</td>\n",
              "      <td>5.019721</td>\n",
              "      <td>137.945408</td>\n",
              "    </tr>\n",
              "  </tbody>\n",
              "</table>\n",
              "</div>"
            ],
            "text/plain": [
              "                  f0             f1             f2        product\n",
              "count  100000.000000  100000.000000  100000.000000  100000.000000\n",
              "mean        1.141296      -4.796579       2.494541      68.825000\n",
              "std         8.965932       5.119872       1.703572      45.944423\n",
              "min       -31.609576     -26.358598      -0.018144       0.000000\n",
              "25%        -6.298551      -8.267985       1.000021      26.953261\n",
              "50%         1.153055      -4.813172       2.011479      57.085625\n",
              "75%         8.621015      -1.332816       3.999904     107.813044\n",
              "max        29.421755      18.734063       5.019721     137.945408"
            ]
          },
          "metadata": {},
          "output_type": "display_data"
        },
        {
          "name": "stdout",
          "output_type": "stream",
          "text": [
            "Геодата 3\n"
          ]
        },
        {
          "data": {
            "text/html": [
              "<div>\n",
              "<style scoped>\n",
              "    .dataframe tbody tr th:only-of-type {\n",
              "        vertical-align: middle;\n",
              "    }\n",
              "\n",
              "    .dataframe tbody tr th {\n",
              "        vertical-align: top;\n",
              "    }\n",
              "\n",
              "    .dataframe thead th {\n",
              "        text-align: right;\n",
              "    }\n",
              "</style>\n",
              "<table border=\"1\" class=\"dataframe\">\n",
              "  <thead>\n",
              "    <tr style=\"text-align: right;\">\n",
              "      <th></th>\n",
              "      <th>id</th>\n",
              "      <th>f0</th>\n",
              "      <th>f1</th>\n",
              "      <th>f2</th>\n",
              "      <th>product</th>\n",
              "    </tr>\n",
              "  </thead>\n",
              "  <tbody>\n",
              "    <tr>\n",
              "      <th>0</th>\n",
              "      <td>fwXo0</td>\n",
              "      <td>-1.146987</td>\n",
              "      <td>0.963328</td>\n",
              "      <td>-0.828965</td>\n",
              "      <td>27.758673</td>\n",
              "    </tr>\n",
              "    <tr>\n",
              "      <th>1</th>\n",
              "      <td>WJtFt</td>\n",
              "      <td>0.262778</td>\n",
              "      <td>0.269839</td>\n",
              "      <td>-2.530187</td>\n",
              "      <td>56.069697</td>\n",
              "    </tr>\n",
              "    <tr>\n",
              "      <th>2</th>\n",
              "      <td>ovLUW</td>\n",
              "      <td>0.194587</td>\n",
              "      <td>0.289035</td>\n",
              "      <td>-5.586433</td>\n",
              "      <td>62.871910</td>\n",
              "    </tr>\n",
              "    <tr>\n",
              "      <th>3</th>\n",
              "      <td>q6cA6</td>\n",
              "      <td>2.236060</td>\n",
              "      <td>-0.553760</td>\n",
              "      <td>0.930038</td>\n",
              "      <td>114.572842</td>\n",
              "    </tr>\n",
              "    <tr>\n",
              "      <th>4</th>\n",
              "      <td>WPMUX</td>\n",
              "      <td>-0.515993</td>\n",
              "      <td>1.716266</td>\n",
              "      <td>5.899011</td>\n",
              "      <td>149.600746</td>\n",
              "    </tr>\n",
              "    <tr>\n",
              "      <th>5</th>\n",
              "      <td>LzZXx</td>\n",
              "      <td>-0.758092</td>\n",
              "      <td>0.710691</td>\n",
              "      <td>2.585887</td>\n",
              "      <td>90.222465</td>\n",
              "    </tr>\n",
              "    <tr>\n",
              "      <th>6</th>\n",
              "      <td>WBHRv</td>\n",
              "      <td>-0.574891</td>\n",
              "      <td>0.317727</td>\n",
              "      <td>1.773745</td>\n",
              "      <td>45.641478</td>\n",
              "    </tr>\n",
              "    <tr>\n",
              "      <th>7</th>\n",
              "      <td>XO8fn</td>\n",
              "      <td>-1.906649</td>\n",
              "      <td>-2.458350</td>\n",
              "      <td>-0.177097</td>\n",
              "      <td>72.480640</td>\n",
              "    </tr>\n",
              "    <tr>\n",
              "      <th>8</th>\n",
              "      <td>ybmQ5</td>\n",
              "      <td>1.776292</td>\n",
              "      <td>-0.279356</td>\n",
              "      <td>3.004156</td>\n",
              "      <td>106.616832</td>\n",
              "    </tr>\n",
              "    <tr>\n",
              "      <th>9</th>\n",
              "      <td>OilcN</td>\n",
              "      <td>-1.214452</td>\n",
              "      <td>-0.439314</td>\n",
              "      <td>5.922514</td>\n",
              "      <td>52.954532</td>\n",
              "    </tr>\n",
              "  </tbody>\n",
              "</table>\n",
              "</div>"
            ],
            "text/plain": [
              "      id        f0        f1        f2     product\n",
              "0  fwXo0 -1.146987  0.963328 -0.828965   27.758673\n",
              "1  WJtFt  0.262778  0.269839 -2.530187   56.069697\n",
              "2  ovLUW  0.194587  0.289035 -5.586433   62.871910\n",
              "3  q6cA6  2.236060 -0.553760  0.930038  114.572842\n",
              "4  WPMUX -0.515993  1.716266  5.899011  149.600746\n",
              "5  LzZXx -0.758092  0.710691  2.585887   90.222465\n",
              "6  WBHRv -0.574891  0.317727  1.773745   45.641478\n",
              "7  XO8fn -1.906649 -2.458350 -0.177097   72.480640\n",
              "8  ybmQ5  1.776292 -0.279356  3.004156  106.616832\n",
              "9  OilcN -1.214452 -0.439314  5.922514   52.954532"
            ]
          },
          "metadata": {},
          "output_type": "display_data"
        },
        {
          "name": "stdout",
          "output_type": "stream",
          "text": [
            "<class 'pandas.core.frame.DataFrame'>\n",
            "RangeIndex: 100000 entries, 0 to 99999\n",
            "Data columns (total 5 columns):\n",
            " #   Column   Non-Null Count   Dtype  \n",
            "---  ------   --------------   -----  \n",
            " 0   id       100000 non-null  object \n",
            " 1   f0       100000 non-null  float64\n",
            " 2   f1       100000 non-null  float64\n",
            " 3   f2       100000 non-null  float64\n",
            " 4   product  100000 non-null  float64\n",
            "dtypes: float64(4), object(1)\n",
            "memory usage: 3.8+ MB\n"
          ]
        },
        {
          "data": {
            "text/plain": [
              "None"
            ]
          },
          "metadata": {},
          "output_type": "display_data"
        },
        {
          "data": {
            "text/html": [
              "<div>\n",
              "<style scoped>\n",
              "    .dataframe tbody tr th:only-of-type {\n",
              "        vertical-align: middle;\n",
              "    }\n",
              "\n",
              "    .dataframe tbody tr th {\n",
              "        vertical-align: top;\n",
              "    }\n",
              "\n",
              "    .dataframe thead th {\n",
              "        text-align: right;\n",
              "    }\n",
              "</style>\n",
              "<table border=\"1\" class=\"dataframe\">\n",
              "  <thead>\n",
              "    <tr style=\"text-align: right;\">\n",
              "      <th></th>\n",
              "      <th>f0</th>\n",
              "      <th>f1</th>\n",
              "      <th>f2</th>\n",
              "      <th>product</th>\n",
              "    </tr>\n",
              "  </thead>\n",
              "  <tbody>\n",
              "    <tr>\n",
              "      <th>count</th>\n",
              "      <td>100000.000000</td>\n",
              "      <td>100000.000000</td>\n",
              "      <td>100000.000000</td>\n",
              "      <td>100000.000000</td>\n",
              "    </tr>\n",
              "    <tr>\n",
              "      <th>mean</th>\n",
              "      <td>0.002023</td>\n",
              "      <td>-0.002081</td>\n",
              "      <td>2.495128</td>\n",
              "      <td>95.000000</td>\n",
              "    </tr>\n",
              "    <tr>\n",
              "      <th>std</th>\n",
              "      <td>1.732045</td>\n",
              "      <td>1.730417</td>\n",
              "      <td>3.473445</td>\n",
              "      <td>44.749921</td>\n",
              "    </tr>\n",
              "    <tr>\n",
              "      <th>min</th>\n",
              "      <td>-8.760004</td>\n",
              "      <td>-7.084020</td>\n",
              "      <td>-11.970335</td>\n",
              "      <td>0.000000</td>\n",
              "    </tr>\n",
              "    <tr>\n",
              "      <th>25%</th>\n",
              "      <td>-1.162288</td>\n",
              "      <td>-1.174820</td>\n",
              "      <td>0.130359</td>\n",
              "      <td>59.450441</td>\n",
              "    </tr>\n",
              "    <tr>\n",
              "      <th>50%</th>\n",
              "      <td>0.009424</td>\n",
              "      <td>-0.009482</td>\n",
              "      <td>2.484236</td>\n",
              "      <td>94.925613</td>\n",
              "    </tr>\n",
              "    <tr>\n",
              "      <th>75%</th>\n",
              "      <td>1.158535</td>\n",
              "      <td>1.163678</td>\n",
              "      <td>4.858794</td>\n",
              "      <td>130.595027</td>\n",
              "    </tr>\n",
              "    <tr>\n",
              "      <th>max</th>\n",
              "      <td>7.238262</td>\n",
              "      <td>7.844801</td>\n",
              "      <td>16.739402</td>\n",
              "      <td>190.029838</td>\n",
              "    </tr>\n",
              "  </tbody>\n",
              "</table>\n",
              "</div>"
            ],
            "text/plain": [
              "                  f0             f1             f2        product\n",
              "count  100000.000000  100000.000000  100000.000000  100000.000000\n",
              "mean        0.002023      -0.002081       2.495128      95.000000\n",
              "std         1.732045       1.730417       3.473445      44.749921\n",
              "min        -8.760004      -7.084020     -11.970335       0.000000\n",
              "25%        -1.162288      -1.174820       0.130359      59.450441\n",
              "50%         0.009424      -0.009482       2.484236      94.925613\n",
              "75%         1.158535       1.163678       4.858794     130.595027\n",
              "max         7.238262       7.844801      16.739402     190.029838"
            ]
          },
          "metadata": {},
          "output_type": "display_data"
        }
      ],
      "source": [
        "print(\"Геодата 1\")\n",
        "display(region1.head(10))\n",
        "display(region1.info())\n",
        "display(region1.describe())\n",
        "\n",
        "print(\"Геодата 2\")\n",
        "display(region2.head(10))\n",
        "display(region2.info())\n",
        "display(region2.describe())\n",
        "\n",
        "print(\"Геодата 3\")\n",
        "display(region3.head(10))\n",
        "display(region3.info())\n",
        "display(region3.describe())"
      ]
    },
    {
      "cell_type": "markdown",
      "metadata": {
        "id": "Vp2gU1M1kcWw"
      },
      "source": [
        "**Легенда**\n",
        "\n",
        "- id — уникальный идентификатор скважины;\n",
        "- f0, f1, f2 — три признака точек (неважно, что они означают, но сами признаки значимы);\n",
        "- product — объём запасов в скважине (тыс. баррелей)."
      ]
    },
    {
      "cell_type": "markdown",
      "metadata": {
        "id": "NpgaY8k4kcWw"
      },
      "source": [
        "В исходных данных нет пропусков. \n",
        "Все три датасета выглядят сопоставимыми - объем данных, их метрики средней/медианы, квантилей, а также минимальных и максимальных значений не отличаются настолько значительно, что мы бы не могли их анализировать и сравнивать друг с другом.\n",
        "\n",
        "Объем нефти в регионах варьируется от 0 до 190 тыс. баррелей. Средний объем нефти в Регионах 1 и 3 примерно равны - 92.5 и 95 тыс. баррелей соответственно. У Региона 2 среднее значение запасов ниже - 69 быс. баррелей. При этом стандартное отклонение у всех регионов примерно одинаковое - 45, довольно большое значение, то есть разброс данных от выборочного среднего довольно велик.\n",
        "\n",
        "Были выявлены дубликаты в id, но с разными показателями. Трудно сказать, почему на одной и той же скважине оказались разные данные, предлагаю удалить эти строки, к тому же их не очень много."
      ]
    },
    {
      "cell_type": "code",
      "execution_count": null,
      "metadata": {
        "id": "iN30_31QkcWx",
        "outputId": "0e66a429-f79c-4068-c73d-790fd1cbcaad"
      },
      "outputs": [
        {
          "name": "stdout",
          "output_type": "stream",
          "text": [
            "10\n",
            "4\n",
            "4\n",
            "          id        f0        f1         f2     product\n",
            "931    HZww2  0.755284  0.368511   1.863211   30.681774\n",
            "1364   bxg6G  0.411645  0.856830  -3.653440   73.604260\n",
            "1949   QcMuo  0.506563 -0.323775  -2.215583   75.496502\n",
            "3389   A5aEY -0.039949  0.156872   0.209861   89.249364\n",
            "7530   HZww2  1.061194 -0.373969  10.430210  158.828695\n",
            "16633  fiKDv  0.157341  1.028359   5.585586   95.817889\n",
            "21426  Tdehs  0.829407  0.298807  -0.049563   96.035308\n",
            "41724  bxg6G -0.823752  0.546319   3.630479   93.007798\n",
            "42529  AGS9W  1.454747 -0.479651   0.683380  126.370504\n",
            "51970  A5aEY -0.180335  0.935548  -2.094773   33.020205\n",
            "60140  TtcGQ  0.569276 -0.104876   6.440215   85.350186\n",
            "63593  QcMuo  0.635635 -0.473422   0.862670   64.578675\n",
            "64022  74z30  0.741456  0.459229   5.153109  140.771492\n",
            "66136  74z30  1.084962 -0.312358   6.990771  127.643327\n",
            "69163  AGS9W -0.933795  0.116194  -3.655896   19.230453\n",
            "75715  Tdehs  0.112079  0.430296   3.218993   60.964018\n",
            "89582  bsk9y  0.398908 -0.400253  10.122376  163.433078\n",
            "90815  fiKDv  0.049883  0.841313   6.394613  137.346586\n",
            "92341  TtcGQ  0.110711  1.022689   0.911381  101.318008\n",
            "97785  bsk9y  0.378429  0.005837   0.160827  160.637302\n",
            "          id         f0         f1        f2     product\n",
            "1305   LHZR0  11.170835  -1.945066  3.002872   80.859783\n",
            "2721   bfPNe  -9.494442  -5.463692  4.006042  110.992147\n",
            "5849   5ltQ6  -3.435401 -12.296043  1.999796   57.085625\n",
            "41906  LHZR0  -8.989672  -4.286607  2.009139   57.085625\n",
            "47591  wt4Uk  -9.091098  -8.109279 -0.002314    3.179103\n",
            "82178  bfPNe  -6.202799  -4.820045  2.995107   84.038886\n",
            "82873  wt4Uk  10.259972  -9.376355  4.994297  134.766305\n",
            "84461  5ltQ6  18.213839   2.191999  3.993869  107.813044\n",
            "          id        f0        f1        f2     product\n",
            "11449  VF7Jo  2.122656 -0.858275  5.746001  181.716817\n",
            "28039  xCHr8  1.633027  0.368135 -2.378367    6.120525\n",
            "43233  xCHr8 -0.847066  2.101796  5.597130  184.388641\n",
            "44378  Vcm5J -1.229484 -2.439204  1.222909  137.968290\n",
            "45404  KUPhW  0.231846 -1.698941  4.990775   11.716299\n",
            "49564  VF7Jo -0.883115  0.560537  0.723601  136.233420\n",
            "55967  KUPhW  1.211150  3.176408  5.543540  132.831802\n",
            "95090  Vcm5J  2.587702  1.986875  2.482245   92.327572\n"
          ]
        }
      ],
      "source": [
        "#выявим дубликаты в id\n",
        "print(region1['id'].duplicated().sum())\n",
        "print(region2['id'].duplicated().sum())\n",
        "print(region3['id'].duplicated().sum())\n",
        "print(region1[region1['id'].duplicated(keep=False)])\n",
        "print(region2[region2['id'].duplicated(keep=False)])\n",
        "print(region3[region3['id'].duplicated(keep=False)])\n",
        "\n",
        "#удалим дублирующие строки\n",
        "region1 = region1.drop_duplicates(subset='id').reset_index(drop=True) \n",
        "region2 = region2.drop_duplicates(subset='id').reset_index(drop=True) \n",
        "region3 = region3.drop_duplicates(subset='id').reset_index(drop=True) \n"
      ]
    },
    {
      "cell_type": "code",
      "execution_count": null,
      "metadata": {
        "id": "2oN8KS96kcWx",
        "outputId": "02f065a1-d071-4337-e86a-2d4baf599438"
      },
      "outputs": [
        {
          "data": {
            "text/plain": [
              "'Кол-во данных в Регионе 1:'"
            ]
          },
          "metadata": {},
          "output_type": "display_data"
        },
        {
          "data": {
            "text/plain": [
              "99990"
            ]
          },
          "metadata": {},
          "output_type": "display_data"
        },
        {
          "data": {
            "text/plain": [
              "'Кол-во данных в Регионе 2:'"
            ]
          },
          "metadata": {},
          "output_type": "display_data"
        },
        {
          "data": {
            "text/plain": [
              "99996"
            ]
          },
          "metadata": {},
          "output_type": "display_data"
        },
        {
          "data": {
            "text/plain": [
              "'Кол-во данных в Регионе 3:'"
            ]
          },
          "metadata": {},
          "output_type": "display_data"
        },
        {
          "data": {
            "text/plain": [
              "99996"
            ]
          },
          "metadata": {},
          "output_type": "display_data"
        }
      ],
      "source": [
        "#проверяем что строки удалены\n",
        "display('Кол-во данных в Регионе 1:',len(region1))\n",
        "display('Кол-во данных в Регионе 2:',len(region2))\n",
        "display('Кол-во данных в Регионе 3:',len(region3))"
      ]
    },
    {
      "cell_type": "markdown",
      "metadata": {
        "id": "dYkn8SD_kcWy"
      },
      "source": [
        "Удаляем столбец id, он не нужен для обучения, только для проверки возможных дубликатов данных."
      ]
    },
    {
      "cell_type": "code",
      "execution_count": null,
      "metadata": {
        "id": "C0DaeApukcWy"
      },
      "outputs": [],
      "source": [
        "region1 = region1[['f0','f1','f2','product']]\n",
        "region2 = region2[['f0','f1','f2','product']]\n",
        "region3 = region3[['f0','f1','f2','product']]"
      ]
    },
    {
      "cell_type": "markdown",
      "metadata": {
        "id": "-nFH9N96kcWy"
      },
      "source": [
        "Далее давайте посмотрим, есть ли сильный перекос в данных, чтобы понять, нужно ли будет масштабирование в дальнейшем."
      ]
    },
    {
      "cell_type": "code",
      "execution_count": null,
      "metadata": {
        "id": "28N2oEC9kcWy",
        "outputId": "b7c374ca-39d3-4a70-da41-ea62faa692a8"
      },
      "outputs": [
        {
          "data": {
            "image/png": "[encoded data removed]",
            "text/plain": [
              "<Figure size 360x216 with 1 Axes>"
            ]
          },
          "metadata": {
            "needs_background": "light"
          },
          "output_type": "display_data"
        }
      ],
      "source": [
        "region_hist1 = region1['product'].hist(bins=1000,figsize=(5, 3))\n",
        "region_hist1.set_xlabel('Кол-во скважин')\n",
        "region_hist1.set_ylabel('Объем скважин, тыс. баррелей')\n",
        "region_hist1.set_title('Распределение объема нефти в скважинах Региона 1');"
      ]
    },
    {
      "cell_type": "code",
      "execution_count": null,
      "metadata": {
        "id": "YMRjjBlUkcWy",
        "outputId": "d94ff6bf-c57b-4c40-a333-e4bcb84cc5ad"
      },
      "outputs": [
        {
          "name": "stdout",
          "output_type": "stream",
          "text": [
            "99984\n"
          ]
        },
        {
          "data": {
            "image/png": "[encoded data removed]",
            "text/plain": [
              "<Figure size 360x216 with 1 Axes>"
            ]
          },
          "metadata": {
            "needs_background": "light"
          },
          "output_type": "display_data"
        }
      ],
      "source": [
        "region_hist2 = region2['product'].hist(bins=1000,figsize=(5, 3))\n",
        "region_hist2.set_xlabel('Кол-во скважин')\n",
        "region_hist2.set_ylabel('Объем скважин, тыс. баррелей')\n",
        "region_hist2.set_title('Распределение объема нефти в скважинах Региона 2');\n",
        "\n",
        "print(region2['product'].duplicated().sum())\n",
        "region_hist2_1 = region2['product'].hist(bins=50,figsize=(5, 3))\n",
        "region_hist2_1.set_xlabel('Кол-во скважин')\n",
        "region_hist2_1.set_ylabel('Объем скважин, тыс. баррелей')\n",
        "region_hist2_1.set_title('Распределение объема нефти в скважинах Региона 2');"
      ]
    },
    {
      "cell_type": "code",
      "execution_count": null,
      "metadata": {
        "id": "UjKk4SWUkcWy",
        "outputId": "33264cc0-f055-4373-d069-1503b90bf458"
      },
      "outputs": [
        {
          "data": {
            "image/png": "[encoded data removed]",
            "text/plain": [
              "<Figure size 360x216 with 1 Axes>"
            ]
          },
          "metadata": {
            "needs_background": "light"
          },
          "output_type": "display_data"
        }
      ],
      "source": [
        "region_hist3 = region3['product'].hist(bins=1000,figsize=(5, 3))\n",
        "region_hist3.set_xlabel('Кол-во скважин')\n",
        "region_hist3.set_ylabel('Объем скважин, тыс. баррелей')\n",
        "region_hist3.set_title('Распределение объема нефти в скважинах Региона 3');"
      ]
    },
    {
      "cell_type": "markdown",
      "metadata": {
        "id": "QUti3EbXkcWy"
      },
      "source": [
        "Объем нефти в регионах 1 и 3 распределены нормально, не думаю, что тут требуется масштабирование.\n",
        "\n",
        "Интереснее со 2м регионом, там уникальных значений объема - 16, и при графике с 1000 корзин мы видим просто 4 тонкие палки, хотя при вызове функции info (в начале) этого не видно - данные выглядят сопоставими с 1 и 3 регионами. Если уменьшить число корзин, то видно, что данные распределены очень равномерно и строго в определенных диапазонах значений, нет выбросов.\n",
        "Так что я думаю, 2й регион, несмотря на странное распределение данных, можно брать в обработку.\n",
        "\n",
        "Итак, мы загрузили данные по трем регионам, верхнеуровнево проанализировали и сравнили их, удалили дубликаты по id скважин, а также избавились от ненужной для обучения информации в данных (id).\n",
        "Далее мы построили графики распределения целевой метрики для каждого региона. Было выявлено, что Регионы 1 и 3 схожи основных метриках, таких как среднее, медиана и максимальный объем нефти, а также имеют схожее распределение целевого признака. Регион 2 отличается более низкими запасами нефти (показатели среднего и максимального значения) по сравнению с двумя другими регионами. Кроме того, его распределение отличается - данные целевого признака не распределены нормально, а сконцентрированы в четырех узких диапазонах значений.\n",
        "\n",
        "Тем не менее, анализ показал, что отличия Региона 2 от других не являются критическими, данные все еще являются сопоставими с другими регионами."
      ]
    },
    {
      "cell_type": "markdown",
      "metadata": {
        "id": "zaFYQxymkcWz"
      },
      "source": [
        "## Обучение и проверка модели"
      ]
    },
    {
      "cell_type": "markdown",
      "metadata": {
        "id": "1lu6rmgVkcWz"
      },
      "source": [
        "Разделим данные по регионам на обучающие и валидационные выборки"
      ]
    },
    {
      "cell_type": "code",
      "execution_count": null,
      "metadata": {
        "id": "b9Fx5EKIkcWz"
      },
      "outputs": [],
      "source": [
        "def split(data,size,random_rate):\n",
        "    ft_train, ft_valid, tg_train, tg_valid = train_test_split(\n",
        "    data.drop(['product'], axis=1),\n",
        "    data['product'],\n",
        "    test_size=size,\n",
        "    random_state=random_rate)\n",
        "    return ft_train, ft_valid, tg_train, tg_valid\n",
        "\n",
        "ft_train_1, ft_valid_1, tg_train_1, tg_valid_1 = split(region1,0.25,STATE)\n",
        "ft_train_2, ft_valid_2, tg_train_2, tg_valid_2 = split(region2,0.25,STATE)\n",
        "ft_train_3, ft_valid_3, tg_train_3, tg_valid_3 = split(region3,0.25,STATE)"
      ]
    },
    {
      "cell_type": "markdown",
      "metadata": {
        "id": "FaIaH4u7kcW0"
      },
      "source": [
        "Обучим три модели с помощью линейной регресии."
      ]
    },
    {
      "cell_type": "code",
      "execution_count": null,
      "metadata": {
        "id": "vIrYUYxYkcW0",
        "outputId": "d51a2ff1-e66d-4a95-e0b4-a3b2f5d1be4b"
      },
      "outputs": [
        {
          "name": "stdout",
          "output_type": "stream",
          "text": [
            "Среднее значение запасов Региона 1 = 92.789 RMSE = 37.854\n",
            "Среднее значение запасов Региона 2 = 68.957 RMSE = 0.895\n",
            "Среднее значение запасов Региона 3 = 95.079 RMSE = 40.042\n"
          ]
        }
      ],
      "source": [
        "def linreg(ft_train,tg_train,ft_valid,tg_valid):\n",
        "    model = LinearRegression()\n",
        "    model.fit(ft_train,tg_train)\n",
        "    pred_valid = model.predict(ft_valid)\n",
        "    mean = round(pred_valid.mean(),3)\n",
        "    rmse = round(mean_squared_error(tg_valid,pred_valid)**0.5,3)\n",
        "    return model,mean,rmse,pred_valid\n",
        "    \n",
        "#для Региона 1   \n",
        "model1, mean1, rmse1, pred_valid1 = linreg(ft_train_1,tg_train_1,ft_valid_1,tg_valid_1)\n",
        "print(\"Среднее значение запасов Региона 1 =\", mean1, \"RMSE =\",rmse1)\n",
        "\n",
        "#для Региона 2\n",
        "model2, mean2, rmse2, pred_valid2 = linreg(ft_train_2,tg_train_2,ft_valid_2,tg_valid_2)\n",
        "print(\"Среднее значение запасов Региона 2 =\", mean2, \"RMSE =\",rmse2)\n",
        "\n",
        "#для Региона 3\n",
        "model3, mean3, rmse3, pred_valid3 = linreg(ft_train_3,tg_train_3,ft_valid_3,tg_valid_3)\n",
        "print(\"Среднее значение запасов Региона 3 =\", mean3, \"RMSE =\",rmse3)\n"
      ]
    },
    {
      "cell_type": "markdown",
      "metadata": {
        "id": "rLzceWD7kcW0"
      },
      "source": [
        "В рамках данного блока мы разделили датасеты регионов на обучающие и валидационные выборки, а также создали три модели линейной регрессии для каждого региона и вывели среднее по прогнозным объемам нефти и среднеквадратичную ошибку. \n",
        "\n",
        "Предварительно мы видим, что по предсказаниям модели, средние запасы Региона 3 больше, чем у других регионов. Самые низкие у 2 Региона, зато они обладают наименьшим разбросом (помним почему)."
      ]
    },
    {
      "cell_type": "markdown",
      "metadata": {
        "id": "cltke6PdkcW0"
      },
      "source": [
        "## Подготовка к расчёту прибыли"
      ]
    },
    {
      "cell_type": "markdown",
      "metadata": {
        "id": "NHxFarh0kcW1"
      },
      "source": [
        "Рассчитаем достаточный объём сырья для безубыточной разработки новой скважины. Сравним полученный объём сырья со средним запасом в каждом регионе.\n"
      ]
    },
    {
      "cell_type": "code",
      "execution_count": null,
      "metadata": {
        "id": "OzT58IxlkcW1",
        "outputId": "8c7fcd99-2293-4554-d092-fe978931d18f"
      },
      "outputs": [
        {
          "name": "stdout",
          "output_type": "stream",
          "text": [
            "Размер затрат на одну скважину: 50000.0\n",
            "Минимальный объем добычи нефти с одного месторождения: 111.11\n"
          ]
        }
      ],
      "source": [
        "cost_per_well = BUDGET/BEST200\n",
        "print('Размер затрат на одну скважину:', cost_per_well)\n",
        "\n",
        "oil_min = round(cost_per_well/PRICE,2)\n",
        "print('Минимальный объем добычи нефти с одного месторождения:', oil_min)"
      ]
    },
    {
      "cell_type": "code",
      "execution_count": null,
      "metadata": {
        "id": "_7Tb-D1akcW1"
      },
      "outputs": [],
      "source": [
        "#функция по расчету прибыли\n",
        "def revenue(target, prediction, count):\n",
        "    pred_sort = prediction.sort_values(ascending=False)\n",
        "    best = target[pred_sort.index][:count]\n",
        "    return PRICE * best.sum() - BUDGET"
      ]
    },
    {
      "cell_type": "markdown",
      "metadata": {
        "id": "2Y_msoM1kcW1"
      },
      "source": [
        "Минимальный объем превышает среднее предсказанное значение объема добычи всех трех регионов. Но это среднее по 25к скважинам, возможно, отобрав 200 лучших, мы увидим окупаемость."
      ]
    },
    {
      "cell_type": "markdown",
      "metadata": {
        "id": "uIukClmSkcW2"
      },
      "source": [
        "## Расчёт прибыли и рисков "
      ]
    },
    {
      "cell_type": "markdown",
      "metadata": {
        "id": "eC7702tjkcW2"
      },
      "source": [
        "Расчитаем прибыль для трех регионов.\n",
        "\n",
        "Создадим функцию для расчета доверительного интервала 95%, средней прибыли 200 наилучших скважин региона, а также вероятность убытков"
      ]
    },
    {
      "cell_type": "code",
      "execution_count": null,
      "metadata": {
        "id": "-uFU45kykcW2"
      },
      "outputs": [],
      "source": [
        "def get_profit(tg_valid,pred_valid):\n",
        "    revenue_list = [] #создаем список для сохранения значений выручки\n",
        "    tg_valid = pd.Series(tg_valid).reset_index(drop=True) #превращаем таргет в объект Series иначе ничего не будет работать\n",
        "    pred_valid = pd.Series(pred_valid) #same\n",
        "\n",
        "    for i in range(1000):#проводим бустреп 1000 раз\n",
        "        target_subsample = tg_valid.sample(n=PICK500, replace=True, random_state=STATE)#делаем подвыборку из 500 скважин (из 10к датасета) причем строки могут дулироваться см.пар-р replace\n",
        "        probs_subsample = pred_valid[target_subsample.index] #тут мы берем 500 прогнозных значений, соответствующих подвыборки из таргетов строкой выше\n",
        "        revenue_list.append(revenue(target_subsample,probs_subsample,BEST200))#применяем функцию по расчету прибыли, где выбираем 200 наиболее прибыльных скважин\n",
        "\n",
        "    revenue_list = pd.Series(revenue_list) #снова делаем series \n",
        "    q1_05 = round(revenue_list.quantile(0.025),2) #ищем квантили\n",
        "    q1_95 = round(revenue_list.quantile(0.975),2)\n",
        "\n",
        "    mean = round(revenue_list.mean(),2) #среднюю выручку\n",
        "    \n",
        "    loss = [] #список для созранения предсказаний убытков\n",
        "    for i in range(len(revenue_list)): \n",
        "        if revenue_list[i] < 0:\n",
        "            loss.append(revenue_list[i])\n",
        "    loss = pd.Series(loss)\n",
        "    loss = round((len(loss)/len(revenue_list))*100,2) #ищем долю убыточных значений прибыли в общем числе предсказанной прибыли\n",
        "    \n",
        "    print('Средняя прибыль с 200 лучших скважин Региона:', mean)\n",
        "    print(f'95% доверительный интервал от {q1_05} до {q1_95}')\n",
        "    print(f'Риск убытка оценивается в {loss} %')\n",
        "    \n",
        "    return q1_05,q1_95,mean,loss"
      ]
    },
    {
      "cell_type": "markdown",
      "metadata": {
        "id": "R8aR3MvXkcW2"
      },
      "source": [
        "Применим функцию для тех регионов и рассмотрим полученные показатели."
      ]
    },
    {
      "cell_type": "code",
      "execution_count": null,
      "metadata": {
        "id": "YFdSOYK_kcW2",
        "outputId": "12f24a89-0127-41ea-d241-9d47845f3605"
      },
      "outputs": [
        {
          "name": "stdout",
          "output_type": "stream",
          "text": [
            "Данные по Региону 1:\n",
            "Средняя прибыль с 200 лучших скважин Региона: 420112.55\n",
            "95% доверительный интервал от -107345.82 до 949083.86\n",
            "Риск убытка оценивается в 5.9 %\n",
            "\n",
            "Данные по Региону 2:\n",
            "Средняя прибыль с 200 лучших скважин Региона: 496093.03\n",
            "95% доверительный интервал от 59603.9 до 919393.74\n",
            "Риск убытка оценивается в 0.7 %\n",
            "\n",
            "Данные по Региону 3:\n",
            "Средняя прибыль с 200 лучших скважин Региона: 474838.38\n",
            "95% доверительный интервал от -80474.91 до 985944.26\n",
            "Риск убытка оценивается в 4.3 %\n"
          ]
        }
      ],
      "source": [
        "#Регион 1\n",
        "print('Данные по Региону 1:')\n",
        "q1_05_1,q1_95_1,mean1,loss1 = get_profit(tg_valid_1,pred_valid1)\n",
        "print()\n",
        "\n",
        "#Регион 2\n",
        "print('Данные по Региону 2:')\n",
        "q1_05_2,q1_95_2,mean2,loss2 = get_profit(tg_valid_2,pred_valid2)\n",
        "print()\n",
        "\n",
        "#Регион 3\n",
        "print('Данные по Региону 3:')\n",
        "q1_05_3,q1_95_3,mean3,loss3 = get_profit(tg_valid_3,pred_valid3)"
      ]
    },
    {
      "cell_type": "markdown",
      "metadata": {
        "id": "etSFMzJkkcW3"
      },
      "source": [
        "В результате вычислений мы видим, что только Регион 2 с доверительным интервалом 95% покажет наибольшую среднюю прогнозируемую выручку. Кроме того, уровень риска у Региона 2 самый низкий, у Регионов 1 и 3 уровень риска превышает допустимое значение.\n",
        "\n",
        "\n",
        "Таким образом, мы собрали исторические данные с трех регионов и построили модели, которые для каждого из регионов прогнозируется объем нефти в скважине по трем ключевым параметрам.\n",
        "\n",
        "Далее мы смоделировали ситуацию, когда в рассматриваемом регионе берут 500 случайных скважин, прогнозируют по ним объем нефти, на основе полученных данных выбирают 200 лучших и строят прогноз прибыли по региону в целом с учетом риска убытков. Мы также применили boostrap, для многократного повторения отбора 500 скважин и отбора 200 лучших, чтобы снизить вероятность того, что мы переоценим/недооценим регион из-за неудачного сбора случайных скважин. Анализ показал, что Регион 2 обладает наибольшей средней прибылью и наименьшей величиной риска убытков.\n",
        "\n",
        "**Вывод**: Наилучший регион для разработки месторождений - Регион 2."
      ]
    }
  ],
  "metadata": {
    "ExecuteTimeLog": [
      {
        "duration": 1602,
        "start_time": "2022-07-23T17:50:07.154Z"
      },
      {
        "duration": 767,
        "start_time": "2022-07-23T17:50:11.891Z"
      },
      {
        "duration": 158,
        "start_time": "2022-07-23T17:50:14.112Z"
      },
      {
        "duration": 23,
        "start_time": "2022-07-23T17:50:21.671Z"
      },
      {
        "duration": 10,
        "start_time": "2022-07-23T17:50:24.872Z"
      },
      {
        "duration": 12,
        "start_time": "2022-07-23T17:50:30.409Z"
      },
      {
        "duration": 1510,
        "start_time": "2022-07-23T20:00:36.163Z"
      },
      {
        "duration": 2356,
        "start_time": "2022-07-23T20:00:37.675Z"
      },
      {
        "duration": 307,
        "start_time": "2022-07-23T20:00:40.039Z"
      },
      {
        "duration": 332,
        "start_time": "2022-07-23T20:00:40.351Z"
      },
      {
        "duration": 7,
        "start_time": "2022-07-23T20:00:40.686Z"
      },
      {
        "duration": 19,
        "start_time": "2022-07-23T20:00:40.695Z"
      },
      {
        "duration": 2682,
        "start_time": "2022-07-23T20:00:40.716Z"
      },
      {
        "duration": 2206,
        "start_time": "2022-07-23T20:00:43.401Z"
      },
      {
        "duration": 2046,
        "start_time": "2022-07-23T20:00:45.612Z"
      },
      {
        "duration": 47,
        "start_time": "2022-07-23T20:00:47.663Z"
      },
      {
        "duration": 213,
        "start_time": "2022-07-23T20:00:47.712Z"
      },
      {
        "duration": 70,
        "start_time": "2022-07-23T20:00:47.957Z"
      },
      {
        "duration": 22,
        "start_time": "2022-07-23T20:00:48.042Z"
      },
      {
        "duration": 6,
        "start_time": "2022-07-23T20:00:48.067Z"
      },
      {
        "duration": 5752,
        "start_time": "2022-07-23T20:00:48.075Z"
      },
      {
        "duration": 5572,
        "start_time": "2022-07-23T20:00:53.829Z"
      },
      {
        "duration": 1587,
        "start_time": "2022-07-23T20:01:32.383Z"
      },
      {
        "duration": 585,
        "start_time": "2022-07-23T20:01:33.973Z"
      },
      {
        "duration": 274,
        "start_time": "2022-07-23T20:01:34.561Z"
      },
      {
        "duration": 315,
        "start_time": "2022-07-23T20:01:34.839Z"
      },
      {
        "duration": 7,
        "start_time": "2022-07-23T20:01:35.157Z"
      },
      {
        "duration": 16,
        "start_time": "2022-07-23T20:01:35.166Z"
      },
      {
        "duration": 2647,
        "start_time": "2022-07-23T20:01:35.184Z"
      },
      {
        "duration": 2332,
        "start_time": "2022-07-23T20:01:37.839Z"
      },
      {
        "duration": 2243,
        "start_time": "2022-07-23T20:01:40.174Z"
      },
      {
        "duration": 55,
        "start_time": "2022-07-23T20:01:42.420Z"
      },
      {
        "duration": 172,
        "start_time": "2022-07-23T20:01:42.477Z"
      },
      {
        "duration": 47,
        "start_time": "2022-07-23T20:01:42.665Z"
      },
      {
        "duration": 67,
        "start_time": "2022-07-23T20:01:42.727Z"
      },
      {
        "duration": 39,
        "start_time": "2022-07-23T20:01:42.817Z"
      },
      {
        "duration": 5374,
        "start_time": "2022-07-23T20:01:42.867Z"
      },
      {
        "duration": 5609,
        "start_time": "2022-07-23T20:01:48.243Z"
      },
      {
        "duration": 79,
        "start_time": "2022-07-24T19:29:18.165Z"
      },
      {
        "duration": 1225,
        "start_time": "2022-07-24T19:29:23.668Z"
      },
      {
        "duration": 887,
        "start_time": "2022-07-24T19:29:25.229Z"
      },
      {
        "duration": 124,
        "start_time": "2022-07-24T19:29:26.118Z"
      },
      {
        "duration": 13,
        "start_time": "2022-07-24T20:31:28.567Z"
      },
      {
        "duration": 1685,
        "start_time": "2022-07-24T20:38:48.780Z"
      },
      {
        "duration": 1381,
        "start_time": "2022-07-24T20:39:45.456Z"
      },
      {
        "duration": 1499,
        "start_time": "2022-07-24T20:40:47.665Z"
      },
      {
        "duration": 1515,
        "start_time": "2022-07-24T20:41:01.113Z"
      },
      {
        "duration": 1448,
        "start_time": "2022-07-24T20:41:24.691Z"
      },
      {
        "duration": 1405,
        "start_time": "2022-07-24T20:41:36.036Z"
      },
      {
        "duration": 44,
        "start_time": "2022-07-24T20:42:02.964Z"
      },
      {
        "duration": 1893,
        "start_time": "2022-07-24T20:42:08.222Z"
      },
      {
        "duration": 1433,
        "start_time": "2022-07-24T20:43:39.929Z"
      },
      {
        "duration": 1637,
        "start_time": "2022-07-24T20:44:01.340Z"
      },
      {
        "duration": 1357,
        "start_time": "2022-07-24T20:46:01.432Z"
      },
      {
        "duration": 1716,
        "start_time": "2022-07-24T20:46:08.463Z"
      },
      {
        "duration": 1686,
        "start_time": "2022-07-24T20:46:21.421Z"
      },
      {
        "duration": 1655,
        "start_time": "2022-07-24T20:46:31.029Z"
      },
      {
        "duration": 1674,
        "start_time": "2022-07-24T20:46:49.767Z"
      },
      {
        "duration": 1378,
        "start_time": "2022-07-24T20:47:17.755Z"
      },
      {
        "duration": 3,
        "start_time": "2022-07-24T21:02:39.289Z"
      },
      {
        "duration": 57,
        "start_time": "2022-07-24T21:03:12.258Z"
      },
      {
        "duration": 46,
        "start_time": "2022-07-24T21:03:21.675Z"
      },
      {
        "duration": 4,
        "start_time": "2022-07-24T21:03:30.603Z"
      },
      {
        "duration": 50,
        "start_time": "2022-07-24T21:06:52.062Z"
      },
      {
        "duration": 4,
        "start_time": "2022-07-24T21:14:38.896Z"
      },
      {
        "duration": 374,
        "start_time": "2022-07-24T21:15:15.072Z"
      },
      {
        "duration": 16,
        "start_time": "2022-07-24T21:15:22.947Z"
      },
      {
        "duration": 3,
        "start_time": "2022-07-24T21:15:30.921Z"
      },
      {
        "duration": 730,
        "start_time": "2022-07-24T21:15:32.939Z"
      },
      {
        "duration": 117,
        "start_time": "2022-07-24T21:15:33.670Z"
      },
      {
        "duration": 186,
        "start_time": "2022-07-24T21:15:34.342Z"
      },
      {
        "duration": 183,
        "start_time": "2022-07-24T21:15:36.445Z"
      },
      {
        "duration": 9,
        "start_time": "2022-07-24T21:15:37.391Z"
      },
      {
        "duration": 14,
        "start_time": "2022-07-24T21:15:39.659Z"
      },
      {
        "duration": 1246,
        "start_time": "2022-07-24T21:15:40.919Z"
      },
      {
        "duration": 1706,
        "start_time": "2022-07-24T21:15:42.169Z"
      },
      {
        "duration": 1262,
        "start_time": "2022-07-24T21:15:43.876Z"
      },
      {
        "duration": 26,
        "start_time": "2022-07-24T21:15:45.491Z"
      },
      {
        "duration": 31,
        "start_time": "2022-07-24T21:15:59.682Z"
      },
      {
        "duration": 153,
        "start_time": "2022-07-24T21:16:01.194Z"
      },
      {
        "duration": 10,
        "start_time": "2022-07-24T21:16:24.850Z"
      },
      {
        "duration": 14,
        "start_time": "2022-07-24T21:16:32.353Z"
      },
      {
        "duration": 17,
        "start_time": "2022-07-24T21:16:38.744Z"
      },
      {
        "duration": 48,
        "start_time": "2022-07-24T21:16:46.299Z"
      },
      {
        "duration": 15,
        "start_time": "2022-07-24T21:16:54.342Z"
      },
      {
        "duration": 179,
        "start_time": "2022-07-24T21:18:34.070Z"
      },
      {
        "duration": 139,
        "start_time": "2022-07-24T21:18:39.210Z"
      },
      {
        "duration": 218,
        "start_time": "2022-07-24T21:19:06.537Z"
      },
      {
        "duration": 253,
        "start_time": "2022-07-24T21:19:18.497Z"
      },
      {
        "duration": 183,
        "start_time": "2022-07-24T21:19:32.566Z"
      },
      {
        "duration": 48,
        "start_time": "2022-07-24T21:20:23.906Z"
      },
      {
        "duration": 10,
        "start_time": "2022-07-24T21:29:47.361Z"
      },
      {
        "duration": 3,
        "start_time": "2022-07-24T21:29:50.846Z"
      },
      {
        "duration": 4,
        "start_time": "2022-07-24T21:29:51.568Z"
      },
      {
        "duration": 3,
        "start_time": "2022-07-24T21:30:14.758Z"
      },
      {
        "duration": 19,
        "start_time": "2022-07-24T21:30:20.602Z"
      },
      {
        "duration": 61,
        "start_time": "2022-07-24T21:38:30.531Z"
      },
      {
        "duration": 12,
        "start_time": "2022-07-24T21:38:46.474Z"
      },
      {
        "duration": 1545,
        "start_time": "2022-07-24T21:39:08.567Z"
      },
      {
        "duration": 1345,
        "start_time": "2022-07-24T21:39:17.427Z"
      },
      {
        "duration": 70,
        "start_time": "2022-07-24T21:40:24.436Z"
      },
      {
        "duration": 1405,
        "start_time": "2022-07-24T21:40:29.748Z"
      },
      {
        "duration": 1444,
        "start_time": "2022-07-24T21:40:57.667Z"
      },
      {
        "duration": 1342,
        "start_time": "2022-07-24T21:41:45.270Z"
      },
      {
        "duration": 1366,
        "start_time": "2022-07-24T21:42:07.338Z"
      },
      {
        "duration": 1438,
        "start_time": "2022-07-24T21:47:00.662Z"
      },
      {
        "duration": 1386,
        "start_time": "2022-07-24T21:47:11.463Z"
      },
      {
        "duration": 1249,
        "start_time": "2022-07-24T21:47:24.168Z"
      },
      {
        "duration": 0,
        "start_time": "2022-07-24T22:04:06.198Z"
      },
      {
        "duration": 1375,
        "start_time": "2022-07-24T22:04:22.506Z"
      },
      {
        "duration": 68,
        "start_time": "2022-07-24T22:04:46.703Z"
      },
      {
        "duration": 1399,
        "start_time": "2022-07-24T22:04:55.047Z"
      },
      {
        "duration": 12,
        "start_time": "2022-07-24T22:09:07.807Z"
      },
      {
        "duration": 6,
        "start_time": "2022-07-24T22:09:37.657Z"
      },
      {
        "duration": 1382,
        "start_time": "2022-07-24T22:09:37.970Z"
      },
      {
        "duration": 49,
        "start_time": "2022-07-24T22:11:07.774Z"
      },
      {
        "duration": 58,
        "start_time": "2022-07-24T22:11:12.463Z"
      },
      {
        "duration": 1375,
        "start_time": "2022-07-24T22:11:19.016Z"
      },
      {
        "duration": 7,
        "start_time": "2022-07-24T22:11:40.244Z"
      },
      {
        "duration": 1365,
        "start_time": "2022-07-24T22:11:41.331Z"
      },
      {
        "duration": 4102,
        "start_time": "2022-07-24T22:12:41.406Z"
      },
      {
        "duration": 4187,
        "start_time": "2022-07-24T22:12:56.266Z"
      },
      {
        "duration": 1384,
        "start_time": "2022-07-24T22:16:51.305Z"
      },
      {
        "duration": 4,
        "start_time": "2022-07-24T22:16:57.286Z"
      },
      {
        "duration": 4130,
        "start_time": "2022-07-24T22:16:57.593Z"
      },
      {
        "duration": 4432,
        "start_time": "2022-07-24T22:18:26.634Z"
      },
      {
        "duration": 4438,
        "start_time": "2022-07-24T22:18:40.897Z"
      },
      {
        "duration": 4451,
        "start_time": "2022-07-24T22:18:53.083Z"
      },
      {
        "duration": 79,
        "start_time": "2022-07-24T22:21:10.319Z"
      },
      {
        "duration": 3847,
        "start_time": "2022-07-24T22:21:25.401Z"
      },
      {
        "duration": 3841,
        "start_time": "2022-07-24T22:22:02.825Z"
      },
      {
        "duration": 12,
        "start_time": "2022-07-24T22:22:36.984Z"
      },
      {
        "duration": 7,
        "start_time": "2022-07-24T22:26:27.517Z"
      },
      {
        "duration": 9,
        "start_time": "2022-07-24T22:26:44.299Z"
      },
      {
        "duration": 3812,
        "start_time": "2022-07-24T22:26:46.404Z"
      },
      {
        "duration": 3816,
        "start_time": "2022-07-24T22:27:49.854Z"
      },
      {
        "duration": 6,
        "start_time": "2022-07-24T22:28:10.773Z"
      },
      {
        "duration": 3767,
        "start_time": "2022-07-24T22:28:11.237Z"
      },
      {
        "duration": 4097,
        "start_time": "2022-07-24T22:32:59.278Z"
      },
      {
        "duration": 59,
        "start_time": "2022-07-24T22:42:00.533Z"
      },
      {
        "duration": 3985,
        "start_time": "2022-07-24T22:44:36.934Z"
      },
      {
        "duration": 1081,
        "start_time": "2022-07-24T22:48:25.863Z"
      },
      {
        "duration": 395,
        "start_time": "2022-07-24T22:48:26.946Z"
      },
      {
        "duration": 126,
        "start_time": "2022-07-24T22:48:27.342Z"
      },
      {
        "duration": 194,
        "start_time": "2022-07-24T22:48:27.471Z"
      },
      {
        "duration": 193,
        "start_time": "2022-07-24T22:48:27.666Z"
      },
      {
        "duration": 9,
        "start_time": "2022-07-24T22:48:27.860Z"
      },
      {
        "duration": 14,
        "start_time": "2022-07-24T22:48:27.870Z"
      },
      {
        "duration": 1670,
        "start_time": "2022-07-24T22:48:27.886Z"
      },
      {
        "duration": 1427,
        "start_time": "2022-07-24T22:48:29.558Z"
      },
      {
        "duration": 1479,
        "start_time": "2022-07-24T22:48:30.988Z"
      },
      {
        "duration": 130,
        "start_time": "2022-07-24T22:48:32.468Z"
      },
      {
        "duration": 0,
        "start_time": "2022-07-24T22:48:32.600Z"
      },
      {
        "duration": 0,
        "start_time": "2022-07-24T22:48:32.601Z"
      },
      {
        "duration": 0,
        "start_time": "2022-07-24T22:48:32.602Z"
      },
      {
        "duration": 0,
        "start_time": "2022-07-24T22:48:32.603Z"
      },
      {
        "duration": 0,
        "start_time": "2022-07-24T22:48:32.604Z"
      },
      {
        "duration": 0,
        "start_time": "2022-07-24T22:48:32.605Z"
      },
      {
        "duration": 0,
        "start_time": "2022-07-24T22:48:32.606Z"
      },
      {
        "duration": 7,
        "start_time": "2022-07-25T12:34:30.765Z"
      },
      {
        "duration": 7,
        "start_time": "2022-07-25T12:34:51.521Z"
      },
      {
        "duration": 4,
        "start_time": "2022-07-25T12:35:09.240Z"
      },
      {
        "duration": 3,
        "start_time": "2022-07-25T12:39:47.511Z"
      },
      {
        "duration": 39,
        "start_time": "2022-07-25T12:40:33.516Z"
      },
      {
        "duration": 1072,
        "start_time": "2022-07-25T12:40:57.733Z"
      },
      {
        "duration": 1494,
        "start_time": "2022-07-25T12:40:58.807Z"
      },
      {
        "duration": 114,
        "start_time": "2022-07-25T12:41:00.303Z"
      },
      {
        "duration": 163,
        "start_time": "2022-07-25T12:41:00.419Z"
      },
      {
        "duration": 196,
        "start_time": "2022-07-25T12:41:00.583Z"
      },
      {
        "duration": 8,
        "start_time": "2022-07-25T12:41:00.781Z"
      },
      {
        "duration": 29,
        "start_time": "2022-07-25T12:41:00.790Z"
      },
      {
        "duration": 1703,
        "start_time": "2022-07-25T12:41:00.820Z"
      },
      {
        "duration": 1334,
        "start_time": "2022-07-25T12:41:02.525Z"
      },
      {
        "duration": 1276,
        "start_time": "2022-07-25T12:41:03.861Z"
      },
      {
        "duration": 2,
        "start_time": "2022-07-25T12:41:05.138Z"
      },
      {
        "duration": 112,
        "start_time": "2022-07-25T12:41:05.141Z"
      },
      {
        "duration": 0,
        "start_time": "2022-07-25T12:41:05.255Z"
      },
      {
        "duration": 0,
        "start_time": "2022-07-25T12:41:05.256Z"
      },
      {
        "duration": 0,
        "start_time": "2022-07-25T12:41:05.257Z"
      },
      {
        "duration": 0,
        "start_time": "2022-07-25T12:41:05.258Z"
      },
      {
        "duration": 0,
        "start_time": "2022-07-25T12:41:05.259Z"
      },
      {
        "duration": 0,
        "start_time": "2022-07-25T12:41:05.260Z"
      },
      {
        "duration": 0,
        "start_time": "2022-07-25T12:41:05.261Z"
      },
      {
        "duration": 13,
        "start_time": "2022-07-25T12:41:33.914Z"
      },
      {
        "duration": 1103,
        "start_time": "2022-07-25T12:52:06.815Z"
      },
      {
        "duration": 317,
        "start_time": "2022-07-25T12:52:07.919Z"
      },
      {
        "duration": 97,
        "start_time": "2022-07-25T12:52:08.237Z"
      },
      {
        "duration": 172,
        "start_time": "2022-07-25T12:52:08.337Z"
      },
      {
        "duration": 175,
        "start_time": "2022-07-25T12:52:08.510Z"
      },
      {
        "duration": 9,
        "start_time": "2022-07-25T12:52:08.686Z"
      },
      {
        "duration": 25,
        "start_time": "2022-07-25T12:52:08.696Z"
      },
      {
        "duration": 1662,
        "start_time": "2022-07-25T12:52:08.722Z"
      },
      {
        "duration": 1365,
        "start_time": "2022-07-25T12:52:10.386Z"
      },
      {
        "duration": 1248,
        "start_time": "2022-07-25T12:52:11.753Z"
      },
      {
        "duration": 3,
        "start_time": "2022-07-25T12:52:13.002Z"
      },
      {
        "duration": 38,
        "start_time": "2022-07-25T12:52:13.006Z"
      },
      {
        "duration": 188,
        "start_time": "2022-07-25T12:52:13.046Z"
      },
      {
        "duration": 5,
        "start_time": "2022-07-25T12:52:13.235Z"
      },
      {
        "duration": 4,
        "start_time": "2022-07-25T12:52:13.332Z"
      },
      {
        "duration": 6,
        "start_time": "2022-07-25T12:52:13.337Z"
      },
      {
        "duration": 8,
        "start_time": "2022-07-25T12:52:13.344Z"
      },
      {
        "duration": 175,
        "start_time": "2022-07-25T12:52:13.354Z"
      },
      {
        "duration": 1069,
        "start_time": "2022-07-25T12:54:50.195Z"
      },
      {
        "duration": 318,
        "start_time": "2022-07-25T12:54:51.265Z"
      },
      {
        "duration": 91,
        "start_time": "2022-07-25T12:54:51.585Z"
      },
      {
        "duration": 163,
        "start_time": "2022-07-25T12:54:51.678Z"
      },
      {
        "duration": 168,
        "start_time": "2022-07-25T12:54:51.843Z"
      },
      {
        "duration": 23,
        "start_time": "2022-07-25T12:54:52.012Z"
      },
      {
        "duration": 12,
        "start_time": "2022-07-25T12:54:52.037Z"
      },
      {
        "duration": 1578,
        "start_time": "2022-07-25T12:54:52.051Z"
      },
      {
        "duration": 1404,
        "start_time": "2022-07-25T12:54:53.631Z"
      },
      {
        "duration": 1409,
        "start_time": "2022-07-25T12:54:55.038Z"
      },
      {
        "duration": 2,
        "start_time": "2022-07-25T12:54:56.449Z"
      },
      {
        "duration": 40,
        "start_time": "2022-07-25T12:54:56.453Z"
      },
      {
        "duration": 2,
        "start_time": "2022-07-25T12:54:56.495Z"
      },
      {
        "duration": 151,
        "start_time": "2022-07-25T12:54:56.499Z"
      },
      {
        "duration": 88,
        "start_time": "2022-07-25T12:54:56.651Z"
      },
      {
        "duration": 105,
        "start_time": "2022-07-25T12:54:56.741Z"
      },
      {
        "duration": 8,
        "start_time": "2022-07-25T12:54:56.847Z"
      },
      {
        "duration": 9,
        "start_time": "2022-07-25T12:54:56.857Z"
      },
      {
        "duration": 3970,
        "start_time": "2022-07-25T12:54:56.867Z"
      },
      {
        "duration": 3780,
        "start_time": "2022-07-25T12:55:27.105Z"
      },
      {
        "duration": 7,
        "start_time": "2022-07-25T12:55:57.918Z"
      },
      {
        "duration": 4286,
        "start_time": "2022-07-25T12:55:59.429Z"
      },
      {
        "duration": 4,
        "start_time": "2022-07-25T12:56:23.774Z"
      },
      {
        "duration": 4302,
        "start_time": "2022-07-25T12:56:25.307Z"
      },
      {
        "duration": 6,
        "start_time": "2022-07-25T12:56:35.670Z"
      },
      {
        "duration": 3820,
        "start_time": "2022-07-25T12:56:37.166Z"
      },
      {
        "duration": 4,
        "start_time": "2022-07-25T12:58:51.518Z"
      },
      {
        "duration": 4138,
        "start_time": "2022-07-25T12:58:52.922Z"
      },
      {
        "duration": 5,
        "start_time": "2022-07-25T12:59:03.834Z"
      },
      {
        "duration": 4400,
        "start_time": "2022-07-25T12:59:05.227Z"
      },
      {
        "duration": 5,
        "start_time": "2022-07-25T13:05:24.602Z"
      },
      {
        "duration": 3736,
        "start_time": "2022-07-25T13:10:24.158Z"
      },
      {
        "duration": 1020,
        "start_time": "2022-07-25T13:14:18.487Z"
      },
      {
        "duration": 315,
        "start_time": "2022-07-25T13:14:19.509Z"
      },
      {
        "duration": 110,
        "start_time": "2022-07-25T13:14:19.825Z"
      },
      {
        "duration": 170,
        "start_time": "2022-07-25T13:14:19.936Z"
      },
      {
        "duration": 186,
        "start_time": "2022-07-25T13:14:20.108Z"
      },
      {
        "duration": 10,
        "start_time": "2022-07-25T13:14:20.295Z"
      },
      {
        "duration": 38,
        "start_time": "2022-07-25T13:14:20.307Z"
      },
      {
        "duration": 1496,
        "start_time": "2022-07-25T13:14:20.346Z"
      },
      {
        "duration": 1285,
        "start_time": "2022-07-25T13:14:21.843Z"
      },
      {
        "duration": 1269,
        "start_time": "2022-07-25T13:14:23.131Z"
      },
      {
        "duration": 117,
        "start_time": "2022-07-25T13:14:24.402Z"
      },
      {
        "duration": 0,
        "start_time": "2022-07-25T13:14:24.521Z"
      },
      {
        "duration": 0,
        "start_time": "2022-07-25T13:14:24.521Z"
      },
      {
        "duration": 0,
        "start_time": "2022-07-25T13:14:24.522Z"
      },
      {
        "duration": 0,
        "start_time": "2022-07-25T13:14:24.523Z"
      },
      {
        "duration": 0,
        "start_time": "2022-07-25T13:14:24.531Z"
      },
      {
        "duration": 0,
        "start_time": "2022-07-25T13:14:24.531Z"
      },
      {
        "duration": 1093,
        "start_time": "2022-07-25T18:06:38.965Z"
      },
      {
        "duration": 1483,
        "start_time": "2022-07-25T18:06:40.060Z"
      },
      {
        "duration": 130,
        "start_time": "2022-07-25T18:06:41.545Z"
      },
      {
        "duration": 183,
        "start_time": "2022-07-25T18:06:41.677Z"
      },
      {
        "duration": 217,
        "start_time": "2022-07-25T18:06:41.861Z"
      },
      {
        "duration": 25,
        "start_time": "2022-07-25T18:06:42.079Z"
      },
      {
        "duration": 15,
        "start_time": "2022-07-25T18:06:42.106Z"
      },
      {
        "duration": 1877,
        "start_time": "2022-07-25T18:06:42.123Z"
      },
      {
        "duration": 1624,
        "start_time": "2022-07-25T18:06:44.003Z"
      },
      {
        "duration": 1590,
        "start_time": "2022-07-25T18:06:45.629Z"
      },
      {
        "duration": 18,
        "start_time": "2022-07-25T18:06:47.221Z"
      },
      {
        "duration": 128,
        "start_time": "2022-07-25T18:07:17.911Z"
      },
      {
        "duration": 3,
        "start_time": "2022-07-25T18:07:33.409Z"
      },
      {
        "duration": 389,
        "start_time": "2022-07-25T18:07:36.029Z"
      },
      {
        "duration": 125,
        "start_time": "2022-07-25T18:07:36.779Z"
      },
      {
        "duration": 189,
        "start_time": "2022-07-25T18:07:39.454Z"
      },
      {
        "duration": 204,
        "start_time": "2022-07-25T18:07:43.273Z"
      },
      {
        "duration": 10,
        "start_time": "2022-07-25T18:07:44.701Z"
      },
      {
        "duration": 15,
        "start_time": "2022-07-25T18:07:46.915Z"
      },
      {
        "duration": 1635,
        "start_time": "2022-07-25T18:07:48.437Z"
      },
      {
        "duration": 1800,
        "start_time": "2022-07-25T18:07:50.075Z"
      },
      {
        "duration": 1684,
        "start_time": "2022-07-25T18:07:51.877Z"
      },
      {
        "duration": 31,
        "start_time": "2022-07-25T18:07:54.242Z"
      },
      {
        "duration": 40,
        "start_time": "2022-07-25T18:09:52.288Z"
      },
      {
        "duration": 625,
        "start_time": "2022-07-25T18:10:20.183Z"
      },
      {
        "duration": 4,
        "start_time": "2022-07-25T18:10:26.441Z"
      },
      {
        "duration": 4,
        "start_time": "2022-07-25T18:11:21.726Z"
      },
      {
        "duration": 6,
        "start_time": "2022-07-25T18:11:34.046Z"
      },
      {
        "duration": 412,
        "start_time": "2022-07-25T18:11:35.299Z"
      },
      {
        "duration": 129,
        "start_time": "2022-07-25T18:11:35.734Z"
      },
      {
        "duration": 182,
        "start_time": "2022-07-25T18:11:40.424Z"
      },
      {
        "duration": 218,
        "start_time": "2022-07-25T18:11:44.324Z"
      },
      {
        "duration": 13,
        "start_time": "2022-07-25T18:11:45.904Z"
      },
      {
        "duration": 14,
        "start_time": "2022-07-25T18:11:48.143Z"
      },
      {
        "duration": 1751,
        "start_time": "2022-07-25T18:11:50.903Z"
      },
      {
        "duration": 1870,
        "start_time": "2022-07-25T18:11:52.656Z"
      },
      {
        "duration": 1584,
        "start_time": "2022-07-25T18:11:54.528Z"
      },
      {
        "duration": 36,
        "start_time": "2022-07-25T18:12:10.584Z"
      },
      {
        "duration": 245,
        "start_time": "2022-07-25T18:13:04.865Z"
      },
      {
        "duration": 5,
        "start_time": "2022-07-25T18:14:50.744Z"
      },
      {
        "duration": 4,
        "start_time": "2022-07-25T18:14:59.067Z"
      },
      {
        "duration": 4,
        "start_time": "2022-07-25T18:15:02.296Z"
      },
      {
        "duration": 4,
        "start_time": "2022-07-25T18:17:00.351Z"
      },
      {
        "duration": 4,
        "start_time": "2022-07-25T18:17:01.083Z"
      },
      {
        "duration": 414,
        "start_time": "2022-07-25T18:17:06.959Z"
      },
      {
        "duration": 12,
        "start_time": "2022-07-25T18:17:07.788Z"
      },
      {
        "duration": 125,
        "start_time": "2022-07-25T18:18:22.482Z"
      },
      {
        "duration": 5,
        "start_time": "2022-07-25T18:18:29.451Z"
      },
      {
        "duration": 3,
        "start_time": "2022-07-25T18:18:30.094Z"
      },
      {
        "duration": 8,
        "start_time": "2022-07-25T18:18:31.779Z"
      },
      {
        "duration": 4549,
        "start_time": "2022-07-25T18:18:35.250Z"
      },
      {
        "duration": 4,
        "start_time": "2022-07-25T18:18:50.534Z"
      },
      {
        "duration": 3,
        "start_time": "2022-07-25T18:18:50.990Z"
      },
      {
        "duration": 6,
        "start_time": "2022-07-25T18:18:53.890Z"
      },
      {
        "duration": 4632,
        "start_time": "2022-07-25T18:18:54.741Z"
      },
      {
        "duration": 7,
        "start_time": "2022-07-25T18:21:00.193Z"
      },
      {
        "duration": 4630,
        "start_time": "2022-07-25T18:21:01.881Z"
      },
      {
        "duration": 4638,
        "start_time": "2022-07-25T18:21:28.453Z"
      },
      {
        "duration": 4279,
        "start_time": "2022-07-25T18:40:55.263Z"
      },
      {
        "duration": 7,
        "start_time": "2022-07-25T18:41:03.611Z"
      },
      {
        "duration": 4218,
        "start_time": "2022-07-25T18:41:04.264Z"
      },
      {
        "duration": 4405,
        "start_time": "2022-07-25T18:41:16.837Z"
      },
      {
        "duration": 1137,
        "start_time": "2022-07-25T18:50:17.909Z"
      },
      {
        "duration": 3,
        "start_time": "2022-07-25T18:50:19.049Z"
      },
      {
        "duration": 383,
        "start_time": "2022-07-25T18:50:19.054Z"
      },
      {
        "duration": 118,
        "start_time": "2022-07-25T18:50:19.440Z"
      },
      {
        "duration": 198,
        "start_time": "2022-07-25T18:50:19.560Z"
      },
      {
        "duration": 220,
        "start_time": "2022-07-25T18:50:19.760Z"
      },
      {
        "duration": 23,
        "start_time": "2022-07-25T18:50:19.982Z"
      },
      {
        "duration": 17,
        "start_time": "2022-07-25T18:50:20.007Z"
      },
      {
        "duration": 2015,
        "start_time": "2022-07-25T18:50:20.026Z"
      },
      {
        "duration": 1537,
        "start_time": "2022-07-25T18:50:22.044Z"
      },
      {
        "duration": 1623,
        "start_time": "2022-07-25T18:50:23.582Z"
      },
      {
        "duration": 38,
        "start_time": "2022-07-25T18:50:25.207Z"
      },
      {
        "duration": 261,
        "start_time": "2022-07-25T18:50:25.247Z"
      },
      {
        "duration": 96,
        "start_time": "2022-07-25T18:50:25.509Z"
      },
      {
        "duration": 8,
        "start_time": "2022-07-25T18:50:25.607Z"
      },
      {
        "duration": 8,
        "start_time": "2022-07-25T18:50:25.616Z"
      },
      {
        "duration": 4220,
        "start_time": "2022-07-25T18:50:25.626Z"
      }
    ],
    "kernelspec": {
      "display_name": "Python 3 (ipykernel)",
      "language": "python",
      "name": "python3"
    },
    "language_info": {
      "codemirror_mode": {
        "name": "ipython",
        "version": 3
      },
      "file_extension": ".py",
      "mimetype": "text/x-python",
      "name": "python",
      "nbconvert_exporter": "python",
      "pygments_lexer": "ipython3",
      "version": "3.9.5"
    },
    "toc": {
      "base_numbering": 1,
      "nav_menu": {
        "height": "109px",
        "width": "246px"
      },
      "number_sections": true,
      "sideBar": true,
      "skip_h1_title": true,
      "title_cell": "Table of Contents",
      "title_sidebar": "Contents",
      "toc_cell": false,
      "toc_position": {},
      "toc_section_display": true,
      "toc_window_display": false
    },
    "colab": {
      "provenance": []
    }
  },
  "nbformat": 4,
  "nbformat_minor": 0
}